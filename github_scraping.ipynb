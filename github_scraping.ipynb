{
 "cells": [
  {
   "cell_type": "markdown",
   "metadata": {},
   "source": [
    "# Rate-Limited Querying of Github's GraphQL API"
   ]
  },
  {
   "cell_type": "code",
   "execution_count": 1,
   "metadata": {},
   "outputs": [],
   "source": [
    "import pandas as pd\n",
    "import requests"
   ]
  },
  {
   "cell_type": "code",
   "execution_count": 2,
   "metadata": {},
   "outputs": [],
   "source": [
    "file = open(\"/home/joseph/graphql_token.txt\", \"r\")\n",
    "api_token = file.read().strip()\n",
    "\n",
    "url = \"https://api.github.com/graphql\"\n",
    "headers = {\"Authorization\": \"token %s\" % api_token}"
   ]
  },
  {
   "cell_type": "code",
   "execution_count": 3,
   "metadata": {},
   "outputs": [],
   "source": [
    "def query(json: str) -> dict:\n",
    "    r = requests.post(url=url, json=json, headers=headers)\n",
    "    return r.json()"
   ]
  },
  {
   "cell_type": "markdown",
   "metadata": {},
   "source": [
    "### Sample Query\n",
    "\n",
    "The data is returned in a JSON structure, as a `str` type object. "
   ]
  },
  {
   "cell_type": "code",
   "execution_count": 4,
   "metadata": {},
   "outputs": [
    {
     "data": {
      "text/plain": [
       "{'data': {'viewer': {'repositories': {'totalCount': 38,\n",
       "    'pageInfo': {'hasNextPage': True, 'endCursor': 'Y3Vyc29yOnYyOpHOAvjC2Q=='},\n",
       "    'edges': [{'node': {'name': 'Yendors-Analysis'}}]}}}}"
      ]
     },
     "execution_count": 4,
     "metadata": {},
     "output_type": "execute_result"
    }
   ],
   "source": [
    "json = {\n",
    "    \"query\": \"{ viewer { repositories(first: 1) { totalCount pageInfo { hasNextPage endCursor } edges { node { name } } } } }\"\n",
    "}\n",
    "\n",
    "query(json)"
   ]
  },
  {
   "cell_type": "markdown",
   "metadata": {},
   "source": [
    "This query returns the remaining number of nodes queries, as well as the when the limit will be reset. This data can be passed into a pandas `DataFrame` using `pd.read_json()`, and from there the remaining limit and reset time can be parsed to allow for rate-limited programmatic scraping of Github's GraphQL API."
   ]
  },
  {
   "cell_type": "code",
   "execution_count": 5,
   "metadata": {},
   "outputs": [
    {
     "data": {
      "text/plain": [
       "{'data': {'viewer': {'login': 'beverast'},\n",
       "  'rateLimit': {'limit': 5000,\n",
       "   'cost': 1,\n",
       "   'remaining': 4961,\n",
       "   'resetAt': '2019-08-24T00:26:27Z'}}}"
      ]
     },
     "execution_count": 5,
     "metadata": {},
     "output_type": "execute_result"
    }
   ],
   "source": [
    "query_text = \"\"\"query {\n",
    "  viewer {\n",
    "    login\n",
    "  }\n",
    "  rateLimit {\n",
    "    limit\n",
    "    cost\n",
    "    remaining\n",
    "    resetAt\n",
    "  }\n",
    "}\"\"\"\n",
    "\n",
    "json = {\"query\": query_text}\n",
    "query(json)"
   ]
  },
  {
   "cell_type": "markdown",
   "metadata": {},
   "source": [
    "### Ingest GraphQL Responses Into a DataFrame\n",
    "1. Query the endpoint, ingest as a DataFrame from JSON"
   ]
  },
  {
   "cell_type": "code",
   "execution_count": 6,
   "metadata": {},
   "outputs": [],
   "source": [
    "limit_df = pd.DataFrame(query(json))\n",
    "limit_df = limit_df.reset_index()"
   ]
  },
  {
   "cell_type": "code",
   "execution_count": 7,
   "metadata": {},
   "outputs": [
    {
     "data": {
      "text/html": [
       "<div>\n",
       "<style scoped>\n",
       "    .dataframe tbody tr th:only-of-type {\n",
       "        vertical-align: middle;\n",
       "    }\n",
       "\n",
       "    .dataframe tbody tr th {\n",
       "        vertical-align: top;\n",
       "    }\n",
       "\n",
       "    .dataframe thead th {\n",
       "        text-align: right;\n",
       "    }\n",
       "</style>\n",
       "<table border=\"1\" class=\"dataframe\">\n",
       "  <thead>\n",
       "    <tr style=\"text-align: right;\">\n",
       "      <th></th>\n",
       "      <th>index</th>\n",
       "      <th>data</th>\n",
       "    </tr>\n",
       "  </thead>\n",
       "  <tbody>\n",
       "    <tr>\n",
       "      <th>0</th>\n",
       "      <td>rateLimit</td>\n",
       "      <td>{'limit': 5000, 'cost': 1, 'remaining': 4960, ...</td>\n",
       "    </tr>\n",
       "    <tr>\n",
       "      <th>1</th>\n",
       "      <td>viewer</td>\n",
       "      <td>{'login': 'beverast'}</td>\n",
       "    </tr>\n",
       "  </tbody>\n",
       "</table>\n",
       "</div>"
      ],
      "text/plain": [
       "       index                                               data\n",
       "0  rateLimit  {'limit': 5000, 'cost': 1, 'remaining': 4960, ...\n",
       "1     viewer                              {'login': 'beverast'}"
      ]
     },
     "execution_count": 7,
     "metadata": {},
     "output_type": "execute_result"
    }
   ],
   "source": [
    "limit_df.head()"
   ]
  },
  {
   "cell_type": "markdown",
   "metadata": {},
   "source": [
    "2. Create columns for the necessary data: `remaining` and `resetAt`"
   ]
  },
  {
   "cell_type": "code",
   "execution_count": 8,
   "metadata": {},
   "outputs": [],
   "source": [
    "limit_df[\"remaining\"] = limit_df.iloc[0][1]['remaining']\n",
    "limit_df[\"resetAt\"] = pd.Timestamp(limit_df.iloc[0][1]['resetAt'])"
   ]
  },
  {
   "cell_type": "markdown",
   "metadata": {},
   "source": [
    "3. Drop unnecessary `viewer` data"
   ]
  },
  {
   "cell_type": "code",
   "execution_count": 9,
   "metadata": {},
   "outputs": [],
   "source": [
    "limit_df = limit_df.drop(axis=1, index=1)"
   ]
  },
  {
   "cell_type": "code",
   "execution_count": 10,
   "metadata": {},
   "outputs": [
    {
     "data": {
      "text/html": [
       "<div>\n",
       "<style scoped>\n",
       "    .dataframe tbody tr th:only-of-type {\n",
       "        vertical-align: middle;\n",
       "    }\n",
       "\n",
       "    .dataframe tbody tr th {\n",
       "        vertical-align: top;\n",
       "    }\n",
       "\n",
       "    .dataframe thead th {\n",
       "        text-align: right;\n",
       "    }\n",
       "</style>\n",
       "<table border=\"1\" class=\"dataframe\">\n",
       "  <thead>\n",
       "    <tr style=\"text-align: right;\">\n",
       "      <th></th>\n",
       "      <th>index</th>\n",
       "      <th>data</th>\n",
       "      <th>remaining</th>\n",
       "      <th>resetAt</th>\n",
       "    </tr>\n",
       "  </thead>\n",
       "  <tbody>\n",
       "    <tr>\n",
       "      <th>0</th>\n",
       "      <td>rateLimit</td>\n",
       "      <td>{'limit': 5000, 'cost': 1, 'remaining': 4960, ...</td>\n",
       "      <td>4960</td>\n",
       "      <td>2019-08-24 00:26:27+00:00</td>\n",
       "    </tr>\n",
       "  </tbody>\n",
       "</table>\n",
       "</div>"
      ],
      "text/plain": [
       "       index                                               data  remaining  \\\n",
       "0  rateLimit  {'limit': 5000, 'cost': 1, 'remaining': 4960, ...       4960   \n",
       "\n",
       "                    resetAt  \n",
       "0 2019-08-24 00:26:27+00:00  "
      ]
     },
     "execution_count": 10,
     "metadata": {},
     "output_type": "execute_result"
    }
   ],
   "source": [
    "limit_df.head()"
   ]
  },
  {
   "cell_type": "markdown",
   "metadata": {},
   "source": [
    "### Automating Queries"
   ]
  },
  {
   "cell_type": "code",
   "execution_count": 11,
   "metadata": {},
   "outputs": [],
   "source": [
    "def update_limit() -> pd.DataFrame:\n",
    "    \"\"\" Returns a DataFrame of current GraphQL API query limits.\"\"\"\n",
    "    query_text = \"\"\"query {\n",
    "                      viewer {\n",
    "                        login\n",
    "                      }\n",
    "                      rateLimit {\n",
    "                        limit\n",
    "                        cost\n",
    "                        remaining\n",
    "                        resetAt\n",
    "                      }\n",
    "                    }\"\"\"\n",
    "\n",
    "    json = {\"query\": query_text}\n",
    "    query(json)\n",
    "    df = pd.DataFrame(query(json)).reset_index()\n",
    "    \n",
    "    df[\"remaining\"] = df.iloc[0][1]['remaining']\n",
    "    df[\"resetAt\"] = pd.Timestamp(df.iloc[0][1]['resetAt'])\n",
    "    df = df.drop(axis=1, index=1)\n",
    "    \n",
    "    return df\n",
    "\n",
    "\n",
    "def get_remaining(df: pd.DataFrame) -> int:\n",
    "    \"\"\"Returns the remaining count of node queries.\"\"\"\n",
    "    return df['remaining'][0].astype(int)\n",
    "\n",
    "\n",
    "def get_resetAt(df: pd.DataFrame) -> pd.Timestamp:\n",
    "    \"\"\"Retruns the time (UTC) at which the remaining queries will be reset to 5000.\"\"\"\n",
    "    return pd.Timestamp(df['resetAt'][0])\n",
    "\n",
    "\n",
    "def is_resetAt_reached(df: pd.DataFrame) -> bool:\n",
    "    \"\"\"Returns True or False if the resetAt time has been reached.\"\"\"    \n",
    "    resetAt = get_resetAt(df)\n",
    "    return pd.Timestamp.now(tz='UTC') > resetAt"
   ]
  },
  {
   "cell_type": "code",
   "execution_count": 12,
   "metadata": {},
   "outputs": [],
   "source": [
    "## LOOPING QUERIES UNTIL `remaining` REACHES 0 ##\n",
    "# 1. Get value of `remaining` and `resetAt`\n",
    "# 2. Select repo, get `createdAt` data\n",
    "# 3. Create a query sampling a month's worth of pull request data\n",
    "# 4. Perform this request repeatedly until `remaining` reaches 0, or all months have been sampled\n",
    "# 5. When sampling has finished for a repo's entire history, export this data to CSV."
   ]
  },
  {
   "cell_type": "code",
   "execution_count": 13,
   "metadata": {},
   "outputs": [
    {
     "data": {
      "text/plain": [
       "(4958, Timestamp('2019-08-24 00:26:27+0000', tz='UTC'))"
      ]
     },
     "execution_count": 13,
     "metadata": {},
     "output_type": "execute_result"
    }
   ],
   "source": [
    "limit_df = update_limit()\n",
    "remaining = get_remaining(limit_df)\n",
    "resetAt = get_resetAt(limit_df)\n",
    "\n",
    "remaining, resetAt"
   ]
  },
  {
   "cell_type": "markdown",
   "metadata": {},
   "source": [
    "#### The following two code cells are from [this notebook](https://github.com/labs15-github-commit/data-science/blob/patrick/toDataFrameFunction.ipynb) by Patrick Wilky."
   ]
  },
  {
   "cell_type": "code",
   "execution_count": 14,
   "metadata": {},
   "outputs": [],
   "source": [
    "def better_df(x):\n",
    "    \"\"\"\n",
    "    This function will take the raw query results and turn it into a pretty dataframe.\n",
    "    \"\"\"\n",
    "    data = x.get('data').get('search').get('nodes')\n",
    "    \n",
    "    copy = pd.DataFrame(data)\n",
    "    \n",
    "    templist = []\n",
    "    templist2 = []\n",
    "    \n",
    "    for i in copy.comments:\n",
    "        templist.append(i.get('totalCount'))\n",
    "    copy['commentCount'] = templist\n",
    "    \n",
    "    templist.clear()\n",
    "    for i in copy.comments:\n",
    "        templist.append(i.get('edges'))\n",
    "    copy['comments'] = templist\n",
    "    \n",
    "    templist.clear()\n",
    "    for i in range(len(copy.comments)):\n",
    "        templist2 = []\n",
    "        if (copy.commentCount[i]==0):\n",
    "            templist.append(templist2)\n",
    "        else:\n",
    "            for o in copy.comments[i]:\n",
    "                templist2.append(o.get('node'))\n",
    "                if (len(templist2)==copy.commentCount[i]):\n",
    "                    templist.append(templist2)                   \n",
    "    copy['comments'] = templist\n",
    "    \n",
    "    templist.clear()\n",
    "    for i in copy.author:\n",
    "        templist.append(i.get('company'))\n",
    "    copy['company'] = templist \n",
    "    \n",
    "    templist.clear()\n",
    "    for i in copy.author:\n",
    "        templist.append(i.get('login'))\n",
    "    copy['author'] = templist   \n",
    "    \n",
    "    templist.clear()\n",
    "    for i in copy.files:\n",
    "        templist.append(i.get('totalCount'))\n",
    "    copy['filesCommited'] = templist\n",
    "    \n",
    "    \n",
    "    templist.clear()\n",
    "    for i in copy.mergedBy:\n",
    "        if (i == None):\n",
    "            templist.append(None)\n",
    "        else:\n",
    "            templist.append(i.get('login'))\n",
    "    copy['mergedBy'] = templist\n",
    "    \n",
    "    copy = copy.drop(columns='files')\n",
    "    \n",
    "    return copy"
   ]
  },
  {
   "cell_type": "code",
   "execution_count": 15,
   "metadata": {},
   "outputs": [],
   "source": [
    "pull_request_query = \"\"\"\n",
    "{\n",
    "  search(first:100, query:\"repo:pandas-dev/pandas created:2018-08-01..2018-08-12 type:pr\", type:ISSUE) {\n",
    "    nodes {\n",
    "      ... on PullRequest {\n",
    "        createdAt\n",
    "        updatedAt\n",
    "        title\n",
    "        mergedBy {\n",
    "          login\n",
    "        }\n",
    "        authorAssociation\n",
    "        author {\n",
    "          login\n",
    "          ... on User {\n",
    "            company\n",
    "          }\n",
    "        }\n",
    "        files {\n",
    "          totalCount\n",
    "        }\n",
    "        state\n",
    "        resourcePath\n",
    "        bodyText\n",
    "        comments(first: 50) {\n",
    "          totalCount\n",
    "          edges {\n",
    "            node {\n",
    "              authorAssociation\n",
    "              author{\n",
    "                login\n",
    "              }\n",
    "              bodyText\n",
    "            }\n",
    "          }\n",
    "        }\n",
    "      }\n",
    "    }\n",
    "  }\n",
    "}\n",
    "\"\"\""
   ]
  },
  {
   "cell_type": "code",
   "execution_count": 16,
   "metadata": {},
   "outputs": [],
   "source": [
    "json = {\"query\": pull_request_query}\n",
    "pull_request_df = better_df(query(json))"
   ]
  },
  {
   "cell_type": "code",
   "execution_count": 17,
   "metadata": {},
   "outputs": [
    {
     "data": {
      "text/html": [
       "<div>\n",
       "<style scoped>\n",
       "    .dataframe tbody tr th:only-of-type {\n",
       "        vertical-align: middle;\n",
       "    }\n",
       "\n",
       "    .dataframe tbody tr th {\n",
       "        vertical-align: top;\n",
       "    }\n",
       "\n",
       "    .dataframe thead th {\n",
       "        text-align: right;\n",
       "    }\n",
       "</style>\n",
       "<table border=\"1\" class=\"dataframe\">\n",
       "  <thead>\n",
       "    <tr style=\"text-align: right;\">\n",
       "      <th></th>\n",
       "      <th>author</th>\n",
       "      <th>authorAssociation</th>\n",
       "      <th>bodyText</th>\n",
       "      <th>comments</th>\n",
       "      <th>createdAt</th>\n",
       "      <th>mergedBy</th>\n",
       "      <th>resourcePath</th>\n",
       "      <th>state</th>\n",
       "      <th>title</th>\n",
       "      <th>updatedAt</th>\n",
       "      <th>commentCount</th>\n",
       "      <th>company</th>\n",
       "      <th>filesCommited</th>\n",
       "    </tr>\n",
       "  </thead>\n",
       "  <tbody>\n",
       "    <tr>\n",
       "      <th>0</th>\n",
       "      <td>dsaxton</td>\n",
       "      <td>NONE</td>\n",
       "      <td>DataFrame.corr currently returns a KeyError fo...</td>\n",
       "      <td>[{'authorAssociation': 'NONE', 'author': {'log...</td>\n",
       "      <td>2018-08-12T23:53:02Z</td>\n",
       "      <td>TomAugspurger</td>\n",
       "      <td>/pandas-dev/pandas/pull/22298</td>\n",
       "      <td>MERGED</td>\n",
       "      <td>Use a more helpful error message for invalid c...</td>\n",
       "      <td>2018-08-18T19:53:34Z</td>\n",
       "      <td>8</td>\n",
       "      <td>None</td>\n",
       "      <td>5</td>\n",
       "    </tr>\n",
       "    <tr>\n",
       "      <th>1</th>\n",
       "      <td>realead</td>\n",
       "      <td>CONTRIBUTOR</td>\n",
       "      <td>it is more or less the clean-up after PR #2190...</td>\n",
       "      <td>[{'authorAssociation': 'CONTRIBUTOR', 'author'...</td>\n",
       "      <td>2018-08-12T20:10:14Z</td>\n",
       "      <td>jreback</td>\n",
       "      <td>/pandas-dev/pandas/pull/22296</td>\n",
       "      <td>MERGED</td>\n",
       "      <td>BUG: don't mangle NaN-float-values and pd.NaT...</td>\n",
       "      <td>2018-09-19T11:00:36Z</td>\n",
       "      <td>13</td>\n",
       "      <td>None</td>\n",
       "      <td>7</td>\n",
       "    </tr>\n",
       "    <tr>\n",
       "      <th>2</th>\n",
       "      <td>nmusolino</td>\n",
       "      <td>CONTRIBUTOR</td>\n",
       "      <td>Added tests of DataFrame.xs() method for multi...</td>\n",
       "      <td>[{'authorAssociation': 'NONE', 'author': {'log...</td>\n",
       "      <td>2018-08-12T16:35:54Z</td>\n",
       "      <td>jreback</td>\n",
       "      <td>/pandas-dev/pandas/pull/22294</td>\n",
       "      <td>MERGED</td>\n",
       "      <td>TST: Add test of DataFrame.xs() with duplicate...</td>\n",
       "      <td>2018-09-15T15:42:02Z</td>\n",
       "      <td>4</td>\n",
       "      <td>None</td>\n",
       "      <td>1</td>\n",
       "    </tr>\n",
       "    <tr>\n",
       "      <th>3</th>\n",
       "      <td>makbigc</td>\n",
       "      <td>CONTRIBUTOR</td>\n",
       "      <td>closes #22092\\n 1 test added for &amp;, | and ^ lo...</td>\n",
       "      <td>[{'authorAssociation': 'NONE', 'author': {'log...</td>\n",
       "      <td>2018-08-12T14:15:20Z</td>\n",
       "      <td>jbrockmendel</td>\n",
       "      <td>/pandas-dev/pandas/pull/22293</td>\n",
       "      <td>MERGED</td>\n",
       "      <td>Bug: Logical operator of Series with Index (#2...</td>\n",
       "      <td>2018-09-18T13:54:15Z</td>\n",
       "      <td>14</td>\n",
       "      <td>None</td>\n",
       "      <td>3</td>\n",
       "    </tr>\n",
       "    <tr>\n",
       "      <th>4</th>\n",
       "      <td>alimcmaster1</td>\n",
       "      <td>CONTRIBUTOR</td>\n",
       "      <td>[y] passes git diff upstream/master -u -- \"*.p...</td>\n",
       "      <td>[{'authorAssociation': 'NONE', 'author': {'log...</td>\n",
       "      <td>2018-08-12T00:39:32Z</td>\n",
       "      <td>None</td>\n",
       "      <td>/pandas-dev/pandas/pull/22289</td>\n",
       "      <td>CLOSED</td>\n",
       "      <td>Remove unused param/method</td>\n",
       "      <td>2018-08-13T20:01:43Z</td>\n",
       "      <td>3</td>\n",
       "      <td>None</td>\n",
       "      <td>4</td>\n",
       "    </tr>\n",
       "  </tbody>\n",
       "</table>\n",
       "</div>"
      ],
      "text/plain": [
       "         author authorAssociation  \\\n",
       "0       dsaxton              NONE   \n",
       "1       realead       CONTRIBUTOR   \n",
       "2     nmusolino       CONTRIBUTOR   \n",
       "3       makbigc       CONTRIBUTOR   \n",
       "4  alimcmaster1       CONTRIBUTOR   \n",
       "\n",
       "                                            bodyText  \\\n",
       "0  DataFrame.corr currently returns a KeyError fo...   \n",
       "1  it is more or less the clean-up after PR #2190...   \n",
       "2  Added tests of DataFrame.xs() method for multi...   \n",
       "3  closes #22092\\n 1 test added for &, | and ^ lo...   \n",
       "4  [y] passes git diff upstream/master -u -- \"*.p...   \n",
       "\n",
       "                                            comments             createdAt  \\\n",
       "0  [{'authorAssociation': 'NONE', 'author': {'log...  2018-08-12T23:53:02Z   \n",
       "1  [{'authorAssociation': 'CONTRIBUTOR', 'author'...  2018-08-12T20:10:14Z   \n",
       "2  [{'authorAssociation': 'NONE', 'author': {'log...  2018-08-12T16:35:54Z   \n",
       "3  [{'authorAssociation': 'NONE', 'author': {'log...  2018-08-12T14:15:20Z   \n",
       "4  [{'authorAssociation': 'NONE', 'author': {'log...  2018-08-12T00:39:32Z   \n",
       "\n",
       "        mergedBy                   resourcePath   state  \\\n",
       "0  TomAugspurger  /pandas-dev/pandas/pull/22298  MERGED   \n",
       "1        jreback  /pandas-dev/pandas/pull/22296  MERGED   \n",
       "2        jreback  /pandas-dev/pandas/pull/22294  MERGED   \n",
       "3   jbrockmendel  /pandas-dev/pandas/pull/22293  MERGED   \n",
       "4           None  /pandas-dev/pandas/pull/22289  CLOSED   \n",
       "\n",
       "                                               title             updatedAt  \\\n",
       "0  Use a more helpful error message for invalid c...  2018-08-18T19:53:34Z   \n",
       "1   BUG: don't mangle NaN-float-values and pd.NaT...  2018-09-19T11:00:36Z   \n",
       "2  TST: Add test of DataFrame.xs() with duplicate...  2018-09-15T15:42:02Z   \n",
       "3  Bug: Logical operator of Series with Index (#2...  2018-09-18T13:54:15Z   \n",
       "4                         Remove unused param/method  2018-08-13T20:01:43Z   \n",
       "\n",
       "   commentCount company  filesCommited  \n",
       "0             8    None              5  \n",
       "1            13    None              7  \n",
       "2             4    None              1  \n",
       "3            14    None              3  \n",
       "4             3    None              4  "
      ]
     },
     "execution_count": 17,
     "metadata": {},
     "output_type": "execute_result"
    }
   ],
   "source": [
    "pull_request_df.head()"
   ]
  },
  {
   "cell_type": "markdown",
   "metadata": {},
   "source": [
    "**Notes:**\n",
    "\n",
    "- Modify pull_request_query to get 'createdAt' data for the entire repo. Use this for getting the first pull requests, one month at a time.\n",
    "- After getting 1 month of pull request data, check `remaining`.\n",
    "- If remaining > 0 then query the next month: this means modifying the query using concatentation or substitution somehow to change the date values."
   ]
  }
 ],
 "metadata": {
  "kernelspec": {
   "display_name": "Python 3",
   "language": "python",
   "name": "python3"
  },
  "language_info": {
   "codemirror_mode": {
    "name": "ipython",
    "version": 3
   },
   "file_extension": ".py",
   "mimetype": "text/x-python",
   "name": "python",
   "nbconvert_exporter": "python",
   "pygments_lexer": "ipython3",
   "version": "3.7.3"
  }
 },
 "nbformat": 4,
 "nbformat_minor": 4
}
