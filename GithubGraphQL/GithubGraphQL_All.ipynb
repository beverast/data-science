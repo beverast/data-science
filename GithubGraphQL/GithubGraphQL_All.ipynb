{
 "cells": [
  {
   "cell_type": "markdown",
   "metadata": {},
   "source": [
    "# Connect to `GitHub GraphQL` API"
   ]
  },
  {
   "cell_type": "code",
   "execution_count": 147,
   "metadata": {},
   "outputs": [],
   "source": [
    "import requests\n",
    "import pandas as pd"
   ]
  },
  {
   "cell_type": "code",
   "execution_count": 148,
   "metadata": {},
   "outputs": [],
   "source": [
    "# Open and read file\n",
    "with open ('../../../Auth_Keys/graphql_api_auth.txt') as file:\n",
    "    token = file.read()\n",
    "    \n",
    "# Specify the Authorization code\n",
    "headers = {\"Authorization\": 'Bearer ' + token}"
   ]
  },
  {
   "cell_type": "code",
   "execution_count": 149,
   "metadata": {},
   "outputs": [],
   "source": [
    "# Function to use requests.post to make an API call\n",
    "def run_query(query): \n",
    "    request = requests.post('https://api.github.com/graphql', json={'query': query}, headers=headers)\n",
    "    if request.status_code == 200:\n",
    "        return request.json()\n",
    "    else:\n",
    "        raise Exception(\"Query failed to run by returning code of {}. {}\".format(request.status_code, query))"
   ]
  },
  {
   "cell_type": "markdown",
   "metadata": {},
   "source": [
    "---"
   ]
  },
  {
   "cell_type": "markdown",
   "metadata": {},
   "source": [
    "# Ten Random Repos"
   ]
  },
  {
   "cell_type": "code",
   "execution_count": 150,
   "metadata": {},
   "outputs": [],
   "source": [
    "df = pd.read_pickle('../../../Files/df_repo_10.pk1')"
   ]
  },
  {
   "cell_type": "code",
   "execution_count": 151,
   "metadata": {},
   "outputs": [
    {
     "data": {
      "text/html": [
       "<div>\n",
       "<style scoped>\n",
       "    .dataframe tbody tr th:only-of-type {\n",
       "        vertical-align: middle;\n",
       "    }\n",
       "\n",
       "    .dataframe tbody tr th {\n",
       "        vertical-align: top;\n",
       "    }\n",
       "\n",
       "    .dataframe thead th {\n",
       "        text-align: right;\n",
       "    }\n",
       "</style>\n",
       "<table border=\"1\" class=\"dataframe\">\n",
       "  <thead>\n",
       "    <tr style=\"text-align: right;\">\n",
       "      <th></th>\n",
       "      <th>createdAt</th>\n",
       "      <th>description</th>\n",
       "      <th>totalForks</th>\n",
       "      <th>hasIssuesEnabled</th>\n",
       "      <th>hasWikiEnabled</th>\n",
       "      <th>id</th>\n",
       "      <th>totalIssues</th>\n",
       "      <th>licenseInfo</th>\n",
       "      <th>name</th>\n",
       "      <th>nameWithOwner</th>\n",
       "      <th>readMe</th>\n",
       "      <th>owner</th>\n",
       "      <th>primaryLanguage</th>\n",
       "      <th>totalPullRequests</th>\n",
       "      <th>totalCommits</th>\n",
       "      <th>totalStargazers</th>\n",
       "      <th>updatedAt</th>\n",
       "    </tr>\n",
       "  </thead>\n",
       "  <tbody>\n",
       "    <tr>\n",
       "      <th>0</th>\n",
       "      <td>2013-01-19 02:21:47+00:00</td>\n",
       "      <td>A game-theoretic poker player (written in 2005)</td>\n",
       "      <td>30</td>\n",
       "      <td>True</td>\n",
       "      <td>True</td>\n",
       "      <td>MDEwOlJlcG9zaXRvcnk3Njk4MTkx</td>\n",
       "      <td>0</td>\n",
       "      <td>None</td>\n",
       "      <td>game-theory-poker</td>\n",
       "      <td>adamsmith/game-theory-poker</td>\n",
       "      <td>game-theory-poker\\n=====\\n\\nThis is a game-the...</td>\n",
       "      <td>adamsmith</td>\n",
       "      <td>Java</td>\n",
       "      <td>1</td>\n",
       "      <td>2</td>\n",
       "      <td>167</td>\n",
       "      <td>2019-08-13 15:14:46+00:00</td>\n",
       "    </tr>\n",
       "    <tr>\n",
       "      <th>1</th>\n",
       "      <td>2014-04-01 22:40:40+00:00</td>\n",
       "      <td>The Google I/O 2019 Android App</td>\n",
       "      <td>5931</td>\n",
       "      <td>True</td>\n",
       "      <td>False</td>\n",
       "      <td>MDEwOlJlcG9zaXRvcnkxODM0NzQ3Ng==</td>\n",
       "      <td>192</td>\n",
       "      <td>NOASSERTION</td>\n",
       "      <td>iosched</td>\n",
       "      <td>google/iosched</td>\n",
       "      <td>Google I/O Android App\\n======================...</td>\n",
       "      <td>google</td>\n",
       "      <td>Kotlin</td>\n",
       "      <td>134</td>\n",
       "      <td>2635</td>\n",
       "      <td>18987</td>\n",
       "      <td>2019-09-03 15:52:27+00:00</td>\n",
       "    </tr>\n",
       "    <tr>\n",
       "      <th>2</th>\n",
       "      <td>2014-07-17 04:50:32+00:00</td>\n",
       "      <td>SEX IS ZERO (0), so, who wanna be the ONE (1),...</td>\n",
       "      <td>1959</td>\n",
       "      <td>True</td>\n",
       "      <td>True</td>\n",
       "      <td>MDEwOlJlcG9zaXRvcnkyMTkyOTAyOQ==</td>\n",
       "      <td>76</td>\n",
       "      <td>GPL-2.0</td>\n",
       "      <td>hardseed</td>\n",
       "      <td>yangyangwithgnu/hardseed</td>\n",
       "      <td>&lt;h1 align=\"center\"&gt;给不了你梦中情人，至少还有硬盘女神：hardseed&lt;...</td>\n",
       "      <td>yangyangwithgnu</td>\n",
       "      <td>C++</td>\n",
       "      <td>12</td>\n",
       "      <td>197</td>\n",
       "      <td>9102</td>\n",
       "      <td>2019-09-02 12:40:54+00:00</td>\n",
       "    </tr>\n",
       "    <tr>\n",
       "      <th>3</th>\n",
       "      <td>2017-03-21 11:05:58+00:00</td>\n",
       "      <td>在线地址: http://www.jobinfo.cc:8000/</td>\n",
       "      <td>91</td>\n",
       "      <td>True</td>\n",
       "      <td>True</td>\n",
       "      <td>MDEwOlJlcG9zaXRvcnk4NTY5MjA1Mg==</td>\n",
       "      <td>8</td>\n",
       "      <td>MIT</td>\n",
       "      <td>webspider</td>\n",
       "      <td>iven-he/webspider</td>\n",
       "      <td># \\n\\n[![Build Status](https://travis-ci.org/G...</td>\n",
       "      <td>iven-he</td>\n",
       "      <td>Python</td>\n",
       "      <td>8</td>\n",
       "      <td>51</td>\n",
       "      <td>260</td>\n",
       "      <td>2019-08-29 15:43:08+00:00</td>\n",
       "    </tr>\n",
       "    <tr>\n",
       "      <th>4</th>\n",
       "      <td>2012-09-14 14:19:46+00:00</td>\n",
       "      <td>Using Spring from within a Play 2.0 application</td>\n",
       "      <td>24</td>\n",
       "      <td>False</td>\n",
       "      <td>False</td>\n",
       "      <td>MDEwOlJlcG9zaXRvcnk1ODEwMjM4</td>\n",
       "      <td>0</td>\n",
       "      <td>None</td>\n",
       "      <td>play20-spring-demo</td>\n",
       "      <td>guillaumebort/play20-spring-demo</td>\n",
       "      <td>Using Spring from within a Play 2.0 applicatio...</td>\n",
       "      <td>guillaumebort</td>\n",
       "      <td>Java</td>\n",
       "      <td>3</td>\n",
       "      <td>3</td>\n",
       "      <td>88</td>\n",
       "      <td>2019-05-31 11:35:43+00:00</td>\n",
       "    </tr>\n",
       "    <tr>\n",
       "      <th>5</th>\n",
       "      <td>2013-08-14 10:22:25+00:00</td>\n",
       "      <td>File based encrypted key-value store</td>\n",
       "      <td>46</td>\n",
       "      <td>True</td>\n",
       "      <td>True</td>\n",
       "      <td>MDEwOlJlcG9zaXRvcnkxMjEwNjE5Mg==</td>\n",
       "      <td>151</td>\n",
       "      <td>MIT</td>\n",
       "      <td>trousseau</td>\n",
       "      <td>oleiade/trousseau</td>\n",
       "      <td>![Trousseau, a portable encrypted keyring](tro...</td>\n",
       "      <td>oleiade</td>\n",
       "      <td>Go</td>\n",
       "      <td>46</td>\n",
       "      <td>547</td>\n",
       "      <td>881</td>\n",
       "      <td>2019-08-26 16:50:04+00:00</td>\n",
       "    </tr>\n",
       "    <tr>\n",
       "      <th>6</th>\n",
       "      <td>2014-09-16 03:58:52+00:00</td>\n",
       "      <td>Embulk: Pluggable Bulk Data Loader.</td>\n",
       "      <td>166</td>\n",
       "      <td>True</td>\n",
       "      <td>False</td>\n",
       "      <td>MDEwOlJlcG9zaXRvcnkyNDA4NDczMA==</td>\n",
       "      <td>391</td>\n",
       "      <td>NOASSERTION</td>\n",
       "      <td>embulk</td>\n",
       "      <td>embulk/embulk</td>\n",
       "      <td># What's Embulk?\\n\\nEmbulk is a parallel bulk ...</td>\n",
       "      <td>embulk</td>\n",
       "      <td>Java</td>\n",
       "      <td>786</td>\n",
       "      <td>2646</td>\n",
       "      <td>1324</td>\n",
       "      <td>2019-09-03 07:27:25+00:00</td>\n",
       "    </tr>\n",
       "    <tr>\n",
       "      <th>7</th>\n",
       "      <td>2018-01-28 08:18:24+00:00</td>\n",
       "      <td>🌕 🌖 🌗 🌘 🌑 🌒 🌓 🌔Imitate Cosmos - a special thir...</td>\n",
       "      <td>72</td>\n",
       "      <td>True</td>\n",
       "      <td>True</td>\n",
       "      <td>MDEwOlJlcG9zaXRvcnkxMTkyNDA0NTM=</td>\n",
       "      <td>10</td>\n",
       "      <td>GPL-2.0</td>\n",
       "      <td>ZHNCosmos</td>\n",
       "      <td>zhnnnnn/ZHNCosmos</td>\n",
       "      <td># Imitate Cosmos - a special third party weibo...</td>\n",
       "      <td>zhnnnnn</td>\n",
       "      <td>Objective-C</td>\n",
       "      <td>0</td>\n",
       "      <td>37</td>\n",
       "      <td>451</td>\n",
       "      <td>2019-08-30 06:26:09+00:00</td>\n",
       "    </tr>\n",
       "    <tr>\n",
       "      <th>8</th>\n",
       "      <td>2016-04-27 23:40:22+00:00</td>\n",
       "      <td>C++ library and programs that demonstrate mesh...</td>\n",
       "      <td>103</td>\n",
       "      <td>True</td>\n",
       "      <td>True</td>\n",
       "      <td>MDEwOlJlcG9zaXRvcnk1NzI1NTk3Mg==</td>\n",
       "      <td>2</td>\n",
       "      <td>NOASSERTION</td>\n",
       "      <td>Mesh-processing-library</td>\n",
       "      <td>microsoft/Mesh-processing-library</td>\n",
       "      <td># Mesh-processing-library\\nSee [README.html](h...</td>\n",
       "      <td>microsoft</td>\n",
       "      <td>C++</td>\n",
       "      <td>0</td>\n",
       "      <td>42</td>\n",
       "      <td>399</td>\n",
       "      <td>2019-09-03 03:55:23+00:00</td>\n",
       "    </tr>\n",
       "  </tbody>\n",
       "</table>\n",
       "</div>"
      ],
      "text/plain": [
       "                  createdAt  \\\n",
       "0 2013-01-19 02:21:47+00:00   \n",
       "1 2014-04-01 22:40:40+00:00   \n",
       "2 2014-07-17 04:50:32+00:00   \n",
       "3 2017-03-21 11:05:58+00:00   \n",
       "4 2012-09-14 14:19:46+00:00   \n",
       "5 2013-08-14 10:22:25+00:00   \n",
       "6 2014-09-16 03:58:52+00:00   \n",
       "7 2018-01-28 08:18:24+00:00   \n",
       "8 2016-04-27 23:40:22+00:00   \n",
       "\n",
       "                                         description  totalForks  \\\n",
       "0    A game-theoretic poker player (written in 2005)          30   \n",
       "1                    The Google I/O 2019 Android App        5931   \n",
       "2  SEX IS ZERO (0), so, who wanna be the ONE (1),...        1959   \n",
       "3                  在线地址: http://www.jobinfo.cc:8000/          91   \n",
       "4    Using Spring from within a Play 2.0 application          24   \n",
       "5               File based encrypted key-value store          46   \n",
       "6                Embulk: Pluggable Bulk Data Loader.         166   \n",
       "7  🌕 🌖 🌗 🌘 🌑 🌒 🌓 🌔Imitate Cosmos - a special thir...          72   \n",
       "8  C++ library and programs that demonstrate mesh...         103   \n",
       "\n",
       "   hasIssuesEnabled  hasWikiEnabled                                id  \\\n",
       "0              True            True      MDEwOlJlcG9zaXRvcnk3Njk4MTkx   \n",
       "1              True           False  MDEwOlJlcG9zaXRvcnkxODM0NzQ3Ng==   \n",
       "2              True            True  MDEwOlJlcG9zaXRvcnkyMTkyOTAyOQ==   \n",
       "3              True            True  MDEwOlJlcG9zaXRvcnk4NTY5MjA1Mg==   \n",
       "4             False           False      MDEwOlJlcG9zaXRvcnk1ODEwMjM4   \n",
       "5              True            True  MDEwOlJlcG9zaXRvcnkxMjEwNjE5Mg==   \n",
       "6              True           False  MDEwOlJlcG9zaXRvcnkyNDA4NDczMA==   \n",
       "7              True            True  MDEwOlJlcG9zaXRvcnkxMTkyNDA0NTM=   \n",
       "8              True            True  MDEwOlJlcG9zaXRvcnk1NzI1NTk3Mg==   \n",
       "\n",
       "   totalIssues  licenseInfo                     name  \\\n",
       "0            0         None        game-theory-poker   \n",
       "1          192  NOASSERTION                  iosched   \n",
       "2           76      GPL-2.0                 hardseed   \n",
       "3            8          MIT                webspider   \n",
       "4            0         None       play20-spring-demo   \n",
       "5          151          MIT                trousseau   \n",
       "6          391  NOASSERTION                   embulk   \n",
       "7           10      GPL-2.0                ZHNCosmos   \n",
       "8            2  NOASSERTION  Mesh-processing-library   \n",
       "\n",
       "                       nameWithOwner  \\\n",
       "0        adamsmith/game-theory-poker   \n",
       "1                     google/iosched   \n",
       "2           yangyangwithgnu/hardseed   \n",
       "3                  iven-he/webspider   \n",
       "4   guillaumebort/play20-spring-demo   \n",
       "5                  oleiade/trousseau   \n",
       "6                      embulk/embulk   \n",
       "7                  zhnnnnn/ZHNCosmos   \n",
       "8  microsoft/Mesh-processing-library   \n",
       "\n",
       "                                              readMe            owner  \\\n",
       "0  game-theory-poker\\n=====\\n\\nThis is a game-the...        adamsmith   \n",
       "1  Google I/O Android App\\n======================...           google   \n",
       "2  <h1 align=\"center\">给不了你梦中情人，至少还有硬盘女神：hardseed<...  yangyangwithgnu   \n",
       "3  # \\n\\n[![Build Status](https://travis-ci.org/G...          iven-he   \n",
       "4  Using Spring from within a Play 2.0 applicatio...    guillaumebort   \n",
       "5  ![Trousseau, a portable encrypted keyring](tro...          oleiade   \n",
       "6  # What's Embulk?\\n\\nEmbulk is a parallel bulk ...           embulk   \n",
       "7  # Imitate Cosmos - a special third party weibo...          zhnnnnn   \n",
       "8  # Mesh-processing-library\\nSee [README.html](h...        microsoft   \n",
       "\n",
       "  primaryLanguage  totalPullRequests  totalCommits  totalStargazers  \\\n",
       "0            Java                  1             2              167   \n",
       "1          Kotlin                134          2635            18987   \n",
       "2             C++                 12           197             9102   \n",
       "3          Python                  8            51              260   \n",
       "4            Java                  3             3               88   \n",
       "5              Go                 46           547              881   \n",
       "6            Java                786          2646             1324   \n",
       "7     Objective-C                  0            37              451   \n",
       "8             C++                  0            42              399   \n",
       "\n",
       "                  updatedAt  \n",
       "0 2019-08-13 15:14:46+00:00  \n",
       "1 2019-09-03 15:52:27+00:00  \n",
       "2 2019-09-02 12:40:54+00:00  \n",
       "3 2019-08-29 15:43:08+00:00  \n",
       "4 2019-05-31 11:35:43+00:00  \n",
       "5 2019-08-26 16:50:04+00:00  \n",
       "6 2019-09-03 07:27:25+00:00  \n",
       "7 2019-08-30 06:26:09+00:00  \n",
       "8 2019-09-03 03:55:23+00:00  "
      ]
     },
     "execution_count": 151,
     "metadata": {},
     "output_type": "execute_result"
    }
   ],
   "source": [
    "df"
   ]
  },
  {
   "cell_type": "code",
   "execution_count": 273,
   "metadata": {},
   "outputs": [
    {
     "data": {
      "text/plain": [
       "'# \\n\\n[![Build Status](https://travis-ci.org/GuozhuHe/webspider.svg)](https://travis-ci.org/GuozhuHe/webspider)\\n[![codecov](https://codecov.io/gh/GuozhuHe/webspider/branch/master/graph/badge.svg)](https://codecov.io/gh/GuozhuHe/webspider)\\n[![Code Health](https://landscape.io/github/GuozhuHe/webspider/master/landscape.svg?style=flat)](https://landscape.io/github/GuozhuHe/webspider/master)\\n[![License](https://img.shields.io/github/license/GuozhuHe/webspider.svg)](https://github.com/guozhuhe/webspider/blob/master/LICENSE)\\n[![Python](https://img.shields.io/badge/python-3-ff69b4.svg)](https://github.com/GuozhuHe/webspider)\\n\\n--|--\\n---- | ----\\nVersion | 1.0.1\\nWebSite | http://www.jobinfo.cc:8000/\\nSource |  https://github.com/GuozhuHe/webspider\\nKeywords |  `Python3`, `Tornado`, `Celery`, `Requests`\\n\\n## 项目简介\\n\\n本项目使用的编程语言是`python3`，数据库用的是`MySQL`, 主要用到的库是`celery`和`requests`，并实现了定时任务，出错重试，日志记录，自动更改`Cookies`等的功能，使用`ECharts` + `Bootstrap` 来构建前端页面。\\n\\n## 展示页面\\n\\n![Alt text](job-chart.jpg)\\n\\n## Quick Start\\n> 以下操作均是在 `Linux - Ubuntu` 环境下执行\\n\\n* 克隆项目\\n\\n```bash\\ngit clone git@github.com:GuozhuHe/webspider.git\\n```\\n\\n* 安装 `MySQL`, `Redis`, `Python3`\\n\\n```bash\\n# 安装 redis\\napt-get install redis-server\\n\\n# 后台启动 redis-server\\nnohup redis-server &\\n\\n# 安装 python3\\napt-get install python3\\n\\n# 安装 MySQL\\napt-get install mysql-server\\n\\n# 启动 MySQL\\nsudo service mysql start\\n```\\n\\n* 配置数据库和表\\n```mysql\\n# 创建数据库\\nCREATE DATABASE `spider` CHARACTER SET utf8mb4 COLLATE utf8mb4_unicode_ci;\\n# 还需要创建相关表，表的定义语句在 tests/schema.sql 文件中，可自行复制进 MySQL 命令行中执行。\\n```\\n\\n* 在项目根目录下构建\\n```bash\\nmake\\n# 构建成功后项目的 env/bin 目录下会有可执行脚本\\n```\\n\\n* 执行单元测试\\n```bash\\nmake test\\n```\\n\\n* 代码风格检查\\n```bash\\nmake flake8\\n```\\n\\n* 运行 `Web Server`\\n```bash\\nenv/bin/web\\n```\\n\\n* 运行爬虫程序\\n```bash\\n# 启动定时任务分发器\\nenv/bin/celery_beat\\n# 启动爬取 拉勾数据 的 worker\\nenv/bin/celery_lagou_data_worker\\n# 启动爬取 职位数据 的 worker\\nenv/bin/celery_lagou_jobs_data_worker\\n# 启动爬取 职位数量 的 worker\\nenv/bin/celery_lagou_jobs_count_worker\\n```\\n\\n* env/bin 目录下其他可执行脚本\\n```bash\\n# 直接爬取职位数量\\nenv/bin/crawl_lagou_jobs_count\\n# 直接爬取职位数据\\nenv/bin/crawl_lagou_data\\n# 启动celery监控 \\nenv/bin/celery_flower            \\n```\\n\\n* 清除构建信息\\n```bash\\nmake clean\\n```\\n\\n## TODO\\n\\n- [ ] 前后端分离\\n\\n- [ ] 更为丰富的数据展示维度\\n\\n- [x] 重构爬虫\\n\\n- [x] 缓存、失效机制\\n\\n- [x] Fix Bug: `MySQL Server has gone away`. 详见此[MR](https://github.com/GuozhuHe/webspider/pull/4) \\n'"
      ]
     },
     "execution_count": 273,
     "metadata": {},
     "output_type": "execute_result"
    }
   ],
   "source": [
    "df['readMe'][3]"
   ]
  },
  {
   "cell_type": "markdown",
   "metadata": {},
   "source": [
    "---"
   ]
  },
  {
   "cell_type": "markdown",
   "metadata": {},
   "source": [
    "---"
   ]
  },
  {
   "cell_type": "markdown",
   "metadata": {},
   "source": [
    "# `Pull Requests`"
   ]
  },
  {
   "cell_type": "markdown",
   "metadata": {},
   "source": [
    "## Query x2"
   ]
  },
  {
   "cell_type": "code",
   "execution_count": 152,
   "metadata": {},
   "outputs": [],
   "source": [
    "# Initial query\n",
    "pr_query = '''\n",
    "{{\n",
    "  repositoryOwner(login: \"{owner}\") {{\n",
    "    repository(name: \"{name}\") {{\n",
    "      pullRequests(first: 100) {{\n",
    "        pageInfo {{\n",
    "          endCursor\n",
    "          hasNextPage\n",
    "        }}\n",
    "        nodes {{\n",
    "          createdAt\n",
    "          updatedAt\n",
    "          closedAt\n",
    "          title\n",
    "          mergedBy {{\n",
    "            login\n",
    "          }}\n",
    "          author {{\n",
    "            login\n",
    "            ... on User {{\n",
    "              company\n",
    "            }}\n",
    "          }}\n",
    "          authorAssociation\n",
    "          files {{\n",
    "            totalCount\n",
    "          }}\n",
    "          state\n",
    "          resourcePath\n",
    "          bodyText\n",
    "          comments(first: 25) {{\n",
    "            totalCount\n",
    "            nodes {{\n",
    "              author {{\n",
    "                login\n",
    "                ... on User {{\n",
    "                  company\n",
    "                }}\n",
    "              }}\n",
    "              authorAssociation\n",
    "              bodyText\n",
    "            }}\n",
    "          }}\n",
    "        }}\n",
    "      }}\n",
    "    }}\n",
    "  }}\n",
    "  rateLimit {{\n",
    "    limit\n",
    "    cost\n",
    "    remaining\n",
    "    resetAt\n",
    "  }}\n",
    "}}\n",
    "'''\n",
    "\n",
    "# Subsequent queries\n",
    "pr_query_2 = '''\n",
    "{{\n",
    "  repositoryOwner(login: \"{owner}\") {{\n",
    "    repository(name: \"{name}\") {{\n",
    "      pullRequests(first: 100, after:\"{end_cursor}\") {{\n",
    "        pageInfo {{\n",
    "          endCursor\n",
    "          hasNextPage\n",
    "        }}\n",
    "        nodes {{\n",
    "          createdAt\n",
    "          updatedAt\n",
    "          closedAt\n",
    "          title\n",
    "          mergedBy {{\n",
    "            login\n",
    "          }}\n",
    "          author {{\n",
    "            login\n",
    "            ... on User {{\n",
    "              company\n",
    "            }}\n",
    "          }}\n",
    "          authorAssociation\n",
    "          files {{\n",
    "            totalCount\n",
    "          }}\n",
    "          state\n",
    "          resourcePath\n",
    "          bodyText\n",
    "          comments(first: 25) {{\n",
    "            totalCount\n",
    "            nodes {{\n",
    "              author {{\n",
    "                login\n",
    "                ... on User {{\n",
    "                  company\n",
    "                }}\n",
    "              }}\n",
    "              authorAssociation\n",
    "              bodyText\n",
    "            }}\n",
    "          }}\n",
    "        }}\n",
    "      }}\n",
    "    }}\n",
    "  }}\n",
    "  rateLimit {{\n",
    "    limit\n",
    "    cost\n",
    "    remaining\n",
    "    resetAt\n",
    "  }}\n",
    "}}\n",
    "\n",
    "'''\n",
    "\n",
    "pr_variables = {\n",
    "    \"end_cursor\": \"\",\n",
    "    \"owner\":\"\",\n",
    "    \"name\":\"\"\n",
    "}"
   ]
  },
  {
   "cell_type": "markdown",
   "metadata": {},
   "source": [
    "## Functions to query pr"
   ]
  },
  {
   "cell_type": "code",
   "execution_count": 153,
   "metadata": {},
   "outputs": [],
   "source": [
    "def pr_to_df(result):\n",
    "    \n",
    "    # Get the keys of nodes.\n",
    "    data = result['data']['repositoryOwner']['repository']['pullRequests']['nodes']\n",
    "    \n",
    "    # Put the data into a dataframe\n",
    "    df_pr = pd.DataFrame(data)\n",
    "    \n",
    "    return df_pr\n",
    "\n",
    "def pr_get_page_info(result):\n",
    "    cur = result['data']['repositoryOwner']['repository']['pullRequests']['pageInfo']['endCursor']\n",
    "    has_cur = result['data']['repositoryOwner']['repository']['pullRequests']['pageInfo']['hasNextPage']\n",
    "    return cur, has_cur\n",
    "\n",
    "def pr_result_query(query):\n",
    "    # Run first query\n",
    "    result = run_query(query)\n",
    "\n",
    "    # Save to DF\n",
    "    df_pr = pr_to_df(result)\n",
    "\n",
    "    # Get end cursor and has cursor\n",
    "    pr_variables['end_cursor'], has_cursor = pr_get_page_info(result)\n",
    "\n",
    "    # Limit\n",
    "    limit = result['data']['rateLimit']['remaining']\n",
    "    \n",
    "    return df_pr, has_cursor, limit"
   ]
  },
  {
   "cell_type": "markdown",
   "metadata": {},
   "source": [
    "---"
   ]
  },
  {
   "cell_type": "markdown",
   "metadata": {},
   "source": [
    "---"
   ]
  },
  {
   "cell_type": "markdown",
   "metadata": {},
   "source": [
    "# `Issues`"
   ]
  },
  {
   "cell_type": "markdown",
   "metadata": {},
   "source": [
    "## Query x2"
   ]
  },
  {
   "cell_type": "code",
   "execution_count": 154,
   "metadata": {},
   "outputs": [],
   "source": [
    "is_query = '''\n",
    "{{\n",
    "  repositoryOwner(login:\"{owner}\") {{\n",
    "    repository(name:\"{name}\") {{\n",
    "      issues(first:100) {{\n",
    "        pageInfo {{\n",
    "          endCursor\n",
    "          hasNextPage\n",
    "        }}\n",
    "        nodes {{\n",
    "          createdAt\n",
    "          closedAt\n",
    "          updatedAt\n",
    "          title\n",
    "          number\n",
    "          author {{\n",
    "            login\n",
    "            ... on User {{\n",
    "              company\n",
    "            }}\n",
    "          }}\n",
    "          authorAssociation\n",
    "          state\n",
    "          bodyText\n",
    "          comments(first:20) {{\n",
    "            totalCount\n",
    "            nodes {{\n",
    "              author {{\n",
    "                login\n",
    "                ... on User {{\n",
    "                  company\n",
    "                }}\n",
    "              }}\n",
    "              createdAt\n",
    "              authorAssociation\n",
    "              bodyText\n",
    "            }}\n",
    "          }}\n",
    "        }}\n",
    "      }}\n",
    "    }}\n",
    "  }}\n",
    "  rateLimit {{\n",
    "    limit\n",
    "    cost\n",
    "    remaining\n",
    "    resetAt\n",
    "  }}\n",
    "}}\n",
    "'''\n",
    "\n",
    "is_query_2 = '''\n",
    "{{\n",
    "  repositoryOwner(login:\"{owner}\") {{\n",
    "    repository(name:\"{name}\") {{\n",
    "      issues(first:100, after:\"{end_cursor}\") {{\n",
    "        pageInfo {{\n",
    "          endCursor\n",
    "          hasNextPage\n",
    "        }}\n",
    "        nodes {{\n",
    "          createdAt\n",
    "          closedAt\n",
    "          updatedAt\n",
    "          title\n",
    "          number\n",
    "          author {{\n",
    "            login\n",
    "            ... on User {{\n",
    "              company\n",
    "            }}\n",
    "          }}\n",
    "          authorAssociation\n",
    "          state\n",
    "          bodyText\n",
    "          comments(first:20) {{\n",
    "            totalCount\n",
    "            nodes {{\n",
    "              author {{\n",
    "                login\n",
    "                ... on User {{\n",
    "                  company\n",
    "                }}\n",
    "              }}\n",
    "              createdAt\n",
    "              authorAssociation\n",
    "              bodyText\n",
    "            }}\n",
    "          }}\n",
    "        }}\n",
    "      }}\n",
    "    }}\n",
    "  }}\n",
    "  rateLimit {{\n",
    "    limit\n",
    "    cost\n",
    "    remaining\n",
    "    resetAt\n",
    "  }}\n",
    "}}\n",
    "'''\n",
    "\n",
    "is_variables = {\n",
    "    \"end_cursor\": \"\",\n",
    "    \"owner\":\"\",\n",
    "    \"name\":\"\"\n",
    "}"
   ]
  },
  {
   "cell_type": "markdown",
   "metadata": {},
   "source": [
    "## Function to query issues"
   ]
  },
  {
   "cell_type": "code",
   "execution_count": 155,
   "metadata": {},
   "outputs": [],
   "source": [
    "def is_to_df(result):\n",
    "    \n",
    "    # Get the keys of nodes.\n",
    "    data = result['data']['repositoryOwner']['repository']['issues']['nodes']\n",
    "    \n",
    "    # Put the data into a dataframe\n",
    "    df_is = pd.DataFrame(data)\n",
    "    \n",
    "    return df_is\n",
    "\n",
    "def is_get_page_info(result):\n",
    "    cur = result['data']['repositoryOwner']['repository']['issues']['pageInfo']['endCursor']\n",
    "    has_cur = result['data']['repositoryOwner']['repository']['issues']['pageInfo']['hasNextPage']\n",
    "    return cur, has_cur\n",
    "\n",
    "def is_result_query(query):\n",
    "    # Run first query\n",
    "    result = run_query(query)\n",
    "\n",
    "    # Save to DF\n",
    "    df_is = is_to_df(result)\n",
    "\n",
    "    # Get end cursor and has cursor\n",
    "    is_variables['end_cursor'], has_cursor = is_get_page_info(result)\n",
    "\n",
    "    # Limit\n",
    "    limit = result['data']['rateLimit']['remaining']\n",
    "    \n",
    "    return df_is, has_cursor, limit"
   ]
  },
  {
   "cell_type": "markdown",
   "metadata": {},
   "source": [
    "---"
   ]
  },
  {
   "cell_type": "markdown",
   "metadata": {},
   "source": [
    "---"
   ]
  },
  {
   "cell_type": "markdown",
   "metadata": {},
   "source": [
    "# `Commits`"
   ]
  },
  {
   "cell_type": "markdown",
   "metadata": {},
   "source": [
    "## Query x2"
   ]
  },
  {
   "cell_type": "code",
   "execution_count": 156,
   "metadata": {},
   "outputs": [],
   "source": [
    "cm_query = '''\n",
    "{{\n",
    "  repository(owner: \"{owner}\", name: \"{name}\") {{\n",
    "    ref(qualifiedName: \"master\") {{\n",
    "      target {{\n",
    "        ... on Commit {{\n",
    "          history(first: 100) {{\n",
    "            pageInfo {{\n",
    "              hasNextPage\n",
    "              endCursor\n",
    "            }}\n",
    "            nodes {{\n",
    "              oid\n",
    "              messageHeadline\n",
    "              committedDate\n",
    "              committer {{\n",
    "                user {{\n",
    "                  login\n",
    "                  company\n",
    "                }}\n",
    "              }}\n",
    "              status {{\n",
    "                id\n",
    "                state\n",
    "              }}\n",
    "              associatedPullRequests(first: 3) {{\n",
    "                nodes {{\n",
    "                  id\n",
    "                  title\n",
    "                  author {{\n",
    "                    login\n",
    "                  }}\n",
    "                  authorAssociation\n",
    "                  createdAt\n",
    "                  updatedAt\n",
    "                  closedAt\n",
    "                  number\n",
    "                  state\n",
    "                }}\n",
    "              }}\n",
    "            }}\n",
    "          }}\n",
    "        }}\n",
    "      }}\n",
    "    }}\n",
    "  }}\n",
    "  rateLimit {{\n",
    "    limit\n",
    "    cost\n",
    "    remaining\n",
    "    resetAt\n",
    "  }}\n",
    "}}\n",
    "'''\n",
    "\n",
    "cm_query_2 = '''\n",
    "{{\n",
    "  repository(owner: \"{owner}\", name: \"{name}\") {{\n",
    "    ref(qualifiedName: \"master\") {{\n",
    "      target {{\n",
    "        ... on Commit {{\n",
    "          history(first: 100, after:\"{end_cursor}\") {{\n",
    "            pageInfo {{\n",
    "              hasNextPage\n",
    "              endCursor\n",
    "            }}\n",
    "            nodes {{\n",
    "              oid\n",
    "              messageHeadline\n",
    "              committedDate\n",
    "              committer {{\n",
    "                user {{\n",
    "                  login\n",
    "                  company\n",
    "                }}\n",
    "              }}\n",
    "              status {{\n",
    "                id\n",
    "                state\n",
    "              }}\n",
    "              associatedPullRequests(first: 3) {{\n",
    "                nodes {{\n",
    "                  id\n",
    "                  title\n",
    "                  author {{\n",
    "                    login\n",
    "                  }}\n",
    "                  authorAssociation\n",
    "                  createdAt\n",
    "                  updatedAt\n",
    "                  closedAt\n",
    "                  number\n",
    "                  state\n",
    "                }}\n",
    "              }}\n",
    "            }}\n",
    "          }}\n",
    "        }}\n",
    "      }}\n",
    "    }}\n",
    "  }}\n",
    "  rateLimit {{\n",
    "    limit\n",
    "    cost\n",
    "    remaining\n",
    "    resetAt\n",
    "  }}\n",
    "}}\n",
    "'''\n",
    "\n",
    "cm_variables = {\n",
    "    \"end_cursor\": \"\",\n",
    "    \"owner\":\"\",\n",
    "    \"name\":\"\"\n",
    "}"
   ]
  },
  {
   "cell_type": "markdown",
   "metadata": {},
   "source": [
    "## Functions for Commits"
   ]
  },
  {
   "cell_type": "code",
   "execution_count": 157,
   "metadata": {},
   "outputs": [],
   "source": [
    "def cm_to_df(result):\n",
    "    \n",
    "    # Get the keys of nodes.\n",
    "    data = result['data']['repository']['ref']['target']['history']['nodes']\n",
    "    \n",
    "    # Put the data into a dataframe\n",
    "    df_commits = pd.DataFrame(data)\n",
    "    \n",
    "    return df_commits\n",
    "\n",
    "def cm_get_page_info(result):\n",
    "    cur = result['data']['repository']['ref']['target']['history']['pageInfo']['endCursor']\n",
    "    has_cur = result['data']['repository']['ref']['target']['history']['pageInfo']['hasNextPage']\n",
    "    return cur, has_cur\n",
    "\n",
    "def cm_result_query(query):\n",
    "    # Run first query\n",
    "    result = run_query(query)\n",
    "\n",
    "    # Save to DF\n",
    "    df_commits = cm_to_df(result)\n",
    "\n",
    "    # Get end cursor and has cursor\n",
    "    cm_variables['end_cursor'], has_cursor = cm_get_page_info(result)\n",
    "\n",
    "    # Limit\n",
    "    limit = result['data']['rateLimit']['remaining']\n",
    "    \n",
    "    return df_commits, has_cursor, limit"
   ]
  },
  {
   "cell_type": "markdown",
   "metadata": {},
   "source": [
    "---"
   ]
  },
  {
   "cell_type": "markdown",
   "metadata": {},
   "source": [
    "---"
   ]
  },
  {
   "cell_type": "markdown",
   "metadata": {},
   "source": [
    "# `Stargazers`"
   ]
  },
  {
   "cell_type": "markdown",
   "metadata": {},
   "source": [
    "## Query x2"
   ]
  },
  {
   "cell_type": "code",
   "execution_count": 158,
   "metadata": {},
   "outputs": [],
   "source": [
    "# Query star gazers\n",
    "st_query = '''\n",
    "{{\n",
    "  repositoryOwner(login: \"{owner}\") {{\n",
    "    id\n",
    "    login\n",
    "    repository(name: \"{name}\") {{\n",
    "      id\n",
    "      name\n",
    "      createdAt\n",
    "      updatedAt\n",
    "      description\n",
    "      licenseInfo {{\n",
    "        spdxId\n",
    "      }}\n",
    "      stargazers(first:100) {{\n",
    "        totalCount\n",
    "        pageInfo {{\n",
    "          endCursor\n",
    "          hasNextPage\n",
    "        }}\n",
    "        edges {{\n",
    "          starredAt\n",
    "          node {{\n",
    "            createdAt\n",
    "            updatedAt\n",
    "            id\n",
    "            login\n",
    "            company\n",
    "          }}\n",
    "        }}\n",
    "      }}\n",
    "    }}\n",
    "  }}\n",
    "  rateLimit {{\n",
    "    limit\n",
    "    cost\n",
    "    remaining\n",
    "    resetAt\n",
    "  }}\n",
    "}}\n",
    "'''\n",
    "\n",
    "st_query_2 = '''\n",
    "{{\n",
    "  repositoryOwner(login: \"{owner}\") {{\n",
    "    id\n",
    "    login\n",
    "    repository(name: \"{name}\") {{\n",
    "      id\n",
    "      name\n",
    "      createdAt\n",
    "      updatedAt\n",
    "      description\n",
    "      licenseInfo {{\n",
    "        spdxId\n",
    "      }}\n",
    "      stargazers(first:100, after:\"{end_cursor}\") {{\n",
    "        totalCount\n",
    "        pageInfo {{\n",
    "          endCursor\n",
    "          hasNextPage\n",
    "        }}\n",
    "        edges {{\n",
    "          starredAt\n",
    "          node {{\n",
    "            createdAt\n",
    "            updatedAt\n",
    "            id\n",
    "            login\n",
    "            company\n",
    "          }}\n",
    "        }}\n",
    "      }}\n",
    "    }}\n",
    "  }}\n",
    "  rateLimit {{\n",
    "    limit\n",
    "    cost\n",
    "    remaining\n",
    "    resetAt\n",
    "  }}\n",
    "}}\n",
    "'''\n",
    "\n",
    "st_variables = {\n",
    "    \"end_cursor\": \"\",\n",
    "    \"owner\":\"\",\n",
    "    \"name\":\"\"\n",
    "}"
   ]
  },
  {
   "cell_type": "markdown",
   "metadata": {},
   "source": [
    "## Functions for stargazers"
   ]
  },
  {
   "cell_type": "code",
   "execution_count": 159,
   "metadata": {},
   "outputs": [],
   "source": [
    "def st_to_df(result):\n",
    "    \n",
    "    # Get the keys of nodes.\n",
    "    data = result['data']['repositoryOwner']['repository']['stargazers']['edges']\n",
    "    \n",
    "    # Put the data into a dataframe\n",
    "    df_star = pd.DataFrame(data)\n",
    "    \n",
    "    return df_star\n",
    "\n",
    "def st_get_page_info(result):\n",
    "    cur = result['data']['repositoryOwner']['repository']['stargazers']['pageInfo']['endCursor']\n",
    "    has_cur = result['data']['repositoryOwner']['repository']['stargazers']['pageInfo']['hasNextPage']\n",
    "    return cur, has_cur\n",
    "\n",
    "def st_result_query(query):\n",
    "    # Run first query\n",
    "    result = run_query(query)\n",
    "\n",
    "    # Save to DF\n",
    "    df_star = st_to_df(result)\n",
    "\n",
    "    # Get end cursor and has cursor\n",
    "    st_variables['end_cursor'], has_cursor = st_get_page_info(result)\n",
    "\n",
    "    # Limit\n",
    "    limit = result['data']['rateLimit']['remaining']\n",
    "    \n",
    "    return df_star, has_cursor, limit"
   ]
  },
  {
   "cell_type": "markdown",
   "metadata": {},
   "source": [
    "---"
   ]
  },
  {
   "cell_type": "markdown",
   "metadata": {},
   "source": [
    "---"
   ]
  },
  {
   "cell_type": "markdown",
   "metadata": {},
   "source": [
    "# `Run Queries`"
   ]
  },
  {
   "cell_type": "markdown",
   "metadata": {},
   "source": [
    "## Set index from the 10 random repos"
   ]
  },
  {
   "cell_type": "code",
   "execution_count": 268,
   "metadata": {},
   "outputs": [],
   "source": [
    "i = 0"
   ]
  },
  {
   "cell_type": "markdown",
   "metadata": {},
   "source": [
    "## Make new Folder to store the repo data"
   ]
  },
  {
   "cell_type": "code",
   "execution_count": 269,
   "metadata": {},
   "outputs": [
    {
     "name": "stdout",
     "output_type": "stream",
     "text": [
      "Folder exists\n"
     ]
    }
   ],
   "source": [
    "import os\n",
    "\n",
    "try:\n",
    "    os.mkdir('../../../Files/' + df['owner'][i])\n",
    "except:\n",
    "    print('Folder exists')"
   ]
  },
  {
   "cell_type": "markdown",
   "metadata": {},
   "source": [
    "## Run PR Query"
   ]
  },
  {
   "cell_type": "code",
   "execution_count": 270,
   "metadata": {
    "scrolled": true
   },
   "outputs": [
    {
     "ename": "KeyError",
     "evalue": "9",
     "output_type": "error",
     "traceback": [
      "\u001b[1;31m---------------------------------------------------------------------------\u001b[0m",
      "\u001b[1;31mKeyError\u001b[0m                                  Traceback (most recent call last)",
      "\u001b[1;32m<timed exec>\u001b[0m in \u001b[0;36m<module>\u001b[1;34m\u001b[0m\n",
      "\u001b[1;32m~\\Anaconda3\\lib\\site-packages\\pandas\\core\\series.py\u001b[0m in \u001b[0;36m__getitem__\u001b[1;34m(self, key)\u001b[0m\n\u001b[0;32m    866\u001b[0m         \u001b[0mkey\u001b[0m \u001b[1;33m=\u001b[0m \u001b[0mcom\u001b[0m\u001b[1;33m.\u001b[0m\u001b[0mapply_if_callable\u001b[0m\u001b[1;33m(\u001b[0m\u001b[0mkey\u001b[0m\u001b[1;33m,\u001b[0m \u001b[0mself\u001b[0m\u001b[1;33m)\u001b[0m\u001b[1;33m\u001b[0m\u001b[1;33m\u001b[0m\u001b[0m\n\u001b[0;32m    867\u001b[0m         \u001b[1;32mtry\u001b[0m\u001b[1;33m:\u001b[0m\u001b[1;33m\u001b[0m\u001b[1;33m\u001b[0m\u001b[0m\n\u001b[1;32m--> 868\u001b[1;33m             \u001b[0mresult\u001b[0m \u001b[1;33m=\u001b[0m \u001b[0mself\u001b[0m\u001b[1;33m.\u001b[0m\u001b[0mindex\u001b[0m\u001b[1;33m.\u001b[0m\u001b[0mget_value\u001b[0m\u001b[1;33m(\u001b[0m\u001b[0mself\u001b[0m\u001b[1;33m,\u001b[0m \u001b[0mkey\u001b[0m\u001b[1;33m)\u001b[0m\u001b[1;33m\u001b[0m\u001b[1;33m\u001b[0m\u001b[0m\n\u001b[0m\u001b[0;32m    869\u001b[0m \u001b[1;33m\u001b[0m\u001b[0m\n\u001b[0;32m    870\u001b[0m             \u001b[1;32mif\u001b[0m \u001b[1;32mnot\u001b[0m \u001b[0mis_scalar\u001b[0m\u001b[1;33m(\u001b[0m\u001b[0mresult\u001b[0m\u001b[1;33m)\u001b[0m\u001b[1;33m:\u001b[0m\u001b[1;33m\u001b[0m\u001b[1;33m\u001b[0m\u001b[0m\n",
      "\u001b[1;32m~\\Anaconda3\\lib\\site-packages\\pandas\\core\\indexes\\base.py\u001b[0m in \u001b[0;36mget_value\u001b[1;34m(self, series, key)\u001b[0m\n\u001b[0;32m   4373\u001b[0m         \u001b[1;32mtry\u001b[0m\u001b[1;33m:\u001b[0m\u001b[1;33m\u001b[0m\u001b[1;33m\u001b[0m\u001b[0m\n\u001b[0;32m   4374\u001b[0m             return self._engine.get_value(s, k,\n\u001b[1;32m-> 4375\u001b[1;33m                                           tz=getattr(series.dtype, 'tz', None))\n\u001b[0m\u001b[0;32m   4376\u001b[0m         \u001b[1;32mexcept\u001b[0m \u001b[0mKeyError\u001b[0m \u001b[1;32mas\u001b[0m \u001b[0me1\u001b[0m\u001b[1;33m:\u001b[0m\u001b[1;33m\u001b[0m\u001b[1;33m\u001b[0m\u001b[0m\n\u001b[0;32m   4377\u001b[0m             \u001b[1;32mif\u001b[0m \u001b[0mlen\u001b[0m\u001b[1;33m(\u001b[0m\u001b[0mself\u001b[0m\u001b[1;33m)\u001b[0m \u001b[1;33m>\u001b[0m \u001b[1;36m0\u001b[0m \u001b[1;32mand\u001b[0m \u001b[1;33m(\u001b[0m\u001b[0mself\u001b[0m\u001b[1;33m.\u001b[0m\u001b[0mholds_integer\u001b[0m\u001b[1;33m(\u001b[0m\u001b[1;33m)\u001b[0m \u001b[1;32mor\u001b[0m \u001b[0mself\u001b[0m\u001b[1;33m.\u001b[0m\u001b[0mis_boolean\u001b[0m\u001b[1;33m(\u001b[0m\u001b[1;33m)\u001b[0m\u001b[1;33m)\u001b[0m\u001b[1;33m:\u001b[0m\u001b[1;33m\u001b[0m\u001b[1;33m\u001b[0m\u001b[0m\n",
      "\u001b[1;32mpandas/_libs/index.pyx\u001b[0m in \u001b[0;36mpandas._libs.index.IndexEngine.get_value\u001b[1;34m()\u001b[0m\n",
      "\u001b[1;32mpandas/_libs/index.pyx\u001b[0m in \u001b[0;36mpandas._libs.index.IndexEngine.get_value\u001b[1;34m()\u001b[0m\n",
      "\u001b[1;32mpandas/_libs/index.pyx\u001b[0m in \u001b[0;36mpandas._libs.index.IndexEngine.get_loc\u001b[1;34m()\u001b[0m\n",
      "\u001b[1;32mpandas/_libs/hashtable_class_helper.pxi\u001b[0m in \u001b[0;36mpandas._libs.hashtable.Int64HashTable.get_item\u001b[1;34m()\u001b[0m\n",
      "\u001b[1;32mpandas/_libs/hashtable_class_helper.pxi\u001b[0m in \u001b[0;36mpandas._libs.hashtable.Int64HashTable.get_item\u001b[1;34m()\u001b[0m\n",
      "\u001b[1;31mKeyError\u001b[0m: 9"
     ]
    }
   ],
   "source": [
    "%%time\n",
    "\n",
    "# Set owner and name for pr_variables by changing the index\n",
    "pr_variables['owner'] = df['owner'][i]\n",
    "pr_variables['name'] = df['name'][i]\n",
    "\n",
    "##### Comment Out this section if there's a error #####\n",
    "# Run first query\n",
    "df_pr, has_cursor_pr, limit = pr_result_query(pr_query.format(**pr_variables))\n",
    "\n",
    "print('Starting limit is: ', limit)\n",
    "print('Start cursor: ', has_cursor_pr, '\\n')\n",
    "\n",
    "##### Comment Out this section if there's a error #####\n",
    "\n",
    "# Run While Loop below\n",
    "while has_cursor_pr and (limit >= 0):\n",
    "    \n",
    "    # Run next queries\n",
    "    df_pr_2, has_cursor_pr, limit = pr_result_query(pr_query_2.format(**pr_variables))\n",
    "\n",
    "    # Concat to existing df_star\n",
    "    df_pr = pd.concat([df_pr, df_pr_2])\n",
    "    \n",
    "    # Print limit and cursor\n",
    "    print('Next limit is: ', limit)\n",
    "    print('Next cursor: ', has_cursor_pr, '\\n')"
   ]
  },
  {
   "cell_type": "markdown",
   "metadata": {},
   "source": [
    "### Save PR as a pickle file"
   ]
  },
  {
   "cell_type": "code",
   "execution_count": 261,
   "metadata": {},
   "outputs": [],
   "source": [
    "df_pr.to_pickle('../../../Files/' + pr_variables['owner'] + '/' + pr_variables['owner'] \n",
    "                + '_' + pr_variables['name'] + '_pr' + '.pk1')"
   ]
  },
  {
   "cell_type": "markdown",
   "metadata": {},
   "source": [
    "---"
   ]
  },
  {
   "cell_type": "markdown",
   "metadata": {},
   "source": [
    "## Run Issues Query"
   ]
  },
  {
   "cell_type": "code",
   "execution_count": 262,
   "metadata": {
    "scrolled": true
   },
   "outputs": [
    {
     "name": "stdout",
     "output_type": "stream",
     "text": [
      "Starting limit is:  4492\n",
      "Start cursor:  False \n",
      "\n",
      "Wall time: 488 ms\n"
     ]
    }
   ],
   "source": [
    "%%time\n",
    "\n",
    "# Set owner and name for pr_variables by changing the index\n",
    "is_variables['owner'] = df['owner'][i]\n",
    "is_variables['name'] = df['name'][i]\n",
    "\n",
    "##### Comment Out this section if there's a error #####\n",
    "# Run first query\n",
    "df_is, has_cursor_is, limit = is_result_query(is_query.format(**is_variables))\n",
    "\n",
    "print('Starting limit is: ', limit)\n",
    "print('Start cursor: ', has_cursor_is, '\\n')\n",
    "\n",
    "##### Comment Out this section if there's a error #####\n",
    "\n",
    "# Run While Loop below\n",
    "while has_cursor_is and (limit >= 0):\n",
    "    \n",
    "    # Run next queries\n",
    "    df_is_2, has_cursor_is, limit = is_result_query(is_query_2.format(**is_variables))\n",
    "\n",
    "    # Concat to existing df_star\n",
    "    df_is = pd.concat([df_is, df_is_2])\n",
    "    \n",
    "    # Print limit and cursor\n",
    "    print('Next limit is: ', limit)\n",
    "    print('Next cursor: ', has_cursor_is, '\\n')"
   ]
  },
  {
   "cell_type": "markdown",
   "metadata": {},
   "source": [
    "### Save Issues as a pickle file"
   ]
  },
  {
   "cell_type": "code",
   "execution_count": 263,
   "metadata": {},
   "outputs": [],
   "source": [
    "df_is.to_pickle('../../../Files/' + is_variables['owner'] + '/' + is_variables['owner'] \n",
    "                + '_' + is_variables['name'] + '_is' + '.pk1')"
   ]
  },
  {
   "cell_type": "markdown",
   "metadata": {},
   "source": [
    "---"
   ]
  },
  {
   "cell_type": "markdown",
   "metadata": {},
   "source": [
    "## Run Commits Query"
   ]
  },
  {
   "cell_type": "code",
   "execution_count": 264,
   "metadata": {
    "scrolled": true
   },
   "outputs": [
    {
     "name": "stdout",
     "output_type": "stream",
     "text": [
      "Starting limit is:  4491\n",
      "Start cursor:  False \n",
      "\n",
      "Wall time: 1.59 s\n"
     ]
    }
   ],
   "source": [
    "%%time\n",
    "\n",
    "# Set index\n",
    "cm_variables['owner'] = df['owner'][i]\n",
    "cm_variables['name'] = df['name'][i]\n",
    "\n",
    "##### Comment Out this section if there's an error #####\n",
    "\n",
    "# Run first query\n",
    "df_commits, has_cursor_cm, limit = cm_result_query(cm_query.format(**cm_variables))\n",
    "\n",
    "print('Starting limit is: ', limit)\n",
    "print('Start cursor: ', has_cursor_cm, '\\n')\n",
    "\n",
    "##### Comment Out this section if there's an error #####\n",
    "\n",
    "# Run While Loop below\n",
    "while has_cursor_cm and (limit >= 0):\n",
    "    \n",
    "    # Run next queries\n",
    "    df_commits_2, has_cursor_cm, limit = cm_result_query(cm_query_2.format(**cm_variables))\n",
    "\n",
    "    # Concat to existing df_star\n",
    "    df_commits = pd.concat([df_commits, df_commits_2])\n",
    "    \n",
    "    # Print limit and cursor\n",
    "    print('Next limit is: ', limit)\n",
    "    print('Next cursor: ', has_cursor_cm, '\\n')"
   ]
  },
  {
   "cell_type": "markdown",
   "metadata": {},
   "source": [
    "### Save Commits as a pickle file"
   ]
  },
  {
   "cell_type": "code",
   "execution_count": 265,
   "metadata": {},
   "outputs": [],
   "source": [
    "df_commits.to_pickle('../../../Files/' + cm_variables['owner'] + '/' + cm_variables['owner'] \n",
    "                + '_' + cm_variables['name'] + '_cm' + '.pk1')"
   ]
  },
  {
   "cell_type": "markdown",
   "metadata": {},
   "source": [
    "---"
   ]
  },
  {
   "cell_type": "markdown",
   "metadata": {},
   "source": [
    "## Run Stargazer Query"
   ]
  },
  {
   "cell_type": "code",
   "execution_count": 266,
   "metadata": {
    "scrolled": true
   },
   "outputs": [
    {
     "name": "stdout",
     "output_type": "stream",
     "text": [
      "Starting limit is:  4490\n",
      "Start cursor:  True \n",
      "\n",
      "Next limit is:  4489\n",
      "Next cursor:  True \n",
      "\n",
      "Next limit is:  4488\n",
      "Next cursor:  True \n",
      "\n",
      "Next limit is:  4487\n",
      "Next cursor:  False \n",
      "\n",
      "Wall time: 2.1 s\n"
     ]
    }
   ],
   "source": [
    "%%time\n",
    "\n",
    "# Set index\n",
    "st_variables['owner'] = df['owner'][i]\n",
    "st_variables['name'] = df['name'][i]\n",
    "\n",
    "##### Comment Out this section if there's an error #####\n",
    "\n",
    "# Run first query\n",
    "df_star, has_cursor_st, limit = st_result_query(st_query.format(**st_variables))\n",
    "\n",
    "print('Starting limit is: ', limit)\n",
    "print('Start cursor: ', has_cursor_st, '\\n')\n",
    "\n",
    "##### Comment Out this section if there's an error #####\n",
    "\n",
    "# Run While Loop below\n",
    "while has_cursor_st and (limit >= 0):\n",
    "    \n",
    "    # Run next queries\n",
    "    df_star_2, has_cursor_st, limit = st_result_query(st_query_2.format(**st_variables))\n",
    "\n",
    "    # Concat to existing df_star\n",
    "    df_star = pd.concat([df_star, df_star_2])\n",
    "    \n",
    "    # Print limit and cursor\n",
    "    print('Next limit is: ', limit)\n",
    "    print('Next cursor: ', has_cursor_st, '\\n')"
   ]
  },
  {
   "cell_type": "markdown",
   "metadata": {},
   "source": [
    "### Save stargazers to pickle"
   ]
  },
  {
   "cell_type": "code",
   "execution_count": 267,
   "metadata": {},
   "outputs": [],
   "source": [
    "df_star.to_pickle('../../../Files/' + st_variables['owner'] + '/' + st_variables['owner'] \n",
    "                + '_' + st_variables['name'] + '_st' + '.pk1')"
   ]
  },
  {
   "cell_type": "markdown",
   "metadata": {},
   "source": [
    "---"
   ]
  }
 ],
 "metadata": {
  "kernelspec": {
   "display_name": "Python 3",
   "language": "python",
   "name": "python3"
  },
  "language_info": {
   "codemirror_mode": {
    "name": "ipython",
    "version": 3
   },
   "file_extension": ".py",
   "mimetype": "text/x-python",
   "name": "python",
   "nbconvert_exporter": "python",
   "pygments_lexer": "ipython3",
   "version": "3.7.3"
  }
 },
 "nbformat": 4,
 "nbformat_minor": 4
}
