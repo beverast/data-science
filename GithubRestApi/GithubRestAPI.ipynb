{
 "cells": [
  {
   "cell_type": "code",
   "execution_count": 1,
   "metadata": {},
   "outputs": [],
   "source": [
    "import requests"
   ]
  },
  {
   "cell_type": "code",
   "execution_count": 8,
   "metadata": {},
   "outputs": [],
   "source": [
    "# Open and read file\n",
    "with open ('../../../Auth_Keys/graphql_api_auth.txt') as file:\n",
    "    token = file.read()\n",
    "# Specify the Authorization code\n",
    "headers = {\"Authorization\": 'Bearer ' + token}"
   ]
  },
  {
   "cell_type": "code",
   "execution_count": null,
   "metadata": {},
   "outputs": [],
   "source": []
  },
  {
   "cell_type": "code",
   "execution_count": 16,
   "metadata": {},
   "outputs": [
    {
     "name": "stdout",
     "output_type": "stream",
     "text": [
      "[{'starred_at': '2010-08-24T01:37:33Z', 'user': {'login': 'sbusso', 'id': 346, 'node_id': 'MDQ6VXNlcjM0Ng==', 'avatar_url': 'https://avatars3.githubusercontent.com/u/346?v=4', 'gravatar_id': '', 'url': 'https://api.github.com/users/sbusso', 'html_url': 'https://github.com/sbusso', 'followers_url': 'https://api.github.com/users/sbusso/followers', 'following_url': 'https://api.github.com/users/sbusso/following{/other_user}', 'gists_url': 'https://api.github.com/users/sbusso/gists{/gist_id}', 'starred_url': 'https://api.github.com/users/sbusso/starred{/owner}{/repo}', 'subscriptions_url': 'https://api.github.com/users/sbusso/subscriptions', 'organizations_url': 'https://api.github.com/users/sbusso/orgs', 'repos_url': 'https://api.github.com/users/sbusso/repos', 'events_url': 'https://api.github.com/users/sbusso/events{/privacy}', 'received_events_url': 'https://api.github.com/users/sbusso/received_events', 'type': 'User', 'site_admin': False}}, {'starred_at': '2010-08-24T01:37:33Z', 'user': {'login': 'auser', 'id': 529, 'node_id': 'MDQ6VXNlcjUyOQ==', 'avatar_url': 'https://avatars1.githubusercontent.com/u/529?v=4', 'gravatar_id': '', 'url': 'https://api.github.com/users/auser', 'html_url': 'https://github.com/auser', 'followers_url': 'https://api.github.com/users/auser/followers', 'following_url': 'https://api.github.com/users/auser/following{/other_user}', 'gists_url': 'https://api.github.com/users/auser/gists{/gist_id}', 'starred_url': 'https://api.github.com/users/auser/starred{/owner}{/repo}', 'subscriptions_url': 'https://api.github.com/users/auser/subscriptions', 'organizations_url': 'https://api.github.com/users/auser/orgs', 'repos_url': 'https://api.github.com/users/auser/repos', 'events_url': 'https://api.github.com/users/auser/events{/privacy}', 'received_events_url': 'https://api.github.com/users/auser/received_events', 'type': 'User', 'site_admin': False}}, {'starred_at': '2010-08-24T01:37:33Z', 'user': {'login': 'pfig', 'id': 594, 'node_id': 'MDQ6VXNlcjU5NA==', 'avatar_url': 'https://avatars3.githubusercontent.com/u/594?v=4', 'gravatar_id': '', 'url': 'https://api.github.com/users/pfig', 'html_url': 'https://github.com/pfig', 'followers_url': 'https://api.github.com/users/pfig/followers', 'following_url': 'https://api.github.com/users/pfig/following{/other_user}', 'gists_url': 'https://api.github.com/users/pfig/gists{/gist_id}', 'starred_url': 'https://api.github.com/users/pfig/starred{/owner}{/repo}', 'subscriptions_url': 'https://api.github.com/users/pfig/subscriptions', 'organizations_url': 'https://api.github.com/users/pfig/orgs', 'repos_url': 'https://api.github.com/users/pfig/repos', 'events_url': 'https://api.github.com/users/pfig/events{/privacy}', 'received_events_url': 'https://api.github.com/users/pfig/received_events', 'type': 'User', 'site_admin': False}}, {'starred_at': '2010-08-24T01:37:33Z', 'user': {'login': 'ludwig', 'id': 1056, 'node_id': 'MDQ6VXNlcjEwNTY=', 'avatar_url': 'https://avatars0.githubusercontent.com/u/1056?v=4', 'gravatar_id': '', 'url': 'https://api.github.com/users/ludwig', 'html_url': 'https://github.com/ludwig', 'followers_url': 'https://api.github.com/users/ludwig/followers', 'following_url': 'https://api.github.com/users/ludwig/following{/other_user}', 'gists_url': 'https://api.github.com/users/ludwig/gists{/gist_id}', 'starred_url': 'https://api.github.com/users/ludwig/starred{/owner}{/repo}', 'subscriptions_url': 'https://api.github.com/users/ludwig/subscriptions', 'organizations_url': 'https://api.github.com/users/ludwig/orgs', 'repos_url': 'https://api.github.com/users/ludwig/repos', 'events_url': 'https://api.github.com/users/ludwig/events{/privacy}', 'received_events_url': 'https://api.github.com/users/ludwig/received_events', 'type': 'User', 'site_admin': False}}, {'starred_at': '2010-08-24T01:37:33Z', 'user': {'login': 'bryanveloso', 'id': 1258, 'node_id': 'MDQ6VXNlcjEyNTg=', 'avatar_url': 'https://avatars0.githubusercontent.com/u/1258?v=4', 'gravatar_id': '', 'url': 'https://api.github.com/users/bryanveloso', 'html_url': 'https://github.com/bryanveloso', 'followers_url': 'https://api.github.com/users/bryanveloso/followers', 'following_url': 'https://api.github.com/users/bryanveloso/following{/other_user}', 'gists_url': 'https://api.github.com/users/bryanveloso/gists{/gist_id}', 'starred_url': 'https://api.github.com/users/bryanveloso/starred{/owner}{/repo}', 'subscriptions_url': 'https://api.github.com/users/bryanveloso/subscriptions', 'organizations_url': 'https://api.github.com/users/bryanveloso/orgs', 'repos_url': 'https://api.github.com/users/bryanveloso/repos', 'events_url': 'https://api.github.com/users/bryanveloso/events{/privacy}', 'received_events_url': 'https://api.github.com/users/bryanveloso/received_events', 'type': 'User', 'site_admin': False}}, {'starred_at': '2010-08-24T01:37:33Z', 'user': {'login': 'eyecat', 'id': 1351, 'node_id': 'MDQ6VXNlcjEzNTE=', 'avatar_url': 'https://avatars1.githubusercontent.com/u/1351?v=4', 'gravatar_id': '', 'url': 'https://api.github.com/users/eyecat', 'html_url': 'https://github.com/eyecat', 'followers_url': 'https://api.github.com/users/eyecat/followers', 'following_url': 'https://api.github.com/users/eyecat/following{/other_user}', 'gists_url': 'https://api.github.com/users/eyecat/gists{/gist_id}', 'starred_url': 'https://api.github.com/users/eyecat/starred{/owner}{/repo}', 'subscriptions_url': 'https://api.github.com/users/eyecat/subscriptions', 'organizations_url': 'https://api.github.com/users/eyecat/orgs', 'repos_url': 'https://api.github.com/users/eyecat/repos', 'events_url': 'https://api.github.com/users/eyecat/events{/privacy}', 'received_events_url': 'https://api.github.com/users/eyecat/received_events', 'type': 'User', 'site_admin': False}}, {'starred_at': '2010-08-24T01:37:33Z', 'user': {'login': 'cosmin', 'id': 1358, 'node_id': 'MDQ6VXNlcjEzNTg=', 'avatar_url': 'https://avatars0.githubusercontent.com/u/1358?v=4', 'gravatar_id': '', 'url': 'https://api.github.com/users/cosmin', 'html_url': 'https://github.com/cosmin', 'followers_url': 'https://api.github.com/users/cosmin/followers', 'following_url': 'https://api.github.com/users/cosmin/following{/other_user}', 'gists_url': 'https://api.github.com/users/cosmin/gists{/gist_id}', 'starred_url': 'https://api.github.com/users/cosmin/starred{/owner}{/repo}', 'subscriptions_url': 'https://api.github.com/users/cosmin/subscriptions', 'organizations_url': 'https://api.github.com/users/cosmin/orgs', 'repos_url': 'https://api.github.com/users/cosmin/repos', 'events_url': 'https://api.github.com/users/cosmin/events{/privacy}', 'received_events_url': 'https://api.github.com/users/cosmin/received_events', 'type': 'User', 'site_admin': False}}, {'starred_at': '2010-08-24T01:37:33Z', 'user': {'login': 'mcroydon', 'id': 1411, 'node_id': 'MDQ6VXNlcjE0MTE=', 'avatar_url': 'https://avatars1.githubusercontent.com/u/1411?v=4', 'gravatar_id': '', 'url': 'https://api.github.com/users/mcroydon', 'html_url': 'https://github.com/mcroydon', 'followers_url': 'https://api.github.com/users/mcroydon/followers', 'following_url': 'https://api.github.com/users/mcroydon/following{/other_user}', 'gists_url': 'https://api.github.com/users/mcroydon/gists{/gist_id}', 'starred_url': 'https://api.github.com/users/mcroydon/starred{/owner}{/repo}', 'subscriptions_url': 'https://api.github.com/users/mcroydon/subscriptions', 'organizations_url': 'https://api.github.com/users/mcroydon/orgs', 'repos_url': 'https://api.github.com/users/mcroydon/repos', 'events_url': 'https://api.github.com/users/mcroydon/events{/privacy}', 'received_events_url': 'https://api.github.com/users/mcroydon/received_events', 'type': 'User', 'site_admin': False}}, {'starred_at': '2010-08-24T01:37:33Z', 'user': {'login': 'Rickasaurus', 'id': 1429, 'node_id': 'MDQ6VXNlcjE0Mjk=', 'avatar_url': 'https://avatars2.githubusercontent.com/u/1429?v=4', 'gravatar_id': '', 'url': 'https://api.github.com/users/Rickasaurus', 'html_url': 'https://github.com/Rickasaurus', 'followers_url': 'https://api.github.com/users/Rickasaurus/followers', 'following_url': 'https://api.github.com/users/Rickasaurus/following{/other_user}', 'gists_url': 'https://api.github.com/users/Rickasaurus/gists{/gist_id}', 'starred_url': 'https://api.github.com/users/Rickasaurus/starred{/owner}{/repo}', 'subscriptions_url': 'https://api.github.com/users/Rickasaurus/subscriptions', 'organizations_url': 'https://api.github.com/users/Rickasaurus/orgs', 'repos_url': 'https://api.github.com/users/Rickasaurus/repos', 'events_url': 'https://api.github.com/users/Rickasaurus/events{/privacy}', 'received_events_url': 'https://api.github.com/users/Rickasaurus/received_events', 'type': 'User', 'site_admin': False}}, {'starred_at': '2010-08-24T01:37:33Z', 'user': {'login': 'babo', 'id': 1548, 'node_id': 'MDQ6VXNlcjE1NDg=', 'avatar_url': 'https://avatars3.githubusercontent.com/u/1548?v=4', 'gravatar_id': '', 'url': 'https://api.github.com/users/babo', 'html_url': 'https://github.com/babo', 'followers_url': 'https://api.github.com/users/babo/followers', 'following_url': 'https://api.github.com/users/babo/following{/other_user}', 'gists_url': 'https://api.github.com/users/babo/gists{/gist_id}', 'starred_url': 'https://api.github.com/users/babo/starred{/owner}{/repo}', 'subscriptions_url': 'https://api.github.com/users/babo/subscriptions', 'organizations_url': 'https://api.github.com/users/babo/orgs', 'repos_url': 'https://api.github.com/users/babo/repos', 'events_url': 'https://api.github.com/users/babo/events{/privacy}', 'received_events_url': 'https://api.github.com/users/babo/received_events', 'type': 'User', 'site_admin': False}}, {'starred_at': '2010-08-24T01:37:33Z', 'user': {'login': 'ask', 'id': 1558, 'node_id': 'MDQ6VXNlcjE1NTg=', 'avatar_url': 'https://avatars2.githubusercontent.com/u/1558?v=4', 'gravatar_id': '', 'url': 'https://api.github.com/users/ask', 'html_url': 'https://github.com/ask', 'followers_url': 'https://api.github.com/users/ask/followers', 'following_url': 'https://api.github.com/users/ask/following{/other_user}', 'gists_url': 'https://api.github.com/users/ask/gists{/gist_id}', 'starred_url': 'https://api.github.com/users/ask/starred{/owner}{/repo}', 'subscriptions_url': 'https://api.github.com/users/ask/subscriptions', 'organizations_url': 'https://api.github.com/users/ask/orgs', 'repos_url': 'https://api.github.com/users/ask/repos', 'events_url': 'https://api.github.com/users/ask/events{/privacy}', 'received_events_url': 'https://api.github.com/users/ask/received_events', 'type': 'User', 'site_admin': False}}, {'starred_at': '2010-08-24T01:37:33Z', 'user': {'login': 'bmabey', 'id': 1837, 'node_id': 'MDQ6VXNlcjE4Mzc=', 'avatar_url': 'https://avatars2.githubusercontent.com/u/1837?v=4', 'gravatar_id': '', 'url': 'https://api.github.com/users/bmabey', 'html_url': 'https://github.com/bmabey', 'followers_url': 'https://api.github.com/users/bmabey/followers', 'following_url': 'https://api.github.com/users/bmabey/following{/other_user}', 'gists_url': 'https://api.github.com/users/bmabey/gists{/gist_id}', 'starred_url': 'https://api.github.com/users/bmabey/starred{/owner}{/repo}', 'subscriptions_url': 'https://api.github.com/users/bmabey/subscriptions', 'organizations_url': 'https://api.github.com/users/bmabey/orgs', 'repos_url': 'https://api.github.com/users/bmabey/repos', 'events_url': 'https://api.github.com/users/bmabey/events{/privacy}', 'received_events_url': 'https://api.github.com/users/bmabey/received_events', 'type': 'User', 'site_admin': False}}, {'starred_at': '2010-08-24T01:37:33Z', 'user': {'login': 'abisani', 'id': 1954, 'node_id': 'MDQ6VXNlcjE5NTQ=', 'avatar_url': 'https://avatars3.githubusercontent.com/u/1954?v=4', 'gravatar_id': '', 'url': 'https://api.github.com/users/abisani', 'html_url': 'https://github.com/abisani', 'followers_url': 'https://api.github.com/users/abisani/followers', 'following_url': 'https://api.github.com/users/abisani/following{/other_user}', 'gists_url': 'https://api.github.com/users/abisani/gists{/gist_id}', 'starred_url': 'https://api.github.com/users/abisani/starred{/owner}{/repo}', 'subscriptions_url': 'https://api.github.com/users/abisani/subscriptions', 'organizations_url': 'https://api.github.com/users/abisani/orgs', 'repos_url': 'https://api.github.com/users/abisani/repos', 'events_url': 'https://api.github.com/users/abisani/events{/privacy}', 'received_events_url': 'https://api.github.com/users/abisani/received_events', 'type': 'User', 'site_admin': False}}, {'starred_at': '2010-08-24T01:37:33Z', 'user': {'login': 'jonpierce', 'id': 2025, 'node_id': 'MDQ6VXNlcjIwMjU=', 'avatar_url': 'https://avatars3.githubusercontent.com/u/2025?v=4', 'gravatar_id': '', 'url': 'https://api.github.com/users/jonpierce', 'html_url': 'https://github.com/jonpierce', 'followers_url': 'https://api.github.com/users/jonpierce/followers', 'following_url': 'https://api.github.com/users/jonpierce/following{/other_user}', 'gists_url': 'https://api.github.com/users/jonpierce/gists{/gist_id}', 'starred_url': 'https://api.github.com/users/jonpierce/starred{/owner}{/repo}', 'subscriptions_url': 'https://api.github.com/users/jonpierce/subscriptions', 'organizations_url': 'https://api.github.com/users/jonpierce/orgs', 'repos_url': 'https://api.github.com/users/jonpierce/repos', 'events_url': 'https://api.github.com/users/jonpierce/events{/privacy}', 'received_events_url': 'https://api.github.com/users/jonpierce/received_events', 'type': 'User', 'site_admin': False}}, {'starred_at': '2010-08-24T01:37:33Z', 'user': {'login': 'mikong', 'id': 4162, 'node_id': 'MDQ6VXNlcjQxNjI=', 'avatar_url': 'https://avatars2.githubusercontent.com/u/4162?v=4', 'gravatar_id': '', 'url': 'https://api.github.com/users/mikong', 'html_url': 'https://github.com/mikong', 'followers_url': 'https://api.github.com/users/mikong/followers', 'following_url': 'https://api.github.com/users/mikong/following{/other_user}', 'gists_url': 'https://api.github.com/users/mikong/gists{/gist_id}', 'starred_url': 'https://api.github.com/users/mikong/starred{/owner}{/repo}', 'subscriptions_url': 'https://api.github.com/users/mikong/subscriptions', 'organizations_url': 'https://api.github.com/users/mikong/orgs', 'repos_url': 'https://api.github.com/users/mikong/repos', 'events_url': 'https://api.github.com/users/mikong/events{/privacy}', 'received_events_url': 'https://api.github.com/users/mikong/received_events', 'type': 'User', 'site_admin': False}}, {'starred_at': '2010-08-24T01:37:33Z', 'user': {'login': 'cartazio', 'id': 4290, 'node_id': 'MDQ6VXNlcjQyOTA=', 'avatar_url': 'https://avatars2.githubusercontent.com/u/4290?v=4', 'gravatar_id': '', 'url': 'https://api.github.com/users/cartazio', 'html_url': 'https://github.com/cartazio', 'followers_url': 'https://api.github.com/users/cartazio/followers', 'following_url': 'https://api.github.com/users/cartazio/following{/other_user}', 'gists_url': 'https://api.github.com/users/cartazio/gists{/gist_id}', 'starred_url': 'https://api.github.com/users/cartazio/starred{/owner}{/repo}', 'subscriptions_url': 'https://api.github.com/users/cartazio/subscriptions', 'organizations_url': 'https://api.github.com/users/cartazio/orgs', 'repos_url': 'https://api.github.com/users/cartazio/repos', 'events_url': 'https://api.github.com/users/cartazio/events{/privacy}', 'received_events_url': 'https://api.github.com/users/cartazio/received_events', 'type': 'User', 'site_admin': False}}, {'starred_at': '2010-08-24T01:37:33Z', 'user': {'login': 'olifante', 'id': 5111, 'node_id': 'MDQ6VXNlcjUxMTE=', 'avatar_url': 'https://avatars0.githubusercontent.com/u/5111?v=4', 'gravatar_id': '', 'url': 'https://api.github.com/users/olifante', 'html_url': 'https://github.com/olifante', 'followers_url': 'https://api.github.com/users/olifante/followers', 'following_url': 'https://api.github.com/users/olifante/following{/other_user}', 'gists_url': 'https://api.github.com/users/olifante/gists{/gist_id}', 'starred_url': 'https://api.github.com/users/olifante/starred{/owner}{/repo}', 'subscriptions_url': 'https://api.github.com/users/olifante/subscriptions', 'organizations_url': 'https://api.github.com/users/olifante/orgs', 'repos_url': 'https://api.github.com/users/olifante/repos', 'events_url': 'https://api.github.com/users/olifante/events{/privacy}', 'received_events_url': 'https://api.github.com/users/olifante/received_events', 'type': 'User', 'site_admin': False}}, {'starred_at': '2010-08-24T01:37:33Z', 'user': {'login': 'brunojm', 'id': 5225, 'node_id': 'MDQ6VXNlcjUyMjU=', 'avatar_url': 'https://avatars3.githubusercontent.com/u/5225?v=4', 'gravatar_id': '', 'url': 'https://api.github.com/users/brunojm', 'html_url': 'https://github.com/brunojm', 'followers_url': 'https://api.github.com/users/brunojm/followers', 'following_url': 'https://api.github.com/users/brunojm/following{/other_user}', 'gists_url': 'https://api.github.com/users/brunojm/gists{/gist_id}', 'starred_url': 'https://api.github.com/users/brunojm/starred{/owner}{/repo}', 'subscriptions_url': 'https://api.github.com/users/brunojm/subscriptions', 'organizations_url': 'https://api.github.com/users/brunojm/orgs', 'repos_url': 'https://api.github.com/users/brunojm/repos', 'events_url': 'https://api.github.com/users/brunojm/events{/privacy}', 'received_events_url': 'https://api.github.com/users/brunojm/received_events', 'type': 'User', 'site_admin': False}}, {'starred_at': '2010-08-24T01:37:33Z', 'user': {'login': 'jackscott', 'id': 5823, 'node_id': 'MDQ6VXNlcjU4MjM=', 'avatar_url': 'https://avatars1.githubusercontent.com/u/5823?v=4', 'gravatar_id': '', 'url': 'https://api.github.com/users/jackscott', 'html_url': 'https://github.com/jackscott', 'followers_url': 'https://api.github.com/users/jackscott/followers', 'following_url': 'https://api.github.com/users/jackscott/following{/other_user}', 'gists_url': 'https://api.github.com/users/jackscott/gists{/gist_id}', 'starred_url': 'https://api.github.com/users/jackscott/starred{/owner}{/repo}', 'subscriptions_url': 'https://api.github.com/users/jackscott/subscriptions', 'organizations_url': 'https://api.github.com/users/jackscott/orgs', 'repos_url': 'https://api.github.com/users/jackscott/repos', 'events_url': 'https://api.github.com/users/jackscott/events{/privacy}', 'received_events_url': 'https://api.github.com/users/jackscott/received_events', 'type': 'User', 'site_admin': False}}, {'starred_at': '2010-08-24T01:37:33Z', 'user': {'login': 'mrflip', 'id': 6128, 'node_id': 'MDQ6VXNlcjYxMjg=', 'avatar_url': 'https://avatars0.githubusercontent.com/u/6128?v=4', 'gravatar_id': '', 'url': 'https://api.github.com/users/mrflip', 'html_url': 'https://github.com/mrflip', 'followers_url': 'https://api.github.com/users/mrflip/followers', 'following_url': 'https://api.github.com/users/mrflip/following{/other_user}', 'gists_url': 'https://api.github.com/users/mrflip/gists{/gist_id}', 'starred_url': 'https://api.github.com/users/mrflip/starred{/owner}{/repo}', 'subscriptions_url': 'https://api.github.com/users/mrflip/subscriptions', 'organizations_url': 'https://api.github.com/users/mrflip/orgs', 'repos_url': 'https://api.github.com/users/mrflip/repos', 'events_url': 'https://api.github.com/users/mrflip/events{/privacy}', 'received_events_url': 'https://api.github.com/users/mrflip/received_events', 'type': 'User', 'site_admin': False}}, {'starred_at': '2010-08-24T01:37:33Z', 'user': {'login': 'dsisnero', 'id': 6213, 'node_id': 'MDQ6VXNlcjYyMTM=', 'avatar_url': 'https://avatars2.githubusercontent.com/u/6213?v=4', 'gravatar_id': '', 'url': 'https://api.github.com/users/dsisnero', 'html_url': 'https://github.com/dsisnero', 'followers_url': 'https://api.github.com/users/dsisnero/followers', 'following_url': 'https://api.github.com/users/dsisnero/following{/other_user}', 'gists_url': 'https://api.github.com/users/dsisnero/gists{/gist_id}', 'starred_url': 'https://api.github.com/users/dsisnero/starred{/owner}{/repo}', 'subscriptions_url': 'https://api.github.com/users/dsisnero/subscriptions', 'organizations_url': 'https://api.github.com/users/dsisnero/orgs', 'repos_url': 'https://api.github.com/users/dsisnero/repos', 'events_url': 'https://api.github.com/users/dsisnero/events{/privacy}', 'received_events_url': 'https://api.github.com/users/dsisnero/received_events', 'type': 'User', 'site_admin': False}}, {'starred_at': '2010-08-24T01:37:33Z', 'user': {'login': 'nuin', 'id': 6273, 'node_id': 'MDQ6VXNlcjYyNzM=', 'avatar_url': 'https://avatars3.githubusercontent.com/u/6273?v=4', 'gravatar_id': '', 'url': 'https://api.github.com/users/nuin', 'html_url': 'https://github.com/nuin', 'followers_url': 'https://api.github.com/users/nuin/followers', 'following_url': 'https://api.github.com/users/nuin/following{/other_user}', 'gists_url': 'https://api.github.com/users/nuin/gists{/gist_id}', 'starred_url': 'https://api.github.com/users/nuin/starred{/owner}{/repo}', 'subscriptions_url': 'https://api.github.com/users/nuin/subscriptions', 'organizations_url': 'https://api.github.com/users/nuin/orgs', 'repos_url': 'https://api.github.com/users/nuin/repos', 'events_url': 'https://api.github.com/users/nuin/events{/privacy}', 'received_events_url': 'https://api.github.com/users/nuin/received_events', 'type': 'User', 'site_admin': False}}, {'starred_at': '2010-08-24T01:37:33Z', 'user': {'login': 'seanjtaylor', 'id': 7317, 'node_id': 'MDQ6VXNlcjczMTc=', 'avatar_url': 'https://avatars0.githubusercontent.com/u/7317?v=4', 'gravatar_id': '', 'url': 'https://api.github.com/users/seanjtaylor', 'html_url': 'https://github.com/seanjtaylor', 'followers_url': 'https://api.github.com/users/seanjtaylor/followers', 'following_url': 'https://api.github.com/users/seanjtaylor/following{/other_user}', 'gists_url': 'https://api.github.com/users/seanjtaylor/gists{/gist_id}', 'starred_url': 'https://api.github.com/users/seanjtaylor/starred{/owner}{/repo}', 'subscriptions_url': 'https://api.github.com/users/seanjtaylor/subscriptions', 'organizations_url': 'https://api.github.com/users/seanjtaylor/orgs', 'repos_url': 'https://api.github.com/users/seanjtaylor/repos', 'events_url': 'https://api.github.com/users/seanjtaylor/events{/privacy}', 'received_events_url': 'https://api.github.com/users/seanjtaylor/received_events', 'type': 'User', 'site_admin': False}}, {'starred_at': '2010-08-24T01:37:33Z', 'user': {'login': 'kirubakaran', 'id': 7503, 'node_id': 'MDQ6VXNlcjc1MDM=', 'avatar_url': 'https://avatars3.githubusercontent.com/u/7503?v=4', 'gravatar_id': '', 'url': 'https://api.github.com/users/kirubakaran', 'html_url': 'https://github.com/kirubakaran', 'followers_url': 'https://api.github.com/users/kirubakaran/followers', 'following_url': 'https://api.github.com/users/kirubakaran/following{/other_user}', 'gists_url': 'https://api.github.com/users/kirubakaran/gists{/gist_id}', 'starred_url': 'https://api.github.com/users/kirubakaran/starred{/owner}{/repo}', 'subscriptions_url': 'https://api.github.com/users/kirubakaran/subscriptions', 'organizations_url': 'https://api.github.com/users/kirubakaran/orgs', 'repos_url': 'https://api.github.com/users/kirubakaran/repos', 'events_url': 'https://api.github.com/users/kirubakaran/events{/privacy}', 'received_events_url': 'https://api.github.com/users/kirubakaran/received_events', 'type': 'User', 'site_admin': False}}, {'starred_at': '2010-08-24T01:37:33Z', 'user': {'login': 'jamshid', 'id': 8549, 'node_id': 'MDQ6VXNlcjg1NDk=', 'avatar_url': 'https://avatars0.githubusercontent.com/u/8549?v=4', 'gravatar_id': '', 'url': 'https://api.github.com/users/jamshid', 'html_url': 'https://github.com/jamshid', 'followers_url': 'https://api.github.com/users/jamshid/followers', 'following_url': 'https://api.github.com/users/jamshid/following{/other_user}', 'gists_url': 'https://api.github.com/users/jamshid/gists{/gist_id}', 'starred_url': 'https://api.github.com/users/jamshid/starred{/owner}{/repo}', 'subscriptions_url': 'https://api.github.com/users/jamshid/subscriptions', 'organizations_url': 'https://api.github.com/users/jamshid/orgs', 'repos_url': 'https://api.github.com/users/jamshid/repos', 'events_url': 'https://api.github.com/users/jamshid/events{/privacy}', 'received_events_url': 'https://api.github.com/users/jamshid/received_events', 'type': 'User', 'site_admin': False}}, {'starred_at': '2010-08-24T01:37:33Z', 'user': {'login': 'jeremi', 'id': 9537, 'node_id': 'MDQ6VXNlcjk1Mzc=', 'avatar_url': 'https://avatars3.githubusercontent.com/u/9537?v=4', 'gravatar_id': '', 'url': 'https://api.github.com/users/jeremi', 'html_url': 'https://github.com/jeremi', 'followers_url': 'https://api.github.com/users/jeremi/followers', 'following_url': 'https://api.github.com/users/jeremi/following{/other_user}', 'gists_url': 'https://api.github.com/users/jeremi/gists{/gist_id}', 'starred_url': 'https://api.github.com/users/jeremi/starred{/owner}{/repo}', 'subscriptions_url': 'https://api.github.com/users/jeremi/subscriptions', 'organizations_url': 'https://api.github.com/users/jeremi/orgs', 'repos_url': 'https://api.github.com/users/jeremi/repos', 'events_url': 'https://api.github.com/users/jeremi/events{/privacy}', 'received_events_url': 'https://api.github.com/users/jeremi/received_events', 'type': 'User', 'site_admin': False}}, {'starred_at': '2010-08-24T01:37:33Z', 'user': {'login': 'rauanmayemir', 'id': 9691, 'node_id': 'MDQ6VXNlcjk2OTE=', 'avatar_url': 'https://avatars0.githubusercontent.com/u/9691?v=4', 'gravatar_id': '', 'url': 'https://api.github.com/users/rauanmayemir', 'html_url': 'https://github.com/rauanmayemir', 'followers_url': 'https://api.github.com/users/rauanmayemir/followers', 'following_url': 'https://api.github.com/users/rauanmayemir/following{/other_user}', 'gists_url': 'https://api.github.com/users/rauanmayemir/gists{/gist_id}', 'starred_url': 'https://api.github.com/users/rauanmayemir/starred{/owner}{/repo}', 'subscriptions_url': 'https://api.github.com/users/rauanmayemir/subscriptions', 'organizations_url': 'https://api.github.com/users/rauanmayemir/orgs', 'repos_url': 'https://api.github.com/users/rauanmayemir/repos', 'events_url': 'https://api.github.com/users/rauanmayemir/events{/privacy}', 'received_events_url': 'https://api.github.com/users/rauanmayemir/received_events', 'type': 'User', 'site_admin': False}}, {'starred_at': '2010-08-24T01:37:33Z', 'user': {'login': 'rwl', 'id': 9773, 'node_id': 'MDQ6VXNlcjk3NzM=', 'avatar_url': 'https://avatars0.githubusercontent.com/u/9773?v=4', 'gravatar_id': '', 'url': 'https://api.github.com/users/rwl', 'html_url': 'https://github.com/rwl', 'followers_url': 'https://api.github.com/users/rwl/followers', 'following_url': 'https://api.github.com/users/rwl/following{/other_user}', 'gists_url': 'https://api.github.com/users/rwl/gists{/gist_id}', 'starred_url': 'https://api.github.com/users/rwl/starred{/owner}{/repo}', 'subscriptions_url': 'https://api.github.com/users/rwl/subscriptions', 'organizations_url': 'https://api.github.com/users/rwl/orgs', 'repos_url': 'https://api.github.com/users/rwl/repos', 'events_url': 'https://api.github.com/users/rwl/events{/privacy}', 'received_events_url': 'https://api.github.com/users/rwl/received_events', 'type': 'User', 'site_admin': False}}, {'starred_at': '2010-08-24T01:37:33Z', 'user': {'login': 'arnaudsj', 'id': 9855, 'node_id': 'MDQ6VXNlcjk4NTU=', 'avatar_url': 'https://avatars2.githubusercontent.com/u/9855?v=4', 'gravatar_id': '', 'url': 'https://api.github.com/users/arnaudsj', 'html_url': 'https://github.com/arnaudsj', 'followers_url': 'https://api.github.com/users/arnaudsj/followers', 'following_url': 'https://api.github.com/users/arnaudsj/following{/other_user}', 'gists_url': 'https://api.github.com/users/arnaudsj/gists{/gist_id}', 'starred_url': 'https://api.github.com/users/arnaudsj/starred{/owner}{/repo}', 'subscriptions_url': 'https://api.github.com/users/arnaudsj/subscriptions', 'organizations_url': 'https://api.github.com/users/arnaudsj/orgs', 'repos_url': 'https://api.github.com/users/arnaudsj/repos', 'events_url': 'https://api.github.com/users/arnaudsj/events{/privacy}', 'received_events_url': 'https://api.github.com/users/arnaudsj/received_events', 'type': 'User', 'site_admin': False}}, {'starred_at': '2010-08-24T01:37:33Z', 'user': {'login': 'lmacken', 'id': 9980, 'node_id': 'MDQ6VXNlcjk5ODA=', 'avatar_url': 'https://avatars0.githubusercontent.com/u/9980?v=4', 'gravatar_id': '', 'url': 'https://api.github.com/users/lmacken', 'html_url': 'https://github.com/lmacken', 'followers_url': 'https://api.github.com/users/lmacken/followers', 'following_url': 'https://api.github.com/users/lmacken/following{/other_user}', 'gists_url': 'https://api.github.com/users/lmacken/gists{/gist_id}', 'starred_url': 'https://api.github.com/users/lmacken/starred{/owner}{/repo}', 'subscriptions_url': 'https://api.github.com/users/lmacken/subscriptions', 'organizations_url': 'https://api.github.com/users/lmacken/orgs', 'repos_url': 'https://api.github.com/users/lmacken/repos', 'events_url': 'https://api.github.com/users/lmacken/events{/privacy}', 'received_events_url': 'https://api.github.com/users/lmacken/received_events', 'type': 'User', 'site_admin': False}}]\n"
     ]
    }
   ],
   "source": [
    "github_get = requests.get('https://api.github.com/repos/pandas-dev/pandas/stargazers',\n",
    "                          headers={'Accept': 'application/vnd.github.v3.star+json'})#, auth=('dustiny', token))\n",
    "print(github_get.json())"
   ]
  },
  {
   "cell_type": "markdown",
   "metadata": {},
   "source": [
    "# Use PyGithub to get all repos"
   ]
  },
  {
   "cell_type": "code",
   "execution_count": 2,
   "metadata": {},
   "outputs": [],
   "source": [
    "from github import Github"
   ]
  },
  {
   "cell_type": "code",
   "execution_count": 22,
   "metadata": {},
   "outputs": [],
   "source": [
    "# Open and read file\n",
    "with open ('../../../Password_github/password.txt') as file:\n",
    "    password = file.read()"
   ]
  },
  {
   "cell_type": "code",
   "execution_count": 23,
   "metadata": {},
   "outputs": [],
   "source": [
    "# using username and password\n",
    "g = Github(\"dustiny5\", password)"
   ]
  },
  {
   "cell_type": "code",
   "execution_count": 34,
   "metadata": {},
   "outputs": [
    {
     "data": {
      "text/plain": [
       "<github.PaginatedList.PaginatedList at 0x17d1df24ba8>"
      ]
     },
     "execution_count": 34,
     "metadata": {},
     "output_type": "execute_result"
    }
   ],
   "source": [
    "repos = g.get_repos(visibility='public')\n",
    "repos"
   ]
  },
  {
   "cell_type": "code",
   "execution_count": 69,
   "metadata": {},
   "outputs": [
    {
     "name": "stdout",
     "output_type": "stream",
     "text": [
      "newrage/dfgamingsd2\n",
      "Wall time: 40.3 s\n"
     ]
    }
   ],
   "source": [
    "%%time\n",
    "num =270000\n",
    "for repo in repos[num:num+1]:\n",
    "    print(repo.full_name)"
   ]
  },
  {
   "cell_type": "code",
   "execution_count": 73,
   "metadata": {},
   "outputs": [
    {
     "ename": "AttributeError",
     "evalue": "'Github' object has no attribute 'get_contributors'",
     "output_type": "error",
     "traceback": [
      "\u001b[1;31m---------------------------------------------------------------------------\u001b[0m",
      "\u001b[1;31mAttributeError\u001b[0m                            Traceback (most recent call last)",
      "\u001b[1;32m<ipython-input-73-f3f9d14cae4c>\u001b[0m in \u001b[0;36m<module>\u001b[1;34m\u001b[0m\n\u001b[1;32m----> 1\u001b[1;33m \u001b[0mg\u001b[0m\u001b[1;33m.\u001b[0m\u001b[0mget_contributors\u001b[0m\u001b[1;33m(\u001b[0m\u001b[1;34m'pandas-dev/pandas'\u001b[0m\u001b[1;33m)\u001b[0m\u001b[1;33m\u001b[0m\u001b[1;33m\u001b[0m\u001b[0m\n\u001b[0m",
      "\u001b[1;31mAttributeError\u001b[0m: 'Github' object has no attribute 'get_contributors'"
     ]
    }
   ],
   "source": [
    "g.get_contributors('pandas-dev/pandas')"
   ]
  },
  {
   "cell_type": "markdown",
   "metadata": {},
   "source": [
    "# repo names"
   ]
  },
  {
   "cell_type": "code",
   "execution_count": 79,
   "metadata": {},
   "outputs": [
    {
     "data": {
      "text/plain": [
       "'C:\\\\Users\\\\Dustin\\\\Desktop\\\\Lambda\\\\Labs\\\\Github Repo Success\\\\repo\\\\data-science\\\\GithubRestApi'"
      ]
     },
     "execution_count": 79,
     "metadata": {},
     "output_type": "execute_result"
    }
   ],
   "source": [
    "pwd"
   ]
  },
  {
   "cell_type": "code",
   "execution_count": 76,
   "metadata": {},
   "outputs": [],
   "source": [
    "import pandas as pd"
   ]
  },
  {
   "cell_type": "code",
   "execution_count": 82,
   "metadata": {},
   "outputs": [
    {
     "data": {
      "text/html": [
       "<div>\n",
       "<style scoped>\n",
       "    .dataframe tbody tr th:only-of-type {\n",
       "        vertical-align: middle;\n",
       "    }\n",
       "\n",
       "    .dataframe tbody tr th {\n",
       "        vertical-align: top;\n",
       "    }\n",
       "\n",
       "    .dataframe thead th {\n",
       "        text-align: right;\n",
       "    }\n",
       "</style>\n",
       "<table border=\"1\" class=\"dataframe\">\n",
       "  <thead>\n",
       "    <tr style=\"text-align: right;\">\n",
       "      <th></th>\n",
       "      <th>name</th>\n",
       "      <th>owner</th>\n",
       "    </tr>\n",
       "  </thead>\n",
       "  <tbody>\n",
       "    <tr>\n",
       "      <th>0</th>\n",
       "      <td>jmrp/mb</td>\n",
       "      <td>name</td>\n",
       "    </tr>\n",
       "    <tr>\n",
       "      <th>1</th>\n",
       "      <td>Rupan/sha</td>\n",
       "      <td>name</td>\n",
       "    </tr>\n",
       "    <tr>\n",
       "      <th>2</th>\n",
       "      <td>Vrist/Test</td>\n",
       "      <td>name</td>\n",
       "    </tr>\n",
       "    <tr>\n",
       "      <th>3</th>\n",
       "      <td>geemus/fog</td>\n",
       "      <td>name</td>\n",
       "    </tr>\n",
       "    <tr>\n",
       "      <th>4</th>\n",
       "      <td>hij1nx/weld</td>\n",
       "      <td>name</td>\n",
       "    </tr>\n",
       "  </tbody>\n",
       "</table>\n",
       "</div>"
      ],
      "text/plain": [
       "          name owner\n",
       "0      jmrp/mb  name\n",
       "1    Rupan/sha  name\n",
       "2   Vrist/Test  name\n",
       "3   geemus/fog  name\n",
       "4  hij1nx/weld  name"
      ]
     },
     "execution_count": 82,
     "metadata": {},
     "output_type": "execute_result"
    }
   ],
   "source": [
    "repo_name = pd.read_csv('../repo_names_df.csv')\n",
    "repo_name.head()"
   ]
  },
  {
   "cell_type": "code",
   "execution_count": 84,
   "metadata": {},
   "outputs": [],
   "source": [
    "repo_name = repo_name.drop(columns=['owner'])"
   ]
  },
  {
   "cell_type": "code",
   "execution_count": 85,
   "metadata": {},
   "outputs": [
    {
     "data": {
      "text/html": [
       "<div>\n",
       "<style scoped>\n",
       "    .dataframe tbody tr th:only-of-type {\n",
       "        vertical-align: middle;\n",
       "    }\n",
       "\n",
       "    .dataframe tbody tr th {\n",
       "        vertical-align: top;\n",
       "    }\n",
       "\n",
       "    .dataframe thead th {\n",
       "        text-align: right;\n",
       "    }\n",
       "</style>\n",
       "<table border=\"1\" class=\"dataframe\">\n",
       "  <thead>\n",
       "    <tr style=\"text-align: right;\">\n",
       "      <th></th>\n",
       "      <th>name</th>\n",
       "    </tr>\n",
       "  </thead>\n",
       "  <tbody>\n",
       "    <tr>\n",
       "      <th>0</th>\n",
       "      <td>jmrp/mb</td>\n",
       "    </tr>\n",
       "    <tr>\n",
       "      <th>1</th>\n",
       "      <td>Rupan/sha</td>\n",
       "    </tr>\n",
       "    <tr>\n",
       "      <th>2</th>\n",
       "      <td>Vrist/Test</td>\n",
       "    </tr>\n",
       "    <tr>\n",
       "      <th>3</th>\n",
       "      <td>geemus/fog</td>\n",
       "    </tr>\n",
       "    <tr>\n",
       "      <th>4</th>\n",
       "      <td>hij1nx/weld</td>\n",
       "    </tr>\n",
       "  </tbody>\n",
       "</table>\n",
       "</div>"
      ],
      "text/plain": [
       "          name\n",
       "0      jmrp/mb\n",
       "1    Rupan/sha\n",
       "2   Vrist/Test\n",
       "3   geemus/fog\n",
       "4  hij1nx/weld"
      ]
     },
     "execution_count": 85,
     "metadata": {},
     "output_type": "execute_result"
    }
   ],
   "source": [
    "repo_name.head()"
   ]
  },
  {
   "cell_type": "code",
   "execution_count": 95,
   "metadata": {},
   "outputs": [
    {
     "ename": "TypeError",
     "evalue": "argument of type 'float' is not iterable",
     "output_type": "error",
     "traceback": [
      "\u001b[1;31m---------------------------------------------------------------------------\u001b[0m",
      "\u001b[1;31mTypeError\u001b[0m                                 Traceback (most recent call last)",
      "\u001b[1;32m<ipython-input-95-a08adb076b03>\u001b[0m in \u001b[0;36m<module>\u001b[1;34m\u001b[0m\n\u001b[1;32m----> 1\u001b[1;33m \u001b[0mrepo_name\u001b[0m\u001b[1;33m[\u001b[0m\u001b[1;34m'name'\u001b[0m\u001b[1;33m]\u001b[0m\u001b[1;33m.\u001b[0m\u001b[0mapply\u001b[0m\u001b[1;33m(\u001b[0m\u001b[1;32mlambda\u001b[0m \u001b[0mx\u001b[0m\u001b[1;33m:\u001b[0m \u001b[0mx\u001b[0m\u001b[1;33m.\u001b[0m\u001b[0msplit\u001b[0m\u001b[1;33m(\u001b[0m\u001b[1;34m'/'\u001b[0m\u001b[1;33m)\u001b[0m \u001b[1;32mif\u001b[0m \u001b[1;34m'/'\u001b[0m \u001b[1;32min\u001b[0m \u001b[0mx\u001b[0m \u001b[1;32melse\u001b[0m \u001b[0mx\u001b[0m\u001b[1;33m)\u001b[0m\u001b[1;33m\u001b[0m\u001b[1;33m\u001b[0m\u001b[0m\n\u001b[0m",
      "\u001b[1;32m~\\Anaconda3\\lib\\site-packages\\pandas\\core\\series.py\u001b[0m in \u001b[0;36mapply\u001b[1;34m(self, func, convert_dtype, args, **kwds)\u001b[0m\n\u001b[0;32m   3192\u001b[0m             \u001b[1;32melse\u001b[0m\u001b[1;33m:\u001b[0m\u001b[1;33m\u001b[0m\u001b[1;33m\u001b[0m\u001b[0m\n\u001b[0;32m   3193\u001b[0m                 \u001b[0mvalues\u001b[0m \u001b[1;33m=\u001b[0m \u001b[0mself\u001b[0m\u001b[1;33m.\u001b[0m\u001b[0mastype\u001b[0m\u001b[1;33m(\u001b[0m\u001b[0mobject\u001b[0m\u001b[1;33m)\u001b[0m\u001b[1;33m.\u001b[0m\u001b[0mvalues\u001b[0m\u001b[1;33m\u001b[0m\u001b[1;33m\u001b[0m\u001b[0m\n\u001b[1;32m-> 3194\u001b[1;33m                 \u001b[0mmapped\u001b[0m \u001b[1;33m=\u001b[0m \u001b[0mlib\u001b[0m\u001b[1;33m.\u001b[0m\u001b[0mmap_infer\u001b[0m\u001b[1;33m(\u001b[0m\u001b[0mvalues\u001b[0m\u001b[1;33m,\u001b[0m \u001b[0mf\u001b[0m\u001b[1;33m,\u001b[0m \u001b[0mconvert\u001b[0m\u001b[1;33m=\u001b[0m\u001b[0mconvert_dtype\u001b[0m\u001b[1;33m)\u001b[0m\u001b[1;33m\u001b[0m\u001b[1;33m\u001b[0m\u001b[0m\n\u001b[0m\u001b[0;32m   3195\u001b[0m \u001b[1;33m\u001b[0m\u001b[0m\n\u001b[0;32m   3196\u001b[0m         \u001b[1;32mif\u001b[0m \u001b[0mlen\u001b[0m\u001b[1;33m(\u001b[0m\u001b[0mmapped\u001b[0m\u001b[1;33m)\u001b[0m \u001b[1;32mand\u001b[0m \u001b[0misinstance\u001b[0m\u001b[1;33m(\u001b[0m\u001b[0mmapped\u001b[0m\u001b[1;33m[\u001b[0m\u001b[1;36m0\u001b[0m\u001b[1;33m]\u001b[0m\u001b[1;33m,\u001b[0m \u001b[0mSeries\u001b[0m\u001b[1;33m)\u001b[0m\u001b[1;33m:\u001b[0m\u001b[1;33m\u001b[0m\u001b[1;33m\u001b[0m\u001b[0m\n",
      "\u001b[1;32mpandas/_libs/src\\inference.pyx\u001b[0m in \u001b[0;36mpandas._libs.lib.map_infer\u001b[1;34m()\u001b[0m\n",
      "\u001b[1;32m<ipython-input-95-a08adb076b03>\u001b[0m in \u001b[0;36m<lambda>\u001b[1;34m(x)\u001b[0m\n\u001b[1;32m----> 1\u001b[1;33m \u001b[0mrepo_name\u001b[0m\u001b[1;33m[\u001b[0m\u001b[1;34m'name'\u001b[0m\u001b[1;33m]\u001b[0m\u001b[1;33m.\u001b[0m\u001b[0mapply\u001b[0m\u001b[1;33m(\u001b[0m\u001b[1;32mlambda\u001b[0m \u001b[0mx\u001b[0m\u001b[1;33m:\u001b[0m \u001b[0mx\u001b[0m\u001b[1;33m.\u001b[0m\u001b[0msplit\u001b[0m\u001b[1;33m(\u001b[0m\u001b[1;34m'/'\u001b[0m\u001b[1;33m)\u001b[0m \u001b[1;32mif\u001b[0m \u001b[1;34m'/'\u001b[0m \u001b[1;32min\u001b[0m \u001b[0mx\u001b[0m \u001b[1;32melse\u001b[0m \u001b[0mx\u001b[0m\u001b[1;33m)\u001b[0m\u001b[1;33m\u001b[0m\u001b[1;33m\u001b[0m\u001b[0m\n\u001b[0m",
      "\u001b[1;31mTypeError\u001b[0m: argument of type 'float' is not iterable"
     ]
    }
   ],
   "source": [
    "repo_name['name'].apply(lambda x: x.split('/') if '/' in x else x)"
   ]
  },
  {
   "cell_type": "code",
   "execution_count": 93,
   "metadata": {},
   "outputs": [
    {
     "data": {
      "text/plain": [
       "True"
      ]
     },
     "execution_count": 93,
     "metadata": {},
     "output_type": "execute_result"
    }
   ],
   "source": [
    "'/' in repo_name['name'][0]"
   ]
  },
  {
   "cell_type": "code",
   "execution_count": 118,
   "metadata": {},
   "outputs": [],
   "source": [
    "repo_name = repo_name.dropna()"
   ]
  },
  {
   "cell_type": "code",
   "execution_count": 119,
   "metadata": {},
   "outputs": [
    {
     "data": {
      "text/plain": [
       "name    0\n",
       "dtype: int64"
      ]
     },
     "execution_count": 119,
     "metadata": {},
     "output_type": "execute_result"
    }
   ],
   "source": [
    "repo_name.isna().sum()"
   ]
  },
  {
   "cell_type": "code",
   "execution_count": 121,
   "metadata": {},
   "outputs": [
    {
     "name": "stderr",
     "output_type": "stream",
     "text": [
      "C:\\Users\\Dustin\\Anaconda3\\lib\\site-packages\\ipykernel_launcher.py:1: SettingWithCopyWarning: \n",
      "A value is trying to be set on a copy of a slice from a DataFrame.\n",
      "Try using .loc[row_indexer,col_indexer] = value instead\n",
      "\n",
      "See the caveats in the documentation: http://pandas.pydata.org/pandas-docs/stable/indexing.html#indexing-view-versus-copy\n",
      "  \"\"\"Entry point for launching an IPython kernel.\n"
     ]
    },
    {
     "ename": "IndexError",
     "evalue": "list index out of range",
     "output_type": "error",
     "traceback": [
      "\u001b[1;31m---------------------------------------------------------------------------\u001b[0m",
      "\u001b[1;31mIndexError\u001b[0m                                Traceback (most recent call last)",
      "\u001b[1;32m<ipython-input-121-d7659179c947>\u001b[0m in \u001b[0;36m<module>\u001b[1;34m\u001b[0m\n\u001b[0;32m      1\u001b[0m \u001b[0mrepo_name\u001b[0m\u001b[1;33m[\u001b[0m\u001b[1;34m'owner'\u001b[0m\u001b[1;33m]\u001b[0m \u001b[1;33m=\u001b[0m \u001b[0mrepo_name\u001b[0m\u001b[1;33m[\u001b[0m\u001b[1;34m'name'\u001b[0m\u001b[1;33m]\u001b[0m\u001b[1;33m.\u001b[0m\u001b[0mapply\u001b[0m\u001b[1;33m(\u001b[0m\u001b[1;32mlambda\u001b[0m \u001b[0mx\u001b[0m\u001b[1;33m:\u001b[0m \u001b[0mx\u001b[0m\u001b[1;33m.\u001b[0m\u001b[0msplit\u001b[0m\u001b[1;33m(\u001b[0m\u001b[1;34m'/'\u001b[0m\u001b[1;33m)\u001b[0m\u001b[1;33m[\u001b[0m\u001b[1;36m0\u001b[0m\u001b[1;33m]\u001b[0m\u001b[1;33m)\u001b[0m\u001b[1;33m\u001b[0m\u001b[1;33m\u001b[0m\u001b[0m\n\u001b[1;32m----> 2\u001b[1;33m \u001b[0mrepo_name\u001b[0m\u001b[1;33m[\u001b[0m\u001b[1;34m'repo_name'\u001b[0m\u001b[1;33m]\u001b[0m \u001b[1;33m=\u001b[0m \u001b[0mrepo_name\u001b[0m\u001b[1;33m[\u001b[0m\u001b[1;34m'name'\u001b[0m\u001b[1;33m]\u001b[0m\u001b[1;33m.\u001b[0m\u001b[0mapply\u001b[0m\u001b[1;33m(\u001b[0m\u001b[1;32mlambda\u001b[0m \u001b[0mx\u001b[0m\u001b[1;33m:\u001b[0m \u001b[0mx\u001b[0m\u001b[1;33m.\u001b[0m\u001b[0msplit\u001b[0m\u001b[1;33m(\u001b[0m\u001b[1;34m'/'\u001b[0m\u001b[1;33m)\u001b[0m\u001b[1;33m[\u001b[0m\u001b[1;36m1\u001b[0m\u001b[1;33m]\u001b[0m\u001b[1;33m)\u001b[0m\u001b[1;33m\u001b[0m\u001b[1;33m\u001b[0m\u001b[0m\n\u001b[0m",
      "\u001b[1;32m~\\Anaconda3\\lib\\site-packages\\pandas\\core\\series.py\u001b[0m in \u001b[0;36mapply\u001b[1;34m(self, func, convert_dtype, args, **kwds)\u001b[0m\n\u001b[0;32m   3192\u001b[0m             \u001b[1;32melse\u001b[0m\u001b[1;33m:\u001b[0m\u001b[1;33m\u001b[0m\u001b[1;33m\u001b[0m\u001b[0m\n\u001b[0;32m   3193\u001b[0m                 \u001b[0mvalues\u001b[0m \u001b[1;33m=\u001b[0m \u001b[0mself\u001b[0m\u001b[1;33m.\u001b[0m\u001b[0mastype\u001b[0m\u001b[1;33m(\u001b[0m\u001b[0mobject\u001b[0m\u001b[1;33m)\u001b[0m\u001b[1;33m.\u001b[0m\u001b[0mvalues\u001b[0m\u001b[1;33m\u001b[0m\u001b[1;33m\u001b[0m\u001b[0m\n\u001b[1;32m-> 3194\u001b[1;33m                 \u001b[0mmapped\u001b[0m \u001b[1;33m=\u001b[0m \u001b[0mlib\u001b[0m\u001b[1;33m.\u001b[0m\u001b[0mmap_infer\u001b[0m\u001b[1;33m(\u001b[0m\u001b[0mvalues\u001b[0m\u001b[1;33m,\u001b[0m \u001b[0mf\u001b[0m\u001b[1;33m,\u001b[0m \u001b[0mconvert\u001b[0m\u001b[1;33m=\u001b[0m\u001b[0mconvert_dtype\u001b[0m\u001b[1;33m)\u001b[0m\u001b[1;33m\u001b[0m\u001b[1;33m\u001b[0m\u001b[0m\n\u001b[0m\u001b[0;32m   3195\u001b[0m \u001b[1;33m\u001b[0m\u001b[0m\n\u001b[0;32m   3196\u001b[0m         \u001b[1;32mif\u001b[0m \u001b[0mlen\u001b[0m\u001b[1;33m(\u001b[0m\u001b[0mmapped\u001b[0m\u001b[1;33m)\u001b[0m \u001b[1;32mand\u001b[0m \u001b[0misinstance\u001b[0m\u001b[1;33m(\u001b[0m\u001b[0mmapped\u001b[0m\u001b[1;33m[\u001b[0m\u001b[1;36m0\u001b[0m\u001b[1;33m]\u001b[0m\u001b[1;33m,\u001b[0m \u001b[0mSeries\u001b[0m\u001b[1;33m)\u001b[0m\u001b[1;33m:\u001b[0m\u001b[1;33m\u001b[0m\u001b[1;33m\u001b[0m\u001b[0m\n",
      "\u001b[1;32mpandas/_libs/src\\inference.pyx\u001b[0m in \u001b[0;36mpandas._libs.lib.map_infer\u001b[1;34m()\u001b[0m\n",
      "\u001b[1;32m<ipython-input-121-d7659179c947>\u001b[0m in \u001b[0;36m<lambda>\u001b[1;34m(x)\u001b[0m\n\u001b[0;32m      1\u001b[0m \u001b[0mrepo_name\u001b[0m\u001b[1;33m[\u001b[0m\u001b[1;34m'owner'\u001b[0m\u001b[1;33m]\u001b[0m \u001b[1;33m=\u001b[0m \u001b[0mrepo_name\u001b[0m\u001b[1;33m[\u001b[0m\u001b[1;34m'name'\u001b[0m\u001b[1;33m]\u001b[0m\u001b[1;33m.\u001b[0m\u001b[0mapply\u001b[0m\u001b[1;33m(\u001b[0m\u001b[1;32mlambda\u001b[0m \u001b[0mx\u001b[0m\u001b[1;33m:\u001b[0m \u001b[0mx\u001b[0m\u001b[1;33m.\u001b[0m\u001b[0msplit\u001b[0m\u001b[1;33m(\u001b[0m\u001b[1;34m'/'\u001b[0m\u001b[1;33m)\u001b[0m\u001b[1;33m[\u001b[0m\u001b[1;36m0\u001b[0m\u001b[1;33m]\u001b[0m\u001b[1;33m)\u001b[0m\u001b[1;33m\u001b[0m\u001b[1;33m\u001b[0m\u001b[0m\n\u001b[1;32m----> 2\u001b[1;33m \u001b[0mrepo_name\u001b[0m\u001b[1;33m[\u001b[0m\u001b[1;34m'repo_name'\u001b[0m\u001b[1;33m]\u001b[0m \u001b[1;33m=\u001b[0m \u001b[0mrepo_name\u001b[0m\u001b[1;33m[\u001b[0m\u001b[1;34m'name'\u001b[0m\u001b[1;33m]\u001b[0m\u001b[1;33m.\u001b[0m\u001b[0mapply\u001b[0m\u001b[1;33m(\u001b[0m\u001b[1;32mlambda\u001b[0m \u001b[0mx\u001b[0m\u001b[1;33m:\u001b[0m \u001b[0mx\u001b[0m\u001b[1;33m.\u001b[0m\u001b[0msplit\u001b[0m\u001b[1;33m(\u001b[0m\u001b[1;34m'/'\u001b[0m\u001b[1;33m)\u001b[0m\u001b[1;33m[\u001b[0m\u001b[1;36m1\u001b[0m\u001b[1;33m]\u001b[0m\u001b[1;33m)\u001b[0m\u001b[1;33m\u001b[0m\u001b[1;33m\u001b[0m\u001b[0m\n\u001b[0m",
      "\u001b[1;31mIndexError\u001b[0m: list index out of range"
     ]
    }
   ],
   "source": [
    "repo_name['owner'] = repo_name['name'].apply(lambda x: x.split('/')[0])"
   ]
  },
  {
   "cell_type": "code",
   "execution_count": 122,
   "metadata": {},
   "outputs": [
    {
     "data": {
      "text/html": [
       "<div>\n",
       "<style scoped>\n",
       "    .dataframe tbody tr th:only-of-type {\n",
       "        vertical-align: middle;\n",
       "    }\n",
       "\n",
       "    .dataframe tbody tr th {\n",
       "        vertical-align: top;\n",
       "    }\n",
       "\n",
       "    .dataframe thead th {\n",
       "        text-align: right;\n",
       "    }\n",
       "</style>\n",
       "<table border=\"1\" class=\"dataframe\">\n",
       "  <thead>\n",
       "    <tr style=\"text-align: right;\">\n",
       "      <th></th>\n",
       "      <th>name</th>\n",
       "      <th>owner</th>\n",
       "    </tr>\n",
       "  </thead>\n",
       "  <tbody>\n",
       "    <tr>\n",
       "      <th>0</th>\n",
       "      <td>jmrp/mb</td>\n",
       "      <td>jmrp</td>\n",
       "    </tr>\n",
       "    <tr>\n",
       "      <th>1</th>\n",
       "      <td>Rupan/sha</td>\n",
       "      <td>Rupan</td>\n",
       "    </tr>\n",
       "    <tr>\n",
       "      <th>2</th>\n",
       "      <td>Vrist/Test</td>\n",
       "      <td>Vrist</td>\n",
       "    </tr>\n",
       "    <tr>\n",
       "      <th>3</th>\n",
       "      <td>geemus/fog</td>\n",
       "      <td>geemus</td>\n",
       "    </tr>\n",
       "    <tr>\n",
       "      <th>4</th>\n",
       "      <td>hij1nx/weld</td>\n",
       "      <td>hij1nx</td>\n",
       "    </tr>\n",
       "  </tbody>\n",
       "</table>\n",
       "</div>"
      ],
      "text/plain": [
       "          name   owner\n",
       "0      jmrp/mb    jmrp\n",
       "1    Rupan/sha   Rupan\n",
       "2   Vrist/Test   Vrist\n",
       "3   geemus/fog  geemus\n",
       "4  hij1nx/weld  hij1nx"
      ]
     },
     "execution_count": 122,
     "metadata": {},
     "output_type": "execute_result"
    }
   ],
   "source": [
    "repo_name.head()"
   ]
  },
  {
   "cell_type": "code",
   "execution_count": 124,
   "metadata": {},
   "outputs": [],
   "source": [
    "repo_name['name_list'] = repo_name['name'].apply(lambda x: x.split('/'))"
   ]
  },
  {
   "cell_type": "code",
   "execution_count": 125,
   "metadata": {},
   "outputs": [
    {
     "data": {
      "text/html": [
       "<div>\n",
       "<style scoped>\n",
       "    .dataframe tbody tr th:only-of-type {\n",
       "        vertical-align: middle;\n",
       "    }\n",
       "\n",
       "    .dataframe tbody tr th {\n",
       "        vertical-align: top;\n",
       "    }\n",
       "\n",
       "    .dataframe thead th {\n",
       "        text-align: right;\n",
       "    }\n",
       "</style>\n",
       "<table border=\"1\" class=\"dataframe\">\n",
       "  <thead>\n",
       "    <tr style=\"text-align: right;\">\n",
       "      <th></th>\n",
       "      <th>name</th>\n",
       "      <th>owner</th>\n",
       "      <th>name_list</th>\n",
       "    </tr>\n",
       "  </thead>\n",
       "  <tbody>\n",
       "    <tr>\n",
       "      <th>0</th>\n",
       "      <td>jmrp/mb</td>\n",
       "      <td>jmrp</td>\n",
       "      <td>[jmrp, mb]</td>\n",
       "    </tr>\n",
       "    <tr>\n",
       "      <th>1</th>\n",
       "      <td>Rupan/sha</td>\n",
       "      <td>Rupan</td>\n",
       "      <td>[Rupan, sha]</td>\n",
       "    </tr>\n",
       "    <tr>\n",
       "      <th>2</th>\n",
       "      <td>Vrist/Test</td>\n",
       "      <td>Vrist</td>\n",
       "      <td>[Vrist, Test]</td>\n",
       "    </tr>\n",
       "    <tr>\n",
       "      <th>3</th>\n",
       "      <td>geemus/fog</td>\n",
       "      <td>geemus</td>\n",
       "      <td>[geemus, fog]</td>\n",
       "    </tr>\n",
       "    <tr>\n",
       "      <th>4</th>\n",
       "      <td>hij1nx/weld</td>\n",
       "      <td>hij1nx</td>\n",
       "      <td>[hij1nx, weld]</td>\n",
       "    </tr>\n",
       "  </tbody>\n",
       "</table>\n",
       "</div>"
      ],
      "text/plain": [
       "          name   owner       name_list\n",
       "0      jmrp/mb    jmrp      [jmrp, mb]\n",
       "1    Rupan/sha   Rupan    [Rupan, sha]\n",
       "2   Vrist/Test   Vrist   [Vrist, Test]\n",
       "3   geemus/fog  geemus   [geemus, fog]\n",
       "4  hij1nx/weld  hij1nx  [hij1nx, weld]"
      ]
     },
     "execution_count": 125,
     "metadata": {},
     "output_type": "execute_result"
    }
   ],
   "source": [
    "repo_name.head()"
   ]
  },
  {
   "cell_type": "code",
   "execution_count": 128,
   "metadata": {},
   "outputs": [],
   "source": [
    "repo_name['repo_name'] = repo_name['name_list'].apply(lambda x: x[1] if len(x)==2 else None)"
   ]
  },
  {
   "cell_type": "code",
   "execution_count": 131,
   "metadata": {},
   "outputs": [
    {
     "data": {
      "text/plain": [
       "name             0\n",
       "owner            0\n",
       "name_list        0\n",
       "repo_name    17922\n",
       "dtype: int64"
      ]
     },
     "execution_count": 131,
     "metadata": {},
     "output_type": "execute_result"
    }
   ],
   "source": [
    "repo_name.isna().sum()"
   ]
  },
  {
   "cell_type": "code",
   "execution_count": null,
   "metadata": {},
   "outputs": [],
   "source": []
  }
 ],
 "metadata": {
  "kernelspec": {
   "display_name": "Python 3",
   "language": "python",
   "name": "python3"
  },
  "language_info": {
   "codemirror_mode": {
    "name": "ipython",
    "version": 3
   },
   "file_extension": ".py",
   "mimetype": "text/x-python",
   "name": "python",
   "nbconvert_exporter": "python",
   "pygments_lexer": "ipython3",
   "version": "3.7.1"
  }
 },
 "nbformat": 4,
 "nbformat_minor": 2
}
