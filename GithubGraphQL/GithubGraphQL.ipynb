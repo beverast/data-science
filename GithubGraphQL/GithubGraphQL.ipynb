{
 "cells": [
  {
   "cell_type": "code",
   "execution_count": 1,
   "metadata": {},
   "outputs": [],
   "source": [
    "import requests"
   ]
  },
  {
   "cell_type": "code",
   "execution_count": 2,
   "metadata": {},
   "outputs": [],
   "source": [
    "# Open and read file\n",
    "with open ('../../../Auth_Keys/graphql_api_auth.txt') as file:\n",
    "    token = file.read()"
   ]
  },
  {
   "cell_type": "code",
   "execution_count": 3,
   "metadata": {},
   "outputs": [],
   "source": [
    "# Specify the Authorization code\n",
    "headers = {\"Authorization\": 'Bearer ' + token}"
   ]
  },
  {
   "cell_type": "code",
   "execution_count": 4,
   "metadata": {},
   "outputs": [],
   "source": [
    "def run_query(query): # A simple function to use requests.post to make the API call. Note the json= section.\n",
    "    request = requests.post('https://api.github.com/graphql', json={'query': query}, headers=headers)\n",
    "    if request.status_code == 200:\n",
    "        return request.json()\n",
    "    else:\n",
    "        raise Exception(\"Query failed to run by returning code of {}. {}\".format(request.status_code, query))"
   ]
  },
  {
   "cell_type": "code",
   "execution_count": 5,
   "metadata": {},
   "outputs": [],
   "source": [
    "# https://blog.codeship.com/an-introduction-to-graphql-via-the-github-api/\n",
    "# https://developer.github.com/v4/explorer/ # To enter the graphql exploer\n",
    "# https://help.github.com/en/articles/searching-issues-and-pull-requests # For searches"
   ]
  },
  {
   "cell_type": "code",
   "execution_count": 29,
   "metadata": {},
   "outputs": [],
   "source": [
    "# Query all info\n",
    "query = '''\n",
    "{\n",
    "  repositoryOwner(login: \"pandas-dev\") {\n",
    "    id\n",
    "    login\n",
    "    repository(name: \"pandas\") {\n",
    "      id\n",
    "      name\n",
    "      createdAt\n",
    "      updatedAt\n",
    "      description\n",
    "      licenseInfo {\n",
    "        spdxId\n",
    "      }\n",
    "      forks(first:1) {\n",
    "        totalCount\n",
    "        edges {\n",
    "          node {\n",
    "            createdAt\n",
    "            updatedAt\n",
    "            name\n",
    "          }\n",
    "        }\n",
    "      }\n",
    "      watchers(first:1) {\n",
    "        totalCount\n",
    "        edges {\n",
    "          node {\n",
    "            createdAt\n",
    "            updatedAt\n",
    "            login\n",
    "            name\n",
    "            company\n",
    "          }\n",
    "        }\n",
    "      }\n",
    "    }\n",
    "  }\n",
    "}\n",
    "'''"
   ]
  },
  {
   "cell_type": "code",
   "execution_count": null,
   "metadata": {},
   "outputs": [],
   "source": [
    "# Query releases\n",
    "query = '''\n",
    "{\n",
    "  repositoryOwner(login: \"pandas-dev\") {\n",
    "    id\n",
    "    login\n",
    "    repository(name: \"pandas\") {\n",
    "      id\n",
    "      name\n",
    "      createdAt\n",
    "      updatedAt\n",
    "      description\n",
    "      licenseInfo {\n",
    "        spdxId\n",
    "      }\n",
    "      releases(first:10) {\n",
    "        totalCount\n",
    "        edges {\n",
    "          node {\n",
    "            name\n",
    "            description\n",
    "            createdAt\n",
    "            publishedAt\n",
    "          }\n",
    "        }\n",
    "      }\n",
    "    }\n",
    "  }\n",
    "}\n",
    "'''"
   ]
  },
  {
   "cell_type": "code",
   "execution_count": null,
   "metadata": {},
   "outputs": [],
   "source": [
    "# Query star gazers\n",
    "query = '''\n",
    "{\n",
    "  repositoryOwner(login: \"pandas-dev\") {\n",
    "    id\n",
    "    login\n",
    "    repository(name: \"pandas\") {\n",
    "      id\n",
    "      name\n",
    "      createdAt\n",
    "      updatedAt\n",
    "      description\n",
    "      licenseInfo {\n",
    "        spdxId\n",
    "      }\n",
    "      stargazers(first:1) {\n",
    "        totalCount\n",
    "        pageInfo {\n",
    "          endCursor\n",
    "          hasNextPage\n",
    "        }\n",
    "        edges {\n",
    "          starredAt\n",
    "          node {\n",
    "            createdAt\n",
    "            login\n",
    "            company\n",
    "          }\n",
    "        }\n",
    "      }\n",
    "    }\n",
    "  }\n",
    "}\n",
    "'''"
   ]
  },
  {
   "cell_type": "code",
   "execution_count": 2,
   "metadata": {},
   "outputs": [
    {
     "ename": "NameError",
     "evalue": "name 'run_query' is not defined",
     "output_type": "error",
     "traceback": [
      "\u001b[1;31m---------------------------------------------------------------------------\u001b[0m",
      "\u001b[1;31mNameError\u001b[0m                                 Traceback (most recent call last)",
      "\u001b[1;32m<ipython-input-2-03a2eb06f96e>\u001b[0m in \u001b[0;36m<module>\u001b[1;34m\u001b[0m\n\u001b[1;32m----> 1\u001b[1;33m \u001b[0mresult\u001b[0m \u001b[1;33m=\u001b[0m \u001b[0mrun_query\u001b[0m\u001b[1;33m(\u001b[0m\u001b[0mquery\u001b[0m\u001b[1;33m)\u001b[0m\u001b[1;33m\u001b[0m\u001b[1;33m\u001b[0m\u001b[0m\n\u001b[0m\u001b[0;32m      2\u001b[0m \u001b[0mresult\u001b[0m\u001b[1;33m\u001b[0m\u001b[1;33m\u001b[0m\u001b[0m\n",
      "\u001b[1;31mNameError\u001b[0m: name 'run_query' is not defined"
     ]
    }
   ],
   "source": [
    "result = run_query(query)\n",
    "result"
   ]
  },
  {
   "cell_type": "code",
   "execution_count": 17,
   "metadata": {},
   "outputs": [],
   "source": [
    "# Query Pull Requests\n",
    "# Change the number of pull request to retrieve the dates\n",
    "# https://stackoverflow.com/questions/51972020/github-graphql-query-count-pr-reviews-by-user-for-a-given-month\n",
    "# https://help.github.com/en/articles/searching-issues-and-pull-requests\n",
    "# https://help.github.com/en/articles/understanding-the-search-syntax#query-for-dates\n",
    "query = '''\n",
    "{\n",
    "  search(first:100, query:\"repo:pandas-dev/pandas created:2010-08-24..2010-08-25 type:issue\", type:ISSUE) {\n",
    "    nodes {\n",
    "      ... on Issues {\n",
    "        createdAt\n",
    "        updatedAt\n",
    "        title\n",
    "        mergedBy {\n",
    "          login\n",
    "        }\n",
    "        author {\n",
    "          login\n",
    "          ... on User {\n",
    "            company\n",
    "          }\n",
    "        }\n",
    "        authorAssociation\n",
    "        files {\n",
    "          totalCount\n",
    "        }\n",
    "        state\n",
    "        resourcePath\n",
    "        bodyText\n",
    "        comments(first:100) {\n",
    "          totalCount\n",
    "          edges {\n",
    "            node {\n",
    "              author {\n",
    "                login\n",
    "                ... on User {\n",
    "                  company\n",
    "                }\n",
    "              }\n",
    "              authorAssociation\n",
    "              bodyText\n",
    "              reactions(first:100) {\n",
    "                edges {\n",
    "                  node {\n",
    "                    content\n",
    "                  }\n",
    "                }\n",
    "              }\n",
    "            }\n",
    "          }\n",
    "        }\n",
    "        reviewThreads(first:100) {\n",
    "          edges {\n",
    "            node {\n",
    "              comments(first:100) {\n",
    "                edges {\n",
    "                  node {\n",
    "                    bodyText\n",
    "                  }\n",
    "                }\n",
    "              }\n",
    "            }\n",
    "          }\n",
    "        }\n",
    "      }\n",
    "    }\n",
    "  }\n",
    "}\n",
    "'''"
   ]
  },
  {
   "cell_type": "code",
   "execution_count": 26,
   "metadata": {},
   "outputs": [],
   "source": [
    "# Query Pull Request_2\n",
    "query = '''\n",
    "{\n",
    "  search(first:100, query:\"repo:pandas-dev/pandas created:2010-08-24..2010-08-25 type:pr\", type:ISSUE) {\n",
    "    nodes {\n",
    "      ... on PullRequest {\n",
    "        createdAt\n",
    "        updatedAt\n",
    "        title\n",
    "        mergedBy {\n",
    "          login\n",
    "        }\n",
    "        author {\n",
    "          login\n",
    "          ... on User {\n",
    "            company\n",
    "          }\n",
    "        }\n",
    "        authorAssociation\n",
    "        files {\n",
    "          totalCount\n",
    "        }\n",
    "        state\n",
    "        resourcePath\n",
    "        bodyText\n",
    "        comments(first:20) {\n",
    "          totalCount\n",
    "          edges {\n",
    "            node {\n",
    "              author {\n",
    "                login\n",
    "                ... on User {\n",
    "                  company\n",
    "                }\n",
    "              }\n",
    "              authorAssociation\n",
    "              bodyText\n",
    "            }\n",
    "          }\n",
    "        }\n",
    "      }\n",
    "    }\n",
    "  }\n",
    "}\n",
    "'''"
   ]
  },
  {
   "cell_type": "code",
   "execution_count": 27,
   "metadata": {},
   "outputs": [
    {
     "ename": "Exception",
     "evalue": "Query failed to run by returning code of 502. \n{\n  search(first: 100, query: \"repo:pandas-dev/pandas created:2018-08-24..2018-08-31 type:pr\", type: ISSUE) {\n    nodes {\n      ... on PullRequest {\n        id\n        createdAt\n        updatedAt\n        title\n        mergedBy {\n          login\n        }\n        author {\n          login\n          ... on User {\n            company\n          }\n        }\n        authorAssociation\n        files {\n          totalCount\n        }\n        state\n        resourcePath\n        bodyText\n        comments(first: 20) {\n          totalCount\n          edges {\n            node {\n              id\n              author {\n                login\n                ... on User {\n                  contributionsCollection {\n                    hasAnyContributions\n                  }\n                  company\n                }\n              }\n              authorAssociation\n            }\n          }\n        }\n      }\n    }\n  }\n}\n",
     "output_type": "error",
     "traceback": [
      "\u001b[1;31m---------------------------------------------------------------------------\u001b[0m",
      "\u001b[1;31mException\u001b[0m                                 Traceback (most recent call last)",
      "\u001b[1;32m<ipython-input-27-03a2eb06f96e>\u001b[0m in \u001b[0;36m<module>\u001b[1;34m\u001b[0m\n\u001b[1;32m----> 1\u001b[1;33m \u001b[0mresult\u001b[0m \u001b[1;33m=\u001b[0m \u001b[0mrun_query\u001b[0m\u001b[1;33m(\u001b[0m\u001b[0mquery\u001b[0m\u001b[1;33m)\u001b[0m\u001b[1;33m\u001b[0m\u001b[1;33m\u001b[0m\u001b[0m\n\u001b[0m\u001b[0;32m      2\u001b[0m \u001b[0mresult\u001b[0m\u001b[1;33m\u001b[0m\u001b[1;33m\u001b[0m\u001b[0m\n",
      "\u001b[1;32m<ipython-input-25-f4a47cfa80b5>\u001b[0m in \u001b[0;36mrun_query\u001b[1;34m(query)\u001b[0m\n\u001b[0;32m      4\u001b[0m         \u001b[1;32mreturn\u001b[0m \u001b[0mrequest\u001b[0m\u001b[1;33m.\u001b[0m\u001b[0mjson\u001b[0m\u001b[1;33m(\u001b[0m\u001b[1;33m)\u001b[0m\u001b[1;33m\u001b[0m\u001b[1;33m\u001b[0m\u001b[0m\n\u001b[0;32m      5\u001b[0m     \u001b[1;32melse\u001b[0m\u001b[1;33m:\u001b[0m\u001b[1;33m\u001b[0m\u001b[1;33m\u001b[0m\u001b[0m\n\u001b[1;32m----> 6\u001b[1;33m         \u001b[1;32mraise\u001b[0m \u001b[0mException\u001b[0m\u001b[1;33m(\u001b[0m\u001b[1;34m\"Query failed to run by returning code of {}. {}\"\u001b[0m\u001b[1;33m.\u001b[0m\u001b[0mformat\u001b[0m\u001b[1;33m(\u001b[0m\u001b[0mrequest\u001b[0m\u001b[1;33m.\u001b[0m\u001b[0mstatus_code\u001b[0m\u001b[1;33m,\u001b[0m \u001b[0mquery\u001b[0m\u001b[1;33m)\u001b[0m\u001b[1;33m)\u001b[0m\u001b[1;33m\u001b[0m\u001b[1;33m\u001b[0m\u001b[0m\n\u001b[0m",
      "\u001b[1;31mException\u001b[0m: Query failed to run by returning code of 502. \n{\n  search(first: 100, query: \"repo:pandas-dev/pandas created:2018-08-24..2018-08-31 type:pr\", type: ISSUE) {\n    nodes {\n      ... on PullRequest {\n        id\n        createdAt\n        updatedAt\n        title\n        mergedBy {\n          login\n        }\n        author {\n          login\n          ... on User {\n            company\n          }\n        }\n        authorAssociation\n        files {\n          totalCount\n        }\n        state\n        resourcePath\n        bodyText\n        comments(first: 20) {\n          totalCount\n          edges {\n            node {\n              id\n              author {\n                login\n                ... on User {\n                  contributionsCollection {\n                    hasAnyContributions\n                  }\n                  company\n                }\n              }\n              authorAssociation\n            }\n          }\n        }\n      }\n    }\n  }\n}\n"
     ]
    }
   ],
   "source": [
    "result = run_query(query)\n",
    "result"
   ]
  },
  {
   "cell_type": "markdown",
   "metadata": {},
   "source": [
    "# Commits"
   ]
  },
  {
   "cell_type": "code",
   "execution_count": null,
   "metadata": {},
   "outputs": [],
   "source": [
    "# Use end cursor and after parameter to search all commmits\n",
    "query ='''\n",
    "{\n",
    "  repository(owner: \"pandas-dev\", name: \"pandas\") {\n",
    "    ref(qualifiedName: \"master\") {\n",
    "      target {\n",
    "        ... on Commit {\n",
    "          history(first: 10) {\n",
    "            pageInfo {\n",
    "              hasNextPage\n",
    "              endCursor\n",
    "            }\n",
    "            edges {\n",
    "              node {\n",
    "                author {\n",
    "                  user {\n",
    "                    login\n",
    "                  }\n",
    "                }\n",
    "                oid\n",
    "                messageHeadline\n",
    "                committedDate\n",
    "                committer {\n",
    "                  user {\n",
    "                    login\n",
    "                    company\n",
    "                  }\n",
    "                }\n",
    "                status {\n",
    "                  id\n",
    "                  state\n",
    "                }\n",
    "                associatedPullRequests(first:5) {\n",
    "                  edges {\n",
    "                    node {\n",
    "                      id\n",
    "                      title\n",
    "                      author {\n",
    "                        login\n",
    "                      }\n",
    "                      authorAssociation\n",
    "                      createdAt\n",
    "                      updatedAt\n",
    "                      closedAt\n",
    "                      number\n",
    "                      state\n",
    "                    }\n",
    "                  }\n",
    "                }\n",
    "              }\n",
    "            }\n",
    "          }\n",
    "        }\n",
    "      }\n",
    "    }\n",
    "  }\n",
    "}\n",
    "'''"
   ]
  },
  {
   "cell_type": "markdown",
   "metadata": {},
   "source": [
    "# Randomized Search of Repos using DatabaseId"
   ]
  },
  {
   "cell_type": "code",
   "execution_count": null,
   "metadata": {},
   "outputs": [],
   "source": [
    "query = '''\n",
    "{\n",
    "  search(query: \"is:public created:2019-08-26..2019-08-26\", type: REPOSITORY, first:100) {\n",
    "    repositoryCount\n",
    "    edges {\n",
    "      node {\n",
    "        ... on Repository {\n",
    "          id\n",
    "          nameWithOwner\n",
    "          name\n",
    "          databaseId\n",
    "          createdAt\n",
    "        }\n",
    "      }\n",
    "    }\n",
    "  }\n",
    "}\n",
    "'''"
   ]
  },
  {
   "cell_type": "code",
   "execution_count": 24,
   "metadata": {},
   "outputs": [],
   "source": [
    "from gql import gql, Client"
   ]
  },
  {
   "cell_type": "code",
   "execution_count": null,
   "metadata": {},
   "outputs": [],
   "source": [
    "client = Client(schema=schema)\n",
    "query = gql('''\n",
    "{\n",
    "  hello\n",
    "}\n",
    "''')\n",
    "\n",
    "client.execute(query)"
   ]
  },
  {
   "cell_type": "code",
   "execution_count": 54,
   "metadata": {},
   "outputs": [],
   "source": [
    "# Query Issues\n",
    "# Change the number of issues to retrieve the dates\n",
    "query = '''\n",
    "{\n",
    "    repositoryOwner(login: \"pandas-dev\") {\n",
    "        repository(name: \"pandas\") {\n",
    "            issues(last:3) {\n",
    "                edges {\n",
    "                    node {\n",
    "                        id\n",
    "                        createdAt\n",
    "                        closedAt\n",
    "                        title\n",
    "                        bodyText\n",
    "                    }\n",
    "                }\n",
    "            } \n",
    "        }\n",
    "    }\n",
    "}\n",
    "'''"
   ]
  },
  {
   "cell_type": "code",
   "execution_count": null,
   "metadata": {},
   "outputs": [],
   "source": [
    "# Query release\n",
    "# Change the number of issues to retrieve the dates"
   ]
  },
  {
   "cell_type": "code",
   "execution_count": 55,
   "metadata": {},
   "outputs": [],
   "source": [
    "result = run_query(query)\n",
    "result"
   ]
  },
  {
   "cell_type": "code",
   "execution_count": null,
   "metadata": {},
   "outputs": [],
   "source": []
  },
  {
   "cell_type": "code",
   "execution_count": 57,
   "metadata": {},
   "outputs": [],
   "source": [
    "query = '''\n",
    "{\n",
    "  organization(login: \"pandas-dev\") {\n",
    "    name\n",
    "    description\n",
    "    url\n",
    "    gist\n",
    "  }\n",
    "}\n",
    "'''"
   ]
  },
  {
   "cell_type": "code",
   "execution_count": 28,
   "metadata": {},
   "outputs": [
    {
     "data": {
      "text/plain": [
       "{'data': {'viewer': {'login': 'dustiny5'},\n",
       "  'rateLimit': {'limit': 5000,\n",
       "   'cost': 1,\n",
       "   'remaining': 4999,\n",
       "   'resetAt': '2019-08-22T22:06:15Z'}}}"
      ]
     },
     "execution_count": 28,
     "metadata": {},
     "output_type": "execute_result"
    }
   ],
   "source": [
    "# Check limit\n",
    "query = '''\n",
    "{\n",
    "  viewer {\n",
    "    login\n",
    "  }\n",
    "  rateLimit {\n",
    "    limit\n",
    "    cost\n",
    "    remaining\n",
    "    resetAt\n",
    "  }\n",
    "}\n",
    "'''\n",
    "result = run_query(query)\n",
    "result"
   ]
  },
  {
   "cell_type": "code",
   "execution_count": null,
   "metadata": {},
   "outputs": [],
   "source": []
  }
 ],
 "metadata": {
  "kernelspec": {
   "display_name": "Python 3",
   "language": "python",
   "name": "python3"
  },
  "language_info": {
   "codemirror_mode": {
    "name": "ipython",
    "version": 3
   },
   "file_extension": ".py",
   "mimetype": "text/x-python",
   "name": "python",
   "nbconvert_exporter": "python",
   "pygments_lexer": "ipython3",
   "version": "3.7.3"
  }
 },
 "nbformat": 4,
 "nbformat_minor": 4
}
