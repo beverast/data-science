{
 "cells": [
  {
   "cell_type": "code",
   "execution_count": 2,
   "metadata": {},
   "outputs": [],
   "source": [
    "import pandas as pd\n",
    "import numpy as np\n",
    "import matplotlib.pyplot as plt\n",
    "import seaborn as sns\n",
    "from tslearn import metrics\n",
    "import os\n",
    "from sklearn.preprocessing import normalize"
   ]
  },
  {
   "cell_type": "markdown",
   "metadata": {},
   "source": [
    "### Save 10 repo_commits to a list"
   ]
  },
  {
   "cell_type": "code",
   "execution_count": 7,
   "metadata": {},
   "outputs": [
    {
     "data": {
      "text/plain": [
       "['adamsmith_commits_cleaned.pk1',\n",
       " 'embulk_commits_cleaned.pk1',\n",
       " 'google_commits_cleaned.pk1',\n",
       " 'guillaume_commits_cleaned.pk1',\n",
       " 'iven_commits_cleaned.pk1',\n",
       " 'microsoft_commits_cleaned.pk1',\n",
       " 'oleiade_commits_cleaned.pk1',\n",
       " 'pandas_commits_cleaned.pk1',\n",
       " 'yang_commits_cleaned.pk1',\n",
       " 'zhn_commits_cleaned.pk1']"
      ]
     },
     "execution_count": 7,
     "metadata": {},
     "output_type": "execute_result"
    }
   ],
   "source": [
    "cm_files = [file for file in os.listdir() if 'cleaned.pk1' in file]\n",
    "cm_files"
   ]
  },
  {
   "cell_type": "code",
   "execution_count": 20,
   "metadata": {},
   "outputs": [
    {
     "name": "stdout",
     "output_type": "stream",
     "text": [
      "adamsmith_commits_cleaned.pk1 (2, 16)\n",
      "embulk_commits_cleaned.pk1 (2646, 16)\n",
      "google_commits_cleaned.pk1 (2635, 16)\n",
      "guillaume_commits_cleaned.pk1 (3, 16)\n",
      "iven_commits_cleaned.pk1 (51, 16)\n",
      "microsoft_commits_cleaned.pk1 (42, 16)\n",
      "oleiade_commits_cleaned.pk1 (547, 16)\n",
      "pandas_commits_cleaned.pk1 (20036, 16)\n",
      "yang_commits_cleaned.pk1 (197, 16)\n",
      "zhn_commits_cleaned.pk1 (37, 16)\n"
     ]
    }
   ],
   "source": [
    "# Check shape\n",
    "for file in cm_files:\n",
    "    print(file, pd.read_pickle(file).shape)"
   ]
  },
  {
   "cell_type": "markdown",
   "metadata": {},
   "source": [
    "### Save to df"
   ]
  },
  {
   "cell_type": "code",
   "execution_count": 49,
   "metadata": {},
   "outputs": [],
   "source": [
    "adamsmith = pd.read_pickle(cm_files[0])\n",
    "embulk = pd.read_pickle(cm_files[1])\n",
    "google = pd.read_pickle(cm_files[2])\n",
    "guillaume = pd.read_pickle(cm_files[3])\n",
    "iven = pd.read_pickle(cm_files[4])\n",
    "microsoft = pd.read_pickle(cm_files[5])\n",
    "oleiade = pd.read_pickle(cm_files[6])\n",
    "pandas = pd.read_pickle(cm_files[7])\n",
    "yang = pd.read_pickle(cm_files[8])\n",
    "zhn = pd.read_pickle(cm_files[9])"
   ]
  },
  {
   "cell_type": "code",
   "execution_count": 50,
   "metadata": {},
   "outputs": [
    {
     "data": {
      "text/html": [
       "<div>\n",
       "<style scoped>\n",
       "    .dataframe tbody tr th:only-of-type {\n",
       "        vertical-align: middle;\n",
       "    }\n",
       "\n",
       "    .dataframe tbody tr th {\n",
       "        vertical-align: top;\n",
       "    }\n",
       "\n",
       "    .dataframe thead th {\n",
       "        text-align: right;\n",
       "    }\n",
       "</style>\n",
       "<table border=\"1\" class=\"dataframe\">\n",
       "  <thead>\n",
       "    <tr style=\"text-align: right;\">\n",
       "      <th></th>\n",
       "      <th>assocPR_author</th>\n",
       "      <th>assocPR_authorAssociation</th>\n",
       "      <th>assocPR_closedAt</th>\n",
       "      <th>assocPR_createdAt</th>\n",
       "      <th>assocPR_id</th>\n",
       "      <th>assocPR_number</th>\n",
       "      <th>assocPR_state</th>\n",
       "      <th>assocPR_title</th>\n",
       "      <th>assocPR_updatedAt</th>\n",
       "      <th>committer_company</th>\n",
       "      <th>committer_author</th>\n",
       "      <th>status_id</th>\n",
       "      <th>status_state</th>\n",
       "      <th>committedDate</th>\n",
       "      <th>messageHeadline</th>\n",
       "      <th>oid</th>\n",
       "    </tr>\n",
       "  </thead>\n",
       "  <tbody>\n",
       "    <tr>\n",
       "      <th>0</th>\n",
       "      <td>NaN</td>\n",
       "      <td>NaN</td>\n",
       "      <td>NaT</td>\n",
       "      <td>NaT</td>\n",
       "      <td>NaN</td>\n",
       "      <td>NaN</td>\n",
       "      <td>NaN</td>\n",
       "      <td>NaN</td>\n",
       "      <td>NaT</td>\n",
       "      <td>@kiteco</td>\n",
       "      <td>adamsmith</td>\n",
       "      <td>NaN</td>\n",
       "      <td>NaN</td>\n",
       "      <td>2013-01-19T02:25:04Z</td>\n",
       "      <td>Initial commit</td>\n",
       "      <td>6fa9d57ffb25b1b3bf9d714d26f0d4691881436b</td>\n",
       "    </tr>\n",
       "    <tr>\n",
       "      <th>1</th>\n",
       "      <td>NaN</td>\n",
       "      <td>NaN</td>\n",
       "      <td>NaT</td>\n",
       "      <td>NaT</td>\n",
       "      <td>NaN</td>\n",
       "      <td>NaN</td>\n",
       "      <td>NaN</td>\n",
       "      <td>NaN</td>\n",
       "      <td>NaT</td>\n",
       "      <td>@kiteco</td>\n",
       "      <td>adamsmith</td>\n",
       "      <td>NaN</td>\n",
       "      <td>NaN</td>\n",
       "      <td>2013-01-19T02:21:47Z</td>\n",
       "      <td>Initial commit</td>\n",
       "      <td>cb10cb8b2c7d194f75930f423714b5054420734f</td>\n",
       "    </tr>\n",
       "  </tbody>\n",
       "</table>\n",
       "</div>"
      ],
      "text/plain": [
       "   assocPR_author  assocPR_authorAssociation assocPR_closedAt  \\\n",
       "0             NaN                        NaN              NaT   \n",
       "1             NaN                        NaN              NaT   \n",
       "\n",
       "  assocPR_createdAt  assocPR_id  assocPR_number  assocPR_state  assocPR_title  \\\n",
       "0               NaT         NaN             NaN            NaN            NaN   \n",
       "1               NaT         NaN             NaN            NaN            NaN   \n",
       "\n",
       "  assocPR_updatedAt committer_company committer_author  status_id  \\\n",
       "0               NaT          @kiteco         adamsmith        NaN   \n",
       "1               NaT          @kiteco         adamsmith        NaN   \n",
       "\n",
       "   status_state         committedDate messageHeadline  \\\n",
       "0           NaN  2013-01-19T02:25:04Z  Initial commit   \n",
       "1           NaN  2013-01-19T02:21:47Z  Initial commit   \n",
       "\n",
       "                                        oid  \n",
       "0  6fa9d57ffb25b1b3bf9d714d26f0d4691881436b  \n",
       "1  cb10cb8b2c7d194f75930f423714b5054420734f  "
      ]
     },
     "execution_count": 50,
     "metadata": {},
     "output_type": "execute_result"
    }
   ],
   "source": [
    "adamsmith"
   ]
  },
  {
   "cell_type": "markdown",
   "metadata": {},
   "source": [
    "### Create Function to get counts per month"
   ]
  },
  {
   "cell_type": "code",
   "execution_count": 154,
   "metadata": {},
   "outputs": [],
   "source": [
    "def montly_count(df):\n",
    "    \n",
    "    # Change to pandas datetime object\n",
    "    df['committedDate'] =  df['committedDate'].apply(pd.Timestamp)\n",
    "    \n",
    "    # Group by committedDate's month and get the count\n",
    "    df_group = df.groupby(df['committedDate'].dt.to_period('M')) \\\n",
    "                                                 .count()['oid'] \\\n",
    "                                                 .reset_index() \\\n",
    "                                                 .rename(columns={'oid': 'countByMonth'})\n",
    "    \n",
    "    # Normalize count and create a insert back into df_group\n",
    "    df_group['countByMonthNorm'] = normalize([df_group['countByMonth']])[0]\n",
    "    \n",
    "    return df_group"
   ]
  },
  {
   "cell_type": "code",
   "execution_count": 155,
   "metadata": {},
   "outputs": [
    {
     "name": "stderr",
     "output_type": "stream",
     "text": [
      "C:\\Users\\Dustin\\Anaconda3\\lib\\site-packages\\pandas\\core\\arrays\\datetimes.py:1172: UserWarning: Converting to PeriodArray/Index representation will drop timezone information.\n",
      "  \"will drop timezone information.\", UserWarning)\n",
      "C:\\Users\\Dustin\\Anaconda3\\lib\\site-packages\\pandas\\core\\arrays\\datetimes.py:1172: UserWarning: Converting to PeriodArray/Index representation will drop timezone information.\n",
      "  \"will drop timezone information.\", UserWarning)\n",
      "C:\\Users\\Dustin\\Anaconda3\\lib\\site-packages\\pandas\\core\\arrays\\datetimes.py:1172: UserWarning: Converting to PeriodArray/Index representation will drop timezone information.\n",
      "  \"will drop timezone information.\", UserWarning)\n",
      "C:\\Users\\Dustin\\Anaconda3\\lib\\site-packages\\pandas\\core\\arrays\\datetimes.py:1172: UserWarning: Converting to PeriodArray/Index representation will drop timezone information.\n",
      "  \"will drop timezone information.\", UserWarning)\n",
      "C:\\Users\\Dustin\\Anaconda3\\lib\\site-packages\\pandas\\core\\arrays\\datetimes.py:1172: UserWarning: Converting to PeriodArray/Index representation will drop timezone information.\n",
      "  \"will drop timezone information.\", UserWarning)\n",
      "C:\\Users\\Dustin\\Anaconda3\\lib\\site-packages\\pandas\\core\\arrays\\datetimes.py:1172: UserWarning: Converting to PeriodArray/Index representation will drop timezone information.\n",
      "  \"will drop timezone information.\", UserWarning)\n",
      "C:\\Users\\Dustin\\Anaconda3\\lib\\site-packages\\pandas\\core\\arrays\\datetimes.py:1172: UserWarning: Converting to PeriodArray/Index representation will drop timezone information.\n",
      "  \"will drop timezone information.\", UserWarning)\n",
      "C:\\Users\\Dustin\\Anaconda3\\lib\\site-packages\\pandas\\core\\arrays\\datetimes.py:1172: UserWarning: Converting to PeriodArray/Index representation will drop timezone information.\n",
      "  \"will drop timezone information.\", UserWarning)\n",
      "C:\\Users\\Dustin\\Anaconda3\\lib\\site-packages\\pandas\\core\\arrays\\datetimes.py:1172: UserWarning: Converting to PeriodArray/Index representation will drop timezone information.\n",
      "  \"will drop timezone information.\", UserWarning)\n",
      "C:\\Users\\Dustin\\Anaconda3\\lib\\site-packages\\pandas\\core\\arrays\\datetimes.py:1172: UserWarning: Converting to PeriodArray/Index representation will drop timezone information.\n",
      "  \"will drop timezone information.\", UserWarning)\n"
     ]
    }
   ],
   "source": [
    "# Save to a new df specific for montly counts\n",
    "adamsmith_mth = montly_count(adamsmith)\n",
    "embulk_mth = montly_count(embulk)\n",
    "google_mth = montly_count(google)\n",
    "guillaume_mth = montly_count(guillaume)\n",
    "iven_mth = montly_count(iven)\n",
    "microsoft_mth = montly_count(microsoft)\n",
    "oleiade_mth = montly_count(oleiade)\n",
    "pandas_mth = montly_count(pandas)\n",
    "yang_mth = montly_count(yang)\n",
    "zhn_mth = montly_count(zhn)"
   ]
  },
  {
   "cell_type": "code",
   "execution_count": 167,
   "metadata": {},
   "outputs": [],
   "source": [
    "monthly_count_list = [adamsmith_mth, embulk_mth, google_mth, guillaume_mth, iven_mth, \n",
    "microsoft_mth, oleiade_mth, pandas_mth, yang_mth, zhn_mth]\n",
    "monthly_count_list_str = ['adamsmith_mth', 'embulk_mth', 'google_mth', 'guillaume_mth', 'iven_mth', \n",
    "'microsoft_mth', 'oleiade_mth', 'pandas_mth', 'yang_mth', 'zhn_mth']"
   ]
  },
  {
   "cell_type": "code",
   "execution_count": 157,
   "metadata": {
    "scrolled": true
   },
   "outputs": [
    {
     "data": {
      "text/plain": [
       "[0.004955754463417841,\n",
       " 0.0024778772317089206,\n",
       " 0.0012389386158544603,\n",
       " 0.0024778772317089206,\n",
       " 0.0037168158475633806,\n",
       " 0.0024778772317089206,\n",
       " 0.0012389386158544603,\n",
       " 0.004955754463417841,\n",
       " 0.004955754463417841,\n",
       " 0.009911508926835682,\n",
       " 0.016106202006107982,\n",
       " 0.029734526780507045,\n",
       " 0.006194693079272302,\n",
       " 0.03840709709148827,\n",
       " 0.007433631695126761,\n",
       " 0.008672570310981223,\n",
       " 0.013628324774399063,\n",
       " 0.0024778772317089206,\n",
       " 0.009911508926835682,\n",
       " 0.033451342628070424,\n",
       " 0.06566374664028639,\n",
       " 0.3927435412258639,\n",
       " 0.11769916850617372,\n",
       " 0.007433631695126761,\n",
       " 0.047079667402469494,\n",
       " 0.0024778772317089206,\n",
       " 0.0037168158475633806,\n",
       " 0.017345140621962445,\n",
       " 0.08672570310981222,\n",
       " 0.1907965468415869,\n",
       " 0.4546904720185869,\n",
       " 0.31345146981117844,\n",
       " 0.0024778772317089206,\n",
       " 0.0037168158475633806,\n",
       " 0.007433631695126761,\n",
       " 0.03592921985977935,\n",
       " 0.08796464172566668,\n",
       " 0.27876118856725357,\n",
       " 0.40389398876855404,\n",
       " 0.047079667402469494,\n",
       " 0.006194693079272302,\n",
       " 0.004955754463417841,\n",
       " 0.011150447542690142,\n",
       " 0.0012389386158544603,\n",
       " 0.0012389386158544603,\n",
       " 0.468318796792986]"
      ]
     },
     "execution_count": 157,
     "metadata": {},
     "output_type": "execute_result"
    }
   ],
   "source": [
    "google_mth.iloc[:,-1].tolist()"
   ]
  },
  {
   "cell_type": "markdown",
   "metadata": {},
   "source": [
    "# Dyanmic Time Warp"
   ]
  },
  {
   "cell_type": "code",
   "execution_count": 158,
   "metadata": {},
   "outputs": [],
   "source": [
    "from tslearn.metrics import dtw_path"
   ]
  },
  {
   "cell_type": "code",
   "execution_count": 200,
   "metadata": {},
   "outputs": [],
   "source": [
    "dtw = []\n",
    "path = []\n",
    "for el in range(len(monthly_count_list)):\n",
    "    dtw_pathing = dtw_path(monthly_count_list[1].iloc[:,-1].tolist(), monthly_count_list[el].iloc[:,-1].tolist())\n",
    "    dtw.append((monthly_count_list_str[1], monthly_count_list_str[el], dtw_pathing[1]))\n",
    "    path.append((monthly_count_list_str[1], monthly_count_list_str[el], dtw_pathing[0]))"
   ]
  },
  {
   "cell_type": "code",
   "execution_count": 201,
   "metadata": {},
   "outputs": [
    {
     "data": {
      "text/plain": [
       "[('embulk_mth', 'adamsmith_mth', 6.896987659126468),\n",
       " ('embulk_mth', 'embulk_mth', 0.0),\n",
       " ('embulk_mth', 'google_mth', 0.6681435482567197),\n",
       " ('embulk_mth', 'guillaume_mth', 6.896987659126468),\n",
       " ('embulk_mth', 'iven_mth', 0.4943276355243283),\n",
       " ('embulk_mth', 'microsoft_mth', 0.700625498685585),\n",
       " ('embulk_mth', 'oleiade_mth', 0.4953430037591227),\n",
       " ('embulk_mth', 'pandas_mth', 0.5466900918378239),\n",
       " ('embulk_mth', 'yang_mth', 1.0339864273408534),\n",
       " ('embulk_mth', 'zhn_mth', 1.1854746019786613)]"
      ]
     },
     "execution_count": 201,
     "metadata": {},
     "output_type": "execute_result"
    }
   ],
   "source": [
    "dtw"
   ]
  },
  {
   "cell_type": "code",
   "execution_count": 219,
   "metadata": {},
   "outputs": [],
   "source": [
    "def plot_graph(num_dtw):\n",
    "    print(dtw[num_dtw])\n",
    "    monthly_count_list[1].plot(x='committedDate', y='countByMonthNorm')\n",
    "    monthly_count_list[num_dtw].plot(x='committedDate', y='countByMonthNorm')"
   ]
  },
  {
   "cell_type": "code",
   "execution_count": 233,
   "metadata": {},
   "outputs": [
    {
     "name": "stdout",
     "output_type": "stream",
     "text": [
      "('embulk_mth', 'google_mth', 0.6681435482567197)\n"
     ]
    },
    {
     "data": {
      "image/png": "[encoded data removed]",
      "text/plain": [
       "<Figure size 432x288 with 1 Axes>"
      ]
     },
     "metadata": {
      "needs_background": "light"
     },
     "output_type": "display_data"
    },
    {
     "data": {
      "image/png": "[encoded data removed]",
      "text/plain": [
       "<Figure size 432x288 with 1 Axes>"
      ]
     },
     "metadata": {
      "needs_background": "light"
     },
     "output_type": "display_data"
    }
   ],
   "source": [
    "plot_graph(2)"
   ]
  },
  {
   "cell_type": "code",
   "execution_count": null,
   "metadata": {},
   "outputs": [],
   "source": []
  },
  {
   "cell_type": "code",
   "execution_count": 159,
   "metadata": {
    "scrolled": true
   },
   "outputs": [
    {
     "data": {
      "text/plain": [
       "([(0, 0),\n",
       "  (0, 1),\n",
       "  (0, 2),\n",
       "  (0, 3),\n",
       "  (0, 4),\n",
       "  (0, 5),\n",
       "  (0, 6),\n",
       "  (0, 7),\n",
       "  (0, 8),\n",
       "  (0, 9),\n",
       "  (0, 10),\n",
       "  (0, 11),\n",
       "  (0, 12),\n",
       "  (0, 13),\n",
       "  (0, 14),\n",
       "  (0, 15),\n",
       "  (0, 16),\n",
       "  (0, 17),\n",
       "  (0, 18),\n",
       "  (0, 19),\n",
       "  (1, 20),\n",
       "  (2, 21),\n",
       "  (3, 22),\n",
       "  (3, 23),\n",
       "  (3, 24),\n",
       "  (3, 25),\n",
       "  (3, 26),\n",
       "  (3, 27),\n",
       "  (3, 28),\n",
       "  (4, 29),\n",
       "  (5, 30),\n",
       "  (6, 31),\n",
       "  (7, 32),\n",
       "  (8, 33),\n",
       "  (9, 34),\n",
       "  (10, 35),\n",
       "  (10, 36),\n",
       "  (11, 37),\n",
       "  (11, 38),\n",
       "  (12, 39),\n",
       "  (13, 39),\n",
       "  (14, 39),\n",
       "  (15, 39),\n",
       "  (16, 39),\n",
       "  (17, 39),\n",
       "  (18, 39),\n",
       "  (19, 39),\n",
       "  (20, 39),\n",
       "  (21, 39),\n",
       "  (22, 39),\n",
       "  (23, 39),\n",
       "  (24, 39),\n",
       "  (25, 39),\n",
       "  (26, 39),\n",
       "  (27, 39),\n",
       "  (28, 39),\n",
       "  (29, 39),\n",
       "  (30, 39),\n",
       "  (31, 39),\n",
       "  (32, 39),\n",
       "  (33, 39),\n",
       "  (34, 39),\n",
       "  (35, 39),\n",
       "  (36, 39),\n",
       "  (37, 39),\n",
       "  (38, 39),\n",
       "  (39, 39),\n",
       "  (40, 39),\n",
       "  (41, 39),\n",
       "  (42, 39),\n",
       "  (43, 39),\n",
       "  (44, 39),\n",
       "  (45, 39),\n",
       "  (46, 39),\n",
       "  (47, 39),\n",
       "  (48, 39),\n",
       "  (49, 39),\n",
       "  (50, 39),\n",
       "  (51, 39),\n",
       "  (52, 39),\n",
       "  (53, 39),\n",
       "  (54, 40),\n",
       "  (54, 41),\n",
       "  (54, 42),\n",
       "  (54, 43),\n",
       "  (55, 44),\n",
       "  (56, 45)],\n",
       " 0.6681435482567197)"
      ]
     },
     "execution_count": 159,
     "metadata": {},
     "output_type": "execute_result"
    }
   ],
   "source": [
    "dtw_path(embulk_mth.iloc[:,-1].tolist(), google_mth.iloc[:,-1].tolist())"
   ]
  },
  {
   "cell_type": "code",
   "execution_count": 198,
   "metadata": {},
   "outputs": [
    {
     "data": {
      "text/plain": [
       "<matplotlib.axes._subplots.AxesSubplot at 0x1c51141c780>"
      ]
     },
     "execution_count": 198,
     "metadata": {},
     "output_type": "execute_result"
    },
    {
     "data": {
      "image/png": "[encoded data removed]",
      "text/plain": [
       "<Figure size 432x288 with 1 Axes>"
      ]
     },
     "metadata": {
      "needs_background": "light"
     },
     "output_type": "display_data"
    },
    {
     "data": {
      "image/png": "[encoded data removed]",
      "text/plain": [
       "<Figure size 432x288 with 1 Axes>"
      ]
     },
     "metadata": {
      "needs_background": "light"
     },
     "output_type": "display_data"
    }
   ],
   "source": [
    "embulk_mth.plot(x='committedDate', y='countByMonthNorm')\n",
    "google_mth.plot(x='committedDate', y='countByMonthNorm')"
   ]
  },
  {
   "cell_type": "code",
   "execution_count": null,
   "metadata": {},
   "outputs": [],
   "source": []
  },
  {
   "cell_type": "code",
   "execution_count": null,
   "metadata": {},
   "outputs": [],
   "source": []
  }
 ],
 "metadata": {
  "kernelspec": {
   "display_name": "Python 3",
   "language": "python",
   "name": "python3"
  },
  "language_info": {
   "codemirror_mode": {
    "name": "ipython",
    "version": 3
   },
   "file_extension": ".py",
   "mimetype": "text/x-python",
   "name": "python",
   "nbconvert_exporter": "python",
   "pygments_lexer": "ipython3",
   "version": "3.7.3"
  }
 },
 "nbformat": 4,
 "nbformat_minor": 4
}
