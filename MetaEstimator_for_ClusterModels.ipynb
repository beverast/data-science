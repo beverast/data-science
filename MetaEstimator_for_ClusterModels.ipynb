{
 "cells": [
  {
   "cell_type": "markdown",
   "metadata": {},
   "source": [
    "# Meta Estimator for Stacked Clustering Models\n",
    "\n",
    "Joseph Wagner"
   ]
  },
  {
   "cell_type": "markdown",
   "metadata": {},
   "source": [
    "### Imports & Data Ingestion"
   ]
  },
  {
   "cell_type": "code",
   "execution_count": 54,
   "metadata": {},
   "outputs": [],
   "source": [
    "from IPython.display import Image\n",
    "import numpy as np\n",
    "import pandas as pd\n",
    "from pprint import pprint\n",
    "import stackprinter\n",
    "\n",
    "pd.set_option('display.max_columns', None)\n",
    "stackprinter.set_excepthook(style='lightbg')"
   ]
  },
  {
   "cell_type": "code",
   "execution_count": 2,
   "metadata": {},
   "outputs": [],
   "source": [
    "repos_df = pd.read_pickle('./Data/repo_200.pk1')"
   ]
  },
  {
   "cell_type": "code",
   "execution_count": 3,
   "metadata": {},
   "outputs": [
    {
     "data": {
      "text/plain": [
       "(200, 24)"
      ]
     },
     "execution_count": 3,
     "metadata": {},
     "output_type": "execute_result"
    }
   ],
   "source": [
    "repos_df.shape"
   ]
  },
  {
   "cell_type": "code",
   "execution_count": 4,
   "metadata": {},
   "outputs": [
    {
     "data": {
      "text/html": [
       "<div>\n",
       "<style scoped>\n",
       "    .dataframe tbody tr th:only-of-type {\n",
       "        vertical-align: middle;\n",
       "    }\n",
       "\n",
       "    .dataframe tbody tr th {\n",
       "        vertical-align: top;\n",
       "    }\n",
       "\n",
       "    .dataframe thead th {\n",
       "        text-align: right;\n",
       "    }\n",
       "</style>\n",
       "<table border=\"1\" class=\"dataframe\">\n",
       "  <thead>\n",
       "    <tr style=\"text-align: right;\">\n",
       "      <th></th>\n",
       "      <th>createdAt</th>\n",
       "      <th>description</th>\n",
       "      <th>totalForks</th>\n",
       "      <th>hasIssuesEnabled</th>\n",
       "      <th>hasWikiEnabled</th>\n",
       "      <th>id</th>\n",
       "      <th>totalIssues</th>\n",
       "      <th>licenseInfo</th>\n",
       "      <th>name</th>\n",
       "      <th>nameWithOwner</th>\n",
       "      <th>readMe</th>\n",
       "      <th>owner</th>\n",
       "      <th>primaryLanguage</th>\n",
       "      <th>totalPullRequests</th>\n",
       "      <th>totalCommits</th>\n",
       "      <th>totalStargazers</th>\n",
       "      <th>updatedAt</th>\n",
       "      <th>commit_count</th>\n",
       "      <th>issue_count</th>\n",
       "      <th>pull_request_count</th>\n",
       "      <th>stars_count</th>\n",
       "      <th>pr_duration</th>\n",
       "      <th>pr_assoc</th>\n",
       "      <th>is_assoc</th>\n",
       "    </tr>\n",
       "  </thead>\n",
       "  <tbody>\n",
       "    <tr>\n",
       "      <th>0</th>\n",
       "      <td>2016-08-21 05:31:51+00:00</td>\n",
       "      <td>An android process bar library associated with...</td>\n",
       "      <td>37</td>\n",
       "      <td>True</td>\n",
       "      <td>True</td>\n",
       "      <td>MDEwOlJlcG9zaXRvcnk2NjE4Mjg1MA==</td>\n",
       "      <td>0</td>\n",
       "      <td>None</td>\n",
       "      <td>android_ProcessBar</td>\n",
       "      <td>hzw1199/android_ProcessBar</td>\n",
       "      <td># Process Bar\\n[![](https://jitpack.io/v/hzw11...</td>\n",
       "      <td>hzw1199</td>\n",
       "      <td>Java</td>\n",
       "      <td>0</td>\n",
       "      <td>10.0</td>\n",
       "      <td>199</td>\n",
       "      <td>2019-08-28 06:14:45+00:00</td>\n",
       "      <td>[[9, 1]]</td>\n",
       "      <td>None</td>\n",
       "      <td>None</td>\n",
       "      <td>[[143, 16, 3, 6, 2, 2, 1, 2, 3, 3, 1, 2, 1, 1,...</td>\n",
       "      <td>None</td>\n",
       "      <td>None</td>\n",
       "      <td>None</td>\n",
       "    </tr>\n",
       "    <tr>\n",
       "      <th>1</th>\n",
       "      <td>2015-10-20 18:22:34+00:00</td>\n",
       "      <td>A ScrollView component that handles keyboard a...</td>\n",
       "      <td>377</td>\n",
       "      <td>True</td>\n",
       "      <td>True</td>\n",
       "      <td>MDEwOlJlcG9zaXRvcnk0NDYyNjI1MA==</td>\n",
       "      <td>272</td>\n",
       "      <td>MIT</td>\n",
       "      <td>react-native-keyboard-aware-scroll-view</td>\n",
       "      <td>APSL/react-native-keyboard-aware-scroll-view</td>\n",
       "      <td># react-native-keyboard-aware-scroll-view\\n\\n&lt;...</td>\n",
       "      <td>APSL</td>\n",
       "      <td>JavaScript</td>\n",
       "      <td>110</td>\n",
       "      <td>166.0</td>\n",
       "      <td>3118</td>\n",
       "      <td>2019-09-09 21:17:49+00:00</td>\n",
       "      <td>[[2, 6, 2, 1, 4, 7, 9, 1, 5, 2, 6, 4, 3, 7, 4,...</td>\n",
       "      <td>[[2, 3, 2, 10, 14, 6, 6, 5, 3, 5, 5, 5, 7, 3, ...</td>\n",
       "      <td>[[1, 1, 3, 6, 2, 5, 3, 4, 2, 4, 4, 2, 2, 5, 5,...</td>\n",
       "      <td>[[1, 17, 2, 7, 5, 6, 16, 13, 27, 30, 39, 38, 4...</td>\n",
       "      <td>[[11 days 02:17:31, 521 days 17:08:22, 2 days ...</td>\n",
       "      <td>CONTRIBUTOR    MEMBER      NONE  OW...</td>\n",
       "      <td>CONTRIBUTOR    MEMBER      NONE  OW...</td>\n",
       "    </tr>\n",
       "    <tr>\n",
       "      <th>2</th>\n",
       "      <td>2015-11-24 12:43:44+00:00</td>\n",
       "      <td>Sample app to demonstrate multidex</td>\n",
       "      <td>51</td>\n",
       "      <td>True</td>\n",
       "      <td>True</td>\n",
       "      <td>MDEwOlJlcG9zaXRvcnk0Njc5MTAyMg==</td>\n",
       "      <td>1</td>\n",
       "      <td>None</td>\n",
       "      <td>multidex-sample</td>\n",
       "      <td>mmadev/multidex-sample</td>\n",
       "      <td># multidex-sample\\nSample app to demonstrate m...</td>\n",
       "      <td>mmadev</td>\n",
       "      <td>Java</td>\n",
       "      <td>0</td>\n",
       "      <td>2.0</td>\n",
       "      <td>118</td>\n",
       "      <td>2019-03-22 01:44:33+00:00</td>\n",
       "      <td>[[2]]</td>\n",
       "      <td>[[1]]</td>\n",
       "      <td>None</td>\n",
       "      <td>[[27, 20, 8, 1, 5, 3, 4, 5, 2, 4, 4, 1, 1, 3, ...</td>\n",
       "      <td>None</td>\n",
       "      <td>None</td>\n",
       "      <td>CONTRIBUTOR  MEMBER  NONE  OWNER  C...</td>\n",
       "    </tr>\n",
       "    <tr>\n",
       "      <th>3</th>\n",
       "      <td>2015-10-05 09:34:22+00:00</td>\n",
       "      <td>multiNetX is a python package for the manipula...</td>\n",
       "      <td>31</td>\n",
       "      <td>True</td>\n",
       "      <td>True</td>\n",
       "      <td>MDEwOlJlcG9zaXRvcnk0MzY3NTc1OQ==</td>\n",
       "      <td>6</td>\n",
       "      <td>None</td>\n",
       "      <td>multinetx</td>\n",
       "      <td>nkoub/multinetx</td>\n",
       "      <td>![png](logo.png) multiNetX v2.0 \\n=========\\n\\...</td>\n",
       "      <td>nkoub</td>\n",
       "      <td>Jupyter Notebook</td>\n",
       "      <td>3</td>\n",
       "      <td>70.0</td>\n",
       "      <td>104</td>\n",
       "      <td>2019-08-22 15:04:41+00:00</td>\n",
       "      <td>[[41, 12, 3, 3, 2, 1, 3, 5]]</td>\n",
       "      <td>[[1, 1, 1, 1, 1, 1]]</td>\n",
       "      <td>[[1, 2]]</td>\n",
       "      <td>[[1, 40, 4, 1, 1, 2, 1, 2, 1, 1, 1, 1, 1, 2, 1...</td>\n",
       "      <td>[[4 days 04:09:04, 0 days 03:50:42]]</td>\n",
       "      <td>CONTRIBUTOR  MEMBER  NONE  OWNER  C...</td>\n",
       "      <td>CONTRIBUTOR  MEMBER  NONE  OWNER  C...</td>\n",
       "    </tr>\n",
       "    <tr>\n",
       "      <th>4</th>\n",
       "      <td>2013-07-18 14:39:58+00:00</td>\n",
       "      <td>Painlessly create beautiful matplotlib plots.</td>\n",
       "      <td>140</td>\n",
       "      <td>True</td>\n",
       "      <td>True</td>\n",
       "      <td>MDEwOlJlcG9zaXRvcnkxMTUwNTIxOA==</td>\n",
       "      <td>64</td>\n",
       "      <td>MIT</td>\n",
       "      <td>prettyplotlib</td>\n",
       "      <td>olgabot/prettyplotlib</td>\n",
       "      <td># Announcement\\n\\nThank you to everyone who ha...</td>\n",
       "      <td>olgabot</td>\n",
       "      <td>Python</td>\n",
       "      <td>37</td>\n",
       "      <td>252.0</td>\n",
       "      <td>1482</td>\n",
       "      <td>2019-09-09 13:16:14+00:00</td>\n",
       "      <td>[[3, 70, 8, 18, 3, 27, 35, 12, 21, 12, 15, 17,...</td>\n",
       "      <td>[[1, 5, 1, 3, 10, 4, 5, 4, 2, 9, 4, 4, 1, 1, 1...</td>\n",
       "      <td>[[1, 4, 3, 8, 2, 1, 3, 5, 4, 3, 1, 1, 1]]</td>\n",
       "      <td>None</td>\n",
       "      <td>[[1 days 12:00:22, 54 days 08:35:33.750000, 1 ...</td>\n",
       "      <td>CONTRIBUTOR  MEMBER   NONE     OWNE...</td>\n",
       "      <td>CONTRIBUTOR  MEMBER      NONE     O...</td>\n",
       "    </tr>\n",
       "  </tbody>\n",
       "</table>\n",
       "</div>"
      ],
      "text/plain": [
       "                  createdAt  \\\n",
       "0 2016-08-21 05:31:51+00:00   \n",
       "1 2015-10-20 18:22:34+00:00   \n",
       "2 2015-11-24 12:43:44+00:00   \n",
       "3 2015-10-05 09:34:22+00:00   \n",
       "4 2013-07-18 14:39:58+00:00   \n",
       "\n",
       "                                         description  totalForks  \\\n",
       "0  An android process bar library associated with...          37   \n",
       "1  A ScrollView component that handles keyboard a...         377   \n",
       "2                 Sample app to demonstrate multidex          51   \n",
       "3  multiNetX is a python package for the manipula...          31   \n",
       "4      Painlessly create beautiful matplotlib plots.         140   \n",
       "\n",
       "   hasIssuesEnabled  hasWikiEnabled                                id  \\\n",
       "0              True            True  MDEwOlJlcG9zaXRvcnk2NjE4Mjg1MA==   \n",
       "1              True            True  MDEwOlJlcG9zaXRvcnk0NDYyNjI1MA==   \n",
       "2              True            True  MDEwOlJlcG9zaXRvcnk0Njc5MTAyMg==   \n",
       "3              True            True  MDEwOlJlcG9zaXRvcnk0MzY3NTc1OQ==   \n",
       "4              True            True  MDEwOlJlcG9zaXRvcnkxMTUwNTIxOA==   \n",
       "\n",
       "   totalIssues licenseInfo                                     name  \\\n",
       "0            0        None                       android_ProcessBar   \n",
       "1          272         MIT  react-native-keyboard-aware-scroll-view   \n",
       "2            1        None                          multidex-sample   \n",
       "3            6        None                                multinetx   \n",
       "4           64         MIT                            prettyplotlib   \n",
       "\n",
       "                                  nameWithOwner  \\\n",
       "0                    hzw1199/android_ProcessBar   \n",
       "1  APSL/react-native-keyboard-aware-scroll-view   \n",
       "2                        mmadev/multidex-sample   \n",
       "3                               nkoub/multinetx   \n",
       "4                         olgabot/prettyplotlib   \n",
       "\n",
       "                                              readMe    owner  \\\n",
       "0  # Process Bar\\n[![](https://jitpack.io/v/hzw11...  hzw1199   \n",
       "1  # react-native-keyboard-aware-scroll-view\\n\\n<...     APSL   \n",
       "2  # multidex-sample\\nSample app to demonstrate m...   mmadev   \n",
       "3  ![png](logo.png) multiNetX v2.0 \\n=========\\n\\...    nkoub   \n",
       "4  # Announcement\\n\\nThank you to everyone who ha...  olgabot   \n",
       "\n",
       "    primaryLanguage  totalPullRequests  totalCommits  totalStargazers  \\\n",
       "0              Java                  0          10.0              199   \n",
       "1        JavaScript                110         166.0             3118   \n",
       "2              Java                  0           2.0              118   \n",
       "3  Jupyter Notebook                  3          70.0              104   \n",
       "4            Python                 37         252.0             1482   \n",
       "\n",
       "                  updatedAt  \\\n",
       "0 2019-08-28 06:14:45+00:00   \n",
       "1 2019-09-09 21:17:49+00:00   \n",
       "2 2019-03-22 01:44:33+00:00   \n",
       "3 2019-08-22 15:04:41+00:00   \n",
       "4 2019-09-09 13:16:14+00:00   \n",
       "\n",
       "                                        commit_count  \\\n",
       "0                                           [[9, 1]]   \n",
       "1  [[2, 6, 2, 1, 4, 7, 9, 1, 5, 2, 6, 4, 3, 7, 4,...   \n",
       "2                                              [[2]]   \n",
       "3                       [[41, 12, 3, 3, 2, 1, 3, 5]]   \n",
       "4  [[3, 70, 8, 18, 3, 27, 35, 12, 21, 12, 15, 17,...   \n",
       "\n",
       "                                         issue_count  \\\n",
       "0                                               None   \n",
       "1  [[2, 3, 2, 10, 14, 6, 6, 5, 3, 5, 5, 5, 7, 3, ...   \n",
       "2                                              [[1]]   \n",
       "3                               [[1, 1, 1, 1, 1, 1]]   \n",
       "4  [[1, 5, 1, 3, 10, 4, 5, 4, 2, 9, 4, 4, 1, 1, 1...   \n",
       "\n",
       "                                  pull_request_count  \\\n",
       "0                                               None   \n",
       "1  [[1, 1, 3, 6, 2, 5, 3, 4, 2, 4, 4, 2, 2, 5, 5,...   \n",
       "2                                               None   \n",
       "3                                           [[1, 2]]   \n",
       "4          [[1, 4, 3, 8, 2, 1, 3, 5, 4, 3, 1, 1, 1]]   \n",
       "\n",
       "                                         stars_count  \\\n",
       "0  [[143, 16, 3, 6, 2, 2, 1, 2, 3, 3, 1, 2, 1, 1,...   \n",
       "1  [[1, 17, 2, 7, 5, 6, 16, 13, 27, 30, 39, 38, 4...   \n",
       "2  [[27, 20, 8, 1, 5, 3, 4, 5, 2, 4, 4, 1, 1, 3, ...   \n",
       "3  [[1, 40, 4, 1, 1, 2, 1, 2, 1, 1, 1, 1, 1, 2, 1...   \n",
       "4                                               None   \n",
       "\n",
       "                                         pr_duration  \\\n",
       "0                                               None   \n",
       "1  [[11 days 02:17:31, 521 days 17:08:22, 2 days ...   \n",
       "2                                               None   \n",
       "3               [[4 days 04:09:04, 0 days 03:50:42]]   \n",
       "4  [[1 days 12:00:22, 54 days 08:35:33.750000, 1 ...   \n",
       "\n",
       "                                            pr_assoc  \\\n",
       "0                                               None   \n",
       "1             CONTRIBUTOR    MEMBER      NONE  OW...   \n",
       "2                                               None   \n",
       "3             CONTRIBUTOR  MEMBER  NONE  OWNER  C...   \n",
       "4             CONTRIBUTOR  MEMBER   NONE     OWNE...   \n",
       "\n",
       "                                            is_assoc  \n",
       "0                                               None  \n",
       "1             CONTRIBUTOR    MEMBER      NONE  OW...  \n",
       "2             CONTRIBUTOR  MEMBER  NONE  OWNER  C...  \n",
       "3             CONTRIBUTOR  MEMBER  NONE  OWNER  C...  \n",
       "4             CONTRIBUTOR  MEMBER      NONE     O...  "
      ]
     },
     "execution_count": 4,
     "metadata": {},
     "output_type": "execute_result"
    }
   ],
   "source": [
    "repos_df.head()"
   ]
  },
  {
   "cell_type": "markdown",
   "metadata": {},
   "source": [
    "### Type Conversions & Encodings for PCA\n",
    "\n",
    "**Design note**: Instead of mutating columns `inplace`, I'll build up a new `DataFrame` consisting of numeric data from `repos_df`.\n",
    "\n",
    "* Divide total values by age of the repo"
   ]
  },
  {
   "cell_type": "code",
   "execution_count": 5,
   "metadata": {},
   "outputs": [],
   "source": [
    "from category_encoders.ordinal import OrdinalEncoder as OrdEnc"
   ]
  },
  {
   "cell_type": "code",
   "execution_count": 6,
   "metadata": {},
   "outputs": [],
   "source": [
    "pca_df = pd.DataFrame()"
   ]
  },
  {
   "cell_type": "code",
   "execution_count": 7,
   "metadata": {},
   "outputs": [
    {
     "name": "stdout",
     "output_type": "stream",
     "text": [
      "1.471757511e+18\n"
     ]
    },
    {
     "name": "stderr",
     "output_type": "stream",
     "text": [
      "/home/joseph/.local/lib/python3.7/site-packages/pandas/core/ops.py:1649: FutureWarning: elementwise comparison failed; returning scalar instead, but in the future will perform elementwise comparison\n",
      "  result = method(y)\n",
      "/home/joseph/.local/lib/python3.7/site-packages/pandas/core/missing.py:44: FutureWarning: elementwise comparison failed; returning scalar instead, but in the future will perform elementwise comparison\n",
      "  mask = arr == x\n"
     ]
    },
    {
     "data": {
      "text/plain": [
       "createdAt    float64\n",
       "updatedAt    float64\n",
       "dtype: object"
      ]
     },
     "execution_count": 7,
     "metadata": {},
     "output_type": "execute_result"
    }
   ],
   "source": [
    "# Replace missing values for all columns\n",
    "repos_df = repos_df[:].replace(np.NaN, 0)\n",
    "repos_df = repos_df[:].replace('None', 0)\n",
    "\n",
    "# Convert pd.Timestamp-type columns to float for PCA\n",
    "time_cols = ['createdAt', 'updatedAt']\n",
    "for column in time_cols:\n",
    "    pca_df[column] = repos_df[column].values.astype('datetime64').astype(int).astype(float)\n",
    "\n",
    "# Check Timestamp conversion\n",
    "print(pca_df['createdAt'].iloc[0])\n",
    "pca_df[['createdAt','updatedAt']].dtypes"
   ]
  },
  {
   "cell_type": "code",
   "execution_count": 8,
   "metadata": {},
   "outputs": [
    {
     "data": {
      "text/plain": [
       "hasIssuesEnabled    int8\n",
       "hasWikiEnabled      int8\n",
       "dtype: object"
      ]
     },
     "execution_count": 8,
     "metadata": {},
     "output_type": "execute_result"
    }
   ],
   "source": [
    "# Convert boolean cols to integer\n",
    "bool_cols = ['hasIssuesEnabled', 'hasWikiEnabled']\n",
    "for column in bool_cols:\n",
    "    pca_df[column] = repos_df[column].astype(np.int8)\n",
    "\n",
    "# Check Boolean conversion\n",
    "pca_df[['hasIssuesEnabled', 'hasWikiEnabled']].dtypes"
   ]
  },
  {
   "cell_type": "code",
   "execution_count": 9,
   "metadata": {},
   "outputs": [
    {
     "data": {
      "text/plain": [
       "totalForks           int16\n",
       "totalIssues          int16\n",
       "totalPullRequests    int16\n",
       "totalCommits         int16\n",
       "totalStargazers      int16\n",
       "dtype: object"
      ]
     },
     "execution_count": 9,
     "metadata": {},
     "output_type": "execute_result"
    }
   ],
   "source": [
    "# Append numeric cols from repos_df to pca_df\n",
    "numeric_cols = ['totalForks', 'totalIssues', 'totalPullRequests', 'totalCommits', 'totalStargazers']\n",
    "for column in numeric_cols:\n",
    "    pca_df[column] = repos_df[column].astype(np.int16)\n",
    "\n",
    "pca_df[['totalForks', 'totalIssues', 'totalPullRequests', 'totalCommits', 'totalStargazers']].dtypes"
   ]
  },
  {
   "cell_type": "code",
   "execution_count": 10,
   "metadata": {},
   "outputs": [
    {
     "data": {
      "text/plain": [
       "licenseInfo        int8\n",
       "primaryLanguage    int8\n",
       "dtype: object"
      ]
     },
     "execution_count": 10,
     "metadata": {},
     "output_type": "execute_result"
    }
   ],
   "source": [
    "# Use Ordinal encoding for low-cardinality string cols\n",
    "ordinal_cols = ['licenseInfo', 'primaryLanguage']\n",
    "for column in ordinal_cols:\n",
    "    encoder = OrdEnc()\n",
    "    pca_df[column] = encoder.fit_transform(repos_df[column].values).astype(np.int8)\n",
    "\n",
    "pca_df[['licenseInfo', 'primaryLanguage']].dtypes"
   ]
  },
  {
   "cell_type": "code",
   "execution_count": 11,
   "metadata": {},
   "outputs": [
    {
     "data": {
      "text/html": [
       "<div>\n",
       "<style scoped>\n",
       "    .dataframe tbody tr th:only-of-type {\n",
       "        vertical-align: middle;\n",
       "    }\n",
       "\n",
       "    .dataframe tbody tr th {\n",
       "        vertical-align: top;\n",
       "    }\n",
       "\n",
       "    .dataframe thead th {\n",
       "        text-align: right;\n",
       "    }\n",
       "</style>\n",
       "<table border=\"1\" class=\"dataframe\">\n",
       "  <thead>\n",
       "    <tr style=\"text-align: right;\">\n",
       "      <th></th>\n",
       "      <th>hasIssuesEnabled</th>\n",
       "      <th>hasWikiEnabled</th>\n",
       "      <th>totalForks</th>\n",
       "      <th>totalIssues</th>\n",
       "      <th>totalPullRequests</th>\n",
       "      <th>totalCommits</th>\n",
       "      <th>totalStargazers</th>\n",
       "      <th>licenseInfo</th>\n",
       "      <th>primaryLanguage</th>\n",
       "    </tr>\n",
       "    <tr>\n",
       "      <th>name</th>\n",
       "      <th></th>\n",
       "      <th></th>\n",
       "      <th></th>\n",
       "      <th></th>\n",
       "      <th></th>\n",
       "      <th></th>\n",
       "      <th></th>\n",
       "      <th></th>\n",
       "      <th></th>\n",
       "    </tr>\n",
       "  </thead>\n",
       "  <tbody>\n",
       "    <tr>\n",
       "      <th>android_ProcessBar</th>\n",
       "      <td>1</td>\n",
       "      <td>1</td>\n",
       "      <td>37</td>\n",
       "      <td>0</td>\n",
       "      <td>0</td>\n",
       "      <td>10</td>\n",
       "      <td>199</td>\n",
       "      <td>1</td>\n",
       "      <td>1</td>\n",
       "    </tr>\n",
       "    <tr>\n",
       "      <th>react-native-keyboard-aware-scroll-view</th>\n",
       "      <td>1</td>\n",
       "      <td>1</td>\n",
       "      <td>377</td>\n",
       "      <td>272</td>\n",
       "      <td>110</td>\n",
       "      <td>166</td>\n",
       "      <td>3118</td>\n",
       "      <td>2</td>\n",
       "      <td>2</td>\n",
       "    </tr>\n",
       "    <tr>\n",
       "      <th>multidex-sample</th>\n",
       "      <td>1</td>\n",
       "      <td>1</td>\n",
       "      <td>51</td>\n",
       "      <td>1</td>\n",
       "      <td>0</td>\n",
       "      <td>2</td>\n",
       "      <td>118</td>\n",
       "      <td>1</td>\n",
       "      <td>1</td>\n",
       "    </tr>\n",
       "    <tr>\n",
       "      <th>multinetx</th>\n",
       "      <td>1</td>\n",
       "      <td>1</td>\n",
       "      <td>31</td>\n",
       "      <td>6</td>\n",
       "      <td>3</td>\n",
       "      <td>70</td>\n",
       "      <td>104</td>\n",
       "      <td>1</td>\n",
       "      <td>3</td>\n",
       "    </tr>\n",
       "    <tr>\n",
       "      <th>prettyplotlib</th>\n",
       "      <td>1</td>\n",
       "      <td>1</td>\n",
       "      <td>140</td>\n",
       "      <td>64</td>\n",
       "      <td>37</td>\n",
       "      <td>252</td>\n",
       "      <td>1482</td>\n",
       "      <td>2</td>\n",
       "      <td>4</td>\n",
       "    </tr>\n",
       "  </tbody>\n",
       "</table>\n",
       "</div>"
      ],
      "text/plain": [
       "                                         hasIssuesEnabled  hasWikiEnabled  \\\n",
       "name                                                                        \n",
       "android_ProcessBar                                      1               1   \n",
       "react-native-keyboard-aware-scroll-view                 1               1   \n",
       "multidex-sample                                         1               1   \n",
       "multinetx                                               1               1   \n",
       "prettyplotlib                                           1               1   \n",
       "\n",
       "                                         totalForks  totalIssues  \\\n",
       "name                                                               \n",
       "android_ProcessBar                               37            0   \n",
       "react-native-keyboard-aware-scroll-view         377          272   \n",
       "multidex-sample                                  51            1   \n",
       "multinetx                                        31            6   \n",
       "prettyplotlib                                   140           64   \n",
       "\n",
       "                                         totalPullRequests  totalCommits  \\\n",
       "name                                                                       \n",
       "android_ProcessBar                                       0            10   \n",
       "react-native-keyboard-aware-scroll-view                110           166   \n",
       "multidex-sample                                          0             2   \n",
       "multinetx                                                3            70   \n",
       "prettyplotlib                                           37           252   \n",
       "\n",
       "                                         totalStargazers  licenseInfo  \\\n",
       "name                                                                    \n",
       "android_ProcessBar                                   199            1   \n",
       "react-native-keyboard-aware-scroll-view             3118            2   \n",
       "multidex-sample                                      118            1   \n",
       "multinetx                                            104            1   \n",
       "prettyplotlib                                       1482            2   \n",
       "\n",
       "                                         primaryLanguage  \n",
       "name                                                      \n",
       "android_ProcessBar                                     1  \n",
       "react-native-keyboard-aware-scroll-view                2  \n",
       "multidex-sample                                        1  \n",
       "multinetx                                              3  \n",
       "prettyplotlib                                          4  "
      ]
     },
     "execution_count": 11,
     "metadata": {},
     "output_type": "execute_result"
    }
   ],
   "source": [
    "# Set pca_df indices to respective repo names\n",
    "pca_df.index = repos_df['name']\n",
    "\n",
    "# Dropping these columns for due to interference with clustering\n",
    "pca_df.drop(axis='columns', labels=['createdAt','updatedAt'], inplace=True)\n",
    "\n",
    "pca_df.head()"
   ]
  },
  {
   "cell_type": "markdown",
   "metadata": {},
   "source": [
    "### Scale `pca_df`\n",
    "\n",
    "https://towardsdatascience.com/scale-standardize-or-normalize-with-scikit-learn-6ccc7d176a02\n",
    "\n",
    "> For each value in a feature, `MinMaxScaler` subtracts the minimum value in the feature and then divides by the range. The range is the difference between the original maximum and original minimum. `MinMaxScaler` preserves the shape of the original distribution. It doesn’t meaningfully change the information embedded in the original data. Note that `MinMaxScaler` doesn’t reduce the importance of outliers. The default range for the feature returned by `MinMaxScaler` is 0 to 1."
   ]
  },
  {
   "cell_type": "code",
   "execution_count": 28,
   "metadata": {},
   "outputs": [],
   "source": [
    "from sklearn.preprocessing import MinMaxScaler"
   ]
  },
  {
   "cell_type": "code",
   "execution_count": 31,
   "metadata": {},
   "outputs": [],
   "source": [
    "scaler = MinMaxScaler(feature_range=(0,1), copy=True)\n",
    "scaled_pca_array = scaler.fit_transform(pca_df)"
   ]
  },
  {
   "cell_type": "code",
   "execution_count": 33,
   "metadata": {},
   "outputs": [
    {
     "data": {
      "text/plain": [
       "array([[1.00000000e+00, 1.00000000e+00, 1.82492159e-03, ...,\n",
       "        6.68850198e-03, 0.00000000e+00, 0.00000000e+00],\n",
       "       [1.00000000e+00, 1.00000000e+00, 2.12147134e-02, ...,\n",
       "        1.07326323e-01, 7.69230769e-02, 2.85714286e-02],\n",
       "       [1.00000000e+00, 1.00000000e+00, 2.62332478e-03, ...,\n",
       "        3.89588002e-03, 0.00000000e+00, 0.00000000e+00],\n",
       "       ...,\n",
       "       [1.00000000e+00, 1.00000000e+00, 3.42172797e-03, ...,\n",
       "        7.65385278e-03, 0.00000000e+00, 1.42857143e-01],\n",
       "       [1.00000000e+00, 1.00000000e+00, 2.11006558e-03, ...,\n",
       "        2.64437166e-02, 2.30769231e-01, 8.57142857e-02],\n",
       "       [1.00000000e+00, 1.00000000e+00, 5.13259196e-04, ...,\n",
       "        1.68591622e-02, 7.69230769e-02, 2.85714286e-02]])"
      ]
     },
     "execution_count": 33,
     "metadata": {},
     "output_type": "execute_result"
    }
   ],
   "source": [
    "scaled_pca_array"
   ]
  },
  {
   "cell_type": "markdown",
   "metadata": {},
   "source": [
    "### PCA Dimensionality Reduction"
   ]
  },
  {
   "cell_type": "code",
   "execution_count": 12,
   "metadata": {},
   "outputs": [],
   "source": [
    "from sklearn.decomposition import PCA"
   ]
  },
  {
   "cell_type": "code",
   "execution_count": 34,
   "metadata": {},
   "outputs": [],
   "source": [
    "pca = PCA(n_components=6)\n",
    "# pca_array = pca.fit_transform(pca_df.values)\n",
    "pca_array = pca.fit_transform(scaled_pca_array)"
   ]
  },
  {
   "cell_type": "code",
   "execution_count": 35,
   "metadata": {},
   "outputs": [
    {
     "data": {
      "text/plain": [
       "array([[-1.10799340e-01, -2.40483536e-01, -1.08799724e-01,\n",
       "        -1.15842679e-01,  7.58921460e-03, -9.59477272e-03],\n",
       "       [-1.20437641e-01, -1.55942930e-01, -9.50827092e-02,\n",
       "        -1.14584027e-01,  9.20715314e-03, -7.53342919e-03],\n",
       "       [ 8.85008011e-01, -4.27600636e-02, -1.49256917e-02,\n",
       "        -1.12684299e-01, -2.20280567e-02, -8.44638045e-02],\n",
       "       [-1.13469358e-01, -2.13043305e-01, -9.98285212e-02,\n",
       "        -1.16403549e-01,  3.14883237e-03, -6.78410124e-03],\n",
       "       [ 8.43414960e-01,  1.67406527e-01, -1.45322324e-01,\n",
       "        -6.55276516e-02, -1.69353183e-02, -8.50670375e-02],\n",
       "       [-2.04622604e-01,  5.47854222e-01, -3.43444256e-02,\n",
       "        -8.69993963e-02, -3.47385798e-02,  2.81584470e-02],\n",
       "       [-2.06607213e-01,  6.00197618e-01, -8.35262825e-03,\n",
       "        -1.11282256e-02, -3.66371845e-02,  2.97948024e-02],\n",
       "       [ 7.63802974e-01,  7.91357532e-01, -1.17995065e-01,\n",
       "        -1.13427689e-01, -5.29410362e-02, -5.38989050e-02],\n",
       "       [-1.58015743e-01,  2.83612588e-01,  3.59944475e-02,\n",
       "         1.14507497e-01,  2.49666238e-02, -1.36537015e-03],\n",
       "       [ 8.74905912e-01, -3.65444321e-02, -1.34320253e-01,\n",
       "         7.83899850e-02, -8.92200599e-05, -9.83139254e-02]])"
      ]
     },
     "execution_count": 35,
     "metadata": {},
     "output_type": "execute_result"
    }
   ],
   "source": [
    "pca_array[::20]"
   ]
  },
  {
   "cell_type": "markdown",
   "metadata": {},
   "source": [
    "### 3 Clustering Models as Base Estimators"
   ]
  },
  {
   "cell_type": "code",
   "execution_count": 36,
   "metadata": {},
   "outputs": [
    {
     "data": {
      "text/html": [
       "<img src=\"https://scikit-learn.org/stable/_images/sphx_glr_plot_cluster_comparison_0011.png\" width=\"800\" height=\"800\"/>"
      ],
      "text/plain": [
       "<IPython.core.display.Image object>"
      ]
     },
     "execution_count": 36,
     "metadata": {},
     "output_type": "execute_result"
    }
   ],
   "source": [
    "Image(url='https://scikit-learn.org/stable/_images/sphx_glr_plot_cluster_comparison_0011.png', height=800, width=800)"
   ]
  },
  {
   "cell_type": "code",
   "execution_count": 37,
   "metadata": {},
   "outputs": [],
   "source": [
    "import matplotlib.pyplot as plt\n",
    "from sklearn.cluster import KMeans # AffinityPropagation, SpectralClustering"
   ]
  },
  {
   "cell_type": "code",
   "execution_count": 38,
   "metadata": {},
   "outputs": [],
   "source": [
    "# 2 clusters for differentiating between \"successful\" and \"unsuccessful\" repos\n",
    "kmeans = KMeans(n_clusters=2, random_state=42, max_iter=1000, n_jobs=-1)\n",
    "\n",
    "data2D = kmeans.fit_transform(pca_array)\n",
    "y_pred = kmeans.fit_predict(pca_array)"
   ]
  },
  {
   "cell_type": "code",
   "execution_count": 39,
   "metadata": {},
   "outputs": [],
   "source": [
    "# X,y coordinates after transformation\n",
    "coord_df = pd.DataFrame(data2D, columns=['X','Y'])"
   ]
  },
  {
   "cell_type": "code",
   "execution_count": 40,
   "metadata": {},
   "outputs": [
    {
     "name": "stdout",
     "output_type": "stream",
     "text": [
      "[1 1 1 1 1 1 1 1 1 1 0 1 1 1 1 1 1 1 1 1 1 1 1 1 1 1 1 0 1 1 1 1 1 0 1 1 1\n",
      " 1 1 1 0 0 1 1 1 1 0 1 0 1 1 1 1 1 1 1 1 1 1 1 1 1 1 1 1 1 1 1 1 1 1 1 1 1\n",
      " 1 1 0 1 1 1 0 1 1 1 1 1 1 1 1 1 1 1 0 0 1 1 1 1 1 1 1 0 1 1 1 1 1 0 0 1 1\n",
      " 1 1 1 1 1 1 1 1 1 1 1 1 1 1 1 1 1 1 1 1 1 0 1 1 1 1 1 1 0 0 1 1 1 1 1 1 1\n",
      " 1 1 1 1 1 1 1 1 1 1 1 1 1 0 1 1 1 1 1 1 1 1 1 0 0 1 1 1 1 1 1 1 0 1 1 0 1\n",
      " 1 1 1 0 1 1 0 0 1 1 1 1 1 1 1]\n"
     ]
    }
   ],
   "source": [
    "# Centroids of observations\n",
    "print(y_pred)"
   ]
  },
  {
   "cell_type": "code",
   "execution_count": 41,
   "metadata": {},
   "outputs": [
    {
     "data": {
      "image/png": "[encoded data removed]",
      "text/plain": [
       "<Figure size 432x288 with 1 Axes>"
      ]
     },
     "metadata": {
      "needs_background": "light"
     },
     "output_type": "display_data"
    }
   ],
   "source": [
    "plt.scatter(coord_df['X'], coord_df['Y'], c=y_pred);"
   ]
  },
  {
   "cell_type": "code",
   "execution_count": 58,
   "metadata": {},
   "outputs": [],
   "source": [
    "# get indices of y_pred 0s to see what repos are outliers\n",
    "index_list = []\n",
    "for ind, obs in enumerate(y_pred):\n",
    "    if obs == 0:\n",
    "        index_list.append(ind)"
   ]
  },
  {
   "cell_type": "code",
   "execution_count": 56,
   "metadata": {},
   "outputs": [
    {
     "name": "stdout",
     "output_type": "stream",
     "text": [
      "['grace', 'standard', 'monod', 'jrnl', 'elixir', 'IndexedDB', 'carbon', 'open-event-frontend', 'owl', 'fuzzysearch', 'MediaPlayer-Extended', 'pyxl', 'python-iocextract', 'subtome', 'graphiql', 'googleplay-api', 'ac-js2', 'webscalesql-5.6', 'alwsl', 'ufo', 'thunderpush', 'Adafruit_BMP280_Library', 'restfb', 'acl-ue4-plugin', 'kob']\n"
     ]
    }
   ],
   "source": [
    "y_pred_0s = []\n",
    "for ind in index_list:\n",
    "    y_pred_0s.append(pca_df.index[ind])\n",
    "\n",
    "print(y_pred_0s)"
   ]
  },
  {
   "cell_type": "code",
   "execution_count": 57,
   "metadata": {},
   "outputs": [
    {
     "name": "stdout",
     "output_type": "stream",
     "text": [
      "['android_ProcessBar', 'react-native-keyboard-aware-scroll-view', 'multidex-sample', 'multinetx', 'prettyplotlib', 'GithubFinder', 'LeetCode', 'squirrel', 'redoc', 'smoothing', 'SharpRepository', 'leetcode', 'protobuf-codec', 'ratos', 'preact-compat', 'raspberry-pi-web-simulator', 'KNPathTableViewController', 'MatchModels', 'django-favorites', 'MacDeveloper', 'analytics.js-integrations', 'Slogger', 'PrimeDatePicker', 'awesome-atom-packages', 'sicp-study', 'tika-similarity', 'VENTouchLock', 'aurelia-materialize-bridge', 'FaceDetect', 'jquery-rails', 'LiteBSD', 'recheck-web', 'nosql-database.org', 'eShopOnContainers', 'sqlite-erlang', 'semaphore', 'mzitu', 'FlexiblePageControl', 'pyofc2', 'Arduino-IRremote', 'grid-window', 'androiddev', 'go-internal', 'KSToastView', 'static-vectors', 'net-irc', 'LPCNet', 'tinypc', 'docker-symfony', 'cv-maker', 'angularfire2', 'haxe', 'magic_numbers', 'cssgrid', 'bCNC', 'JSNetworkX', 'dwv', 'CRGradientNavigationBar', 'react-native-timeline-listview', 'bootstrap-stylus', 'pinch-zoom', 'siris', 'WhatManager2', 'vendor_samsung', 'simple-ts-react-app', 'help', 'LightMenuBar', 'Json-lib', 'usaepay-php', 'Ricin', 'asset_sync', 'wtforms-json', 'LightML.jl', 'maxas', 'Rhino.Events', 'airquotes', 'sia-task', 'crate', 'ResponsiveEmailPatterns', 'render_component', 'django-template-repl', 'pyswf', 'Tomb', 'lunchy', 'specjour', 'gulp-clean', 'gamekeeper', 'three20-iPhone-tutorials', 'at91bootstrap', 'amazon-polly-batch', 'kmcuda', 'gitops-tutorial', 'vadnet', 'dssm', 'react-firebase-starter', 'Autumn_Ning_Blog', 'compass-jquery-plugin', 'ruby-serialport', 'awesome-react-native', 'Deep-Explorer', 'awesome-quickapp', 'Cafebabe', 'iOS-BetaBuilder', 'nltk_data', 'jedit-modes', 'kubernetes-rethinkdb-cluster', 'SQLite3-Delphi-FPC', 'nvptx', 'Flask-Blogging', 'react_step_form', 'jquery.tocify.js', 'ros_people_object_detection_tensorflow', 'perl-cwmp', 'pyhull', 'must-watch-javascript', 'modeldb', 'robospice', 'quicklink', 'CircleRefreshLayout', 'DockerCheatSheet', 'msphpsql', 'clrs-notes-solutions', 'react-annotation', 'caffe', 'Location', 'django-notification', 'catalyst-controller-actionrole', 'GadioVideo', 'CTF-challenges-by-me', 'laravel-comments', 'astilectron', 'YoutubeDownloader', 'TypedJSON', 'Sound-of-Pixels', 'typescript-webpack-tree-shaking', 'WechatExport-iOS', 'image-optimizer', 'HQM', 'laser_line_extraction', 'udiskie', 'tracking.js', 'rails_layout', 'cdsa', 'cl-python', 'folsom', 'vue-data-tables', 'BuildReactor', 'wtf', 'TinyGoogle', 'heroku-buildpack-elixir', 'Lasagne', 'AI_Startup_Prototype', 'toro', 'python_data_structures_and_algorithms', 'libnifalcon_hdal', 'SynEdit', 'cryptico', 'social-core', 'ruboto', 'reddit-php-sdk', 'jsonp', 'webrtc-ips', 'tqdm', 'HackingTools', 'Karchitec', 'DPSNet', 'wbgds', 'ReactNativeAppDemo', 'INSPhotoGallery', 'node_airtunes', 'knockout-websocket-example', 'yauib', 'EasyBluetooth', 'fgmk', 'LJSON']\n"
     ]
    }
   ],
   "source": [
    "y_pred_1s = []\n",
    "for ind in range(0,200):\n",
    "    if ind not in index_list:\n",
    "        y_pred_1s.append(pca_df.index[ind])\n",
    "\n",
    "print(y_pred_1s)"
   ]
  },
  {
   "cell_type": "markdown",
   "metadata": {},
   "source": [
    "---------------\n",
    "#### `y_pred_0s` vs `y_pred_1s` Result\n",
    "\n",
    "* It seems that the **0 values are less popular repos overall** (with some exceptions), and that the majority of the **1 values are popular repos**. \n",
    "* There are some repos in the 1s list that are closer to the popularity level of the 0s list. \n",
    "* The model needs fine-tuning, but for now I'll continue with the next clustering model so as to get to building the meta estimator."
   ]
  },
  {
   "cell_type": "markdown",
   "metadata": {},
   "source": [
    "-------------"
   ]
  },
  {
   "cell_type": "code",
   "execution_count": 59,
   "metadata": {},
   "outputs": [],
   "source": [
    "from sklearn.cluster import AgglomerativeClustering "
   ]
  },
  {
   "cell_type": "code",
   "execution_count": 100,
   "metadata": {},
   "outputs": [],
   "source": [
    "ac_model = AgglomerativeClustering(n_clusters=2, linkage='ward', affinity='euclidean', compute_full_tree=True)\n",
    "\n",
    "y = ac_model.fit_predict(coord_df.values)"
   ]
  },
  {
   "cell_type": "code",
   "execution_count": 101,
   "metadata": {},
   "outputs": [
    {
     "data": {
      "text/plain": [
       "array([0, 0, 0, 0, 0, 0, 0, 0, 0, 0, 1, 0, 0, 0, 0, 0, 0, 0, 0, 0, 0, 0,\n",
       "       0, 0, 0, 0, 0, 1, 0, 0, 0, 0, 0, 1, 0, 0, 0, 0, 0, 0, 1, 1, 0, 0,\n",
       "       0, 0, 1, 0, 1, 0, 0, 0, 0, 0, 0, 0, 0, 0, 0, 0, 0, 0, 0, 0, 0, 0,\n",
       "       0, 0, 0, 0, 0, 0, 0, 0, 0, 0, 1, 0, 0, 0, 1, 0, 0, 0, 0, 0, 0, 0,\n",
       "       0, 0, 0, 0, 1, 1, 0, 0, 0, 0, 0, 0, 0, 1, 0, 0, 0, 0, 0, 1, 1, 0,\n",
       "       0, 0, 0, 0, 0, 0, 0, 0, 0, 0, 0, 0, 0, 0, 0, 0, 0, 0, 0, 0, 0, 0,\n",
       "       1, 0, 0, 0, 0, 0, 0, 1, 1, 0, 0, 0, 0, 0, 0, 0, 0, 0, 0, 0, 0, 0,\n",
       "       0, 0, 0, 0, 0, 0, 0, 1, 0, 0, 0, 0, 0, 0, 0, 0, 0, 1, 1, 0, 0, 0,\n",
       "       0, 0, 0, 0, 1, 0, 0, 1, 0, 0, 0, 0, 1, 0, 0, 1, 1, 0, 0, 0, 0, 0,\n",
       "       0, 0])"
      ]
     },
     "execution_count": 101,
     "metadata": {},
     "output_type": "execute_result"
    }
   ],
   "source": [
    "y"
   ]
  },
  {
   "cell_type": "code",
   "execution_count": 102,
   "metadata": {},
   "outputs": [
    {
     "data": {
      "image/png": "[encoded data removed]",
      "text/plain": [
       "<Figure size 432x288 with 1 Axes>"
      ]
     },
     "metadata": {
      "needs_background": "light"
     },
     "output_type": "display_data"
    }
   ],
   "source": [
    "plt.scatter(coord_df['X'], coord_df['Y'], c=y);"
   ]
  },
  {
   "cell_type": "code",
   "execution_count": 106,
   "metadata": {},
   "outputs": [
    {
     "name": "stdout",
     "output_type": "stream",
     "text": [
      "y_0s: \n",
      " ['android_ProcessBar', 'react-native-keyboard-aware-scroll-view', 'multidex-sample', 'multinetx', 'prettyplotlib', 'GithubFinder', 'LeetCode', 'squirrel', 'redoc', 'smoothing', 'SharpRepository', 'leetcode', 'protobuf-codec', 'ratos', 'preact-compat', 'raspberry-pi-web-simulator', 'KNPathTableViewController', 'MatchModels', 'django-favorites', 'MacDeveloper', 'analytics.js-integrations', 'Slogger', 'PrimeDatePicker', 'awesome-atom-packages', 'sicp-study', 'tika-similarity', 'VENTouchLock', 'aurelia-materialize-bridge', 'FaceDetect', 'jquery-rails', 'LiteBSD', 'recheck-web', 'nosql-database.org', 'eShopOnContainers', 'sqlite-erlang', 'semaphore', 'mzitu', 'FlexiblePageControl', 'pyofc2', 'Arduino-IRremote', 'grid-window', 'androiddev', 'go-internal', 'KSToastView', 'static-vectors', 'net-irc', 'LPCNet', 'tinypc', 'docker-symfony', 'cv-maker', 'angularfire2', 'haxe', 'magic_numbers', 'cssgrid', 'bCNC', 'JSNetworkX', 'dwv', 'CRGradientNavigationBar', 'react-native-timeline-listview', 'bootstrap-stylus', 'pinch-zoom', 'siris', 'WhatManager2', 'vendor_samsung', 'simple-ts-react-app', 'help', 'LightMenuBar', 'Json-lib', 'usaepay-php', 'Ricin', 'asset_sync', 'wtforms-json', 'LightML.jl', 'maxas', 'Rhino.Events', 'airquotes', 'sia-task', 'crate', 'ResponsiveEmailPatterns', 'render_component', 'django-template-repl', 'pyswf', 'Tomb', 'lunchy', 'specjour', 'gulp-clean', 'gamekeeper', 'three20-iPhone-tutorials', 'at91bootstrap', 'amazon-polly-batch', 'kmcuda', 'gitops-tutorial', 'vadnet', 'dssm', 'react-firebase-starter', 'Autumn_Ning_Blog', 'compass-jquery-plugin', 'ruby-serialport', 'awesome-react-native', 'Deep-Explorer', 'awesome-quickapp', 'Cafebabe', 'iOS-BetaBuilder', 'nltk_data', 'jedit-modes', 'kubernetes-rethinkdb-cluster', 'SQLite3-Delphi-FPC', 'nvptx', 'Flask-Blogging', 'react_step_form', 'jquery.tocify.js', 'ros_people_object_detection_tensorflow', 'perl-cwmp', 'pyhull', 'must-watch-javascript', 'modeldb', 'robospice', 'quicklink', 'CircleRefreshLayout', 'DockerCheatSheet', 'msphpsql', 'clrs-notes-solutions', 'react-annotation', 'caffe', 'Location', 'django-notification', 'catalyst-controller-actionrole', 'GadioVideo', 'CTF-challenges-by-me', 'laravel-comments', 'astilectron', 'YoutubeDownloader', 'TypedJSON', 'Sound-of-Pixels', 'typescript-webpack-tree-shaking', 'WechatExport-iOS', 'image-optimizer', 'HQM', 'laser_line_extraction', 'udiskie', 'tracking.js', 'rails_layout', 'cdsa', 'cl-python', 'folsom', 'vue-data-tables', 'BuildReactor', 'wtf', 'TinyGoogle', 'heroku-buildpack-elixir', 'Lasagne', 'AI_Startup_Prototype', 'toro', 'python_data_structures_and_algorithms', 'libnifalcon_hdal', 'SynEdit', 'cryptico', 'social-core', 'ruboto', 'reddit-php-sdk', 'jsonp', 'webrtc-ips', 'tqdm', 'HackingTools', 'Karchitec', 'DPSNet', 'wbgds', 'ReactNativeAppDemo', 'INSPhotoGallery', 'node_airtunes', 'knockout-websocket-example', 'yauib', 'EasyBluetooth', 'fgmk', 'LJSON'] \n",
      "\n",
      "y_1s: \n",
      " ['grace', 'standard', 'monod', 'jrnl', 'elixir', 'IndexedDB', 'carbon', 'open-event-frontend', 'owl', 'fuzzysearch', 'MediaPlayer-Extended', 'pyxl', 'python-iocextract', 'subtome', 'graphiql', 'googleplay-api', 'ac-js2', 'webscalesql-5.6', 'alwsl', 'ufo', 'thunderpush', 'Adafruit_BMP280_Library', 'restfb', 'acl-ue4-plugin', 'kob']\n"
     ]
    }
   ],
   "source": [
    "# get indices of y 0s\n",
    "index_list = []\n",
    "for ind, obs in enumerate(y):\n",
    "    if obs == 0:\n",
    "        index_list.append(ind)\n",
    "\n",
    "y_0s = []\n",
    "for ind in index_list:\n",
    "    y_0s.append(pca_df.index[ind])\n",
    "print('y_0s: \\n', y_0s, '\\n')\n",
    "\n",
    "y_1s = []\n",
    "for ind in range(0,200):\n",
    "    if ind not in index_list:\n",
    "        y_1s.append(pca_df.index[ind])\n",
    "\n",
    "print('y_1s: \\n', y_1s)"
   ]
  }
 ],
 "metadata": {
  "kernelspec": {
   "display_name": "Python 3",
   "language": "python",
   "name": "python3"
  },
  "language_info": {
   "codemirror_mode": {
    "name": "ipython",
    "version": 3
   },
   "file_extension": ".py",
   "mimetype": "text/x-python",
   "name": "python",
   "nbconvert_exporter": "python",
   "pygments_lexer": "ipython3",
   "version": "3.7.3"
  }
 },
 "nbformat": 4,
 "nbformat_minor": 4
}
