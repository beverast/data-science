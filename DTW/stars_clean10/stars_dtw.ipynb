{
 "cells": [
  {
   "cell_type": "markdown",
   "metadata": {},
   "source": [
    "# Stars DTW"
   ]
  },
  {
   "cell_type": "code",
   "execution_count": 1,
   "metadata": {},
   "outputs": [],
   "source": [
    "import pandas as pd\n",
    "import numpy as np\n",
    "import matplotlib.pyplot as plt\n",
    "import seaborn as sns\n",
    "from tslearn import metrics\n",
    "import os\n",
    "from sklearn.preprocessing import normalize"
   ]
  },
  {
   "cell_type": "code",
   "execution_count": 2,
   "metadata": {},
   "outputs": [
    {
     "data": {
      "text/plain": [
       "['adamsmith_stars_cleaned.pk1',\n",
       " 'embulk_stars_cleaned.pk1',\n",
       " 'google_stars_cleaned.pk1',\n",
       " 'guillaume_stars_cleaned.pk1',\n",
       " 'iven_stars_cleaned.pk1',\n",
       " 'microsoft_stars_cleaned.pk1',\n",
       " 'oleiade_stars_cleaned.pk1',\n",
       " 'pandas_stars_cleaned.pk1',\n",
       " 'yang_stars_cleaned.pk1',\n",
       " 'zhn_stars_cleaned.pk1']"
      ]
     },
     "execution_count": 2,
     "metadata": {},
     "output_type": "execute_result"
    }
   ],
   "source": [
    "stars_files = [file for file in os.listdir() if 'cleaned.pk1' in file]\n",
    "stars_files"
   ]
  },
  {
   "cell_type": "code",
   "execution_count": 3,
   "metadata": {},
   "outputs": [
    {
     "name": "stdout",
     "output_type": "stream",
     "text": [
      "adamsmith_stars_cleaned.pk1 (167, 6)\n",
      "embulk_stars_cleaned.pk1 (1324, 6)\n",
      "google_stars_cleaned.pk1 (18988, 6)\n",
      "guillaume_stars_cleaned.pk1 (88, 6)\n",
      "iven_stars_cleaned.pk1 (260, 6)\n",
      "microsoft_stars_cleaned.pk1 (399, 6)\n",
      "oleiade_stars_cleaned.pk1 (881, 6)\n",
      "pandas_stars_cleaned.pk1 (21031, 6)\n",
      "yang_stars_cleaned.pk1 (9102, 6)\n",
      "zhn_stars_cleaned.pk1 (451, 6)\n"
     ]
    }
   ],
   "source": [
    "# Check shape\n",
    "for file in stars_files:\n",
    "    print(file, pd.read_pickle(file).shape)"
   ]
  },
  {
   "cell_type": "code",
   "execution_count": 4,
   "metadata": {},
   "outputs": [],
   "source": [
    "adamsmith = pd.read_pickle(stars_files[0])\n",
    "embulk = pd.read_pickle(stars_files[1])\n",
    "google = pd.read_pickle(stars_files[2])\n",
    "guillaume = pd.read_pickle(stars_files[3])\n",
    "iven = pd.read_pickle(stars_files[4])\n",
    "microsoft = pd.read_pickle(stars_files[5])\n",
    "oleiade = pd.read_pickle(stars_files[6])\n",
    "pandas = pd.read_pickle(stars_files[7])\n",
    "yang = pd.read_pickle(stars_files[8])\n",
    "zhn = pd.read_pickle(stars_files[9])"
   ]
  },
  {
   "cell_type": "markdown",
   "metadata": {},
   "source": [
    "## Monthly Count of Stars"
   ]
  },
  {
   "cell_type": "code",
   "execution_count": 5,
   "metadata": {},
   "outputs": [],
   "source": [
    "def monthly_count(df):\n",
    "    \n",
    "    # Change to pandas datetime object\n",
    "    df['starredAt'] =  df['starredAt'].apply(pd.Timestamp)\n",
    "    \n",
    "    # Group by committedDate's month and get the count\n",
    "    df_group = df.groupby(df['starredAt'].dt.to_period('M')) \\\n",
    "                                                 .count()['id'] \\\n",
    "                                                 .reset_index() \\\n",
    "                                                 .rename(columns={'id': 'countByMonth'})\n",
    "    \n",
    "    # Normalize count and create a insert back into df_group\n",
    "    df_group['countByMonthNorm'] = normalize([df_group['countByMonth']])[0]\n",
    "    \n",
    "    return df_group"
   ]
  },
  {
   "cell_type": "code",
   "execution_count": 6,
   "metadata": {
    "scrolled": true
   },
   "outputs": [
    {
     "name": "stderr",
     "output_type": "stream",
     "text": [
      "C:\\Users\\Dustin\\Anaconda3\\lib\\site-packages\\pandas\\core\\arrays\\datetimes.py:1172: UserWarning: Converting to PeriodArray/Index representation will drop timezone information.\n",
      "  \"will drop timezone information.\", UserWarning)\n",
      "C:\\Users\\Dustin\\Anaconda3\\lib\\site-packages\\pandas\\core\\arrays\\datetimes.py:1172: UserWarning: Converting to PeriodArray/Index representation will drop timezone information.\n",
      "  \"will drop timezone information.\", UserWarning)\n",
      "C:\\Users\\Dustin\\Anaconda3\\lib\\site-packages\\pandas\\core\\arrays\\datetimes.py:1172: UserWarning: Converting to PeriodArray/Index representation will drop timezone information.\n",
      "  \"will drop timezone information.\", UserWarning)\n",
      "C:\\Users\\Dustin\\Anaconda3\\lib\\site-packages\\pandas\\core\\arrays\\datetimes.py:1172: UserWarning: Converting to PeriodArray/Index representation will drop timezone information.\n",
      "  \"will drop timezone information.\", UserWarning)\n",
      "C:\\Users\\Dustin\\Anaconda3\\lib\\site-packages\\pandas\\core\\arrays\\datetimes.py:1172: UserWarning: Converting to PeriodArray/Index representation will drop timezone information.\n",
      "  \"will drop timezone information.\", UserWarning)\n",
      "C:\\Users\\Dustin\\Anaconda3\\lib\\site-packages\\pandas\\core\\arrays\\datetimes.py:1172: UserWarning: Converting to PeriodArray/Index representation will drop timezone information.\n",
      "  \"will drop timezone information.\", UserWarning)\n",
      "C:\\Users\\Dustin\\Anaconda3\\lib\\site-packages\\pandas\\core\\arrays\\datetimes.py:1172: UserWarning: Converting to PeriodArray/Index representation will drop timezone information.\n",
      "  \"will drop timezone information.\", UserWarning)\n",
      "C:\\Users\\Dustin\\Anaconda3\\lib\\site-packages\\pandas\\core\\arrays\\datetimes.py:1172: UserWarning: Converting to PeriodArray/Index representation will drop timezone information.\n",
      "  \"will drop timezone information.\", UserWarning)\n",
      "C:\\Users\\Dustin\\Anaconda3\\lib\\site-packages\\pandas\\core\\arrays\\datetimes.py:1172: UserWarning: Converting to PeriodArray/Index representation will drop timezone information.\n",
      "  \"will drop timezone information.\", UserWarning)\n",
      "C:\\Users\\Dustin\\Anaconda3\\lib\\site-packages\\pandas\\core\\arrays\\datetimes.py:1172: UserWarning: Converting to PeriodArray/Index representation will drop timezone information.\n",
      "  \"will drop timezone information.\", UserWarning)\n"
     ]
    }
   ],
   "source": [
    "adamsmith_star = monthly_count(adamsmith)\n",
    "embulk_star  = monthly_count(embulk)\n",
    "google_star  = monthly_count(google)\n",
    "guillaume_star  = monthly_count(guillaume)\n",
    "iven_star  = monthly_count(iven)\n",
    "microsoft_star  = monthly_count(microsoft)\n",
    "oleiade_star  = monthly_count(oleiade)\n",
    "pandas_star  = monthly_count(pandas)\n",
    "yang_star  = monthly_count(yang)\n",
    "zhn_star  = monthly_count(zhn)"
   ]
  },
  {
   "cell_type": "markdown",
   "metadata": {},
   "source": [
    "# Dyanmic Time Warping"
   ]
  },
  {
   "cell_type": "code",
   "execution_count": 7,
   "metadata": {},
   "outputs": [],
   "source": [
    "from tslearn.metrics import dtw_path"
   ]
  },
  {
   "cell_type": "code",
   "execution_count": 8,
   "metadata": {},
   "outputs": [],
   "source": [
    "monthly_star_list = [adamsmith_star, embulk_star, google_star, guillaume_star, iven_star, microsoft_star, \n",
    "                    oleiade_star, pandas_star, yang_star, zhn_star]\n",
    "monthly_star_list_str = ['adamsmith_star', 'embulk_star', 'google_star', 'guillaume_star', 'iven_star', 'microsoft_star', \n",
    "                    'oleiade_star', 'pandas_star', 'yang_star', 'zhn_star']"
   ]
  },
  {
   "cell_type": "markdown",
   "metadata": {},
   "source": [
    "### Calculate DTW"
   ]
  },
  {
   "cell_type": "code",
   "execution_count": 9,
   "metadata": {},
   "outputs": [],
   "source": [
    "def calc_dtw(star_num):\n",
    "    dtw = []\n",
    "    path = []\n",
    "\n",
    "    for el in range(len(monthly_star_list)):\n",
    "        dtw_pathing = dtw_path(monthly_star_list[star_num].iloc[:,-1].tolist(), monthly_star_list[el].iloc[:,-1].tolist())\n",
    "        dtw.append((monthly_star_list_str[star_num], monthly_star_list_str[el], dtw_pathing[1]))\n",
    "        path.append((monthly_star_list_str[star_num], monthly_star_list_str[el], dtw_pathing[0]))\n",
    "        \n",
    "    return dtw, path"
   ]
  },
  {
   "cell_type": "code",
   "execution_count": 11,
   "metadata": {},
   "outputs": [],
   "source": [
    "dtw_1, path_1 = calc_dtw(1)"
   ]
  },
  {
   "cell_type": "code",
   "execution_count": 12,
   "metadata": {
    "collapsed": true,
    "jupyter": {
     "outputs_hidden": true
    }
   },
   "outputs": [
    {
     "data": {
      "text/plain": [
       "[('embulk_star', 'adamsmith_star', 0.499392542347802),\n",
       " ('embulk_star', 'embulk_star', 0.0),\n",
       " ('embulk_star', 'google_star', 0.9397103163204412),\n",
       " ('embulk_star', 'guillaume_star', 0.3351077202052573),\n",
       " ('embulk_star', 'iven_star', 1.030165867072377),\n",
       " ('embulk_star', 'microsoft_star', 0.8359049028332702),\n",
       " ('embulk_star', 'oleiade_star', 0.9311500944400177),\n",
       " ('embulk_star', 'pandas_star', 0.748143420495125),\n",
       " ('embulk_star', 'yang_star', 0.8516991860780727),\n",
       " ('embulk_star', 'zhn_star', 0.2254856877505276)]"
      ]
     },
     "execution_count": 12,
     "metadata": {},
     "output_type": "execute_result"
    }
   ],
   "source": [
    "dtw_1"
   ]
  },
  {
   "cell_type": "markdown",
   "metadata": {},
   "source": [
    "### Plot DTW"
   ]
  },
  {
   "cell_type": "code",
   "execution_count": 10,
   "metadata": {},
   "outputs": [],
   "source": [
    "def plot_graph(dtw, num_dtw, star_num):\n",
    "    print(dtw[star_num])\n",
    "    monthly_star_list[num_dtw].plot(x='starredAt', y='countByMonthNorm')\n",
    "    monthly_star_list[star_num].plot(x='starredAt', y='countByMonthNorm')"
   ]
  },
  {
   "cell_type": "code",
   "execution_count": 17,
   "metadata": {
    "collapsed": true,
    "jupyter": {
     "outputs_hidden": true
    }
   },
   "outputs": [
    {
     "name": "stdout",
     "output_type": "stream",
     "text": [
      "('embulk_star', 'iven_star', 1.030165867072377)\n"
     ]
    },
    {
     "data": {
      "image/png": "[encoded data removed]",
      "text/plain": [
       "<Figure size 432x288 with 1 Axes>"
      ]
     },
     "metadata": {
      "needs_background": "light"
     },
     "output_type": "display_data"
    },
    {
     "data": {
      "image/png": "[encoded data removed]",
      "text/plain": [
       "<Figure size 432x288 with 1 Axes>"
      ]
     },
     "metadata": {
      "needs_background": "light"
     },
     "output_type": "display_data"
    }
   ],
   "source": [
    "plot_graph(dtw_1, 1, 4)"
   ]
  },
  {
   "cell_type": "markdown",
   "metadata": {},
   "source": [
    "### Make dictionary"
   ]
  },
  {
   "cell_type": "code",
   "execution_count": 28,
   "metadata": {},
   "outputs": [],
   "source": [
    "def make_dict(num):\n",
    "    \n",
    "    dtw_1, path_1 = calc_dtw(num)\n",
    "    my_dict = {dtw_1[i][1]:dtw_1[i][2] for i in range(len(dtw_1))}\n",
    "    \n",
    "    return my_dict"
   ]
  },
  {
   "cell_type": "code",
   "execution_count": 44,
   "metadata": {},
   "outputs": [],
   "source": [
    "adamsmith_dict = make_dict(0)\n",
    "embulk_dict = make_dict(1)\n",
    "google_dict = make_dict(2)\n",
    "guillaume_dict = make_dict(3)\n",
    "iven_dict = make_dict(4)\n",
    "microsoft_dict = make_dict(5)\n",
    "oleiade_dict = make_dict(6)\n",
    "pandas_dict = make_dict(7)\n",
    "yang_dict = make_dict(8)\n",
    "zhn_dict = make_dict(9)\n",
    "\n",
    "dict_list = [adamsmith_dict, embulk_dict, google_dict, guillaume_dict, iven_dict, \n",
    "             microsoft_dict, oleiade_dict, pandas_dict, yang_dict, zhn_dict]"
   ]
  },
  {
   "cell_type": "markdown",
   "metadata": {},
   "source": [
    "### Make a DF"
   ]
  },
  {
   "cell_type": "code",
   "execution_count": 84,
   "metadata": {
    "scrolled": true
   },
   "outputs": [
    {
     "name": "stderr",
     "output_type": "stream",
     "text": [
      "C:\\Users\\Dustin\\Anaconda3\\lib\\site-packages\\ipykernel_launcher.py:3: FutureWarning: Sorting because non-concatenation axis is not aligned. A future version\n",
      "of pandas will change to not sort by default.\n",
      "\n",
      "To accept the future behavior, pass 'sort=False'.\n",
      "\n",
      "To retain the current behavior and silence the warning, pass 'sort=True'.\n",
      "\n",
      "  This is separate from the ipykernel package so we can avoid doing imports until\n"
     ]
    }
   ],
   "source": [
    "df = pd.Series()\n",
    "for el in range(len(dict_list)):\n",
    "    df = pd.concat([df, pd.Series(dict_list[el], name=monthly_star_list_str[el])], axis=1)\n",
    "df = df.drop(columns=0)"
   ]
  },
  {
   "cell_type": "code",
   "execution_count": 85,
   "metadata": {},
   "outputs": [
    {
     "data": {
      "text/html": [
       "<div>\n",
       "<style scoped>\n",
       "    .dataframe tbody tr th:only-of-type {\n",
       "        vertical-align: middle;\n",
       "    }\n",
       "\n",
       "    .dataframe tbody tr th {\n",
       "        vertical-align: top;\n",
       "    }\n",
       "\n",
       "    .dataframe thead th {\n",
       "        text-align: right;\n",
       "    }\n",
       "</style>\n",
       "<table border=\"1\" class=\"dataframe\">\n",
       "  <thead>\n",
       "    <tr style=\"text-align: right;\">\n",
       "      <th></th>\n",
       "      <th>adamsmith_star</th>\n",
       "      <th>embulk_star</th>\n",
       "      <th>google_star</th>\n",
       "      <th>guillaume_star</th>\n",
       "      <th>iven_star</th>\n",
       "      <th>microsoft_star</th>\n",
       "      <th>oleiade_star</th>\n",
       "      <th>pandas_star</th>\n",
       "      <th>yang_star</th>\n",
       "      <th>zhn_star</th>\n",
       "    </tr>\n",
       "  </thead>\n",
       "  <tbody>\n",
       "    <tr>\n",
       "      <th>adamsmith_star</th>\n",
       "      <td>0.000000</td>\n",
       "      <td>0.499393</td>\n",
       "      <td>1.224497</td>\n",
       "      <td>0.308630</td>\n",
       "      <td>1.306346</td>\n",
       "      <td>0.995110</td>\n",
       "      <td>1.109341</td>\n",
       "      <td>1.076215</td>\n",
       "      <td>1.096712</td>\n",
       "      <td>0.467932</td>\n",
       "    </tr>\n",
       "    <tr>\n",
       "      <th>embulk_star</th>\n",
       "      <td>0.499393</td>\n",
       "      <td>0.000000</td>\n",
       "      <td>0.939710</td>\n",
       "      <td>0.335108</td>\n",
       "      <td>1.030166</td>\n",
       "      <td>0.835905</td>\n",
       "      <td>0.931150</td>\n",
       "      <td>0.748143</td>\n",
       "      <td>0.851699</td>\n",
       "      <td>0.225486</td>\n",
       "    </tr>\n",
       "    <tr>\n",
       "      <th>google_star</th>\n",
       "      <td>1.224497</td>\n",
       "      <td>0.939710</td>\n",
       "      <td>0.000000</td>\n",
       "      <td>1.037892</td>\n",
       "      <td>0.657521</td>\n",
       "      <td>0.747535</td>\n",
       "      <td>0.713659</td>\n",
       "      <td>0.748807</td>\n",
       "      <td>0.654949</td>\n",
       "      <td>1.119836</td>\n",
       "    </tr>\n",
       "    <tr>\n",
       "      <th>guillaume_star</th>\n",
       "      <td>0.308630</td>\n",
       "      <td>0.335108</td>\n",
       "      <td>1.037892</td>\n",
       "      <td>0.000000</td>\n",
       "      <td>1.115906</td>\n",
       "      <td>0.905295</td>\n",
       "      <td>0.997194</td>\n",
       "      <td>0.922322</td>\n",
       "      <td>0.959202</td>\n",
       "      <td>0.369980</td>\n",
       "    </tr>\n",
       "    <tr>\n",
       "      <th>iven_star</th>\n",
       "      <td>1.306346</td>\n",
       "      <td>1.030166</td>\n",
       "      <td>0.657521</td>\n",
       "      <td>1.115906</td>\n",
       "      <td>0.000000</td>\n",
       "      <td>0.398503</td>\n",
       "      <td>0.545225</td>\n",
       "      <td>0.700290</td>\n",
       "      <td>0.419541</td>\n",
       "      <td>1.180207</td>\n",
       "    </tr>\n",
       "    <tr>\n",
       "      <th>microsoft_star</th>\n",
       "      <td>0.995110</td>\n",
       "      <td>0.835905</td>\n",
       "      <td>0.747535</td>\n",
       "      <td>0.905295</td>\n",
       "      <td>0.398503</td>\n",
       "      <td>0.000000</td>\n",
       "      <td>0.388870</td>\n",
       "      <td>0.959875</td>\n",
       "      <td>0.425012</td>\n",
       "      <td>0.949369</td>\n",
       "    </tr>\n",
       "    <tr>\n",
       "      <th>oleiade_star</th>\n",
       "      <td>1.109341</td>\n",
       "      <td>0.931150</td>\n",
       "      <td>0.713659</td>\n",
       "      <td>0.997194</td>\n",
       "      <td>0.545225</td>\n",
       "      <td>0.388870</td>\n",
       "      <td>0.000000</td>\n",
       "      <td>1.150649</td>\n",
       "      <td>0.572147</td>\n",
       "      <td>1.050151</td>\n",
       "    </tr>\n",
       "    <tr>\n",
       "      <th>pandas_star</th>\n",
       "      <td>1.076215</td>\n",
       "      <td>0.748143</td>\n",
       "      <td>0.748807</td>\n",
       "      <td>0.922322</td>\n",
       "      <td>0.700290</td>\n",
       "      <td>0.959875</td>\n",
       "      <td>1.150649</td>\n",
       "      <td>0.000000</td>\n",
       "      <td>0.855419</td>\n",
       "      <td>0.989844</td>\n",
       "    </tr>\n",
       "    <tr>\n",
       "      <th>yang_star</th>\n",
       "      <td>1.096712</td>\n",
       "      <td>0.851699</td>\n",
       "      <td>0.654949</td>\n",
       "      <td>0.959202</td>\n",
       "      <td>0.419541</td>\n",
       "      <td>0.425012</td>\n",
       "      <td>0.572147</td>\n",
       "      <td>0.855419</td>\n",
       "      <td>0.000000</td>\n",
       "      <td>1.028610</td>\n",
       "    </tr>\n",
       "    <tr>\n",
       "      <th>zhn_star</th>\n",
       "      <td>0.467932</td>\n",
       "      <td>0.225486</td>\n",
       "      <td>1.119836</td>\n",
       "      <td>0.369980</td>\n",
       "      <td>1.180207</td>\n",
       "      <td>0.949369</td>\n",
       "      <td>1.050151</td>\n",
       "      <td>0.989844</td>\n",
       "      <td>1.028610</td>\n",
       "      <td>0.000000</td>\n",
       "    </tr>\n",
       "  </tbody>\n",
       "</table>\n",
       "</div>"
      ],
      "text/plain": [
       "                adamsmith_star  embulk_star  google_star  guillaume_star  \\\n",
       "adamsmith_star        0.000000     0.499393     1.224497        0.308630   \n",
       "embulk_star           0.499393     0.000000     0.939710        0.335108   \n",
       "google_star           1.224497     0.939710     0.000000        1.037892   \n",
       "guillaume_star        0.308630     0.335108     1.037892        0.000000   \n",
       "iven_star             1.306346     1.030166     0.657521        1.115906   \n",
       "microsoft_star        0.995110     0.835905     0.747535        0.905295   \n",
       "oleiade_star          1.109341     0.931150     0.713659        0.997194   \n",
       "pandas_star           1.076215     0.748143     0.748807        0.922322   \n",
       "yang_star             1.096712     0.851699     0.654949        0.959202   \n",
       "zhn_star              0.467932     0.225486     1.119836        0.369980   \n",
       "\n",
       "                iven_star  microsoft_star  oleiade_star  pandas_star  \\\n",
       "adamsmith_star   1.306346        0.995110      1.109341     1.076215   \n",
       "embulk_star      1.030166        0.835905      0.931150     0.748143   \n",
       "google_star      0.657521        0.747535      0.713659     0.748807   \n",
       "guillaume_star   1.115906        0.905295      0.997194     0.922322   \n",
       "iven_star        0.000000        0.398503      0.545225     0.700290   \n",
       "microsoft_star   0.398503        0.000000      0.388870     0.959875   \n",
       "oleiade_star     0.545225        0.388870      0.000000     1.150649   \n",
       "pandas_star      0.700290        0.959875      1.150649     0.000000   \n",
       "yang_star        0.419541        0.425012      0.572147     0.855419   \n",
       "zhn_star         1.180207        0.949369      1.050151     0.989844   \n",
       "\n",
       "                yang_star  zhn_star  \n",
       "adamsmith_star   1.096712  0.467932  \n",
       "embulk_star      0.851699  0.225486  \n",
       "google_star      0.654949  1.119836  \n",
       "guillaume_star   0.959202  0.369980  \n",
       "iven_star        0.419541  1.180207  \n",
       "microsoft_star   0.425012  0.949369  \n",
       "oleiade_star     0.572147  1.050151  \n",
       "pandas_star      0.855419  0.989844  \n",
       "yang_star        0.000000  1.028610  \n",
       "zhn_star         1.028610  0.000000  "
      ]
     },
     "execution_count": 85,
     "metadata": {},
     "output_type": "execute_result"
    }
   ],
   "source": [
    "df"
   ]
  },
  {
   "cell_type": "code",
   "execution_count": 87,
   "metadata": {},
   "outputs": [],
   "source": [
    "df.to_csv('stars_dtw.csv', index=False)"
   ]
  },
  {
   "cell_type": "markdown",
   "metadata": {},
   "source": [
    "# [Hiearchical Clustering](https://stackabuse.com/hierarchical-clustering-with-python-and-scikit-learn/)"
   ]
  },
  {
   "cell_type": "code",
   "execution_count": 97,
   "metadata": {},
   "outputs": [
    {
     "name": "stderr",
     "output_type": "stream",
     "text": [
      "C:\\Users\\Dustin\\Anaconda3\\lib\\site-packages\\ipykernel_launcher.py:3: FutureWarning: Method .as_matrix will be removed in a future version. Use .values instead.\n",
      "  This is separate from the ipykernel package so we can avoid doing imports until\n",
      "C:\\Users\\Dustin\\Anaconda3\\lib\\site-packages\\ipykernel_launcher.py:3: ClusterWarning: scipy.cluster: The symmetric non-negative hollow observation matrix looks suspiciously like an uncondensed distance matrix\n",
      "  This is separate from the ipykernel package so we can avoid doing imports until\n"
     ]
    },
    {
     "data": {
      "image/png": "[encoded data removed]",
      "text/plain": [
       "<Figure size 1440x720 with 1 Axes>"
      ]
     },
     "metadata": {
      "needs_background": "light"
     },
     "output_type": "display_data"
    }
   ],
   "source": [
    "from scipy.cluster.hierarchy import dendrogram, linkage\n",
    "\n",
    "linked = linkage(df.as_matrix(), 'single')\n",
    "labelList = df.index\n",
    "\n",
    "plt.figure(figsize=(20, 10))\n",
    "plt.title('Hiearchical Clustering for Stars')\n",
    "dendrogram(linked,\n",
    "            orientation='top',\n",
    "            labels=labelList,\n",
    "            distance_sort='descending',\n",
    "            show_leaf_counts=True,\n",
    "            color_threshold=1.3)\n",
    "plt.show()"
   ]
  },
  {
   "cell_type": "markdown",
   "metadata": {},
   "source": [
    "### Test Moving Average"
   ]
  },
  {
   "cell_type": "code",
   "execution_count": 82,
   "metadata": {},
   "outputs": [],
   "source": [
    "def moving_average(values, window):\n",
    "    weights = np.repeat(1, window)/window\n",
    "    smas = np.convolve(values, weights, 'valid')\n",
    "    return smas"
   ]
  },
  {
   "cell_type": "code",
   "execution_count": 35,
   "metadata": {},
   "outputs": [
    {
     "data": {
      "text/plain": [
       "(107,)"
      ]
     },
     "execution_count": 35,
     "metadata": {},
     "output_type": "execute_result"
    }
   ],
   "source": [
    "moving_average(pandas_star['countByMonthNorm'].tolist(), 3).shape"
   ]
  },
  {
   "cell_type": "code",
   "execution_count": 74,
   "metadata": {},
   "outputs": [],
   "source": [
    "y = moving_average(embulk_star['countByMonthNorm'].tolist(), 20)"
   ]
  },
  {
   "cell_type": "code",
   "execution_count": 75,
   "metadata": {},
   "outputs": [],
   "source": [
    "x = [i for i in range(len(y))]"
   ]
  },
  {
   "cell_type": "code",
   "execution_count": 76,
   "metadata": {},
   "outputs": [
    {
     "data": {
      "text/plain": [
       "[<matplotlib.lines.Line2D at 0x245418707f0>]"
      ]
     },
     "execution_count": 76,
     "metadata": {},
     "output_type": "execute_result"
    },
    {
     "data": {
      "image/png": "[encoded data removed]",
      "text/plain": [
       "<Figure size 432x288 with 1 Axes>"
      ]
     },
     "metadata": {
      "needs_background": "light"
     },
     "output_type": "display_data"
    }
   ],
   "source": [
    "plt.plot(x, y)"
   ]
  },
  {
   "cell_type": "code",
   "execution_count": 78,
   "metadata": {},
   "outputs": [
    {
     "data": {
      "text/html": [
       "<div>\n",
       "<style scoped>\n",
       "    .dataframe tbody tr th:only-of-type {\n",
       "        vertical-align: middle;\n",
       "    }\n",
       "\n",
       "    .dataframe tbody tr th {\n",
       "        vertical-align: top;\n",
       "    }\n",
       "\n",
       "    .dataframe thead th {\n",
       "        text-align: right;\n",
       "    }\n",
       "</style>\n",
       "<table border=\"1\" class=\"dataframe\">\n",
       "  <thead>\n",
       "    <tr style=\"text-align: right;\">\n",
       "      <th></th>\n",
       "      <th>starredAt</th>\n",
       "      <th>countByMonth</th>\n",
       "      <th>countByMonthNorm</th>\n",
       "    </tr>\n",
       "  </thead>\n",
       "  <tbody>\n",
       "    <tr>\n",
       "      <th>0</th>\n",
       "      <td>2010-08</td>\n",
       "      <td>558</td>\n",
       "      <td>0.207399</td>\n",
       "    </tr>\n",
       "    <tr>\n",
       "      <th>1</th>\n",
       "      <td>2010-09</td>\n",
       "      <td>20</td>\n",
       "      <td>0.007434</td>\n",
       "    </tr>\n",
       "    <tr>\n",
       "      <th>2</th>\n",
       "      <td>2010-10</td>\n",
       "      <td>36</td>\n",
       "      <td>0.013381</td>\n",
       "    </tr>\n",
       "    <tr>\n",
       "      <th>3</th>\n",
       "      <td>2010-11</td>\n",
       "      <td>30</td>\n",
       "      <td>0.011150</td>\n",
       "    </tr>\n",
       "    <tr>\n",
       "      <th>4</th>\n",
       "      <td>2010-12</td>\n",
       "      <td>31</td>\n",
       "      <td>0.011522</td>\n",
       "    </tr>\n",
       "  </tbody>\n",
       "</table>\n",
       "</div>"
      ],
      "text/plain": [
       "  starredAt  countByMonth  countByMonthNorm\n",
       "0   2010-08           558          0.207399\n",
       "1   2010-09            20          0.007434\n",
       "2   2010-10            36          0.013381\n",
       "3   2010-11            30          0.011150\n",
       "4   2010-12            31          0.011522"
      ]
     },
     "execution_count": 78,
     "metadata": {},
     "output_type": "execute_result"
    }
   ],
   "source": [
    "pandas_star.head()"
   ]
  },
  {
   "cell_type": "code",
   "execution_count": 104,
   "metadata": {},
   "outputs": [
    {
     "data": {
      "text/plain": [
       "0.12660061096626146"
      ]
     },
     "execution_count": 104,
     "metadata": {},
     "output_type": "execute_result"
    }
   ],
   "source": [
    "x = moving_average(zhn_star['countByMonthNorm'].tolist(), 10)\n",
    "x1 = [i for i in range(len(x))]\n",
    "y = moving_average(embulk_star['countByMonthNorm'].tolist(), 10)\n",
    "y1 = [i for i in range(len(y))]\n",
    "dtw_path(x,y)[1]"
   ]
  },
  {
   "cell_type": "code",
   "execution_count": 105,
   "metadata": {},
   "outputs": [
    {
     "data": {
      "text/plain": [
       "[<matplotlib.lines.Line2D at 0x24542ee92b0>]"
      ]
     },
     "execution_count": 105,
     "metadata": {},
     "output_type": "execute_result"
    },
    {
     "data": {
      "image/png": "[encoded data removed]",
      "text/plain": [
       "<Figure size 432x288 with 1 Axes>"
      ]
     },
     "metadata": {
      "needs_background": "light"
     },
     "output_type": "display_data"
    }
   ],
   "source": [
    "plt.plot(x1, x)"
   ]
  },
  {
   "cell_type": "code",
   "execution_count": 106,
   "metadata": {},
   "outputs": [
    {
     "data": {
      "text/plain": [
       "[<matplotlib.lines.Line2D at 0x24542f478d0>]"
      ]
     },
     "execution_count": 106,
     "metadata": {},
     "output_type": "execute_result"
    },
    {
     "data": {
      "image/png": "[encoded data removed]",
      "text/plain": [
       "<Figure size 432x288 with 1 Axes>"
      ]
     },
     "metadata": {
      "needs_background": "light"
     },
     "output_type": "display_data"
    }
   ],
   "source": [
    "plt.plot(y1, y)"
   ]
  },
  {
   "cell_type": "code",
   "execution_count": null,
   "metadata": {},
   "outputs": [],
   "source": []
  }
 ],
 "metadata": {
  "kernelspec": {
   "display_name": "Python 3",
   "language": "python",
   "name": "python3"
  },
  "language_info": {
   "codemirror_mode": {
    "name": "ipython",
    "version": 3
   },
   "file_extension": ".py",
   "mimetype": "text/x-python",
   "name": "python",
   "nbconvert_exporter": "python",
   "pygments_lexer": "ipython3",
   "version": "3.7.3"
  }
 },
 "nbformat": 4,
 "nbformat_minor": 4
}
