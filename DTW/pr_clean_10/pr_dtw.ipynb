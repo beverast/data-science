{
 "cells": [
  {
   "cell_type": "code",
   "execution_count": 9,
   "metadata": {},
   "outputs": [],
   "source": [
    "import pandas as pd\n",
    "import numpy as np\n",
    "import matplotlib.pyplot as plt\n",
    "import seaborn as sns\n",
    "from tslearn import metrics\n",
    "import os\n",
    "from sklearn.preprocessing import normalize"
   ]
  },
  {
   "cell_type": "code",
   "execution_count": 10,
   "metadata": {},
   "outputs": [
    {
     "data": {
      "text/plain": [
       "['adamsmith_pr_cleaned.pk1',\n",
       " 'embulk_pr_cleaned.pk1',\n",
       " 'google_pr_cleaned.pk1',\n",
       " 'guillaume_pr_cleaned.pk1',\n",
       " 'iven_pr_cleaned.pk1',\n",
       " 'oleiade_pr_cleaned.pk1',\n",
       " 'pandas_pr_cleaned.pk1',\n",
       " 'yang_pr_cleaned.pk1']"
      ]
     },
     "execution_count": 10,
     "metadata": {},
     "output_type": "execute_result"
    }
   ],
   "source": [
    "pr_files = [file for file in os.listdir() if 'cleaned.pk1' in file]\n",
    "pr_files"
   ]
  },
  {
   "cell_type": "code",
   "execution_count": 11,
   "metadata": {},
   "outputs": [
    {
     "name": "stdout",
     "output_type": "stream",
     "text": [
      "adamsmith_pr_cleaned.pk1 (1, 13)\n",
      "embulk_pr_cleaned.pk1 (786, 13)\n",
      "google_pr_cleaned.pk1 (134, 13)\n",
      "guillaume_pr_cleaned.pk1 (3, 13)\n",
      "iven_pr_cleaned.pk1 (8, 13)\n",
      "oleiade_pr_cleaned.pk1 (46, 13)\n",
      "pandas_pr_cleaned.pk1 (12797, 16)\n",
      "yang_pr_cleaned.pk1 (12, 13)\n"
     ]
    }
   ],
   "source": [
    "# Check shape\n",
    "for file in pr_files:\n",
    "    print(file, pd.read_pickle(file).shape)"
   ]
  },
  {
   "cell_type": "code",
   "execution_count": 12,
   "metadata": {},
   "outputs": [],
   "source": [
    "adamsmith = pd.read_pickle(pr_files[0])\n",
    "embulk = pd.read_pickle(pr_files[1])\n",
    "google = pd.read_pickle(pr_files[2])\n",
    "guillaume = pd.read_pickle(pr_files[3])\n",
    "iven = pd.read_pickle(pr_files[4])\n",
    "oleiade = pd.read_pickle(pr_files[5])\n",
    "pandas = pd.read_pickle(pr_files[6])\n",
    "yang = pd.read_pickle(pr_files[7])"
   ]
  },
  {
   "cell_type": "code",
   "execution_count": 13,
   "metadata": {},
   "outputs": [
    {
     "data": {
      "text/html": [
       "<div>\n",
       "<style scoped>\n",
       "    .dataframe tbody tr th:only-of-type {\n",
       "        vertical-align: middle;\n",
       "    }\n",
       "\n",
       "    .dataframe tbody tr th {\n",
       "        vertical-align: top;\n",
       "    }\n",
       "\n",
       "    .dataframe thead th {\n",
       "        text-align: right;\n",
       "    }\n",
       "</style>\n",
       "<table border=\"1\" class=\"dataframe\">\n",
       "  <thead>\n",
       "    <tr style=\"text-align: right;\">\n",
       "      <th></th>\n",
       "      <th>authorAssociation</th>\n",
       "      <th>bodyText</th>\n",
       "      <th>closedAt</th>\n",
       "      <th>comments</th>\n",
       "      <th>createdAt</th>\n",
       "      <th>resourcePath</th>\n",
       "      <th>state</th>\n",
       "      <th>title</th>\n",
       "      <th>updatedAt</th>\n",
       "      <th>author</th>\n",
       "      <th>company</th>\n",
       "      <th>files</th>\n",
       "      <th>mergedBy</th>\n",
       "    </tr>\n",
       "  </thead>\n",
       "  <tbody>\n",
       "    <tr>\n",
       "      <th>0</th>\n",
       "      <td>OWNER</td>\n",
       "      <td>Test PR</td>\n",
       "      <td>NaT</td>\n",
       "      <td>{'totalCount': 1, 'nodes': [{'author': {'login...</td>\n",
       "      <td>2019-05-21 18:31:23+00:00</td>\n",
       "      <td>/adamsmith/game-theory-poker/pull/1</td>\n",
       "      <td>OPEN</td>\n",
       "      <td>Update DoShowdowns.java</td>\n",
       "      <td>2019-05-21 18:31:25+00:00</td>\n",
       "      <td>adamsmith</td>\n",
       "      <td>@kiteco</td>\n",
       "      <td>1</td>\n",
       "      <td>NaN</td>\n",
       "    </tr>\n",
       "  </tbody>\n",
       "</table>\n",
       "</div>"
      ],
      "text/plain": [
       "  authorAssociation bodyText closedAt  \\\n",
       "0             OWNER  Test PR      NaT   \n",
       "\n",
       "                                            comments  \\\n",
       "0  {'totalCount': 1, 'nodes': [{'author': {'login...   \n",
       "\n",
       "                  createdAt                         resourcePath state  \\\n",
       "0 2019-05-21 18:31:23+00:00  /adamsmith/game-theory-poker/pull/1  OPEN   \n",
       "\n",
       "                     title                 updatedAt     author   company  \\\n",
       "0  Update DoShowdowns.java 2019-05-21 18:31:25+00:00  adamsmith  @kiteco    \n",
       "\n",
       "   files  mergedBy  \n",
       "0      1       NaN  "
      ]
     },
     "execution_count": 13,
     "metadata": {},
     "output_type": "execute_result"
    }
   ],
   "source": [
    "adamsmith.head()"
   ]
  },
  {
   "cell_type": "code",
   "execution_count": 18,
   "metadata": {},
   "outputs": [],
   "source": [
    "def monthly_count(df):\n",
    "    \n",
    "    # Change to pandas datetime object\n",
    "    df['createdAt'] =  df['createdAt'].apply(pd.Timestamp)\n",
    "    df['closedAt'] =  df['closedAt'].apply(pd.Timestamp)\n",
    "    \n",
    "    # Group by committedDate's month and get the count\n",
    "    df_group = df.groupby(df['createdAt'].dt.to_period('M')) \\\n",
    "                                                 .count()['title'] \\\n",
    "                                                 .reset_index() \\\n",
    "                                                 .rename(columns={'title': 'countByMonth'})\n",
    "    \n",
    "    # Normalize count and create a insert back into df_group\n",
    "    df_group['countByMonthNorm'] = normalize([df_group['countByMonth']])[0]\n",
    "    \n",
    "    return df_group"
   ]
  },
  {
   "cell_type": "code",
   "execution_count": 19,
   "metadata": {},
   "outputs": [
    {
     "name": "stderr",
     "output_type": "stream",
     "text": [
      "C:\\Users\\Dustin\\Anaconda3\\lib\\site-packages\\pandas\\core\\arrays\\datetimes.py:1172: UserWarning: Converting to PeriodArray/Index representation will drop timezone information.\n",
      "  \"will drop timezone information.\", UserWarning)\n",
      "C:\\Users\\Dustin\\Anaconda3\\lib\\site-packages\\pandas\\core\\arrays\\datetimes.py:1172: UserWarning: Converting to PeriodArray/Index representation will drop timezone information.\n",
      "  \"will drop timezone information.\", UserWarning)\n",
      "C:\\Users\\Dustin\\Anaconda3\\lib\\site-packages\\pandas\\core\\arrays\\datetimes.py:1172: UserWarning: Converting to PeriodArray/Index representation will drop timezone information.\n",
      "  \"will drop timezone information.\", UserWarning)\n",
      "C:\\Users\\Dustin\\Anaconda3\\lib\\site-packages\\pandas\\core\\arrays\\datetimes.py:1172: UserWarning: Converting to PeriodArray/Index representation will drop timezone information.\n",
      "  \"will drop timezone information.\", UserWarning)\n",
      "C:\\Users\\Dustin\\Anaconda3\\lib\\site-packages\\pandas\\core\\arrays\\datetimes.py:1172: UserWarning: Converting to PeriodArray/Index representation will drop timezone information.\n",
      "  \"will drop timezone information.\", UserWarning)\n",
      "C:\\Users\\Dustin\\Anaconda3\\lib\\site-packages\\pandas\\core\\arrays\\datetimes.py:1172: UserWarning: Converting to PeriodArray/Index representation will drop timezone information.\n",
      "  \"will drop timezone information.\", UserWarning)\n",
      "C:\\Users\\Dustin\\Anaconda3\\lib\\site-packages\\pandas\\core\\arrays\\datetimes.py:1172: UserWarning: Converting to PeriodArray/Index representation will drop timezone information.\n",
      "  \"will drop timezone information.\", UserWarning)\n"
     ]
    }
   ],
   "source": [
    "adamsmith_pr = monthly_count(adamsmith)\n",
    "embulk_pr = monthly_count(embulk)\n",
    "google_pr = monthly_count(google)\n",
    "guillaume_pr = monthly_count(guillaume)\n",
    "iven_pr = monthly_count(iven)\n",
    "oleiade_pr = monthly_count(oleiade)\n",
    "pandas_pr = monthly_count(pandas)\n",
    "yang_pr = monthly_count(yang)"
   ]
  },
  {
   "cell_type": "code",
   "execution_count": 20,
   "metadata": {},
   "outputs": [],
   "source": [
    "from tslearn.metrics import dtw_path"
   ]
  },
  {
   "cell_type": "code",
   "execution_count": 21,
   "metadata": {},
   "outputs": [],
   "source": [
    "monthly_pr_list = [adamsmith_pr, embulk_pr, google_pr, guillaume_pr, iven_pr, oleiade_pr, pandas_pr, yang_pr]\n",
    "monthly_pr_list_str = ['adamsmith_pr', 'embulk_pr', 'google_pr', 'guillaume_pr', 'iven_pr', 'oleiade_pr', 'pandas_pr', 'yang_pr']"
   ]
  },
  {
   "cell_type": "code",
   "execution_count": 22,
   "metadata": {},
   "outputs": [],
   "source": [
    "def calc_dtw(issue_num):\n",
    "    dtw = []\n",
    "    path = []\n",
    "\n",
    "    for el in range(len(monthly_pr_list)):\n",
    "        dtw_pathing = dtw_path(monthly_pr_list[issue_num].iloc[:,-1].tolist(), monthly_pr_list[el].iloc[:,-1].tolist())\n",
    "        dtw.append((monthly_pr_list_str[issue_num], monthly_pr_list_str[el], dtw_pathing[1]))\n",
    "        path.append((monthly_pr_list_str[issue_num], monthly_pr_list_str[el], dtw_pathing[0]))\n",
    "        \n",
    "    return dtw, path"
   ]
  },
  {
   "cell_type": "code",
   "execution_count": 23,
   "metadata": {},
   "outputs": [],
   "source": [
    "def plot_graph(dtw, num_dtw, pr_num):\n",
    "    print(dtw[pr_num])\n",
    "    monthly_pr_list[num_dtw].plot(x='createdAt', y='countByMonthNorm')\n",
    "    monthly_pr_list[pr_num].plot(x='createdAt', y='countByMonthNorm')"
   ]
  },
  {
   "cell_type": "code",
   "execution_count": 25,
   "metadata": {},
   "outputs": [],
   "source": [
    "dtw_1, path_1 = calc_dtw(1)"
   ]
  },
  {
   "cell_type": "code",
   "execution_count": 28,
   "metadata": {},
   "outputs": [
    {
     "data": {
      "text/plain": [
       "[('embulk_pr', 'adamsmith_pr', 6.6262339773821),\n",
       " ('embulk_pr', 'embulk_pr', 0.0),\n",
       " ('embulk_pr', 'google_pr', 0.4811666946880229),\n",
       " ('embulk_pr', 'guillaume_pr', 2.680476629915532),\n",
       " ('embulk_pr', 'iven_pr', 1.2701481265973096),\n",
       " ('embulk_pr', 'oleiade_pr', 0.7712999963507984),\n",
       " ('embulk_pr', 'pandas_pr', 0.5173608211438785),\n",
       " ('embulk_pr', 'yang_pr', 1.1211304683488668)]"
      ]
     },
     "execution_count": 28,
     "metadata": {},
     "output_type": "execute_result"
    }
   ],
   "source": [
    "dtw_1"
   ]
  },
  {
   "cell_type": "code",
   "execution_count": 29,
   "metadata": {},
   "outputs": [
    {
     "name": "stdout",
     "output_type": "stream",
     "text": [
      "('embulk_pr', 'pandas_pr', 0.5173608211438785)\n"
     ]
    },
    {
     "data": {
      "image/png": "[encoded data removed]",
      "text/plain": [
       "<Figure size 432x288 with 1 Axes>"
      ]
     },
     "metadata": {
      "needs_background": "light"
     },
     "output_type": "display_data"
    },
    {
     "data": {
      "image/png": "[encoded data removed]",
      "text/plain": [
       "<Figure size 432x288 with 1 Axes>"
      ]
     },
     "metadata": {
      "needs_background": "light"
     },
     "output_type": "display_data"
    }
   ],
   "source": [
    "plot_graph(dtw_1, 1, 6)"
   ]
  },
  {
   "cell_type": "code",
   "execution_count": null,
   "metadata": {},
   "outputs": [],
   "source": []
  }
 ],
 "metadata": {
  "kernelspec": {
   "display_name": "Python 3",
   "language": "python",
   "name": "python3"
  },
  "language_info": {
   "codemirror_mode": {
    "name": "ipython",
    "version": 3
   },
   "file_extension": ".py",
   "mimetype": "text/x-python",
   "name": "python",
   "nbconvert_exporter": "python",
   "pygments_lexer": "ipython3",
   "version": "3.7.3"
  }
 },
 "nbformat": 4,
 "nbformat_minor": 4
}
