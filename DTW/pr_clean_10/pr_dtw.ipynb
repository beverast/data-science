{
 "cells": [
  {
   "cell_type": "markdown",
   "metadata": {},
   "source": [
    "# Pull Request DTW"
   ]
  },
  {
   "cell_type": "code",
   "execution_count": 1,
   "metadata": {},
   "outputs": [],
   "source": [
    "import pandas as pd\n",
    "import numpy as np\n",
    "import matplotlib.pyplot as plt\n",
    "import seaborn as sns\n",
    "from tslearn import metrics\n",
    "import os\n",
    "from sklearn.preprocessing import normalize"
   ]
  },
  {
   "cell_type": "code",
   "execution_count": 2,
   "metadata": {},
   "outputs": [
    {
     "data": {
      "text/plain": [
       "['adamsmith_pr_cleaned.pk1',\n",
       " 'embulk_pr_cleaned.pk1',\n",
       " 'google_pr_cleaned.pk1',\n",
       " 'guillaume_pr_cleaned.pk1',\n",
       " 'iven_pr_cleaned.pk1',\n",
       " 'oleiade_pr_cleaned.pk1',\n",
       " 'pandas_pr_cleaned.pk1',\n",
       " 'yang_pr_cleaned.pk1']"
      ]
     },
     "execution_count": 2,
     "metadata": {},
     "output_type": "execute_result"
    }
   ],
   "source": [
    "pr_files = [file for file in os.listdir() if 'cleaned.pk1' in file]\n",
    "pr_files"
   ]
  },
  {
   "cell_type": "code",
   "execution_count": 3,
   "metadata": {},
   "outputs": [
    {
     "name": "stdout",
     "output_type": "stream",
     "text": [
      "adamsmith_pr_cleaned.pk1 (1, 13)\n",
      "embulk_pr_cleaned.pk1 (786, 13)\n",
      "google_pr_cleaned.pk1 (134, 13)\n",
      "guillaume_pr_cleaned.pk1 (3, 13)\n",
      "iven_pr_cleaned.pk1 (8, 13)\n",
      "oleiade_pr_cleaned.pk1 (46, 13)\n",
      "pandas_pr_cleaned.pk1 (12797, 16)\n",
      "yang_pr_cleaned.pk1 (12, 13)\n"
     ]
    }
   ],
   "source": [
    "# Check shape\n",
    "for file in pr_files:\n",
    "    print(file, pd.read_pickle(file).shape)"
   ]
  },
  {
   "cell_type": "code",
   "execution_count": 4,
   "metadata": {},
   "outputs": [],
   "source": [
    "adamsmith = pd.read_pickle(pr_files[0])\n",
    "embulk = pd.read_pickle(pr_files[1])\n",
    "google = pd.read_pickle(pr_files[2])\n",
    "guillaume = pd.read_pickle(pr_files[3])\n",
    "iven = pd.read_pickle(pr_files[4])\n",
    "oleiade = pd.read_pickle(pr_files[5])\n",
    "pandas = pd.read_pickle(pr_files[6])\n",
    "yang = pd.read_pickle(pr_files[7])"
   ]
  },
  {
   "cell_type": "code",
   "execution_count": 5,
   "metadata": {},
   "outputs": [
    {
     "data": {
      "text/html": [
       "<div>\n",
       "<style scoped>\n",
       "    .dataframe tbody tr th:only-of-type {\n",
       "        vertical-align: middle;\n",
       "    }\n",
       "\n",
       "    .dataframe tbody tr th {\n",
       "        vertical-align: top;\n",
       "    }\n",
       "\n",
       "    .dataframe thead th {\n",
       "        text-align: right;\n",
       "    }\n",
       "</style>\n",
       "<table border=\"1\" class=\"dataframe\">\n",
       "  <thead>\n",
       "    <tr style=\"text-align: right;\">\n",
       "      <th></th>\n",
       "      <th>authorAssociation</th>\n",
       "      <th>bodyText</th>\n",
       "      <th>closedAt</th>\n",
       "      <th>comments</th>\n",
       "      <th>createdAt</th>\n",
       "      <th>resourcePath</th>\n",
       "      <th>state</th>\n",
       "      <th>title</th>\n",
       "      <th>updatedAt</th>\n",
       "      <th>author</th>\n",
       "      <th>company</th>\n",
       "      <th>files</th>\n",
       "      <th>mergedBy</th>\n",
       "    </tr>\n",
       "  </thead>\n",
       "  <tbody>\n",
       "    <tr>\n",
       "      <th>0</th>\n",
       "      <td>OWNER</td>\n",
       "      <td>Test PR</td>\n",
       "      <td>NaT</td>\n",
       "      <td>{'totalCount': 1, 'nodes': [{'author': {'login...</td>\n",
       "      <td>2019-05-21 18:31:23+00:00</td>\n",
       "      <td>/adamsmith/game-theory-poker/pull/1</td>\n",
       "      <td>OPEN</td>\n",
       "      <td>Update DoShowdowns.java</td>\n",
       "      <td>2019-05-21 18:31:25+00:00</td>\n",
       "      <td>adamsmith</td>\n",
       "      <td>@kiteco</td>\n",
       "      <td>1</td>\n",
       "      <td>NaN</td>\n",
       "    </tr>\n",
       "  </tbody>\n",
       "</table>\n",
       "</div>"
      ],
      "text/plain": [
       "  authorAssociation bodyText closedAt  \\\n",
       "0             OWNER  Test PR      NaT   \n",
       "\n",
       "                                            comments  \\\n",
       "0  {'totalCount': 1, 'nodes': [{'author': {'login...   \n",
       "\n",
       "                  createdAt                         resourcePath state  \\\n",
       "0 2019-05-21 18:31:23+00:00  /adamsmith/game-theory-poker/pull/1  OPEN   \n",
       "\n",
       "                     title                 updatedAt     author   company  \\\n",
       "0  Update DoShowdowns.java 2019-05-21 18:31:25+00:00  adamsmith  @kiteco    \n",
       "\n",
       "   files  mergedBy  \n",
       "0      1       NaN  "
      ]
     },
     "execution_count": 5,
     "metadata": {},
     "output_type": "execute_result"
    }
   ],
   "source": [
    "adamsmith.head()"
   ]
  },
  {
   "cell_type": "markdown",
   "metadata": {},
   "source": [
    "# Monthly Count"
   ]
  },
  {
   "cell_type": "code",
   "execution_count": 6,
   "metadata": {},
   "outputs": [],
   "source": [
    "def monthly_count(df):\n",
    "    \n",
    "    # Change to pandas datetime object\n",
    "    df['createdAt'] =  df['createdAt'].apply(pd.Timestamp)\n",
    "    df['closedAt'] =  df['closedAt'].apply(pd.Timestamp)\n",
    "    \n",
    "    # Group by committedDate's month and get the count\n",
    "    df_group = df.groupby(df['createdAt'].dt.to_period('M')) \\\n",
    "                                                 .count()['title'] \\\n",
    "                                                 .reset_index() \\\n",
    "                                                 .rename(columns={'title': 'countByMonth'})\n",
    "    \n",
    "    # Normalize count and create a insert back into df_group\n",
    "    df_group['countByMonthNorm'] = normalize([df_group['countByMonth']])[0]\n",
    "    \n",
    "    return df_group"
   ]
  },
  {
   "cell_type": "code",
   "execution_count": 7,
   "metadata": {},
   "outputs": [
    {
     "name": "stderr",
     "output_type": "stream",
     "text": [
      "C:\\Users\\Dustin\\Anaconda3\\lib\\site-packages\\pandas\\core\\arrays\\datetimes.py:1172: UserWarning: Converting to PeriodArray/Index representation will drop timezone information.\n",
      "  \"will drop timezone information.\", UserWarning)\n",
      "C:\\Users\\Dustin\\Anaconda3\\lib\\site-packages\\pandas\\core\\arrays\\datetimes.py:1172: UserWarning: Converting to PeriodArray/Index representation will drop timezone information.\n",
      "  \"will drop timezone information.\", UserWarning)\n",
      "C:\\Users\\Dustin\\Anaconda3\\lib\\site-packages\\pandas\\core\\arrays\\datetimes.py:1172: UserWarning: Converting to PeriodArray/Index representation will drop timezone information.\n",
      "  \"will drop timezone information.\", UserWarning)\n",
      "C:\\Users\\Dustin\\Anaconda3\\lib\\site-packages\\pandas\\core\\arrays\\datetimes.py:1172: UserWarning: Converting to PeriodArray/Index representation will drop timezone information.\n",
      "  \"will drop timezone information.\", UserWarning)\n",
      "C:\\Users\\Dustin\\Anaconda3\\lib\\site-packages\\pandas\\core\\arrays\\datetimes.py:1172: UserWarning: Converting to PeriodArray/Index representation will drop timezone information.\n",
      "  \"will drop timezone information.\", UserWarning)\n",
      "C:\\Users\\Dustin\\Anaconda3\\lib\\site-packages\\pandas\\core\\arrays\\datetimes.py:1172: UserWarning: Converting to PeriodArray/Index representation will drop timezone information.\n",
      "  \"will drop timezone information.\", UserWarning)\n",
      "C:\\Users\\Dustin\\Anaconda3\\lib\\site-packages\\pandas\\core\\arrays\\datetimes.py:1172: UserWarning: Converting to PeriodArray/Index representation will drop timezone information.\n",
      "  \"will drop timezone information.\", UserWarning)\n",
      "C:\\Users\\Dustin\\Anaconda3\\lib\\site-packages\\pandas\\core\\arrays\\datetimes.py:1172: UserWarning: Converting to PeriodArray/Index representation will drop timezone information.\n",
      "  \"will drop timezone information.\", UserWarning)\n"
     ]
    }
   ],
   "source": [
    "adamsmith_pr = monthly_count(adamsmith)\n",
    "embulk_pr = monthly_count(embulk)\n",
    "google_pr = monthly_count(google)\n",
    "guillaume_pr = monthly_count(guillaume)\n",
    "iven_pr = monthly_count(iven)\n",
    "oleiade_pr = monthly_count(oleiade)\n",
    "pandas_pr = monthly_count(pandas)\n",
    "yang_pr = monthly_count(yang)"
   ]
  },
  {
   "cell_type": "markdown",
   "metadata": {},
   "source": [
    "# Dynamic Time Warping"
   ]
  },
  {
   "cell_type": "code",
   "execution_count": 8,
   "metadata": {},
   "outputs": [],
   "source": [
    "from tslearn.metrics import dtw_path"
   ]
  },
  {
   "cell_type": "code",
   "execution_count": 9,
   "metadata": {},
   "outputs": [],
   "source": [
    "monthly_pr_list = [adamsmith_pr, embulk_pr, google_pr, guillaume_pr, iven_pr, oleiade_pr, pandas_pr, yang_pr]\n",
    "monthly_pr_list_str = ['adamsmith_pr', 'embulk_pr', 'google_pr', 'guillaume_pr', 'iven_pr', 'oleiade_pr', 'pandas_pr', 'yang_pr']"
   ]
  },
  {
   "cell_type": "markdown",
   "metadata": {},
   "source": [
    "### Calculate DTW"
   ]
  },
  {
   "cell_type": "code",
   "execution_count": 10,
   "metadata": {},
   "outputs": [],
   "source": [
    "def calc_dtw(pr_num):\n",
    "    dtw = []\n",
    "    path = []\n",
    "\n",
    "    for el in range(len(monthly_pr_list)):\n",
    "        dtw_pathing = dtw_path(monthly_pr_list[pr_num].iloc[:,-1].tolist(), monthly_pr_list[el].iloc[:,-1].tolist())\n",
    "        dtw.append((monthly_pr_list_str[pr_num], monthly_pr_list_str[el], dtw_pathing[1]))\n",
    "        path.append((monthly_pr_list_str[pr_num], monthly_pr_list_str[el], dtw_pathing[0]))\n",
    "        \n",
    "    return dtw, path"
   ]
  },
  {
   "cell_type": "code",
   "execution_count": 11,
   "metadata": {},
   "outputs": [],
   "source": [
    "dtw_1, path_1 = calc_dtw(1)"
   ]
  },
  {
   "cell_type": "code",
   "execution_count": 12,
   "metadata": {},
   "outputs": [
    {
     "data": {
      "text/plain": [
       "[('embulk_pr', 'adamsmith_pr', 6.6262339773821),\n",
       " ('embulk_pr', 'embulk_pr', 0.0),\n",
       " ('embulk_pr', 'google_pr', 0.4811666946880229),\n",
       " ('embulk_pr', 'guillaume_pr', 2.680476629915532),\n",
       " ('embulk_pr', 'iven_pr', 1.2701481265973096),\n",
       " ('embulk_pr', 'oleiade_pr', 0.7712999963507984),\n",
       " ('embulk_pr', 'pandas_pr', 0.5173608211438785),\n",
       " ('embulk_pr', 'yang_pr', 1.1211304683488668)]"
      ]
     },
     "execution_count": 12,
     "metadata": {},
     "output_type": "execute_result"
    }
   ],
   "source": [
    "dtw_1"
   ]
  },
  {
   "cell_type": "markdown",
   "metadata": {},
   "source": [
    "### Plot"
   ]
  },
  {
   "cell_type": "code",
   "execution_count": 13,
   "metadata": {},
   "outputs": [],
   "source": [
    "def plot_graph(dtw, start_dtw, compare_dtw):\n",
    "    print(dtw[compare_dtw])\n",
    "    monthly_pr_list[start_dtw].plot(x='createdAt', y='countByMonthNorm')\n",
    "    monthly_pr_list[compare_dtw].plot(x='createdAt', y='countByMonthNorm')"
   ]
  },
  {
   "cell_type": "code",
   "execution_count": 14,
   "metadata": {},
   "outputs": [
    {
     "name": "stdout",
     "output_type": "stream",
     "text": [
      "('embulk_pr', 'pandas_pr', 0.5173608211438785)\n"
     ]
    },
    {
     "data": {
      "image/png": "[encoded data removed]",
      "text/plain": [
       "<Figure size 432x288 with 1 Axes>"
      ]
     },
     "metadata": {
      "needs_background": "light"
     },
     "output_type": "display_data"
    },
    {
     "data": {
      "image/png": "[encoded data removed]",
      "text/plain": [
       "<Figure size 432x288 with 1 Axes>"
      ]
     },
     "metadata": {
      "needs_background": "light"
     },
     "output_type": "display_data"
    }
   ],
   "source": [
    "plot_graph(dtw_1, 1, 6)"
   ]
  },
  {
   "cell_type": "markdown",
   "metadata": {},
   "source": [
    "### Make Dictionary"
   ]
  },
  {
   "cell_type": "code",
   "execution_count": 15,
   "metadata": {},
   "outputs": [],
   "source": [
    "def make_dict(num):\n",
    "    \n",
    "    dtw_1, path_1 = calc_dtw(num)\n",
    "    my_dict = {dtw_1[i][1]:dtw_1[i][2] for i in range(len(dtw_1))}\n",
    "    \n",
    "    return my_dict"
   ]
  },
  {
   "cell_type": "code",
   "execution_count": 16,
   "metadata": {},
   "outputs": [],
   "source": [
    "adamsmith_dict = make_dict(0)\n",
    "embulk_dict = make_dict(1)\n",
    "google_dict = make_dict(2)\n",
    "guillaume_dict = make_dict(3)\n",
    "iven_dict = make_dict(4)\n",
    "oleiade_dict = make_dict(5)\n",
    "pandas_dict = make_dict(6)\n",
    "yang_dict = make_dict(7)\n",
    "\n",
    "\n",
    "dict_list = [adamsmith_dict, embulk_dict, google_dict, guillaume_dict, iven_dict, \n",
    "             oleiade_dict, pandas_dict, yang_dict]"
   ]
  },
  {
   "cell_type": "markdown",
   "metadata": {},
   "source": [
    "### Make DF"
   ]
  },
  {
   "cell_type": "code",
   "execution_count": 18,
   "metadata": {},
   "outputs": [
    {
     "name": "stderr",
     "output_type": "stream",
     "text": [
      "C:\\Users\\Dustin\\Anaconda3\\lib\\site-packages\\ipykernel_launcher.py:3: FutureWarning: Sorting because non-concatenation axis is not aligned. A future version\n",
      "of pandas will change to not sort by default.\n",
      "\n",
      "To accept the future behavior, pass 'sort=False'.\n",
      "\n",
      "To retain the current behavior and silence the warning, pass 'sort=True'.\n",
      "\n",
      "  This is separate from the ipykernel package so we can avoid doing imports until\n"
     ]
    }
   ],
   "source": [
    "df = pd.Series()\n",
    "for el in range(len(dict_list)):\n",
    "    df = pd.concat([df, pd.Series(dict_list[el], name=monthly_pr_list_str[el])], axis=1)\n",
    "df = df.drop(columns=0)"
   ]
  },
  {
   "cell_type": "code",
   "execution_count": 19,
   "metadata": {},
   "outputs": [
    {
     "data": {
      "text/html": [
       "<div>\n",
       "<style scoped>\n",
       "    .dataframe tbody tr th:only-of-type {\n",
       "        vertical-align: middle;\n",
       "    }\n",
       "\n",
       "    .dataframe tbody tr th {\n",
       "        vertical-align: top;\n",
       "    }\n",
       "\n",
       "    .dataframe thead th {\n",
       "        text-align: right;\n",
       "    }\n",
       "</style>\n",
       "<table border=\"1\" class=\"dataframe\">\n",
       "  <thead>\n",
       "    <tr style=\"text-align: right;\">\n",
       "      <th></th>\n",
       "      <th>adamsmith_pr</th>\n",
       "      <th>embulk_pr</th>\n",
       "      <th>google_pr</th>\n",
       "      <th>guillaume_pr</th>\n",
       "      <th>iven_pr</th>\n",
       "      <th>oleiade_pr</th>\n",
       "      <th>pandas_pr</th>\n",
       "      <th>yang_pr</th>\n",
       "    </tr>\n",
       "  </thead>\n",
       "  <tbody>\n",
       "    <tr>\n",
       "      <th>adamsmith_pr</th>\n",
       "      <td>0.000000</td>\n",
       "      <td>6.626234</td>\n",
       "      <td>5.579035</td>\n",
       "      <td>0.562777</td>\n",
       "      <td>0.928516</td>\n",
       "      <td>3.048672</td>\n",
       "      <td>9.182422</td>\n",
       "      <td>1.970579</td>\n",
       "    </tr>\n",
       "    <tr>\n",
       "      <th>embulk_pr</th>\n",
       "      <td>6.626234</td>\n",
       "      <td>0.000000</td>\n",
       "      <td>0.481167</td>\n",
       "      <td>2.680477</td>\n",
       "      <td>1.270148</td>\n",
       "      <td>0.771300</td>\n",
       "      <td>0.517361</td>\n",
       "      <td>1.121130</td>\n",
       "    </tr>\n",
       "    <tr>\n",
       "      <th>google_pr</th>\n",
       "      <td>5.579035</td>\n",
       "      <td>0.481167</td>\n",
       "      <td>0.000000</td>\n",
       "      <td>2.317763</td>\n",
       "      <td>1.148698</td>\n",
       "      <td>0.737693</td>\n",
       "      <td>0.617818</td>\n",
       "      <td>0.939167</td>\n",
       "    </tr>\n",
       "    <tr>\n",
       "      <th>guillaume_pr</th>\n",
       "      <td>0.562777</td>\n",
       "      <td>2.680477</td>\n",
       "      <td>2.317763</td>\n",
       "      <td>0.000000</td>\n",
       "      <td>0.520070</td>\n",
       "      <td>1.137400</td>\n",
       "      <td>3.760120</td>\n",
       "      <td>0.728220</td>\n",
       "    </tr>\n",
       "    <tr>\n",
       "      <th>iven_pr</th>\n",
       "      <td>0.928516</td>\n",
       "      <td>1.270148</td>\n",
       "      <td>1.148698</td>\n",
       "      <td>0.520070</td>\n",
       "      <td>0.000000</td>\n",
       "      <td>0.862924</td>\n",
       "      <td>1.483738</td>\n",
       "      <td>0.593780</td>\n",
       "    </tr>\n",
       "    <tr>\n",
       "      <th>oleiade_pr</th>\n",
       "      <td>3.048672</td>\n",
       "      <td>0.771300</td>\n",
       "      <td>0.737693</td>\n",
       "      <td>1.137400</td>\n",
       "      <td>0.862924</td>\n",
       "      <td>0.000000</td>\n",
       "      <td>0.847836</td>\n",
       "      <td>0.537964</td>\n",
       "    </tr>\n",
       "    <tr>\n",
       "      <th>pandas_pr</th>\n",
       "      <td>9.182422</td>\n",
       "      <td>0.517361</td>\n",
       "      <td>0.617818</td>\n",
       "      <td>3.760120</td>\n",
       "      <td>1.483738</td>\n",
       "      <td>0.847836</td>\n",
       "      <td>0.000000</td>\n",
       "      <td>1.514482</td>\n",
       "    </tr>\n",
       "    <tr>\n",
       "      <th>yang_pr</th>\n",
       "      <td>1.970579</td>\n",
       "      <td>1.121130</td>\n",
       "      <td>0.939167</td>\n",
       "      <td>0.728220</td>\n",
       "      <td>0.593780</td>\n",
       "      <td>0.537964</td>\n",
       "      <td>1.514482</td>\n",
       "      <td>0.000000</td>\n",
       "    </tr>\n",
       "  </tbody>\n",
       "</table>\n",
       "</div>"
      ],
      "text/plain": [
       "              adamsmith_pr  embulk_pr  google_pr  guillaume_pr   iven_pr  \\\n",
       "adamsmith_pr      0.000000   6.626234   5.579035      0.562777  0.928516   \n",
       "embulk_pr         6.626234   0.000000   0.481167      2.680477  1.270148   \n",
       "google_pr         5.579035   0.481167   0.000000      2.317763  1.148698   \n",
       "guillaume_pr      0.562777   2.680477   2.317763      0.000000  0.520070   \n",
       "iven_pr           0.928516   1.270148   1.148698      0.520070  0.000000   \n",
       "oleiade_pr        3.048672   0.771300   0.737693      1.137400  0.862924   \n",
       "pandas_pr         9.182422   0.517361   0.617818      3.760120  1.483738   \n",
       "yang_pr           1.970579   1.121130   0.939167      0.728220  0.593780   \n",
       "\n",
       "              oleiade_pr  pandas_pr   yang_pr  \n",
       "adamsmith_pr    3.048672   9.182422  1.970579  \n",
       "embulk_pr       0.771300   0.517361  1.121130  \n",
       "google_pr       0.737693   0.617818  0.939167  \n",
       "guillaume_pr    1.137400   3.760120  0.728220  \n",
       "iven_pr         0.862924   1.483738  0.593780  \n",
       "oleiade_pr      0.000000   0.847836  0.537964  \n",
       "pandas_pr       0.847836   0.000000  1.514482  \n",
       "yang_pr         0.537964   1.514482  0.000000  "
      ]
     },
     "execution_count": 19,
     "metadata": {},
     "output_type": "execute_result"
    }
   ],
   "source": [
    "df"
   ]
  },
  {
   "cell_type": "code",
   "execution_count": 20,
   "metadata": {},
   "outputs": [],
   "source": [
    "df.to_csv('pr_dtw.csv', index=False)"
   ]
  },
  {
   "cell_type": "markdown",
   "metadata": {},
   "source": [
    "# [Hiearchical Clustering](https://stackabuse.com/hierarchical-clustering-with-python-and-scikit-learn/)"
   ]
  },
  {
   "cell_type": "code",
   "execution_count": 31,
   "metadata": {},
   "outputs": [
    {
     "name": "stderr",
     "output_type": "stream",
     "text": [
      "C:\\Users\\Dustin\\Anaconda3\\lib\\site-packages\\ipykernel_launcher.py:3: FutureWarning: Method .as_matrix will be removed in a future version. Use .values instead.\n",
      "  This is separate from the ipykernel package so we can avoid doing imports until\n",
      "C:\\Users\\Dustin\\Anaconda3\\lib\\site-packages\\ipykernel_launcher.py:3: ClusterWarning: scipy.cluster: The symmetric non-negative hollow observation matrix looks suspiciously like an uncondensed distance matrix\n",
      "  This is separate from the ipykernel package so we can avoid doing imports until\n"
     ]
    },
    {
     "data": {
      "image/png": "[encoded data removed]",
      "text/plain": [
       "<Figure size 1440x720 with 1 Axes>"
      ]
     },
     "metadata": {
      "needs_background": "light"
     },
     "output_type": "display_data"
    }
   ],
   "source": [
    "from scipy.cluster.hierarchy import dendrogram, linkage\n",
    "\n",
    "linked = linkage(df.as_matrix(), 'ward')\n",
    "labelList = df.index\n",
    "\n",
    "plt.figure(figsize=(20, 10))\n",
    "plt.title('Hiearchical Clustering for Pull Requests')\n",
    "dendrogram(linked,\n",
    "            orientation='top',\n",
    "            labels=labelList,\n",
    "            distance_sort='descending',\n",
    "            show_leaf_counts=True,\n",
    "            color_threshold=2.5)\n",
    "plt.show()"
   ]
  },
  {
   "cell_type": "markdown",
   "metadata": {},
   "source": [
    "# [Agglomerative Clustering](https://medium.com/@sametgirgin/hierarchical-clustering-model-in-5-steps-with-python-6c45087d4318)"
   ]
  },
  {
   "cell_type": "code",
   "execution_count": 35,
   "metadata": {},
   "outputs": [
    {
     "name": "stderr",
     "output_type": "stream",
     "text": [
      "C:\\Users\\Dustin\\Anaconda3\\lib\\site-packages\\ipykernel_launcher.py:4: FutureWarning: Method .as_matrix will be removed in a future version. Use .values instead.\n",
      "  after removing the cwd from sys.path.\n",
      "C:\\Users\\Dustin\\Anaconda3\\lib\\site-packages\\scipy\\cluster\\hierarchy.py:878: ClusterWarning: scipy.cluster: The symmetric non-negative hollow observation matrix looks suspiciously like an uncondensed distance matrix\n",
      "  return linkage(y, method='ward', metric='euclidean')\n"
     ]
    },
    {
     "data": {
      "text/plain": [
       "<matplotlib.collections.PathCollection at 0x1f5c9808748>"
      ]
     },
     "execution_count": 35,
     "metadata": {},
     "output_type": "execute_result"
    },
    {
     "data": {
      "image/png": "[encoded data removed]",
      "text/plain": [
       "<Figure size 432x288 with 1 Axes>"
      ]
     },
     "metadata": {
      "needs_background": "light"
     },
     "output_type": "display_data"
    }
   ],
   "source": [
    "from sklearn.cluster import AgglomerativeClustering \n",
    "hc = AgglomerativeClustering(n_clusters = 3, affinity = 'euclidean', linkage ='ward')\n",
    "\n",
    "X = df.as_matrix()\n",
    "\n",
    "y = hc.fit_predict(X)\n",
    "\n",
    "plt.scatter(X[y==0, 0], X[y==0, 1], s=100, c='red', label ='Cluster 1')\n",
    "plt.scatter(X[y==1, 0], X[y==1, 1], s=100, c='blue', label ='Cluster 2')\n",
    "plt.scatter(X[y==2, 0], X[y==2, 1], s=100, c='green', label ='Cluster 3')"
   ]
  },
  {
   "cell_type": "code",
   "execution_count": 36,
   "metadata": {},
   "outputs": [
    {
     "data": {
      "text/plain": [
       "array([1, 2, 2, 0, 0, 0, 2, 0], dtype=int64)"
      ]
     },
     "execution_count": 36,
     "metadata": {},
     "output_type": "execute_result"
    }
   ],
   "source": [
    "y"
   ]
  },
  {
   "cell_type": "code",
   "execution_count": 37,
   "metadata": {},
   "outputs": [
    {
     "data": {
      "text/plain": [
       "Index(['adamsmith_pr', 'embulk_pr', 'google_pr', 'guillaume_pr', 'iven_pr',\n",
       "       'oleiade_pr', 'pandas_pr', 'yang_pr'],\n",
       "      dtype='object')"
      ]
     },
     "execution_count": 37,
     "metadata": {},
     "output_type": "execute_result"
    }
   ],
   "source": [
    "df.columns"
   ]
  },
  {
   "cell_type": "code",
   "execution_count": null,
   "metadata": {},
   "outputs": [],
   "source": []
  }
 ],
 "metadata": {
  "kernelspec": {
   "display_name": "Python 3",
   "language": "python",
   "name": "python3"
  },
  "language_info": {
   "codemirror_mode": {
    "name": "ipython",
    "version": 3
   },
   "file_extension": ".py",
   "mimetype": "text/x-python",
   "name": "python",
   "nbconvert_exporter": "python",
   "pygments_lexer": "ipython3",
   "version": "3.7.3"
  }
 },
 "nbformat": 4,
 "nbformat_minor": 4
}
