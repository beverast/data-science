{
 "cells": [
  {
   "cell_type": "code",
   "execution_count": 1,
   "metadata": {},
   "outputs": [],
   "source": [
    "import os\n",
    "import boto3\n",
    "import re\n",
    "import copy\n",
    "import time\n",
    "from time import gmtime, strftime\n",
    "from sagemaker import get_execution_role\n",
    "\n",
    "role = get_execution_role()\n",
    "\n",
    "region = boto3.Session().region_name\n",
    "\n",
    "bucket='aws-logs-124182652801-us-east-2' # Replace with your s3 bucket name\n",
    "prefix = 'aws-logs-124182652801-us-east-2/GitHubData' # Used as part of the path in the bucket where you store data\n",
    "bucket_path = 'https://s3.console.aws.amazon.com/s3/buckets/aws-logs-124182652801-us-east-2/GitHubData/?region=us-east-2&tab=overview'.format(region,bucket) # The URL to access the bucket"
   ]
  },
  {
   "cell_type": "code",
   "execution_count": 2,
   "metadata": {},
   "outputs": [
    {
     "name": "stdout",
     "output_type": "stream",
     "text": [
      "(50000, 784)\n"
     ]
    }
   ],
   "source": [
    "import pickle, gzip, urllib.request, json\n",
    "import numpy as np\n",
    "\n",
    "# Load the dataset\n",
    "urllib.request.urlretrieve(\"http://deeplearning.net/data/mnist/mnist.pkl.gz\", \"mnist.pkl.gz\")\n",
    "with gzip.open('mnist.pkl.gz', 'rb') as f:\n",
    "    train_set, valid_set, test_set = pickle.load(f, encoding='latin1')\n",
    "print(train_set[0].shape)"
   ]
  },
  {
   "cell_type": "code",
   "execution_count": 8,
   "metadata": {},
   "outputs": [
    {
     "name": "stdout",
     "output_type": "stream",
     "text": [
      "train: (50000, 784) (50000,)\n",
      "Done writing to s3://aws-logs-124182652801-us-east-2/GitHubData/train/examples\n",
      "validation: (10000, 784) (10000,)\n",
      "Done writing to s3://aws-logs-124182652801-us-east-2/GitHubData/validation/examples\n",
      "test: (10000, 784) (10000,)\n",
      "Done writing to s3://aws-logs-124182652801-us-east-2/GitHubData/test/examples\n",
      "CPU times: user 50.4 s, sys: 4.71 s, total: 55.1 s\n",
      "Wall time: 45.4 s\n"
     ]
    }
   ],
   "source": [
    "%%time\n",
    "\n",
    "import struct\n",
    "import io\n",
    "import csv\n",
    "import boto3\n",
    "\n",
    "# This is an example of taking unziped data and uploading each partition \n",
    "\n",
    "def convert_data():\n",
    "    data_partitions = [('train', train_set), ('validation', valid_set), ('test', test_set)]\n",
    "    for data_partition_name, data_partition in data_partitions:\n",
    "        print('{}: {} {}'.format(data_partition_name, data_partition[0].shape, data_partition[1].shape))\n",
    "        labels = [t.tolist() for t in data_partition[1]]\n",
    "        features = [t.tolist() for t in data_partition[0]]\n",
    "        \n",
    "        if data_partition_name != 'test':\n",
    "            examples = np.insert(features, 0, labels, axis=1)\n",
    "        else:\n",
    "            examples = features\n",
    "        #print(examples[50000,:])\n",
    "        \n",
    "        \n",
    "        np.savetxt('data.csv', examples, delimiter=',')\n",
    "        \n",
    "        \n",
    "        \n",
    "        key = \"{}/{}/examples\".format(prefix,data_partition_name)\n",
    "        url = 's3://{}/{}'.format(bucket, key)\n",
    "        boto3.Session().resource('s3').Bucket(bucket).Object(key).upload_file('data.csv')\n",
    "        print('Done writing to {}'.format(url))\n",
    "        \n",
    "convert_data()"
   ]
  },
  {
   "cell_type": "code",
   "execution_count": 7,
   "metadata": {},
   "outputs": [
    {
     "name": "stdout",
     "output_type": "stream",
     "text": [
      "Collecting google-cloud-bigquery\n",
      "\u001b[?25l  Downloading https://files.pythonhosted.org/packages/35/ef/a926bcbd1aaff3ea15b0a116ae56af524a969388a46e3343d7d5fd528cc9/google_cloud_bigquery-1.18.0-py2.py3-none-any.whl (146kB)\n",
      "\u001b[K    100% |████████████████████████████████| 153kB 7.9MB/s ta 0:00:01\n",
      "\u001b[?25hRequirement already satisfied: protobuf>=3.6.0 in /home/ec2-user/anaconda3/envs/python3/lib/python3.6/site-packages (from google-cloud-bigquery) (3.6.1)\n",
      "Collecting google-cloud-core<2.0dev,>=1.0.0 (from google-cloud-bigquery)\n",
      "  Downloading https://files.pythonhosted.org/packages/ee/f0/084f598629db8e6ec3627688723875cdb03637acb6d86999bb105a71df64/google_cloud_core-1.0.3-py2.py3-none-any.whl\n",
      "Collecting google-resumable-media>=0.3.1 (from google-cloud-bigquery)\n",
      "  Downloading https://files.pythonhosted.org/packages/e2/5d/4bc5c28c252a62efe69ed1a1561da92bd5af8eca0cdcdf8e60354fae9b29/google_resumable_media-0.3.2-py2.py3-none-any.whl\n",
      "Requirement already satisfied: six>=1.9 in /home/ec2-user/anaconda3/envs/python3/lib/python3.6/site-packages (from protobuf>=3.6.0->google-cloud-bigquery) (1.11.0)\n",
      "Requirement already satisfied: setuptools in /home/ec2-user/anaconda3/envs/python3/lib/python3.6/site-packages (from protobuf>=3.6.0->google-cloud-bigquery) (39.1.0)\n",
      "Collecting google-api-core<2.0.0dev,>=1.14.0 (from google-cloud-core<2.0dev,>=1.0.0->google-cloud-bigquery)\n",
      "\u001b[?25l  Downloading https://files.pythonhosted.org/packages/71/e5/7059475b3013a3c75abe35015c5761735ab224eb1b129fee7c8e376e7805/google_api_core-1.14.2-py2.py3-none-any.whl (68kB)\n",
      "\u001b[K    100% |████████████████████████████████| 71kB 30.1MB/s ta 0:00:01\n",
      "\u001b[?25hCollecting googleapis-common-protos<2.0dev,>=1.6.0 (from google-api-core<2.0.0dev,>=1.14.0->google-cloud-core<2.0dev,>=1.0.0->google-cloud-bigquery)\n",
      "  Downloading https://files.pythonhosted.org/packages/eb/ee/e59e74ecac678a14d6abefb9054f0bbcb318a6452a30df3776f133886d7d/googleapis-common-protos-1.6.0.tar.gz\n",
      "Requirement already satisfied: pytz in /home/ec2-user/anaconda3/envs/python3/lib/python3.6/site-packages (from google-api-core<2.0.0dev,>=1.14.0->google-cloud-core<2.0dev,>=1.0.0->google-cloud-bigquery) (2018.4)\n",
      "Requirement already satisfied: requests<3.0.0dev,>=2.18.0 in /home/ec2-user/anaconda3/envs/python3/lib/python3.6/site-packages (from google-api-core<2.0.0dev,>=1.14.0->google-cloud-core<2.0dev,>=1.0.0->google-cloud-bigquery) (2.20.0)\n",
      "Collecting google-auth<2.0dev,>=0.4.0 (from google-api-core<2.0.0dev,>=1.14.0->google-cloud-core<2.0dev,>=1.0.0->google-cloud-bigquery)\n",
      "\u001b[?25l  Downloading https://files.pythonhosted.org/packages/c5/9b/ed0516cc1f7609fb0217e3057ff4f0f9f3e3ce79a369c6af4a6c5ca25664/google_auth-1.6.3-py2.py3-none-any.whl (73kB)\n",
      "\u001b[K    100% |████████████████████████████████| 81kB 28.3MB/s ta 0:00:01\n",
      "\u001b[?25hRequirement already satisfied: idna<2.8,>=2.5 in /home/ec2-user/anaconda3/envs/python3/lib/python3.6/site-packages (from requests<3.0.0dev,>=2.18.0->google-api-core<2.0.0dev,>=1.14.0->google-cloud-core<2.0dev,>=1.0.0->google-cloud-bigquery) (2.6)\n",
      "Requirement already satisfied: chardet<3.1.0,>=3.0.2 in /home/ec2-user/anaconda3/envs/python3/lib/python3.6/site-packages (from requests<3.0.0dev,>=2.18.0->google-api-core<2.0.0dev,>=1.14.0->google-cloud-core<2.0dev,>=1.0.0->google-cloud-bigquery) (3.0.4)\n",
      "Requirement already satisfied: urllib3<1.25,>=1.21.1 in /home/ec2-user/anaconda3/envs/python3/lib/python3.6/site-packages (from requests<3.0.0dev,>=2.18.0->google-api-core<2.0.0dev,>=1.14.0->google-cloud-core<2.0dev,>=1.0.0->google-cloud-bigquery) (1.23)\n",
      "Requirement already satisfied: certifi>=2017.4.17 in /home/ec2-user/anaconda3/envs/python3/lib/python3.6/site-packages (from requests<3.0.0dev,>=2.18.0->google-api-core<2.0.0dev,>=1.14.0->google-cloud-core<2.0dev,>=1.0.0->google-cloud-bigquery) (2019.6.16)\n",
      "Requirement already satisfied: rsa>=3.1.4 in /home/ec2-user/anaconda3/envs/python3/lib/python3.6/site-packages (from google-auth<2.0dev,>=0.4.0->google-api-core<2.0.0dev,>=1.14.0->google-cloud-core<2.0dev,>=1.0.0->google-cloud-bigquery) (3.4.2)\n",
      "Collecting cachetools>=2.0.0 (from google-auth<2.0dev,>=0.4.0->google-api-core<2.0.0dev,>=1.14.0->google-cloud-core<2.0dev,>=1.0.0->google-cloud-bigquery)\n",
      "  Downloading https://files.pythonhosted.org/packages/2f/a6/30b0a0bef12283e83e58c1d6e7b5aabc7acfc4110df81a4471655d33e704/cachetools-3.1.1-py2.py3-none-any.whl\n",
      "Collecting pyasn1-modules>=0.2.1 (from google-auth<2.0dev,>=0.4.0->google-api-core<2.0.0dev,>=1.14.0->google-cloud-core<2.0dev,>=1.0.0->google-cloud-bigquery)\n",
      "\u001b[?25l  Downloading https://files.pythonhosted.org/packages/be/70/e5ea8afd6d08a4b99ebfc77bd1845248d56cfcf43d11f9dc324b9580a35c/pyasn1_modules-0.2.6-py2.py3-none-any.whl (95kB)\n",
      "\u001b[K    100% |████████████████████████████████| 102kB 32.8MB/s a 0:00:01\n",
      "\u001b[?25hRequirement already satisfied: pyasn1>=0.1.3 in /home/ec2-user/anaconda3/envs/python3/lib/python3.6/site-packages (from rsa>=3.1.4->google-auth<2.0dev,>=0.4.0->google-api-core<2.0.0dev,>=1.14.0->google-cloud-core<2.0dev,>=1.0.0->google-cloud-bigquery) (0.4.6)\n",
      "Building wheels for collected packages: googleapis-common-protos\n",
      "  Running setup.py bdist_wheel for googleapis-common-protos ... \u001b[?25ldone\n",
      "\u001b[?25h  Stored in directory: /home/ec2-user/.cache/pip/wheels/9e/3d/a2/1bec8bb7db80ab3216dbc33092bb7ccd0debfb8ba42b5668d5\n",
      "Successfully built googleapis-common-protos\n",
      "Installing collected packages: googleapis-common-protos, cachetools, pyasn1-modules, google-auth, google-api-core, google-cloud-core, google-resumable-media, google-cloud-bigquery\n",
      "Successfully installed cachetools-3.1.1 google-api-core-1.14.2 google-auth-1.6.3 google-cloud-bigquery-1.18.0 google-cloud-core-1.0.3 google-resumable-media-0.3.2 googleapis-common-protos-1.6.0 pyasn1-modules-0.2.6\n",
      "\u001b[33mYou are using pip version 10.0.1, however version 19.2.2 is available.\n",
      "You should consider upgrading via the 'pip install --upgrade pip' command.\u001b[0m\n"
     ]
    }
   ],
   "source": [
    "# !pip install --upgrade pip\n",
    "!pip install google-cloud-bigquery"
   ]
  },
  {
   "cell_type": "code",
   "execution_count": null,
   "metadata": {},
   "outputs": [],
   "source": [
    "%load_ext google.cloud.bigquery"
   ]
  },
  {
   "cell_type": "code",
   "execution_count": 8,
   "metadata": {},
   "outputs": [],
   "source": [
    "from google.cloud import bigquery\n",
    "import os\n",
    "import pandas as pd\n",
    "os.environ[\"GOOGLE_APPLICATION_CREDENTIALS\"] = \"/home/ec2-user/SageMaker/CommitAnalysis/LamdaLabsProject-03b6fddae3e7.json\"\n",
    "client = bigquery.Client()"
   ]
  },
  {
   "cell_type": "code",
   "execution_count": 9,
   "metadata": {},
   "outputs": [
    {
     "data": {
      "text/html": [
       "<div>\n",
       "<style scoped>\n",
       "    .dataframe tbody tr th:only-of-type {\n",
       "        vertical-align: middle;\n",
       "    }\n",
       "\n",
       "    .dataframe tbody tr th {\n",
       "        vertical-align: top;\n",
       "    }\n",
       "\n",
       "    .dataframe thead th {\n",
       "        text-align: right;\n",
       "    }\n",
       "</style>\n",
       "<table border=\"1\" class=\"dataframe\">\n",
       "  <thead>\n",
       "    <tr style=\"text-align: right;\">\n",
       "      <th></th>\n",
       "      <th>commit</th>\n",
       "      <th>tree</th>\n",
       "      <th>parent</th>\n",
       "      <th>author</th>\n",
       "      <th>committer</th>\n",
       "      <th>subject</th>\n",
       "      <th>message</th>\n",
       "      <th>trailer</th>\n",
       "      <th>difference</th>\n",
       "      <th>difference_truncated</th>\n",
       "      <th>repo_name</th>\n",
       "      <th>encoding</th>\n",
       "    </tr>\n",
       "  </thead>\n",
       "  <tbody>\n",
       "    <tr>\n",
       "      <th>0</th>\n",
       "      <td>a6f4f061df11a9d245a31cc038fb7e81b5e789d1</td>\n",
       "      <td>cab0a5d7df3b8871f66369b61ec0c4a3747adab1</td>\n",
       "      <td>[b73ea76221d281c3026c46c730ccd26a889be5ff, 767...</td>\n",
       "      <td>{'name': 'Luke Dashjr', 'email': 'd0b35c280567...</td>\n",
       "      <td>{'name': 'Luke Dashjr', 'email': 'd0b35c280567...</td>\n",
       "      <td>Null-Merge commit '76712c1' into cg_merges_201...</td>\n",
       "      <td>Null-Merge commit '76712c1' into cg_merges_201...</td>\n",
       "      <td>[{'key': 'Conflicts', 'value': '', 'email': No...</td>\n",
       "      <td>[]</td>\n",
       "      <td>None</td>\n",
       "      <td>[CryptoManiac/bfgminer, nwoolls/bfgminer, leon...</td>\n",
       "      <td>None</td>\n",
       "    </tr>\n",
       "    <tr>\n",
       "      <th>1</th>\n",
       "      <td>0a87a194d9716c3f23d82426ebba36b2b04bba15</td>\n",
       "      <td>ec250e766e6ff097df1f095f2a2356f3eade8956</td>\n",
       "      <td>[44406ea68e1a3a796decbcaeb32de9bafb362c0e]</td>\n",
       "      <td>{'name': 'Monty Taylor', 'email': '37c07a49ee3...</td>\n",
       "      <td>{'name': 'Jeremy Stanley', 'email': '98883b97e...</td>\n",
       "      <td>Add a floating IP if needed</td>\n",
       "      <td>Add a floating IP if needed\\n\\nOn HP, when we ...</td>\n",
       "      <td>[{'key': 'Change-Id', 'value': 'I5c7ad3183d0b6...</td>\n",
       "      <td>[]</td>\n",
       "      <td>None</td>\n",
       "      <td>[citrix-openstack/project-config, anbangr/osci...</td>\n",
       "      <td>None</td>\n",
       "    </tr>\n",
       "    <tr>\n",
       "      <th>2</th>\n",
       "      <td>b14deab1cd1309ed769ff553c20be500ef3424fb</td>\n",
       "      <td>4b825dc642cb6eb9a060e54bf8d69288fbee4904</td>\n",
       "      <td>[125f5983abe31b47b8086dfe352c58cb209ebf75]</td>\n",
       "      <td>{'name': 'Иванов Денис Игоревич', 'email': 'ff...</td>\n",
       "      <td>{'name': 'Иванов Денис Игоревич', 'email': 'ff...</td>\n",
       "      <td>[NA] service bus receiver refactorings</td>\n",
       "      <td>[NA] service bus receiver refactorings\\n\\ngit-...</td>\n",
       "      <td>[{'key': 'git-tfs-id', 'value': '[http://uk-tf...</td>\n",
       "      <td>[]</td>\n",
       "      <td>None</td>\n",
       "      <td>[2gis/nuclear-aggregates-layer]</td>\n",
       "      <td>None</td>\n",
       "    </tr>\n",
       "    <tr>\n",
       "      <th>3</th>\n",
       "      <td>6c256f500c7b31eff98f455c211703d4c4f8f0a9</td>\n",
       "      <td>2632a7248918151aa96008d0929ce5e6c42cebc8</td>\n",
       "      <td>[15b23a91278b7854bda3158f1e3a5632eabafe1d, 3ed...</td>\n",
       "      <td>{'name': 'Chris Banes', 'email': '2db0fc324336...</td>\n",
       "      <td>{'name': 'android-build-merger', 'email': '00d...</td>\n",
       "      <td>Merge \\\\\\\\\"Fix use of API 19+ FrameLayout LP c...</td>\n",
       "      <td>Merge \\\\\\\\\"Fix use of API 19+ FrameLayout LP c...</td>\n",
       "      <td>[{'key': 'Change-Id', 'value': 'I93a84b338f35e...</td>\n",
       "      <td>[]</td>\n",
       "      <td>None</td>\n",
       "      <td>[aosp-mirror/platform_frameworks_support]</td>\n",
       "      <td>None</td>\n",
       "    </tr>\n",
       "    <tr>\n",
       "      <th>4</th>\n",
       "      <td>0472a5efeacae02d8bca4e44e0ced892785889dc</td>\n",
       "      <td>4b825dc642cb6eb9a060e54bf8d69288fbee4904</td>\n",
       "      <td>[d2b1810567fdf53b0e5699099029cdd4a9d7553c]</td>\n",
       "      <td>{'name': 'Rik Faith', 'email': '07479feb7f9378...</td>\n",
       "      <td>{'name': 'Rik Faith', 'email': '07479feb7f9378...</td>\n",
       "      <td>Added simple test suite</td>\n",
       "      <td>Added simple test suite\\n\\n\\nSKIPPED:\\n\\tlibma...</td>\n",
       "      <td>[{'key': 'SKIPPED', 'value': '', 'email': None}]</td>\n",
       "      <td>[]</td>\n",
       "      <td>None</td>\n",
       "      <td>[cheusov/dictd]</td>\n",
       "      <td>None</td>\n",
       "    </tr>\n",
       "    <tr>\n",
       "      <th>5</th>\n",
       "      <td>1e31d6bb52ef4046b1a419c1797e2dc99ca44138</td>\n",
       "      <td>8727a1fb203f9fe9c5f9941c9501facda19fa36a</td>\n",
       "      <td>[a9cb99e379ee9caf913ad5e4b226e88654ec761e]</td>\n",
       "      <td>{'name': 'Nathalie Lammelin', 'email': '2d8828...</td>\n",
       "      <td>{'name': 'Nathalie Lammelin', 'email': '2d8828...</td>\n",
       "      <td>closed #4073 - Fixed XmlCopy step when source ...</td>\n",
       "      <td>closed #4073 - Fixed XmlCopy step when source ...</td>\n",
       "      <td>[{'key': 'Former-commit-id', 'value': '42ad095...</td>\n",
       "      <td>[]</td>\n",
       "      <td>None</td>\n",
       "      <td>[convertigo/convertigo-webapp]</td>\n",
       "      <td>None</td>\n",
       "    </tr>\n",
       "    <tr>\n",
       "      <th>6</th>\n",
       "      <td>69fb29c5a939e777f59221a521ca2d35ad5af69a</td>\n",
       "      <td>0daf946a8052a013250700af93121b6efb157e8b</td>\n",
       "      <td>[1716cdf190bcfa205db644fa9c8b25efb64527e4]</td>\n",
       "      <td>{'name': 't_voss', 'email': 'e64a528f711f6911b...</td>\n",
       "      <td>{'name': 't_voss', 'email': 'e64a528f711f6911b...</td>\n",
       "      <td>[Shark 3.0] ADDED: Abstract classes for multi-...</td>\n",
       "      <td>[Shark 3.0] ADDED: Abstract classes for multi-...</td>\n",
       "      <td>[{'key': 'ADDED', 'value': 'AbstractBoxConstra...</td>\n",
       "      <td>[]</td>\n",
       "      <td>None</td>\n",
       "      <td>[CptCapy/Programming_Shark]</td>\n",
       "      <td>None</td>\n",
       "    </tr>\n",
       "    <tr>\n",
       "      <th>7</th>\n",
       "      <td>ac6db99daa9fa29cdd44302832199dc9847e6bd7</td>\n",
       "      <td>c64dfb2c94d4f43a4db503ac8bdb37559250c03b</td>\n",
       "      <td>[51c805ce28f394b5321814ed2332d8bd2c5bd399]</td>\n",
       "      <td>{'name': 'mezger', 'email': 'mezger', 'time_se...</td>\n",
       "      <td>{'name': 'mezger', 'email': 'mezger', 'time_se...</td>\n",
       "      <td>printer modification</td>\n",
       "      <td>printer modification\\n\\n\\nSKIPPED:\\n\\tJava/caR...</td>\n",
       "      <td>[{'key': 'SKIPPED', 'value': '', 'email': None}]</td>\n",
       "      <td>[]</td>\n",
       "      <td>None</td>\n",
       "      <td>[dassjosh/caqtdm, caqtdm/caqtdm]</td>\n",
       "      <td>None</td>\n",
       "    </tr>\n",
       "    <tr>\n",
       "      <th>8</th>\n",
       "      <td>86a4dc24843573d280f5db9e96c1c66092db3c74</td>\n",
       "      <td>d3b704365b686401124eb6618f5c2a907d12ce8e</td>\n",
       "      <td>[0a4d124f66a95815c0520bae564a82a2853c9047]</td>\n",
       "      <td>{'name': 'juhosg', 'email': '0b85b0feb94c9a44e...</td>\n",
       "      <td>{'name': 'juhosg', 'email': '0b85b0feb94c9a44e...</td>\n",
       "      <td>packages/ntripcaster: fix whitespaces</td>\n",
       "      <td>packages/ntripcaster: fix whitespaces\\n\\nSigne...</td>\n",
       "      <td>[{'key': 'Signed-off-by', 'value': 'Dirk Neuki...</td>\n",
       "      <td>[]</td>\n",
       "      <td>None</td>\n",
       "      <td>[qqyfly/attitude_adjustment]</td>\n",
       "      <td>None</td>\n",
       "    </tr>\n",
       "    <tr>\n",
       "      <th>9</th>\n",
       "      <td>75ee3b3a23e29bb9553332af762f64549e1231db</td>\n",
       "      <td>b572c0163b511c5e66e0c2083acd659ad8af105f</td>\n",
       "      <td>[67ebba14cd80294af1b6c8d00292c9e80f65cca7]</td>\n",
       "      <td>{'name': 'Nicolas Albert', 'email': '1b2dd0bac...</td>\n",
       "      <td>{'name': 'Nicolas Albert', 'email': '1b2dd0bac...</td>\n",
       "      <td>InProgress #3346 - Flash update</td>\n",
       "      <td>InProgress #3346 - Flash update\\n\\nFix the fir...</td>\n",
       "      <td>[{'key': 'Former-commit-id', 'value': '21a6b6d...</td>\n",
       "      <td>[]</td>\n",
       "      <td>None</td>\n",
       "      <td>[convertigo/convertigo-webapp]</td>\n",
       "      <td>None</td>\n",
       "    </tr>\n",
       "  </tbody>\n",
       "</table>\n",
       "</div>"
      ],
      "text/plain": [
       "                                     commit  \\\n",
       "0  a6f4f061df11a9d245a31cc038fb7e81b5e789d1   \n",
       "1  0a87a194d9716c3f23d82426ebba36b2b04bba15   \n",
       "2  b14deab1cd1309ed769ff553c20be500ef3424fb   \n",
       "3  6c256f500c7b31eff98f455c211703d4c4f8f0a9   \n",
       "4  0472a5efeacae02d8bca4e44e0ced892785889dc   \n",
       "5  1e31d6bb52ef4046b1a419c1797e2dc99ca44138   \n",
       "6  69fb29c5a939e777f59221a521ca2d35ad5af69a   \n",
       "7  ac6db99daa9fa29cdd44302832199dc9847e6bd7   \n",
       "8  86a4dc24843573d280f5db9e96c1c66092db3c74   \n",
       "9  75ee3b3a23e29bb9553332af762f64549e1231db   \n",
       "\n",
       "                                       tree  \\\n",
       "0  cab0a5d7df3b8871f66369b61ec0c4a3747adab1   \n",
       "1  ec250e766e6ff097df1f095f2a2356f3eade8956   \n",
       "2  4b825dc642cb6eb9a060e54bf8d69288fbee4904   \n",
       "3  2632a7248918151aa96008d0929ce5e6c42cebc8   \n",
       "4  4b825dc642cb6eb9a060e54bf8d69288fbee4904   \n",
       "5  8727a1fb203f9fe9c5f9941c9501facda19fa36a   \n",
       "6  0daf946a8052a013250700af93121b6efb157e8b   \n",
       "7  c64dfb2c94d4f43a4db503ac8bdb37559250c03b   \n",
       "8  d3b704365b686401124eb6618f5c2a907d12ce8e   \n",
       "9  b572c0163b511c5e66e0c2083acd659ad8af105f   \n",
       "\n",
       "                                              parent  \\\n",
       "0  [b73ea76221d281c3026c46c730ccd26a889be5ff, 767...   \n",
       "1         [44406ea68e1a3a796decbcaeb32de9bafb362c0e]   \n",
       "2         [125f5983abe31b47b8086dfe352c58cb209ebf75]   \n",
       "3  [15b23a91278b7854bda3158f1e3a5632eabafe1d, 3ed...   \n",
       "4         [d2b1810567fdf53b0e5699099029cdd4a9d7553c]   \n",
       "5         [a9cb99e379ee9caf913ad5e4b226e88654ec761e]   \n",
       "6         [1716cdf190bcfa205db644fa9c8b25efb64527e4]   \n",
       "7         [51c805ce28f394b5321814ed2332d8bd2c5bd399]   \n",
       "8         [0a4d124f66a95815c0520bae564a82a2853c9047]   \n",
       "9         [67ebba14cd80294af1b6c8d00292c9e80f65cca7]   \n",
       "\n",
       "                                              author  \\\n",
       "0  {'name': 'Luke Dashjr', 'email': 'd0b35c280567...   \n",
       "1  {'name': 'Monty Taylor', 'email': '37c07a49ee3...   \n",
       "2  {'name': 'Иванов Денис Игоревич', 'email': 'ff...   \n",
       "3  {'name': 'Chris Banes', 'email': '2db0fc324336...   \n",
       "4  {'name': 'Rik Faith', 'email': '07479feb7f9378...   \n",
       "5  {'name': 'Nathalie Lammelin', 'email': '2d8828...   \n",
       "6  {'name': 't_voss', 'email': 'e64a528f711f6911b...   \n",
       "7  {'name': 'mezger', 'email': 'mezger', 'time_se...   \n",
       "8  {'name': 'juhosg', 'email': '0b85b0feb94c9a44e...   \n",
       "9  {'name': 'Nicolas Albert', 'email': '1b2dd0bac...   \n",
       "\n",
       "                                           committer  \\\n",
       "0  {'name': 'Luke Dashjr', 'email': 'd0b35c280567...   \n",
       "1  {'name': 'Jeremy Stanley', 'email': '98883b97e...   \n",
       "2  {'name': 'Иванов Денис Игоревич', 'email': 'ff...   \n",
       "3  {'name': 'android-build-merger', 'email': '00d...   \n",
       "4  {'name': 'Rik Faith', 'email': '07479feb7f9378...   \n",
       "5  {'name': 'Nathalie Lammelin', 'email': '2d8828...   \n",
       "6  {'name': 't_voss', 'email': 'e64a528f711f6911b...   \n",
       "7  {'name': 'mezger', 'email': 'mezger', 'time_se...   \n",
       "8  {'name': 'juhosg', 'email': '0b85b0feb94c9a44e...   \n",
       "9  {'name': 'Nicolas Albert', 'email': '1b2dd0bac...   \n",
       "\n",
       "                                             subject  \\\n",
       "0  Null-Merge commit '76712c1' into cg_merges_201...   \n",
       "1                        Add a floating IP if needed   \n",
       "2             [NA] service bus receiver refactorings   \n",
       "3  Merge \\\\\\\\\"Fix use of API 19+ FrameLayout LP c...   \n",
       "4                            Added simple test suite   \n",
       "5  closed #4073 - Fixed XmlCopy step when source ...   \n",
       "6  [Shark 3.0] ADDED: Abstract classes for multi-...   \n",
       "7                               printer modification   \n",
       "8              packages/ntripcaster: fix whitespaces   \n",
       "9                    InProgress #3346 - Flash update   \n",
       "\n",
       "                                             message  \\\n",
       "0  Null-Merge commit '76712c1' into cg_merges_201...   \n",
       "1  Add a floating IP if needed\\n\\nOn HP, when we ...   \n",
       "2  [NA] service bus receiver refactorings\\n\\ngit-...   \n",
       "3  Merge \\\\\\\\\"Fix use of API 19+ FrameLayout LP c...   \n",
       "4  Added simple test suite\\n\\n\\nSKIPPED:\\n\\tlibma...   \n",
       "5  closed #4073 - Fixed XmlCopy step when source ...   \n",
       "6  [Shark 3.0] ADDED: Abstract classes for multi-...   \n",
       "7  printer modification\\n\\n\\nSKIPPED:\\n\\tJava/caR...   \n",
       "8  packages/ntripcaster: fix whitespaces\\n\\nSigne...   \n",
       "9  InProgress #3346 - Flash update\\n\\nFix the fir...   \n",
       "\n",
       "                                             trailer difference  \\\n",
       "0  [{'key': 'Conflicts', 'value': '', 'email': No...         []   \n",
       "1  [{'key': 'Change-Id', 'value': 'I5c7ad3183d0b6...         []   \n",
       "2  [{'key': 'git-tfs-id', 'value': '[http://uk-tf...         []   \n",
       "3  [{'key': 'Change-Id', 'value': 'I93a84b338f35e...         []   \n",
       "4   [{'key': 'SKIPPED', 'value': '', 'email': None}]         []   \n",
       "5  [{'key': 'Former-commit-id', 'value': '42ad095...         []   \n",
       "6  [{'key': 'ADDED', 'value': 'AbstractBoxConstra...         []   \n",
       "7   [{'key': 'SKIPPED', 'value': '', 'email': None}]         []   \n",
       "8  [{'key': 'Signed-off-by', 'value': 'Dirk Neuki...         []   \n",
       "9  [{'key': 'Former-commit-id', 'value': '21a6b6d...         []   \n",
       "\n",
       "  difference_truncated                                          repo_name  \\\n",
       "0                 None  [CryptoManiac/bfgminer, nwoolls/bfgminer, leon...   \n",
       "1                 None  [citrix-openstack/project-config, anbangr/osci...   \n",
       "2                 None                    [2gis/nuclear-aggregates-layer]   \n",
       "3                 None          [aosp-mirror/platform_frameworks_support]   \n",
       "4                 None                                    [cheusov/dictd]   \n",
       "5                 None                     [convertigo/convertigo-webapp]   \n",
       "6                 None                        [CptCapy/Programming_Shark]   \n",
       "7                 None                   [dassjosh/caqtdm, caqtdm/caqtdm]   \n",
       "8                 None                       [qqyfly/attitude_adjustment]   \n",
       "9                 None                     [convertigo/convertigo-webapp]   \n",
       "\n",
       "  encoding  \n",
       "0     None  \n",
       "1     None  \n",
       "2     None  \n",
       "3     None  \n",
       "4     None  \n",
       "5     None  \n",
       "6     None  \n",
       "7     None  \n",
       "8     None  \n",
       "9     None  "
      ]
     },
     "execution_count": 9,
     "metadata": {},
     "output_type": "execute_result"
    }
   ],
   "source": [
    "dataset_ref = client.dataset(\"github_repos\", project=\"bigquery-public-data\")\n",
    "table_ref = dataset_ref.table(\"commits\")\n",
    "table = client.get_table(table_ref)  # API call\n",
    "\n",
    "# Load 50 rows from a table\n",
    "rows = client.list_rows(table)\n",
    "50 == table.num_rows\n",
    "\n",
    "# Load the first 10 rows\n",
    "rows = client.list_rows(table, max_results=10)\n",
    "assert len(list(rows)) == 10\n",
    "\n",
    "# Use the start index to load an arbitrary portion of the table\n",
    "rows = client.list_rows(table, start_index=10, max_results=10)\n",
    "\n",
    "commits_df = rows.to_dataframe()\n",
    "commits_df"
   ]
  },
  {
   "cell_type": "code",
   "execution_count": 19,
   "metadata": {},
   "outputs": [
    {
     "name": "stdout",
     "output_type": "stream",
     "text": [
      "Existing buckets:\n",
      "  aws-logs-124182652801-us-east-2\n"
     ]
    }
   ],
   "source": [
    "s3 = boto3.client('s3')\n",
    "response = s3.list_buckets()\n",
    "\n",
    "# Output the bucket names\n",
    "print('Existing buckets:')\n",
    "for bucket in response['Buckets']:\n",
    "    print(f'  {bucket[\"Name\"]}')"
   ]
  },
  {
   "cell_type": "code",
   "execution_count": 17,
   "metadata": {},
   "outputs": [],
   "source": [
    "import boto3\n",
    "s3 = boto3.Session().resource('s3')\n",
    "bucket = 'github-analysis-test' #bucket name\n",
    "key = 'DataSets/test.csv' # filepath in s3\n",
    "doc = commits_df.to_csv('test.csv') # your local file"
   ]
  },
  {
   "cell_type": "code",
   "execution_count": 18,
   "metadata": {},
   "outputs": [],
   "source": [
    "#Upload file to s3 bucket \n",
    "s3.Bucket(bucket).Object(key).upload_file('test.csv')"
   ]
  },
  {
   "cell_type": "code",
   "execution_count": 43,
   "metadata": {},
   "outputs": [],
   "source": [
    "#Increase max columns to 999 to see all columns \n",
    "pd.options.display.max_columns = 999"
   ]
  },
  {
   "cell_type": "code",
   "execution_count": null,
   "metadata": {},
   "outputs": [],
   "source": [
    "dataset_ref = client.dataset(\"samples\", project=\"bigquery-public-data\")\n",
    "table_ref = dataset_ref.table(\"github_timeline\")\n",
    "table = client.get_table(table_ref)  # API call\n",
    "\n",
    "# Load 50 rows from a table\n",
    "rows = client.list_rows(table)\n",
    "50 == table.num_rows\n",
    "\n",
    "# Load the first 10 rows\n",
    "rows = client.list_rows(table, max_results=50)\n",
    "assert len(list(rows)) == 50\n",
    "\n",
    "# Use the start index to load an arbitrary portion of the table\n",
    "rows = client.list_rows(table, start_index=10, max_results=50)\n",
    "\n",
    "ghtimeline_df = rows.to_dataframe()\n",
    "ghtimeline_df"
   ]
  },
  {
   "cell_type": "code",
   "execution_count": null,
   "metadata": {},
   "outputs": [],
   "source": [
    "dataset_ref = client.dataset(\"month\", project=\"githubarchive\")\n",
    "table_ref = dataset_ref.table(\"201102\")\n",
    "table = client.get_table(table_ref)  # API call\n",
    "\n",
    "# Load 50 rows from a table\n",
    "rows = client.list_rows(table)\n",
    "50 == table.num_rows\n",
    "\n",
    "# Load the first 10 rows\n",
    "rows = client.list_rows(table, max_results=50)\n",
    "assert len(list(rows)) == 50\n",
    "\n",
    "# Use the start index to load an arbitrary portion of the table\n",
    "rows = client.list_rows(table, start_index=10, max_results=50)\n",
    "\n",
    "ghmonth_df = rows.to_dataframe()\n",
    "ghmonth_df"
   ]
  },
  {
   "cell_type": "code",
   "execution_count": 47,
   "metadata": {},
   "outputs": [
    {
     "name": "stdout",
     "output_type": "stream",
     "text": [
      "Index(['type', 'public', 'payload', 'repo', 'actor', 'org', 'created_at', 'id',\n",
      "       'other'],\n",
      "      dtype='object')\n"
     ]
    }
   ],
   "source": [
    "print(ghmonth_df.columns)"
   ]
  },
  {
   "cell_type": "code",
   "execution_count": 52,
   "metadata": {},
   "outputs": [
    {
     "data": {
      "text/plain": [
       "Timestamp('2011-02-19 12:49:04+0000', tz='UTC')"
      ]
     },
     "execution_count": 52,
     "metadata": {},
     "output_type": "execute_result"
    }
   ],
   "source": [
    "ghmonth_df.created_at[0]"
   ]
  },
  {
   "cell_type": "code",
   "execution_count": 54,
   "metadata": {},
   "outputs": [
    {
     "data": {
      "text/html": [
       "<div>\n",
       "<style scoped>\n",
       "    .dataframe tbody tr th:only-of-type {\n",
       "        vertical-align: middle;\n",
       "    }\n",
       "\n",
       "    .dataframe tbody tr th {\n",
       "        vertical-align: top;\n",
       "    }\n",
       "\n",
       "    .dataframe thead th {\n",
       "        text-align: right;\n",
       "    }\n",
       "</style>\n",
       "<table border=\"1\" class=\"dataframe\">\n",
       "  <thead>\n",
       "    <tr style=\"text-align: right;\">\n",
       "      <th></th>\n",
       "      <th>type</th>\n",
       "      <th>public</th>\n",
       "      <th>payload</th>\n",
       "      <th>repo</th>\n",
       "      <th>actor</th>\n",
       "      <th>org</th>\n",
       "      <th>created_at</th>\n",
       "      <th>id</th>\n",
       "      <th>other</th>\n",
       "    </tr>\n",
       "  </thead>\n",
       "  <tbody>\n",
       "    <tr>\n",
       "      <th>0</th>\n",
       "      <td>ForkEvent</td>\n",
       "      <td>True</td>\n",
       "      <td>{\"repo\":\"hermesEOL/fail0verflow2\",\"actor\":\"Fro...</td>\n",
       "      <td>{'id': None, 'name': '/', 'url': 'https://api....</td>\n",
       "      <td>{'id': 626847, 'login': 'Frogggy', 'gravatar_i...</td>\n",
       "      <td>{'id': None, 'login': None, 'gravatar_id': Non...</td>\n",
       "      <td>2011-02-19 12:49:04+00:00</td>\n",
       "      <td>1141283335</td>\n",
       "      <td>None</td>\n",
       "    </tr>\n",
       "    <tr>\n",
       "      <th>1</th>\n",
       "      <td>ForkEvent</td>\n",
       "      <td>True</td>\n",
       "      <td>{\"repo\":\"symfony/symfony-sandbox\",\"actor\":\"mea...</td>\n",
       "      <td>{'id': None, 'name': '/', 'url': 'https://api....</td>\n",
       "      <td>{'id': 632025, 'login': 'meandmymonkey', 'grav...</td>\n",
       "      <td>{'id': None, 'login': None, 'gravatar_id': Non...</td>\n",
       "      <td>2011-02-22 22:27:04+00:00</td>\n",
       "      <td>1147410078</td>\n",
       "      <td>None</td>\n",
       "    </tr>\n",
       "    <tr>\n",
       "      <th>2</th>\n",
       "      <td>ForkEvent</td>\n",
       "      <td>True</td>\n",
       "      <td>{\"repo\":\"hermesEOL/fail0verflow\",\"actor\":\"guym...</td>\n",
       "      <td>{'id': None, 'name': '/', 'url': 'https://api....</td>\n",
       "      <td>{'id': 192004, 'login': 'guymann', 'gravatar_i...</td>\n",
       "      <td>{'id': None, 'login': None, 'gravatar_id': Non...</td>\n",
       "      <td>2011-02-15 03:38:46+00:00</td>\n",
       "      <td>1132505427</td>\n",
       "      <td>None</td>\n",
       "    </tr>\n",
       "    <tr>\n",
       "      <th>3</th>\n",
       "      <td>ForkEvent</td>\n",
       "      <td>True</td>\n",
       "      <td>{\"repo\":\"rupa/z\",\"actor\":\"xl42ii\",\"forkee\":140...</td>\n",
       "      <td>{'id': 236571, 'name': 'rupa/z', 'url': 'https...</td>\n",
       "      <td>{'id': 439304, 'login': 'xl42ii', 'gravatar_id...</td>\n",
       "      <td>{'id': None, 'login': None, 'gravatar_id': Non...</td>\n",
       "      <td>2011-02-25 01:52:03+00:00</td>\n",
       "      <td>1151856530</td>\n",
       "      <td>None</td>\n",
       "    </tr>\n",
       "    <tr>\n",
       "      <th>4</th>\n",
       "      <td>ForkEvent</td>\n",
       "      <td>True</td>\n",
       "      <td>{\"repo\":\"be9/acl9\",\"actor\":\"mariojorge\",\"forke...</td>\n",
       "      <td>{'id': 100181, 'name': 'be9/acl9', 'url': 'htt...</td>\n",
       "      <td>{'id': 231730, 'login': 'mariojorge', 'gravata...</td>\n",
       "      <td>{'id': None, 'login': None, 'gravatar_id': Non...</td>\n",
       "      <td>2011-02-16 12:20:24+00:00</td>\n",
       "      <td>1135061844</td>\n",
       "      <td>None</td>\n",
       "    </tr>\n",
       "  </tbody>\n",
       "</table>\n",
       "</div>"
      ],
      "text/plain": [
       "        type  public                                            payload  \\\n",
       "0  ForkEvent    True  {\"repo\":\"hermesEOL/fail0verflow2\",\"actor\":\"Fro...   \n",
       "1  ForkEvent    True  {\"repo\":\"symfony/symfony-sandbox\",\"actor\":\"mea...   \n",
       "2  ForkEvent    True  {\"repo\":\"hermesEOL/fail0verflow\",\"actor\":\"guym...   \n",
       "3  ForkEvent    True  {\"repo\":\"rupa/z\",\"actor\":\"xl42ii\",\"forkee\":140...   \n",
       "4  ForkEvent    True  {\"repo\":\"be9/acl9\",\"actor\":\"mariojorge\",\"forke...   \n",
       "\n",
       "                                                repo  \\\n",
       "0  {'id': None, 'name': '/', 'url': 'https://api....   \n",
       "1  {'id': None, 'name': '/', 'url': 'https://api....   \n",
       "2  {'id': None, 'name': '/', 'url': 'https://api....   \n",
       "3  {'id': 236571, 'name': 'rupa/z', 'url': 'https...   \n",
       "4  {'id': 100181, 'name': 'be9/acl9', 'url': 'htt...   \n",
       "\n",
       "                                               actor  \\\n",
       "0  {'id': 626847, 'login': 'Frogggy', 'gravatar_i...   \n",
       "1  {'id': 632025, 'login': 'meandmymonkey', 'grav...   \n",
       "2  {'id': 192004, 'login': 'guymann', 'gravatar_i...   \n",
       "3  {'id': 439304, 'login': 'xl42ii', 'gravatar_id...   \n",
       "4  {'id': 231730, 'login': 'mariojorge', 'gravata...   \n",
       "\n",
       "                                                 org  \\\n",
       "0  {'id': None, 'login': None, 'gravatar_id': Non...   \n",
       "1  {'id': None, 'login': None, 'gravatar_id': Non...   \n",
       "2  {'id': None, 'login': None, 'gravatar_id': Non...   \n",
       "3  {'id': None, 'login': None, 'gravatar_id': Non...   \n",
       "4  {'id': None, 'login': None, 'gravatar_id': Non...   \n",
       "\n",
       "                 created_at          id other  \n",
       "0 2011-02-19 12:49:04+00:00  1141283335  None  \n",
       "1 2011-02-22 22:27:04+00:00  1147410078  None  \n",
       "2 2011-02-15 03:38:46+00:00  1132505427  None  \n",
       "3 2011-02-25 01:52:03+00:00  1151856530  None  \n",
       "4 2011-02-16 12:20:24+00:00  1135061844  None  "
      ]
     },
     "execution_count": 54,
     "metadata": {},
     "output_type": "execute_result"
    }
   ],
   "source": [
    "ghmonth_df.head()"
   ]
  },
  {
   "cell_type": "code",
   "execution_count": 59,
   "metadata": {},
   "outputs": [
    {
     "data": {
      "text/plain": [
       "'{\"repo\":\"hermesEOL/fail0verflow2\",\"actor\":\"Frogggy\",\"forkee\":1386047,\"actor_gravatar\":\"f404af943a6bfbdd92d5715b0a8e3dd4\"}'"
      ]
     },
     "execution_count": 59,
     "metadata": {},
     "output_type": "execute_result"
    }
   ],
   "source": [
    "ghmonth_df.payload[0]"
   ]
  },
  {
   "cell_type": "code",
   "execution_count": 60,
   "metadata": {},
   "outputs": [
    {
     "data": {
      "text/plain": [
       "{'id': None, 'name': '/', 'url': 'https://api.github.dev/repos//'}"
      ]
     },
     "execution_count": 60,
     "metadata": {},
     "output_type": "execute_result"
    }
   ],
   "source": [
    "ghmonth_df.repo[0]"
   ]
  },
  {
   "cell_type": "code",
   "execution_count": 61,
   "metadata": {},
   "outputs": [
    {
     "data": {
      "text/plain": [
       "{'id': 626847,\n",
       " 'login': 'Frogggy',\n",
       " 'gravatar_id': 'f404af943a6bfbdd92d5715b0a8e3dd4',\n",
       " 'avatar_url': 'https://secure.gravatar.com/avatar/f404af943a6bfbdd92d5715b0a8e3dd4?d=http://github.dev%2Fimages%2Fgravatars%2Fgravatar-user-420.png',\n",
       " 'url': 'https://api.github.dev/users/Frogggy'}"
      ]
     },
     "execution_count": 61,
     "metadata": {},
     "output_type": "execute_result"
    }
   ],
   "source": [
    "ghmonth_df.actor[0]"
   ]
  },
  {
   "cell_type": "code",
   "execution_count": 62,
   "metadata": {},
   "outputs": [
    {
     "data": {
      "text/plain": [
       "{'id': None,\n",
       " 'login': None,\n",
       " 'gravatar_id': None,\n",
       " 'avatar_url': None,\n",
       " 'url': None}"
      ]
     },
     "execution_count": 62,
     "metadata": {},
     "output_type": "execute_result"
    }
   ],
   "source": [
    "ghmonth_df.org[0]"
   ]
  },
  {
   "cell_type": "code",
   "execution_count": 63,
   "metadata": {},
   "outputs": [
    {
     "data": {
      "text/plain": [
       "Timestamp('2011-02-19 12:49:04+0000', tz='UTC')"
      ]
     },
     "execution_count": 63,
     "metadata": {},
     "output_type": "execute_result"
    }
   ],
   "source": [
    "ghmonth_df.created_at[0]"
   ]
  },
  {
   "cell_type": "code",
   "execution_count": null,
   "metadata": {},
   "outputs": [],
   "source": []
  }
 ],
 "metadata": {
  "kernelspec": {
   "display_name": "conda_python3",
   "language": "python",
   "name": "conda_python3"
  },
  "language_info": {
   "codemirror_mode": {
    "name": "ipython",
    "version": 3
   },
   "file_extension": ".py",
   "mimetype": "text/x-python",
   "name": "python",
   "nbconvert_exporter": "python",
   "pygments_lexer": "ipython3",
   "version": "3.6.5"
  }
 },
 "nbformat": 4,
 "nbformat_minor": 4
}
