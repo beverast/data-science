{
 "cells": [
  {
   "cell_type": "code",
   "execution_count": 1,
   "metadata": {},
   "outputs": [],
   "source": [
    "import requests"
   ]
  },
  {
   "cell_type": "code",
   "execution_count": 2,
   "metadata": {},
   "outputs": [],
   "source": [
    "# Open and read file\n",
    "with open ('../../../Auth_Keys/graphql_api_auth.txt') as file:\n",
    "    token = file.read()"
   ]
  },
  {
   "cell_type": "code",
   "execution_count": 3,
   "metadata": {},
   "outputs": [],
   "source": [
    "# Specify the Authorization code\n",
    "headers = {\"Authorization\": 'Bearer ' + token}"
   ]
  },
  {
   "cell_type": "code",
   "execution_count": 49,
   "metadata": {},
   "outputs": [],
   "source": [
    "def run_query(query): # A simple function to use requests.post to make the API call. Note the json= section.\n",
    "    request = requests.post('https://api.github.com/graphql', json={'query': query}, headers=headers)\n",
    "    if request.status_code == 200:\n",
    "        return request.json()\n",
    "    else:\n",
    "        raise Exception(\"Query failed to run by returning code of {}. {}\".format(request.status_code, query))"
   ]
  },
  {
   "cell_type": "code",
   "execution_count": 50,
   "metadata": {},
   "outputs": [],
   "source": [
    "# https://blog.codeship.com/an-introduction-to-graphql-via-the-github-api/"
   ]
  },
  {
   "cell_type": "code",
   "execution_count": 63,
   "metadata": {},
   "outputs": [],
   "source": [
    "query = '''\n",
    "{\n",
    "  organization(login: \"rails\") {\n",
    "    name\n",
    "    url\n",
    "    repository(name: \"rails\") {\n",
    "      name\n",
    "      pullRequests(last: 10) {\n",
    "          edges {\n",
    "            node {\n",
    "              title\n",
    "            }\n",
    "          }\n",
    "        }\n",
    "    }\n",
    "  }\n",
    "}\n",
    "'''"
   ]
  },
  {
   "cell_type": "code",
   "execution_count": 64,
   "metadata": {},
   "outputs": [],
   "source": [
    "result = run_query(query)"
   ]
  },
  {
   "cell_type": "code",
   "execution_count": 65,
   "metadata": {},
   "outputs": [
    {
     "data": {
      "text/plain": [
       "{'data': {'organization': {'name': 'Ruby on Rails',\n",
       "   'url': 'https://github.com/rails',\n",
       "   'repository': {'name': 'rails',\n",
       "    'pullRequests': {'edges': [{'node': {'title': 'Avoid unnecessary query on empty *_ids assignment'}},\n",
       "      {'node': {'title': 'Prevent TagBuilder modify options'}},\n",
       "      {'node': {'title': 'activesupport: Memoize name object allocation in CurrentAttributes.instance'}},\n",
       "      {'node': {'title': 'Clear ActiveRecord object memoized by take'}},\n",
       "      {'node': {'title': 'Adds more inflection words to pluralize and singularize correctly'}},\n",
       "      {'node': {'title': 'added info about config.hosts error on migration to 6.0'}},\n",
       "      {'node': {'title': 'Fix unknown action create for articles image'}},\n",
       "      {'node': {'title': 'Support extra stuff in the Content-Type header via Mime registration'}},\n",
       "      {'node': {'title': 'Update .yardopts to document *.rb files in [GEM]/app'}},\n",
       "      {'node': {'title': 'Reaper fork'}}]}}}}}"
      ]
     },
     "execution_count": 65,
     "metadata": {},
     "output_type": "execute_result"
    }
   ],
   "source": [
    "result"
   ]
  },
  {
   "cell_type": "code",
   "execution_count": null,
   "metadata": {},
   "outputs": [],
   "source": []
  }
 ],
 "metadata": {
  "kernelspec": {
   "display_name": "Python 3",
   "language": "python",
   "name": "python3"
  },
  "language_info": {
   "codemirror_mode": {
    "name": "ipython",
    "version": 3
   },
   "file_extension": ".py",
   "mimetype": "text/x-python",
   "name": "python",
   "nbconvert_exporter": "python",
   "pygments_lexer": "ipython3",
   "version": "3.7.1"
  }
 },
 "nbformat": 4,
 "nbformat_minor": 2
}
