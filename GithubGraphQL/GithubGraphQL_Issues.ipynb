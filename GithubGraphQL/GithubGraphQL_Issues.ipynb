{
 "cells": [
  {
   "cell_type": "markdown",
   "metadata": {},
   "source": [
    "# GithubGraphQL_Issues"
   ]
  },
  {
   "cell_type": "code",
   "execution_count": 1,
   "metadata": {},
   "outputs": [],
   "source": [
    "import requests\n",
    "import pandas as pd"
   ]
  },
  {
   "cell_type": "code",
   "execution_count": 2,
   "metadata": {},
   "outputs": [],
   "source": [
    "# Open and read file\n",
    "with open ('../../../Auth_Keys/graphql_api_auth.txt') as file:\n",
    "    token = file.read()\n",
    "    \n",
    "# Specify the Authorization code\n",
    "headers = {\"Authorization\": 'Bearer ' + token}"
   ]
  },
  {
   "cell_type": "code",
   "execution_count": 3,
   "metadata": {},
   "outputs": [],
   "source": [
    "# Function to use requests.post to make an API call\n",
    "def run_query(query): \n",
    "    request = requests.post('https://api.github.com/graphql', json={'query': query}, headers=headers)\n",
    "    if request.status_code == 200:\n",
    "        return request.json()\n",
    "    else:\n",
    "        raise Exception(\"Query failed to run by returning code of {}. {}\".format(request.status_code, query))"
   ]
  },
  {
   "cell_type": "code",
   "execution_count": 4,
   "metadata": {},
   "outputs": [],
   "source": [
    "def dates(date, num_days):\n",
    "    # Change to date time: Year, Month, Day\n",
    "    start_date = pd.to_datetime(date)\n",
    "    \n",
    "    # Add number of days \n",
    "    days = pd.DateOffset(days=num_days)\n",
    "    \n",
    "    #Get ending date\n",
    "    end_date = (start_date + days).strftime('%Y, %m, %d').replace(', ', '-')\n",
    "    \n",
    "    return end_date"
   ]
  },
  {
   "cell_type": "code",
   "execution_count": 5,
   "metadata": {},
   "outputs": [],
   "source": [
    "def to_df(results):\n",
    "    \n",
    "    # Get the keys of nodes.\n",
    "    data = results.get('data').get('search').get('nodes')\n",
    "    \n",
    "    # Put the data into a dataframe\n",
    "    df_issue = pd.DataFrame(data)\n",
    "    \n",
    "    # Get rate limit of queries and put it into a dataframe\n",
    "    viewer = results.get('data')\n",
    "    df_rate_limit = pd.DataFrame(viewer).dropna(subset=['rateLimit']).drop(columns=['search'])\n",
    "    \n",
    "    return df_issue, df_rate_limit"
   ]
  },
  {
   "cell_type": "code",
   "execution_count": 33,
   "metadata": {},
   "outputs": [],
   "source": [
    "def concat_dfs(df):\n",
    "    if limit == 5000:\n",
    "        return df\n",
    "    else:\n",
    "        # Merge previous df and new df\n",
    "        return pd.concat([df, merge_df])"
   ]
  },
  {
   "cell_type": "code",
   "execution_count": 34,
   "metadata": {},
   "outputs": [],
   "source": [
    "# Check limit first before running\n",
    "limit = 5000\n",
    "\n",
    "# Need dates - Enter start and output end\n",
    "starting_date = '2010-09-28'\n",
    "\n",
    "# Number of days\n",
    "num_days = 7\n",
    "\n",
    "while limit >= 0:\n",
    "    \n",
    "    # Get ending date\n",
    "    ending_date = dates(starting_date, num_days)\n",
    "    \n",
    "    # Query\n",
    "    query = '''\n",
    "    {{\n",
    "      search(first:100, query:\"repo:pandas-dev/pandas created:{date_1}..{date_2} type:issue\", type:ISSUE) {{\n",
    "        nodes {{\n",
    "          ... on Issue {{\n",
    "            createdAt\n",
    "            closedAt\n",
    "            updatedAt\n",
    "            title\n",
    "            number\n",
    "            author {{\n",
    "              login\n",
    "              ... on User {{\n",
    "                company\n",
    "              }}\n",
    "            }}\n",
    "            authorAssociation\n",
    "            state\n",
    "            bodyText\n",
    "            comments(first:20) {{\n",
    "              totalCount\n",
    "              edges {{\n",
    "                node {{\n",
    "                  author {{\n",
    "                    login\n",
    "                    ... on User {{\n",
    "                      company\n",
    "                    }}\n",
    "                  }}\n",
    "                  createdAt\n",
    "                  authorAssociation\n",
    "                  bodyText\n",
    "                }}\n",
    "              }}\n",
    "            }}\n",
    "          }}\n",
    "        }}\n",
    "      }}\n",
    "      rateLimit {{\n",
    "        limit\n",
    "        cost\n",
    "        remaining\n",
    "        resetAt\n",
    "      }}\n",
    "    }}\n",
    "    '''\n",
    "    \n",
    "    # Variables for inputted for starting date and ending date\n",
    "    variables = {\n",
    "        'date_1': starting_date,\n",
    "        'date_2': ending_date\n",
    "    }\n",
    "    \n",
    "    # Results from the query\n",
    "    results = run_query(query.format(**variables))\n",
    "    \n",
    "    # Convert data and rate limit to a df\n",
    "    df_data, df_rate_limit = to_df(results)\n",
    "    \n",
    "    # Merge df_data\n",
    "    merge_df = concat_dfs(df_data)\n",
    "    \n",
    "    # Change limit\n",
    "    limit = df_rate_limit.loc['remaining', 'rateLimit']\n",
    "    \n",
    "    # Change starting date to ending date + 1\n",
    "    starting_date = dates(ending_date, 1)"
   ]
  },
  {
   "cell_type": "markdown",
   "metadata": {},
   "source": [
    "# Check Limit"
   ]
  },
  {
   "cell_type": "code",
   "execution_count": 51,
   "metadata": {},
   "outputs": [
    {
     "data": {
      "text/plain": [
       "{'data': {'viewer': {'login': 'dustiny5'},\n",
       "  'rateLimit': {'limit': 5000,\n",
       "   'cost': 1,\n",
       "   'remaining': 4990,\n",
       "   'resetAt': '2019-08-23T20:03:55Z'}}}"
      ]
     },
     "execution_count": 51,
     "metadata": {},
     "output_type": "execute_result"
    }
   ],
   "source": [
    "query = '''\n",
    "{\n",
    "  viewer {\n",
    "    login\n",
    "  }\n",
    "  rateLimit {\n",
    "    limit\n",
    "    cost\n",
    "    remaining\n",
    "    resetAt\n",
    "  }\n",
    "}\n",
    "'''\n",
    "result = run_query(query)\n",
    "result"
   ]
  },
  {
   "cell_type": "code",
   "execution_count": null,
   "metadata": {},
   "outputs": [],
   "source": []
  }
 ],
 "metadata": {
  "kernelspec": {
   "display_name": "Python 3",
   "language": "python",
   "name": "python3"
  },
  "language_info": {
   "codemirror_mode": {
    "name": "ipython",
    "version": 3
   },
   "file_extension": ".py",
   "mimetype": "text/x-python",
   "name": "python",
   "nbconvert_exporter": "python",
   "pygments_lexer": "ipython3",
   "version": "3.7.1"
  }
 },
 "nbformat": 4,
 "nbformat_minor": 2
}
