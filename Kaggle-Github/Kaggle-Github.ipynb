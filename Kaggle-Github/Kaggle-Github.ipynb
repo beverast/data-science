{
 "cells": [
  {
   "cell_type": "code",
   "execution_count": 1,
   "metadata": {},
   "outputs": [],
   "source": [
    "import bq_helper\n",
    "import os\n",
    "import pandas as pd"
   ]
  },
  {
   "cell_type": "code",
   "execution_count": 2,
   "metadata": {},
   "outputs": [],
   "source": [
    "# Sets the environment\n",
    "os.environ[\"GOOGLE_APPLICATION_CREDENTIALS\"] = '../../../Auth_Keys/Food Deserts-30f92dc1513c.json'"
   ]
  },
  {
   "cell_type": "code",
   "execution_count": 3,
   "metadata": {},
   "outputs": [],
   "source": [
    "github_repos = bq_helper.BigQueryHelper(active_project='bigquery-public-data', dataset_name='github_repos')"
   ]
  },
  {
   "cell_type": "code",
   "execution_count": 4,
   "metadata": {},
   "outputs": [
    {
     "data": {
      "text/plain": [
       "192.82350792363286"
      ]
     },
     "execution_count": 4,
     "metadata": {},
     "output_type": "execute_result"
    }
   ],
   "source": [
    "# Query - \n",
    "query = '''\n",
    "SELECT commit,tree,parent,author,committer,subject,message,trailer,repo_name\n",
    "FROM `bigquery-public-data.github_repos.commits`\n",
    "LIMIT 1;\n",
    "'''\n",
    "\n",
    "# Check size of query\n",
    "github_repos.estimate_query_size(query)"
   ]
  },
  {
   "cell_type": "code",
   "execution_count": 52,
   "metadata": {},
   "outputs": [
    {
     "name": "stdout",
     "output_type": "stream",
     "text": [
      "Query cancelled; estimated size of 764.4291385617107 exceeds limit of 1 GB\n"
     ]
    }
   ],
   "source": [
    "# commits = github_repos.query_to_pandas_safe(query)\n",
    "# commits"
   ]
  },
  {
   "cell_type": "code",
   "execution_count": 41,
   "metadata": {},
   "outputs": [],
   "source": [
    "# First 5\n",
    "# commits_5 = github_repos.head('commits')"
   ]
  },
  {
   "cell_type": "code",
   "execution_count": 67,
   "metadata": {},
   "outputs": [],
   "source": [
    "# commits_5.to_pickle('commits_5.pkl')"
   ]
  },
  {
   "cell_type": "code",
   "execution_count": 70,
   "metadata": {},
   "outputs": [],
   "source": [
    "unpickle_commits_5 = pd.read_pickle('commits_5.pkl')"
   ]
  },
  {
   "cell_type": "code",
   "execution_count": 71,
   "metadata": {},
   "outputs": [
    {
     "name": "stdout",
     "output_type": "stream",
     "text": [
      "commit \n",
      " 667ab2bfb94e21626f6d81c331f5c148a65946d9 \n",
      "\n",
      "tree \n",
      " 7f603c14cfbd005a85ed5e0d45b6258142f08240 \n",
      "\n",
      "parent \n",
      " ['8dbd982969045c32c063a8d0ed604df011a6e396'] \n",
      "\n",
      "author \n",
      " {'name': 'Doug Hellmann', 'email': '8c845c26a3868dadec615703cd974244eb2ac6d1@dreamhost.com', 'time_sec': 1370980937, 'tz_offset': -240, 'date': {'seconds': 1370980937, 'nanos': None}} \n",
      "\n",
      "committer \n",
      " {'name': 'Jenkins', 'email': 'd95b56ce41a2e1ac4cecdd398defd7414407cc08@review.openstack.org', 'time_sec': 1371060404, 'tz_offset': 0, 'date': {'seconds': 1371060404, 'nanos': None}} \n",
      "\n",
      "subject \n",
      " fix typos \n",
      "\n",
      "message \n",
      " fix typos\n",
      "\n",
      "Change-Id: I3faffb4cf33da235fb1a8ac3704e3166e8610c06\n",
      "Signed-off-by: Doug Hellmann <8c845c26a3868dadec615703cd974244eb2ac6d1@dreamhost.com>\n",
      "Reviewed-on: https://review.openstack.org/32636\n",
      "Reviewed-by: Clark Boylan <635fc31d01fa593720982fa0568e87170cedbe2c@gmail.com>\n",
      "Reviewed-by: James E. Blair <e81a02a9d6405977f63a769d9f6ec8ed9d924325@inaugust.com>\n",
      "Reviewed-by: Elizabeth Krumbach Joseph <5ab9cdb82979a5e22201150e8d4ff9f187271b68@princessleia.com>\n",
      "Approved: Jeremy Stanley <98883b97e35b7bb1ac282bb863f2e9d917db0454@yuggoth.org>\n",
      "Reviewed-by: Jeremy Stanley <98883b97e35b7bb1ac282bb863f2e9d917db0454@yuggoth.org>\n",
      "Tested-by: Jenkins\n",
      " \n",
      "\n",
      "trailer \n",
      " [{'key': 'Change-Id', 'value': 'I3faffb4cf33da235fb1a8ac3704e3166e8610c06', 'email': None}, {'key': 'Signed-off-by', 'value': 'Doug Hellmann <8c845c26a3868dadec615703cd974244eb2ac6d1@dreamhost.com>', 'email': '8c845c26a3868dadec615703cd974244eb2ac6d1@dreamhost.com'}, {'key': 'Reviewed-on', 'value': 'https://review.openstack.org/32636', 'email': None}, {'key': 'Reviewed-by', 'value': 'Clark Boylan <635fc31d01fa593720982fa0568e87170cedbe2c@gmail.com>', 'email': '635fc31d01fa593720982fa0568e87170cedbe2c@gmail.com'}, {'key': 'Reviewed-by', 'value': 'James E. Blair <e81a02a9d6405977f63a769d9f6ec8ed9d924325@inaugust.com>', 'email': 'e81a02a9d6405977f63a769d9f6ec8ed9d924325@inaugust.com'}, {'key': 'Reviewed-by', 'value': 'Elizabeth Krumbach Joseph <5ab9cdb82979a5e22201150e8d4ff9f187271b68@princessleia.com>', 'email': '5ab9cdb82979a5e22201150e8d4ff9f187271b68@princessleia.com'}, {'key': 'Approved', 'value': 'Jeremy Stanley <98883b97e35b7bb1ac282bb863f2e9d917db0454@yuggoth.org>', 'email': '98883b97e35b7bb1ac282bb863f2e9d917db0454@yuggoth.org'}, {'key': 'Reviewed-by', 'value': 'Jeremy Stanley <98883b97e35b7bb1ac282bb863f2e9d917db0454@yuggoth.org>', 'email': '98883b97e35b7bb1ac282bb863f2e9d917db0454@yuggoth.org'}, {'key': 'Tested-by', 'value': 'Jenkins', 'email': None}] \n",
      "\n",
      "difference \n",
      " [] \n",
      "\n",
      "difference_truncated \n",
      " None \n",
      "\n",
      "repo_name \n",
      " ['citrix-openstack/project-config', 'anbangr/osci-project-config', 'osrg/project-config', 'Tesora/tesora-project-config', 'noorul/os-project-config', 'openstack-infra/project-config', 'dongwenjuan/project-config', 'open-switch/infra_project-config', 'coolsvap/project-config'] \n",
      "\n",
      "encoding \n",
      " None \n",
      "\n"
     ]
    }
   ],
   "source": [
    "for i in unpickle_commits_5.columns:\n",
    "    print(i,'\\n',commits_5[i][0],'\\n')"
   ]
  },
  {
   "cell_type": "markdown",
   "metadata": {},
   "source": [
    "## Use epochcoverter.com to convert time_sec to dates"
   ]
  },
  {
   "cell_type": "code",
   "execution_count": null,
   "metadata": {},
   "outputs": [],
   "source": []
  }
 ],
 "metadata": {
  "kernelspec": {
   "display_name": "Python 3",
   "language": "python",
   "name": "python3"
  },
  "language_info": {
   "codemirror_mode": {
    "name": "ipython",
    "version": 3
   },
   "file_extension": ".py",
   "mimetype": "text/x-python",
   "name": "python",
   "nbconvert_exporter": "python",
   "pygments_lexer": "ipython3",
   "version": "3.7.1"
  }
 },
 "nbformat": 4,
 "nbformat_minor": 2
}
