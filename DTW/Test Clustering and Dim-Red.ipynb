{
 "cells": [
  {
   "cell_type": "markdown",
   "metadata": {},
   "source": [
    "# Test cluster and Dimensionality Reduction"
   ]
  },
  {
   "cell_type": "code",
   "execution_count": 1,
   "metadata": {},
   "outputs": [],
   "source": [
    "import pandas as pd\n",
    "import numpy as np\n",
    "import matplotlib.pyplot as plt"
   ]
  },
  {
   "cell_type": "markdown",
   "metadata": {},
   "source": [
    "### Save dtw csv to df"
   ]
  },
  {
   "cell_type": "code",
   "execution_count": 2,
   "metadata": {},
   "outputs": [],
   "source": [
    "index = {0:'adamsmith', 1:'embulk', 2:'google', 3:'guillaume', 4:'iven', 5:'microsoft', 6:'oleiade', 7:'pandas', 8:'yang', 9:'zhn'}"
   ]
  },
  {
   "cell_type": "code",
   "execution_count": 3,
   "metadata": {},
   "outputs": [],
   "source": [
    "cm_dtw = pd.read_csv('./commits_clean_10/commits_dtw.csv').rename(index=index)\n",
    "is_dtw = pd.read_csv('./issues_clean_10/issues_dtw.csv').rename(index=index)\n",
    "pr_dtw = pd.read_csv('./pr_clean_10/pr_dtw.csv').rename(index=index)\n",
    "stars_dtw = pd.read_csv('./stars_clean_10/stars_dtw.csv').rename(index=index)"
   ]
  },
  {
   "cell_type": "code",
   "execution_count": 4,
   "metadata": {},
   "outputs": [
    {
     "name": "stderr",
     "output_type": "stream",
     "text": [
      "C:\\Users\\Dustin\\Anaconda3\\lib\\site-packages\\ipykernel_launcher.py:1: FutureWarning: Sorting because non-concatenation axis is not aligned. A future version\n",
      "of pandas will change to not sort by default.\n",
      "\n",
      "To accept the future behavior, pass 'sort=False'.\n",
      "\n",
      "To retain the current behavior and silence the warning, pass 'sort=True'.\n",
      "\n",
      "  \"\"\"Entry point for launching an IPython kernel.\n"
     ]
    },
    {
     "data": {
      "text/html": [
       "<div>\n",
       "<style scoped>\n",
       "    .dataframe tbody tr th:only-of-type {\n",
       "        vertical-align: middle;\n",
       "    }\n",
       "\n",
       "    .dataframe tbody tr th {\n",
       "        vertical-align: top;\n",
       "    }\n",
       "\n",
       "    .dataframe thead th {\n",
       "        text-align: right;\n",
       "    }\n",
       "</style>\n",
       "<table border=\"1\" class=\"dataframe\">\n",
       "  <thead>\n",
       "    <tr style=\"text-align: right;\">\n",
       "      <th></th>\n",
       "      <th>adamsmith_mth</th>\n",
       "      <th>embulk_mth</th>\n",
       "      <th>google_mth</th>\n",
       "      <th>guillaume_mth</th>\n",
       "      <th>iven_mth</th>\n",
       "      <th>microsoft_mth</th>\n",
       "      <th>oleiade_mth</th>\n",
       "      <th>pandas_mth</th>\n",
       "      <th>yang_mth</th>\n",
       "      <th>zhn_mth</th>\n",
       "      <th>...</th>\n",
       "      <th>adamsmith_star</th>\n",
       "      <th>embulk_star</th>\n",
       "      <th>google_star</th>\n",
       "      <th>guillaume_star</th>\n",
       "      <th>iven_star</th>\n",
       "      <th>microsoft_star</th>\n",
       "      <th>oleiade_star</th>\n",
       "      <th>pandas_star</th>\n",
       "      <th>yang_star</th>\n",
       "      <th>zhn_star</th>\n",
       "    </tr>\n",
       "  </thead>\n",
       "  <tbody>\n",
       "    <tr>\n",
       "      <th>adamsmith</th>\n",
       "      <td>0.000000</td>\n",
       "      <td>6.896988</td>\n",
       "      <td>6.361666</td>\n",
       "      <td>0.000000</td>\n",
       "      <td>2.503970</td>\n",
       "      <td>2.209631</td>\n",
       "      <td>3.658880</td>\n",
       "      <td>10.222556</td>\n",
       "      <td>3.797498</td>\n",
       "      <td>1.885109</td>\n",
       "      <td>...</td>\n",
       "      <td>0.000000</td>\n",
       "      <td>0.499393</td>\n",
       "      <td>1.224497</td>\n",
       "      <td>0.308630</td>\n",
       "      <td>1.306346</td>\n",
       "      <td>0.995110</td>\n",
       "      <td>1.109341</td>\n",
       "      <td>1.076215</td>\n",
       "      <td>1.096712</td>\n",
       "      <td>0.467932</td>\n",
       "    </tr>\n",
       "    <tr>\n",
       "      <th>embulk</th>\n",
       "      <td>6.896988</td>\n",
       "      <td>0.000000</td>\n",
       "      <td>0.668144</td>\n",
       "      <td>6.896988</td>\n",
       "      <td>0.494328</td>\n",
       "      <td>0.700625</td>\n",
       "      <td>0.495343</td>\n",
       "      <td>0.546690</td>\n",
       "      <td>1.033986</td>\n",
       "      <td>1.185475</td>\n",
       "      <td>...</td>\n",
       "      <td>0.499393</td>\n",
       "      <td>0.000000</td>\n",
       "      <td>0.939710</td>\n",
       "      <td>0.335108</td>\n",
       "      <td>1.030166</td>\n",
       "      <td>0.835905</td>\n",
       "      <td>0.931150</td>\n",
       "      <td>0.748143</td>\n",
       "      <td>0.851699</td>\n",
       "      <td>0.225486</td>\n",
       "    </tr>\n",
       "    <tr>\n",
       "      <th>google</th>\n",
       "      <td>6.361666</td>\n",
       "      <td>0.668144</td>\n",
       "      <td>0.000000</td>\n",
       "      <td>6.361666</td>\n",
       "      <td>0.655334</td>\n",
       "      <td>0.973834</td>\n",
       "      <td>0.550339</td>\n",
       "      <td>0.740744</td>\n",
       "      <td>1.286794</td>\n",
       "      <td>1.280312</td>\n",
       "      <td>...</td>\n",
       "      <td>1.224497</td>\n",
       "      <td>0.939710</td>\n",
       "      <td>0.000000</td>\n",
       "      <td>1.037892</td>\n",
       "      <td>0.657521</td>\n",
       "      <td>0.747535</td>\n",
       "      <td>0.713659</td>\n",
       "      <td>0.748807</td>\n",
       "      <td>0.654949</td>\n",
       "      <td>1.119836</td>\n",
       "    </tr>\n",
       "    <tr>\n",
       "      <th>guillaume</th>\n",
       "      <td>0.000000</td>\n",
       "      <td>6.896988</td>\n",
       "      <td>6.361666</td>\n",
       "      <td>0.000000</td>\n",
       "      <td>2.503970</td>\n",
       "      <td>2.209631</td>\n",
       "      <td>3.658880</td>\n",
       "      <td>10.222556</td>\n",
       "      <td>3.797498</td>\n",
       "      <td>1.885109</td>\n",
       "      <td>...</td>\n",
       "      <td>0.308630</td>\n",
       "      <td>0.335108</td>\n",
       "      <td>1.037892</td>\n",
       "      <td>0.000000</td>\n",
       "      <td>1.115906</td>\n",
       "      <td>0.905295</td>\n",
       "      <td>0.997194</td>\n",
       "      <td>0.922322</td>\n",
       "      <td>0.959202</td>\n",
       "      <td>0.369980</td>\n",
       "    </tr>\n",
       "    <tr>\n",
       "      <th>iven</th>\n",
       "      <td>2.503970</td>\n",
       "      <td>0.494328</td>\n",
       "      <td>0.655334</td>\n",
       "      <td>2.503970</td>\n",
       "      <td>0.000000</td>\n",
       "      <td>0.602422</td>\n",
       "      <td>0.379931</td>\n",
       "      <td>0.787129</td>\n",
       "      <td>1.026719</td>\n",
       "      <td>1.172385</td>\n",
       "      <td>...</td>\n",
       "      <td>1.306346</td>\n",
       "      <td>1.030166</td>\n",
       "      <td>0.657521</td>\n",
       "      <td>1.115906</td>\n",
       "      <td>0.000000</td>\n",
       "      <td>0.398503</td>\n",
       "      <td>0.545225</td>\n",
       "      <td>0.700290</td>\n",
       "      <td>0.419541</td>\n",
       "      <td>1.180207</td>\n",
       "    </tr>\n",
       "    <tr>\n",
       "      <th>microsoft</th>\n",
       "      <td>2.209631</td>\n",
       "      <td>0.700625</td>\n",
       "      <td>0.973834</td>\n",
       "      <td>2.209631</td>\n",
       "      <td>0.602422</td>\n",
       "      <td>0.000000</td>\n",
       "      <td>0.578733</td>\n",
       "      <td>0.954588</td>\n",
       "      <td>0.884513</td>\n",
       "      <td>0.885385</td>\n",
       "      <td>...</td>\n",
       "      <td>0.995110</td>\n",
       "      <td>0.835905</td>\n",
       "      <td>0.747535</td>\n",
       "      <td>0.905295</td>\n",
       "      <td>0.398503</td>\n",
       "      <td>0.000000</td>\n",
       "      <td>0.388870</td>\n",
       "      <td>0.959875</td>\n",
       "      <td>0.425012</td>\n",
       "      <td>0.949369</td>\n",
       "    </tr>\n",
       "    <tr>\n",
       "      <th>oleiade</th>\n",
       "      <td>3.658880</td>\n",
       "      <td>0.495343</td>\n",
       "      <td>0.550339</td>\n",
       "      <td>3.658880</td>\n",
       "      <td>0.379931</td>\n",
       "      <td>0.578733</td>\n",
       "      <td>0.000000</td>\n",
       "      <td>0.623247</td>\n",
       "      <td>1.089423</td>\n",
       "      <td>1.159664</td>\n",
       "      <td>...</td>\n",
       "      <td>1.109341</td>\n",
       "      <td>0.931150</td>\n",
       "      <td>0.713659</td>\n",
       "      <td>0.997194</td>\n",
       "      <td>0.545225</td>\n",
       "      <td>0.388870</td>\n",
       "      <td>0.000000</td>\n",
       "      <td>1.150649</td>\n",
       "      <td>0.572147</td>\n",
       "      <td>1.050151</td>\n",
       "    </tr>\n",
       "    <tr>\n",
       "      <th>pandas</th>\n",
       "      <td>10.222556</td>\n",
       "      <td>0.546690</td>\n",
       "      <td>0.740744</td>\n",
       "      <td>10.222556</td>\n",
       "      <td>0.787129</td>\n",
       "      <td>0.954588</td>\n",
       "      <td>0.623247</td>\n",
       "      <td>0.000000</td>\n",
       "      <td>1.070044</td>\n",
       "      <td>1.079823</td>\n",
       "      <td>...</td>\n",
       "      <td>1.076215</td>\n",
       "      <td>0.748143</td>\n",
       "      <td>0.748807</td>\n",
       "      <td>0.922322</td>\n",
       "      <td>0.700290</td>\n",
       "      <td>0.959875</td>\n",
       "      <td>1.150649</td>\n",
       "      <td>0.000000</td>\n",
       "      <td>0.855419</td>\n",
       "      <td>0.989844</td>\n",
       "    </tr>\n",
       "    <tr>\n",
       "      <th>yang</th>\n",
       "      <td>3.797498</td>\n",
       "      <td>1.033986</td>\n",
       "      <td>1.286794</td>\n",
       "      <td>3.797498</td>\n",
       "      <td>1.026719</td>\n",
       "      <td>0.884513</td>\n",
       "      <td>1.089423</td>\n",
       "      <td>1.070044</td>\n",
       "      <td>0.000000</td>\n",
       "      <td>0.293465</td>\n",
       "      <td>...</td>\n",
       "      <td>1.096712</td>\n",
       "      <td>0.851699</td>\n",
       "      <td>0.654949</td>\n",
       "      <td>0.959202</td>\n",
       "      <td>0.419541</td>\n",
       "      <td>0.425012</td>\n",
       "      <td>0.572147</td>\n",
       "      <td>0.855419</td>\n",
       "      <td>0.000000</td>\n",
       "      <td>1.028610</td>\n",
       "    </tr>\n",
       "    <tr>\n",
       "      <th>zhn</th>\n",
       "      <td>1.885109</td>\n",
       "      <td>1.185475</td>\n",
       "      <td>1.280312</td>\n",
       "      <td>1.885109</td>\n",
       "      <td>1.172385</td>\n",
       "      <td>0.885385</td>\n",
       "      <td>1.159664</td>\n",
       "      <td>1.079823</td>\n",
       "      <td>0.293465</td>\n",
       "      <td>0.000000</td>\n",
       "      <td>...</td>\n",
       "      <td>0.467932</td>\n",
       "      <td>0.225486</td>\n",
       "      <td>1.119836</td>\n",
       "      <td>0.369980</td>\n",
       "      <td>1.180207</td>\n",
       "      <td>0.949369</td>\n",
       "      <td>1.050151</td>\n",
       "      <td>0.989844</td>\n",
       "      <td>1.028610</td>\n",
       "      <td>0.000000</td>\n",
       "    </tr>\n",
       "  </tbody>\n",
       "</table>\n",
       "<p>10 rows × 36 columns</p>\n",
       "</div>"
      ],
      "text/plain": [
       "           adamsmith_mth  embulk_mth  google_mth  guillaume_mth  iven_mth  \\\n",
       "adamsmith       0.000000    6.896988    6.361666       0.000000  2.503970   \n",
       "embulk          6.896988    0.000000    0.668144       6.896988  0.494328   \n",
       "google          6.361666    0.668144    0.000000       6.361666  0.655334   \n",
       "guillaume       0.000000    6.896988    6.361666       0.000000  2.503970   \n",
       "iven            2.503970    0.494328    0.655334       2.503970  0.000000   \n",
       "microsoft       2.209631    0.700625    0.973834       2.209631  0.602422   \n",
       "oleiade         3.658880    0.495343    0.550339       3.658880  0.379931   \n",
       "pandas         10.222556    0.546690    0.740744      10.222556  0.787129   \n",
       "yang            3.797498    1.033986    1.286794       3.797498  1.026719   \n",
       "zhn             1.885109    1.185475    1.280312       1.885109  1.172385   \n",
       "\n",
       "           microsoft_mth  oleiade_mth  pandas_mth  yang_mth   zhn_mth  ...  \\\n",
       "adamsmith       2.209631     3.658880   10.222556  3.797498  1.885109  ...   \n",
       "embulk          0.700625     0.495343    0.546690  1.033986  1.185475  ...   \n",
       "google          0.973834     0.550339    0.740744  1.286794  1.280312  ...   \n",
       "guillaume       2.209631     3.658880   10.222556  3.797498  1.885109  ...   \n",
       "iven            0.602422     0.379931    0.787129  1.026719  1.172385  ...   \n",
       "microsoft       0.000000     0.578733    0.954588  0.884513  0.885385  ...   \n",
       "oleiade         0.578733     0.000000    0.623247  1.089423  1.159664  ...   \n",
       "pandas          0.954588     0.623247    0.000000  1.070044  1.079823  ...   \n",
       "yang            0.884513     1.089423    1.070044  0.000000  0.293465  ...   \n",
       "zhn             0.885385     1.159664    1.079823  0.293465  0.000000  ...   \n",
       "\n",
       "           adamsmith_star  embulk_star  google_star  guillaume_star  \\\n",
       "adamsmith        0.000000     0.499393     1.224497        0.308630   \n",
       "embulk           0.499393     0.000000     0.939710        0.335108   \n",
       "google           1.224497     0.939710     0.000000        1.037892   \n",
       "guillaume        0.308630     0.335108     1.037892        0.000000   \n",
       "iven             1.306346     1.030166     0.657521        1.115906   \n",
       "microsoft        0.995110     0.835905     0.747535        0.905295   \n",
       "oleiade          1.109341     0.931150     0.713659        0.997194   \n",
       "pandas           1.076215     0.748143     0.748807        0.922322   \n",
       "yang             1.096712     0.851699     0.654949        0.959202   \n",
       "zhn              0.467932     0.225486     1.119836        0.369980   \n",
       "\n",
       "           iven_star  microsoft_star  oleiade_star  pandas_star  yang_star  \\\n",
       "adamsmith   1.306346        0.995110      1.109341     1.076215   1.096712   \n",
       "embulk      1.030166        0.835905      0.931150     0.748143   0.851699   \n",
       "google      0.657521        0.747535      0.713659     0.748807   0.654949   \n",
       "guillaume   1.115906        0.905295      0.997194     0.922322   0.959202   \n",
       "iven        0.000000        0.398503      0.545225     0.700290   0.419541   \n",
       "microsoft   0.398503        0.000000      0.388870     0.959875   0.425012   \n",
       "oleiade     0.545225        0.388870      0.000000     1.150649   0.572147   \n",
       "pandas      0.700290        0.959875      1.150649     0.000000   0.855419   \n",
       "yang        0.419541        0.425012      0.572147     0.855419   0.000000   \n",
       "zhn         1.180207        0.949369      1.050151     0.989844   1.028610   \n",
       "\n",
       "           zhn_star  \n",
       "adamsmith  0.467932  \n",
       "embulk     0.225486  \n",
       "google     1.119836  \n",
       "guillaume  0.369980  \n",
       "iven       1.180207  \n",
       "microsoft  0.949369  \n",
       "oleiade    1.050151  \n",
       "pandas     0.989844  \n",
       "yang       1.028610  \n",
       "zhn        0.000000  \n",
       "\n",
       "[10 rows x 36 columns]"
      ]
     },
     "execution_count": 4,
     "metadata": {},
     "output_type": "execute_result"
    }
   ],
   "source": [
    "df = pd.concat([cm_dtw, is_dtw, pr_dtw, stars_dtw], axis=1).replace(np.nan, 0)\n",
    "df"
   ]
  },
  {
   "cell_type": "markdown",
   "metadata": {},
   "source": [
    "# PCA & Hierarchial Clustering"
   ]
  },
  {
   "cell_type": "code",
   "execution_count": 5,
   "metadata": {},
   "outputs": [
    {
     "name": "stderr",
     "output_type": "stream",
     "text": [
      "C:\\Users\\Dustin\\Anaconda3\\lib\\site-packages\\ipykernel_launcher.py:5: FutureWarning: Method .as_matrix will be removed in a future version. Use .values instead.\n",
      "  \"\"\"\n"
     ]
    },
    {
     "data": {
      "image/png": "[encoded data removed]",
      "text/plain": [
       "<Figure size 1440x720 with 1 Axes>"
      ]
     },
     "metadata": {
      "needs_background": "light"
     },
     "output_type": "display_data"
    }
   ],
   "source": [
    "from scipy.cluster.hierarchy import dendrogram, linkage, fcluster\n",
    "from sklearn.decomposition import PCA\n",
    "\n",
    "pca = PCA(n_components=3)\n",
    "pca_array = pca.fit_transform(df.as_matrix())\n",
    "\n",
    "linked = linkage(pca_array, 'single')\n",
    "labelList = df.index\n",
    "\n",
    "plt.figure(figsize=(20, 10))\n",
    "plt.title('Hiearchical Clustering')\n",
    "dend = dendrogram(linked,\n",
    "            orientation='top',\n",
    "            labels=labelList,\n",
    "            distance_sort='descending',\n",
    "            show_leaf_counts=True)\n",
    "#plt.show()"
   ]
  },
  {
   "cell_type": "markdown",
   "metadata": {},
   "source": [
    "### F-cluster return the labels for the each repo"
   ]
  },
  {
   "cell_type": "code",
   "execution_count": 6,
   "metadata": {},
   "outputs": [
    {
     "name": "stdout",
     "output_type": "stream",
     "text": [
      "('adamsmith', 5)\n",
      "('embulk', 3)\n",
      "('google', 4)\n",
      "('guillaume', 5)\n",
      "('iven', 2)\n",
      "('microsoft', 2)\n",
      "('oleiade', 3)\n",
      "('pandas', 4)\n",
      "('yang', 1)\n",
      "('zhn', 1)\n"
     ]
    }
   ],
   "source": [
    "# Print repo and their cluster number: Tweak the number to get different clustering option\n",
    "for i in zip(df.index, fcluster(linked, 0.7)):\n",
    "    print(i)"
   ]
  },
  {
   "cell_type": "markdown",
   "metadata": {},
   "source": [
    "# Hierarchial Clustering"
   ]
  },
  {
   "cell_type": "code",
   "execution_count": 7,
   "metadata": {},
   "outputs": [
    {
     "name": "stderr",
     "output_type": "stream",
     "text": [
      "C:\\Users\\Dustin\\Anaconda3\\lib\\site-packages\\ipykernel_launcher.py:3: FutureWarning: Method .as_matrix will be removed in a future version. Use .values instead.\n",
      "  This is separate from the ipykernel package so we can avoid doing imports until\n"
     ]
    },
    {
     "data": {
      "image/png": "[encoded data removed]",
      "text/plain": [
       "<Figure size 1440x720 with 1 Axes>"
      ]
     },
     "metadata": {
      "needs_background": "light"
     },
     "output_type": "display_data"
    }
   ],
   "source": [
    "from scipy.cluster.hierarchy import dendrogram, linkage, fcluster\n",
    "\n",
    "linked = linkage(df.as_matrix(), 'single')\n",
    "labelList = df.index\n",
    "\n",
    "plt.figure(figsize=(20, 10))\n",
    "plt.title('Hiearchical Clustering')\n",
    "dend = dendrogram(linked,\n",
    "            orientation='top',\n",
    "            labels=labelList,\n",
    "            distance_sort='descending',\n",
    "            show_leaf_counts=True)\n",
    "#plt.show()"
   ]
  },
  {
   "cell_type": "markdown",
   "metadata": {},
   "source": [
    "### F-cluster return the labels for the each repo"
   ]
  },
  {
   "cell_type": "code",
   "execution_count": 8,
   "metadata": {},
   "outputs": [
    {
     "name": "stdout",
     "output_type": "stream",
     "text": [
      "('adamsmith', 6)\n",
      "('embulk', 3)\n",
      "('google', 3)\n",
      "('guillaume', 6)\n",
      "('iven', 2)\n",
      "('microsoft', 2)\n",
      "('oleiade', 4)\n",
      "('pandas', 5)\n",
      "('yang', 1)\n",
      "('zhn', 1)\n"
     ]
    }
   ],
   "source": [
    "# Print repo and their cluster number: Tweak the number to get different clustering option\n",
    "for i in zip(df.index, fcluster(linked, 0.7)):\n",
    "    print(i)"
   ]
  },
  {
   "cell_type": "markdown",
   "metadata": {},
   "source": [
    "# Agglomerative Clustering"
   ]
  },
  {
   "cell_type": "code",
   "execution_count": 9,
   "metadata": {},
   "outputs": [
    {
     "name": "stderr",
     "output_type": "stream",
     "text": [
      "C:\\Users\\Dustin\\Anaconda3\\lib\\site-packages\\ipykernel_launcher.py:5: FutureWarning: Method .as_matrix will be removed in a future version. Use .values instead.\n",
      "  \"\"\"\n"
     ]
    },
    {
     "data": {
      "text/plain": [
       "<matplotlib.collections.PathCollection at 0x1a2e74bfcf8>"
      ]
     },
     "execution_count": 9,
     "metadata": {},
     "output_type": "execute_result"
    },
    {
     "data": {
      "image/png": "[encoded data removed]",
      "text/plain": [
       "<Figure size 432x288 with 1 Axes>"
      ]
     },
     "metadata": {
      "needs_background": "light"
     },
     "output_type": "display_data"
    }
   ],
   "source": [
    "from sklearn.cluster import AgglomerativeClustering \n",
    "\n",
    "hc = AgglomerativeClustering(n_clusters = 5, linkage='single')\n",
    "\n",
    "X = df.as_matrix()\n",
    "\n",
    "y = hc.fit_predict(X)\n",
    "\n",
    "plt.scatter(X[y==0, 0], X[y==0, 1], s=100, c='red', label ='Cluster 1')\n",
    "plt.scatter(X[y==1, 0], X[y==1, 1], s=100, c='blue', label ='Cluster 2')\n",
    "plt.scatter(X[y==2, 0], X[y==2, 1], s=100, c='green', label ='Cluster 3')\n",
    "plt.scatter(X[y==3, 0], X[y==3, 1], s=100, c='cyan', label ='Cluster 4')\n",
    "plt.scatter(X[y==4, 0], X[y==4, 1], s=100, c='purple', label ='Cluster 5')"
   ]
  },
  {
   "cell_type": "code",
   "execution_count": 10,
   "metadata": {},
   "outputs": [
    {
     "data": {
      "text/plain": [
       "array([2, 0, 0, 3, 1, 1, 0, 4, 1, 1], dtype=int64)"
      ]
     },
     "execution_count": 10,
     "metadata": {},
     "output_type": "execute_result"
    }
   ],
   "source": [
    "y"
   ]
  },
  {
   "cell_type": "code",
   "execution_count": 11,
   "metadata": {},
   "outputs": [
    {
     "data": {
      "text/plain": [
       "Index(['adamsmith', 'embulk', 'google', 'guillaume', 'iven', 'microsoft',\n",
       "       'oleiade', 'pandas', 'yang', 'zhn'],\n",
       "      dtype='object')"
      ]
     },
     "execution_count": 11,
     "metadata": {},
     "output_type": "execute_result"
    }
   ],
   "source": [
    "df.index"
   ]
  },
  {
   "cell_type": "code",
   "execution_count": null,
   "metadata": {},
   "outputs": [],
   "source": []
  }
 ],
 "metadata": {
  "kernelspec": {
   "display_name": "Python 3",
   "language": "python",
   "name": "python3"
  },
  "language_info": {
   "codemirror_mode": {
    "name": "ipython",
    "version": 3
   },
   "file_extension": ".py",
   "mimetype": "text/x-python",
   "name": "python",
   "nbconvert_exporter": "python",
   "pygments_lexer": "ipython3",
   "version": "3.7.3"
  }
 },
 "nbformat": 4,
 "nbformat_minor": 4
}
