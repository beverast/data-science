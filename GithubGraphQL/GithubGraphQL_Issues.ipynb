{
 "cells": [
  {
   "cell_type": "markdown",
   "metadata": {},
   "source": [
    "# GithubGraphQL_Issues"
   ]
  },
  {
   "cell_type": "code",
   "execution_count": 1,
   "metadata": {},
   "outputs": [],
   "source": [
    "import requests\n",
    "import pandas as pd"
   ]
  },
  {
   "cell_type": "code",
   "execution_count": 2,
   "metadata": {},
   "outputs": [],
   "source": [
    "# Open and read file\n",
    "with open ('../../../Auth_Keys/graphql_api_auth.txt') as file:\n",
    "    token = file.read()\n",
    "    \n",
    "# Specify the Authorization code\n",
    "headers = {\"Authorization\": 'Bearer ' + token}"
   ]
  },
  {
   "cell_type": "code",
   "execution_count": 3,
   "metadata": {},
   "outputs": [],
   "source": [
    "# Function to use requests.post to make an API call\n",
    "def run_query(query): \n",
    "    request = requests.post('https://api.github.com/graphql', json={'query': query}, headers=headers)\n",
    "    if request.status_code == 200:\n",
    "        return request.json()\n",
    "    else:\n",
    "        raise Exception(\"Query failed to run by returning code of {}. {}\".format(request.status_code, query))"
   ]
  },
  {
   "cell_type": "code",
   "execution_count": 4,
   "metadata": {},
   "outputs": [],
   "source": [
    "def dates(date, num_days):\n",
    "    # Change to date time: Year, Month, Day\n",
    "    start_date = pd.to_datetime(date)\n",
    "    \n",
    "    # Add number of days \n",
    "    days = pd.DateOffset(days=num_days)\n",
    "    \n",
    "    #Get ending date\n",
    "    end_date = (start_date + days).strftime('%Y, %m, %d').replace(', ', '-')\n",
    "    \n",
    "    return end_date"
   ]
  },
  {
   "cell_type": "code",
   "execution_count": 5,
   "metadata": {},
   "outputs": [],
   "source": [
    "def to_df(results):\n",
    "    \n",
    "    # Get the keys of nodes.\n",
    "    data = results.get('data').get('search').get('nodes')\n",
    "    \n",
    "    # Put the data into a dataframe\n",
    "    df_issue = pd.DataFrame(data)\n",
    "    \n",
    "    # Get rate limit of queries and put it into a dataframe\n",
    "    viewer = results.get('data')\n",
    "    df_rate_limit = pd.DataFrame(viewer).dropna(subset=['rateLimit']).drop(columns=['search'])\n",
    "    \n",
    "    return df_issue, df_rate_limit"
   ]
  },
  {
   "cell_type": "code",
   "execution_count": 6,
   "metadata": {},
   "outputs": [],
   "source": [
    "def rate_limit():\n",
    "    # Query Limit\n",
    "    query_limit = '''\n",
    "    {\n",
    "      viewer {\n",
    "        login\n",
    "      }\n",
    "      rateLimit {\n",
    "        limit\n",
    "        cost\n",
    "        remaining\n",
    "        resetAt\n",
    "      }\n",
    "    }\n",
    "    '''\n",
    "    \n",
    "    # Result of query_limit\n",
    "    result = run_query(query_limit)\n",
    "\n",
    "    # Get current limit\n",
    "    limit = result['data']['rateLimit']['remaining']\n",
    "    lm = result['data']['rateLimit']['remaining']\n",
    "    \n",
    "    return limit, lm"
   ]
  },
  {
   "cell_type": "code",
   "execution_count": 7,
   "metadata": {},
   "outputs": [],
   "source": [
    "def concat_dfs(df, lm):\n",
    "    if limit == lm:\n",
    "        return df\n",
    "    else:\n",
    "        # Merge previous df and new df\n",
    "        return pd.concat([df, merge_df])"
   ]
  },
  {
   "cell_type": "markdown",
   "metadata": {},
   "source": [
    "### Comment out which limit you want to use"
   ]
  },
  {
   "cell_type": "code",
   "execution_count": 8,
   "metadata": {},
   "outputs": [
    {
     "ename": "AttributeError",
     "evalue": "'NoneType' object has no attribute 'get'",
     "output_type": "error",
     "traceback": [
      "\u001b[1;31m---------------------------------------------------------------------------\u001b[0m",
      "\u001b[1;31mAttributeError\u001b[0m                            Traceback (most recent call last)",
      "\u001b[1;32m<timed exec>\u001b[0m in \u001b[0;36m<module>\u001b[1;34m\u001b[0m\n",
      "\u001b[1;32m<ipython-input-5-855cad6ac871>\u001b[0m in \u001b[0;36mto_df\u001b[1;34m(results)\u001b[0m\n\u001b[0;32m      2\u001b[0m \u001b[1;33m\u001b[0m\u001b[0m\n\u001b[0;32m      3\u001b[0m     \u001b[1;31m# Get the keys of nodes.\u001b[0m\u001b[1;33m\u001b[0m\u001b[1;33m\u001b[0m\u001b[1;33m\u001b[0m\u001b[0m\n\u001b[1;32m----> 4\u001b[1;33m     \u001b[0mdata\u001b[0m \u001b[1;33m=\u001b[0m \u001b[0mresults\u001b[0m\u001b[1;33m.\u001b[0m\u001b[0mget\u001b[0m\u001b[1;33m(\u001b[0m\u001b[1;34m'data'\u001b[0m\u001b[1;33m)\u001b[0m\u001b[1;33m.\u001b[0m\u001b[0mget\u001b[0m\u001b[1;33m(\u001b[0m\u001b[1;34m'search'\u001b[0m\u001b[1;33m)\u001b[0m\u001b[1;33m.\u001b[0m\u001b[0mget\u001b[0m\u001b[1;33m(\u001b[0m\u001b[1;34m'nodes'\u001b[0m\u001b[1;33m)\u001b[0m\u001b[1;33m\u001b[0m\u001b[1;33m\u001b[0m\u001b[0m\n\u001b[0m\u001b[0;32m      5\u001b[0m \u001b[1;33m\u001b[0m\u001b[0m\n\u001b[0;32m      6\u001b[0m     \u001b[1;31m# Put the data into a dataframe\u001b[0m\u001b[1;33m\u001b[0m\u001b[1;33m\u001b[0m\u001b[1;33m\u001b[0m\u001b[0m\n",
      "\u001b[1;31mAttributeError\u001b[0m: 'NoneType' object has no attribute 'get'"
     ]
    }
   ],
   "source": [
    "%%time\n",
    "\n",
    "# Use this limit if unsure\n",
    "# limit, lm = rate_limit()\n",
    "\n",
    "# Use this limit if you're sure all request has been an hour. Make sure limit and lm is the same #\n",
    "limit = 5000\n",
    "lm = 5000\n",
    "\n",
    "# Test limit. limit and lm needs to be the same number\n",
    "# limit = 2\n",
    "# lm = 2\n",
    "\n",
    "# Enter starting date\n",
    "starting_date = '2010-09-28'\n",
    "\n",
    "# Number of days\n",
    "num_days = 7\n",
    "\n",
    "while limit >= 0:\n",
    "    \n",
    "    # Get ending date\n",
    "    ending_date = dates(starting_date, num_days)\n",
    "    \n",
    "    # Query\n",
    "    query = '''\n",
    "    {{\n",
    "      search(first:100, query:\"repo:pandas-dev/pandas created:{date_1}..{date_2} type:issue\", type:ISSUE) {{\n",
    "        nodes {{\n",
    "          ... on Issue {{\n",
    "            createdAt\n",
    "            closedAt\n",
    "            updatedAt\n",
    "            title\n",
    "            number\n",
    "            author {{\n",
    "              login\n",
    "              ... on User {{\n",
    "                company\n",
    "              }}\n",
    "            }}\n",
    "            authorAssociation\n",
    "            state\n",
    "            bodyText\n",
    "            comments(first:20) {{\n",
    "              totalCount\n",
    "              edges {{\n",
    "                node {{\n",
    "                  author {{\n",
    "                    login\n",
    "                    ... on User {{\n",
    "                      company\n",
    "                    }}\n",
    "                  }}\n",
    "                  createdAt\n",
    "                  authorAssociation\n",
    "                  bodyText\n",
    "                }}\n",
    "              }}\n",
    "            }}\n",
    "          }}\n",
    "        }}\n",
    "      }}\n",
    "      rateLimit {{\n",
    "        limit\n",
    "        cost\n",
    "        remaining\n",
    "        resetAt\n",
    "      }}\n",
    "    }}\n",
    "    '''\n",
    "    \n",
    "    # Variables inputted for starting date and ending date\n",
    "    variables = {\n",
    "        'date_1': starting_date,\n",
    "        'date_2': ending_date\n",
    "    }\n",
    "    \n",
    "    # Results from the query\n",
    "    results = run_query(query.format(**variables))\n",
    "    \n",
    "    # Convert data and rate limit to a df\n",
    "    df_data, df_rate_limit = to_df(results)\n",
    "    \n",
    "    # Merge df_data\n",
    "    merge_df = concat_dfs(df_data, lm)\n",
    "    \n",
    "    # Change limit - Probably not needed since each call is cost 1\n",
    "    #limit = df_rate_limit.loc['remaining', 'rateLimit']\n",
    "    limit -= 1\n",
    "    \n",
    "    # Change starting date to ending date + 1\n",
    "    starting_date = dates(ending_date, 1)"
   ]
  },
  {
   "cell_type": "code",
   "execution_count": 10,
   "metadata": {},
   "outputs": [
    {
     "data": {
      "text/plain": [
       "(15575, 10)"
      ]
     },
     "execution_count": 10,
     "metadata": {},
     "output_type": "execute_result"
    }
   ],
   "source": [
    "merge_df.shape"
   ]
  },
  {
   "cell_type": "code",
   "execution_count": 11,
   "metadata": {},
   "outputs": [
    {
     "data": {
      "text/plain": [
       "('2115-06-26', '2115-07-03')"
      ]
     },
     "execution_count": 11,
     "metadata": {},
     "output_type": "execute_result"
    }
   ],
   "source": [
    "starting_date, ending_date"
   ]
  },
  {
   "cell_type": "code",
   "execution_count": 12,
   "metadata": {},
   "outputs": [
    {
     "data": {
      "text/html": [
       "<div>\n",
       "<style scoped>\n",
       "    .dataframe tbody tr th:only-of-type {\n",
       "        vertical-align: middle;\n",
       "    }\n",
       "\n",
       "    .dataframe tbody tr th {\n",
       "        vertical-align: top;\n",
       "    }\n",
       "\n",
       "    .dataframe thead th {\n",
       "        text-align: right;\n",
       "    }\n",
       "</style>\n",
       "<table border=\"1\" class=\"dataframe\">\n",
       "  <thead>\n",
       "    <tr style=\"text-align: right;\">\n",
       "      <th></th>\n",
       "      <th>rateLimit</th>\n",
       "    </tr>\n",
       "  </thead>\n",
       "  <tbody>\n",
       "    <tr>\n",
       "      <th>cost</th>\n",
       "      <td>1</td>\n",
       "    </tr>\n",
       "    <tr>\n",
       "      <th>limit</th>\n",
       "      <td>5000</td>\n",
       "    </tr>\n",
       "    <tr>\n",
       "      <th>remaining</th>\n",
       "      <td>0</td>\n",
       "    </tr>\n",
       "    <tr>\n",
       "      <th>resetAt</th>\n",
       "      <td>2019-08-29T16:55:12Z</td>\n",
       "    </tr>\n",
       "  </tbody>\n",
       "</table>\n",
       "</div>"
      ],
      "text/plain": [
       "                      rateLimit\n",
       "cost                          1\n",
       "limit                      5000\n",
       "remaining                     0\n",
       "resetAt    2019-08-29T16:55:12Z"
      ]
     },
     "execution_count": 12,
     "metadata": {},
     "output_type": "execute_result"
    }
   ],
   "source": [
    "df_rate_limit"
   ]
  },
  {
   "cell_type": "code",
   "execution_count": 11,
   "metadata": {},
   "outputs": [],
   "source": [
    "merge_df.to_pickle('../../../Files/df_issues_pandas.pk1')"
   ]
  },
  {
   "cell_type": "code",
   "execution_count": 10,
   "metadata": {},
   "outputs": [],
   "source": [
    "merge_df.to_csv('Github_Issue_Pandas.csv', index=False)"
   ]
  },
  {
   "cell_type": "markdown",
   "metadata": {},
   "source": [
    "# Check Limit"
   ]
  },
  {
   "cell_type": "code",
   "execution_count": 10,
   "metadata": {},
   "outputs": [
    {
     "data": {
      "text/plain": [
       "{'errors': [{'type': 'RATE_LIMITED', 'message': 'API rate limit exceeded'}]}"
      ]
     },
     "execution_count": 10,
     "metadata": {},
     "output_type": "execute_result"
    }
   ],
   "source": [
    "query_limit = '''\n",
    "{\n",
    "  viewer {\n",
    "    login\n",
    "  }\n",
    "  rateLimit {\n",
    "    limit\n",
    "    cost\n",
    "    remaining\n",
    "    resetAt\n",
    "  }\n",
    "}\n",
    "'''\n",
    "result = run_query(query_limit)\n",
    "result"
   ]
  },
  {
   "cell_type": "markdown",
   "metadata": {},
   "source": [
    "# Test concat and limit"
   ]
  },
  {
   "cell_type": "code",
   "execution_count": 42,
   "metadata": {},
   "outputs": [
    {
     "data": {
      "text/plain": [
       "959"
      ]
     },
     "execution_count": 42,
     "metadata": {},
     "output_type": "execute_result"
    }
   ],
   "source": [
    "limit = result['data']['rateLimit']['remaining']\n",
    "limit"
   ]
  },
  {
   "cell_type": "code",
   "execution_count": 43,
   "metadata": {},
   "outputs": [],
   "source": [
    "def concat_dfs(df):\n",
    "    if limit == limit:\n",
    "        print(limit)\n",
    "    else:\n",
    "        print('False')"
   ]
  },
  {
   "cell_type": "code",
   "execution_count": 45,
   "metadata": {},
   "outputs": [
    {
     "name": "stdout",
     "output_type": "stream",
     "text": [
      "959\n",
      "None\n",
      "958\n",
      "None\n"
     ]
    }
   ],
   "source": [
    "print(concat_dfs(limit))\n",
    "# Change limit\n",
    "limit -=1\n",
    "print(concat_dfs(limit))"
   ]
  },
  {
   "cell_type": "markdown",
   "metadata": {},
   "source": [
    "# Automate"
   ]
  },
  {
   "cell_type": "code",
   "execution_count": null,
   "metadata": {},
   "outputs": [],
   "source": [
    "# https://stackoverflow.com/questions/15088037/python-script-to-do-something-at-the-same-time-every-day"
   ]
  },
  {
   "cell_type": "markdown",
   "metadata": {},
   "source": [
    "# Version 2 of getting Issues"
   ]
  },
  {
   "cell_type": "code",
   "execution_count": null,
   "metadata": {},
   "outputs": [],
   "source": [
    "query = '''\n",
    "{\n",
    "  repositoryOwner(login:\"pandas-dev\") {\n",
    "    repository(name:\"pandas\") {\n",
    "      issues(first:3) {\n",
    "        pageInfo {\n",
    "          endCursor\n",
    "          hasNextPage\n",
    "        }\n",
    "        nodes {\n",
    "          createdAt\n",
    "          closedAt\n",
    "          updatedAt\n",
    "          title\n",
    "          number\n",
    "          author {\n",
    "            login\n",
    "            ... on User {\n",
    "              company\n",
    "            }\n",
    "          }\n",
    "          authorAssociation\n",
    "          state\n",
    "          bodyText\n",
    "          comments(first:20) {\n",
    "            totalCount\n",
    "            nodes {\n",
    "              author {\n",
    "                login\n",
    "                ... on User {\n",
    "                  company\n",
    "                }\n",
    "              }\n",
    "              createdAt\n",
    "              authorAssociation\n",
    "              bodyText\n",
    "            }\n",
    "          }\n",
    "        }\n",
    "      }\n",
    "    }\n",
    "  }\n",
    "}\n",
    "'''"
   ]
  }
 ],
 "metadata": {
  "kernelspec": {
   "display_name": "Python 3",
   "language": "python",
   "name": "python3"
  },
  "language_info": {
   "codemirror_mode": {
    "name": "ipython",
    "version": 3
   },
   "file_extension": ".py",
   "mimetype": "text/x-python",
   "name": "python",
   "nbconvert_exporter": "python",
   "pygments_lexer": "ipython3",
   "version": "3.7.3"
  }
 },
 "nbformat": 4,
 "nbformat_minor": 4
}
