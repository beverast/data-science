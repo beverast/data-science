{
 "cells": [
  {
   "cell_type": "code",
   "execution_count": 2,
   "metadata": {},
   "outputs": [],
   "source": [
    "import pandas as pd\n",
    "import requests"
   ]
  },
  {
   "cell_type": "code",
   "execution_count": 3,
   "metadata": {},
   "outputs": [],
   "source": [
    "# Open and read file\n",
    "with open ('GitToken.txt') as file:\n",
    "    token = file.read()\n",
    "    \n",
    "# Specify the Authorization code\n",
    "headers = {\"Authorization\": 'Bearer ' + token}"
   ]
  },
  {
   "cell_type": "code",
   "execution_count": 4,
   "metadata": {},
   "outputs": [],
   "source": [
    "# Function to use requests.post to make an API call\n",
    "def run_query(query): \n",
    "    request = requests.post('https://api.github.com/graphql', json={'query': query}, headers=headers)\n",
    "    if request.status_code == 200:\n",
    "        return request.json()\n",
    "    else:\n",
    "        raise Exception(\"Query failed to run by returning code of {}. {}\".format(request.status_code, query))"
   ]
  },
  {
   "cell_type": "code",
   "execution_count": 5,
   "metadata": {},
   "outputs": [],
   "source": [
    "query = '''\n",
    "{\n",
    "  repositoryOwner(login: \"pandas-dev\") {\n",
    "    login\n",
    "    repository(name: \"pandas\") {\n",
    "      id\n",
    "      name\n",
    "      createdAt\n",
    "      updatedAt\n",
    "      description\n",
    "\t  primaryLanguage {\n",
    "        name\n",
    "      }\n",
    "      licenseInfo {\n",
    "        spdxId\n",
    "      }\n",
    "    }\n",
    "  }\n",
    "}\n",
    "'''"
   ]
  },
  {
   "cell_type": "code",
   "execution_count": 6,
   "metadata": {},
   "outputs": [],
   "source": [
    "results = run_query(query)"
   ]
  },
  {
   "cell_type": "markdown",
   "metadata": {},
   "source": [
    "------------\n",
    "# Taking the query and turning it into a dataframe"
   ]
  },
  {
   "cell_type": "code",
   "execution_count": 7,
   "metadata": {},
   "outputs": [],
   "source": [
    "data = results['data']['repositoryOwner']['repository']"
   ]
  },
  {
   "cell_type": "code",
   "execution_count": 8,
   "metadata": {},
   "outputs": [
    {
     "data": {
      "text/plain": [
       "{'id': 'MDEwOlJlcG9zaXRvcnk4NTgxMjc=',\n",
       " 'name': 'pandas',\n",
       " 'createdAt': '2010-08-24T01:37:33Z',\n",
       " 'updatedAt': '2019-09-04T16:13:21Z',\n",
       " 'description': 'Flexible and powerful data analysis / manipulation library for Python, providing labeled data structures similar to R data.frame objects, statistical functions, and much more',\n",
       " 'primaryLanguage': {'name': 'Python'},\n",
       " 'licenseInfo': {'spdxId': 'BSD-3-Clause'}}"
      ]
     },
     "execution_count": 8,
     "metadata": {},
     "output_type": "execute_result"
    }
   ],
   "source": [
    "data"
   ]
  },
  {
   "cell_type": "code",
   "execution_count": 9,
   "metadata": {},
   "outputs": [],
   "source": [
    "data = [data]"
   ]
  },
  {
   "cell_type": "code",
   "execution_count": 10,
   "metadata": {},
   "outputs": [
    {
     "data": {
      "text/plain": [
       "[{'id': 'MDEwOlJlcG9zaXRvcnk4NTgxMjc=',\n",
       "  'name': 'pandas',\n",
       "  'createdAt': '2010-08-24T01:37:33Z',\n",
       "  'updatedAt': '2019-09-04T16:13:21Z',\n",
       "  'description': 'Flexible and powerful data analysis / manipulation library for Python, providing labeled data structures similar to R data.frame objects, statistical functions, and much more',\n",
       "  'primaryLanguage': {'name': 'Python'},\n",
       "  'licenseInfo': {'spdxId': 'BSD-3-Clause'}}]"
      ]
     },
     "execution_count": 10,
     "metadata": {},
     "output_type": "execute_result"
    }
   ],
   "source": [
    "data"
   ]
  },
  {
   "cell_type": "code",
   "execution_count": 11,
   "metadata": {},
   "outputs": [],
   "source": [
    "df = pd.DataFrame(data)"
   ]
  },
  {
   "cell_type": "code",
   "execution_count": 12,
   "metadata": {},
   "outputs": [
    {
     "data": {
      "text/html": [
       "<div>\n",
       "<style scoped>\n",
       "    .dataframe tbody tr th:only-of-type {\n",
       "        vertical-align: middle;\n",
       "    }\n",
       "\n",
       "    .dataframe tbody tr th {\n",
       "        vertical-align: top;\n",
       "    }\n",
       "\n",
       "    .dataframe thead th {\n",
       "        text-align: right;\n",
       "    }\n",
       "</style>\n",
       "<table border=\"1\" class=\"dataframe\">\n",
       "  <thead>\n",
       "    <tr style=\"text-align: right;\">\n",
       "      <th></th>\n",
       "      <th>createdAt</th>\n",
       "      <th>description</th>\n",
       "      <th>id</th>\n",
       "      <th>licenseInfo</th>\n",
       "      <th>name</th>\n",
       "      <th>primaryLanguage</th>\n",
       "      <th>updatedAt</th>\n",
       "    </tr>\n",
       "  </thead>\n",
       "  <tbody>\n",
       "    <tr>\n",
       "      <th>0</th>\n",
       "      <td>2010-08-24T01:37:33Z</td>\n",
       "      <td>Flexible and powerful data analysis / manipula...</td>\n",
       "      <td>MDEwOlJlcG9zaXRvcnk4NTgxMjc=</td>\n",
       "      <td>{'spdxId': 'BSD-3-Clause'}</td>\n",
       "      <td>pandas</td>\n",
       "      <td>{'name': 'Python'}</td>\n",
       "      <td>2019-09-04T16:13:21Z</td>\n",
       "    </tr>\n",
       "  </tbody>\n",
       "</table>\n",
       "</div>"
      ],
      "text/plain": [
       "              createdAt                                        description  \\\n",
       "0  2010-08-24T01:37:33Z  Flexible and powerful data analysis / manipula...   \n",
       "\n",
       "                             id                 licenseInfo    name  \\\n",
       "0  MDEwOlJlcG9zaXRvcnk4NTgxMjc=  {'spdxId': 'BSD-3-Clause'}  pandas   \n",
       "\n",
       "      primaryLanguage             updatedAt  \n",
       "0  {'name': 'Python'}  2019-09-04T16:13:21Z  "
      ]
     },
     "execution_count": 12,
     "metadata": {},
     "output_type": "execute_result"
    }
   ],
   "source": [
    "df"
   ]
  },
  {
   "cell_type": "markdown",
   "metadata": {},
   "source": [
    "----------\n",
    "# Using group by to get the count of commits per month"
   ]
  },
  {
   "cell_type": "code",
   "execution_count": 13,
   "metadata": {},
   "outputs": [],
   "source": [
    "commits_df = pd.read_pickle('pickles/cleaned_commits.pk1')"
   ]
  },
  {
   "cell_type": "code",
   "execution_count": 14,
   "metadata": {
    "scrolled": true
   },
   "outputs": [],
   "source": [
    "commits_group = commits_df.groupby('assocPR_closedAt')"
   ]
  },
  {
   "cell_type": "code",
   "execution_count": 15,
   "metadata": {},
   "outputs": [
    {
     "data": {
      "text/html": [
       "<div>\n",
       "<style scoped>\n",
       "    .dataframe tbody tr th:only-of-type {\n",
       "        vertical-align: middle;\n",
       "    }\n",
       "\n",
       "    .dataframe tbody tr th {\n",
       "        vertical-align: top;\n",
       "    }\n",
       "\n",
       "    .dataframe thead th {\n",
       "        text-align: right;\n",
       "    }\n",
       "</style>\n",
       "<table border=\"1\" class=\"dataframe\">\n",
       "  <thead>\n",
       "    <tr style=\"text-align: right;\">\n",
       "      <th></th>\n",
       "      <th>assocPR_author</th>\n",
       "      <th>assocPR_authorAssociation</th>\n",
       "      <th>assocPR_closedAt</th>\n",
       "      <th>assocPR_createdAt</th>\n",
       "      <th>assocPR_id</th>\n",
       "      <th>assocPR_number</th>\n",
       "      <th>assocPR_state</th>\n",
       "      <th>assocPR_title</th>\n",
       "      <th>assocPR_updatedAt</th>\n",
       "      <th>committer_company</th>\n",
       "      <th>committer_author</th>\n",
       "      <th>status_id</th>\n",
       "      <th>status_state</th>\n",
       "    </tr>\n",
       "  </thead>\n",
       "  <tbody>\n",
       "    <tr>\n",
       "      <th>0</th>\n",
       "      <td>simonjayhawkins</td>\n",
       "      <td>MEMBER</td>\n",
       "      <td>2019-08-27 21:50:23+00:00</td>\n",
       "      <td>2019-08-27 12:50:17+00:00</td>\n",
       "      <td>MDExOlB1bGxSZXF1ZXN0MzExMzY3OTE4</td>\n",
       "      <td>28173.0</td>\n",
       "      <td>MERGED</td>\n",
       "      <td>TYPING: change to FrameOrSeries Alias in panda...</td>\n",
       "      <td>2019-08-28 11:34:26+00:00</td>\n",
       "      <td>innobi</td>\n",
       "      <td>WillAyd</td>\n",
       "      <td>MDY6U3RhdHVzODU4MTI3OmQ5MWZmYTY0MDdjMWJhZjZhZm...</td>\n",
       "      <td>SUCCESS</td>\n",
       "    </tr>\n",
       "    <tr>\n",
       "      <th>1</th>\n",
       "      <td>addisonlynch</td>\n",
       "      <td>CONTRIBUTOR</td>\n",
       "      <td>2019-08-27 21:39:04+00:00</td>\n",
       "      <td>2019-08-26 22:44:15+00:00</td>\n",
       "      <td>MDExOlB1bGxSZXF1ZXN0MzExMTI1MDc0</td>\n",
       "      <td>28158.0</td>\n",
       "      <td>MERGED</td>\n",
       "      <td>CLN: Use ABC classes for isinstance checks, re...</td>\n",
       "      <td>2019-08-27 21:39:04+00:00</td>\n",
       "      <td>None</td>\n",
       "      <td>jbrockmendel</td>\n",
       "      <td>MDY6U3RhdHVzODU4MTI3OjA4MGQ1N2VlOWZlZjkyNzU1MT...</td>\n",
       "      <td>SUCCESS</td>\n",
       "    </tr>\n",
       "    <tr>\n",
       "      <th>2</th>\n",
       "      <td>simonjayhawkins</td>\n",
       "      <td>MEMBER</td>\n",
       "      <td>2019-08-27 21:32:41+00:00</td>\n",
       "      <td>2019-08-24 19:07:08+00:00</td>\n",
       "      <td>MDExOlB1bGxSZXF1ZXN0MzEwNjM0NDQ1</td>\n",
       "      <td>28128.0</td>\n",
       "      <td>MERGED</td>\n",
       "      <td>TYPING: check-untyped-defs for util._decorators</td>\n",
       "      <td>2019-08-28 11:35:15+00:00</td>\n",
       "      <td>innobi</td>\n",
       "      <td>WillAyd</td>\n",
       "      <td>MDY6U3RhdHVzODU4MTI3OmJkOGRiZjkwNmU0MzUyNTY3MD...</td>\n",
       "      <td>SUCCESS</td>\n",
       "    </tr>\n",
       "    <tr>\n",
       "      <th>3</th>\n",
       "      <td>charlesdong1991</td>\n",
       "      <td>CONTRIBUTOR</td>\n",
       "      <td>2019-08-27 14:09:42+00:00</td>\n",
       "      <td>2019-08-01 14:26:59+00:00</td>\n",
       "      <td>MDExOlB1bGxSZXF1ZXN0MzAzNDExNDc4</td>\n",
       "      <td>27696.0</td>\n",
       "      <td>MERGED</td>\n",
       "      <td>Replace with nested dict raises for overlappin...</td>\n",
       "      <td>2019-08-27 14:09:55+00:00</td>\n",
       "      <td>None</td>\n",
       "      <td>jschendel</td>\n",
       "      <td>MDY6U3RhdHVzODU4MTI3OjA0MWI2YjE4MGY4MTc1YjY0Mj...</td>\n",
       "      <td>SUCCESS</td>\n",
       "    </tr>\n",
       "    <tr>\n",
       "      <th>4</th>\n",
       "      <td>jbrockmendel</td>\n",
       "      <td>MEMBER</td>\n",
       "      <td>2019-08-26 23:52:45+00:00</td>\n",
       "      <td>2019-08-15 22:55:38+00:00</td>\n",
       "      <td>MDExOlB1bGxSZXF1ZXN0MzA3ODg1MDE2</td>\n",
       "      <td>27941.0</td>\n",
       "      <td>MERGED</td>\n",
       "      <td>CLN: internals.blocks cleanup, typing</td>\n",
       "      <td>2019-08-27 20:48:21+00:00</td>\n",
       "      <td>innobi</td>\n",
       "      <td>WillAyd</td>\n",
       "      <td>MDY6U3RhdHVzODU4MTI3OjQ5ZDIwMTk3MjNiMDA4OWJkMz...</td>\n",
       "      <td>SUCCESS</td>\n",
       "    </tr>\n",
       "  </tbody>\n",
       "</table>\n",
       "</div>"
      ],
      "text/plain": [
       "    assocPR_author assocPR_authorAssociation          assocPR_closedAt  \\\n",
       "0  simonjayhawkins                    MEMBER 2019-08-27 21:50:23+00:00   \n",
       "1     addisonlynch               CONTRIBUTOR 2019-08-27 21:39:04+00:00   \n",
       "2  simonjayhawkins                    MEMBER 2019-08-27 21:32:41+00:00   \n",
       "3  charlesdong1991               CONTRIBUTOR 2019-08-27 14:09:42+00:00   \n",
       "4     jbrockmendel                    MEMBER 2019-08-26 23:52:45+00:00   \n",
       "\n",
       "          assocPR_createdAt                        assocPR_id  assocPR_number  \\\n",
       "0 2019-08-27 12:50:17+00:00  MDExOlB1bGxSZXF1ZXN0MzExMzY3OTE4         28173.0   \n",
       "1 2019-08-26 22:44:15+00:00  MDExOlB1bGxSZXF1ZXN0MzExMTI1MDc0         28158.0   \n",
       "2 2019-08-24 19:07:08+00:00  MDExOlB1bGxSZXF1ZXN0MzEwNjM0NDQ1         28128.0   \n",
       "3 2019-08-01 14:26:59+00:00  MDExOlB1bGxSZXF1ZXN0MzAzNDExNDc4         27696.0   \n",
       "4 2019-08-15 22:55:38+00:00  MDExOlB1bGxSZXF1ZXN0MzA3ODg1MDE2         27941.0   \n",
       "\n",
       "  assocPR_state                                      assocPR_title  \\\n",
       "0        MERGED  TYPING: change to FrameOrSeries Alias in panda...   \n",
       "1        MERGED  CLN: Use ABC classes for isinstance checks, re...   \n",
       "2        MERGED    TYPING: check-untyped-defs for util._decorators   \n",
       "3        MERGED  Replace with nested dict raises for overlappin...   \n",
       "4        MERGED              CLN: internals.blocks cleanup, typing   \n",
       "\n",
       "          assocPR_updatedAt committer_company committer_author  \\\n",
       "0 2019-08-28 11:34:26+00:00            innobi          WillAyd   \n",
       "1 2019-08-27 21:39:04+00:00              None     jbrockmendel   \n",
       "2 2019-08-28 11:35:15+00:00            innobi          WillAyd   \n",
       "3 2019-08-27 14:09:55+00:00              None        jschendel   \n",
       "4 2019-08-27 20:48:21+00:00            innobi          WillAyd   \n",
       "\n",
       "                                           status_id status_state  \n",
       "0  MDY6U3RhdHVzODU4MTI3OmQ5MWZmYTY0MDdjMWJhZjZhZm...      SUCCESS  \n",
       "1  MDY6U3RhdHVzODU4MTI3OjA4MGQ1N2VlOWZlZjkyNzU1MT...      SUCCESS  \n",
       "2  MDY6U3RhdHVzODU4MTI3OmJkOGRiZjkwNmU0MzUyNTY3MD...      SUCCESS  \n",
       "3  MDY6U3RhdHVzODU4MTI3OjA0MWI2YjE4MGY4MTc1YjY0Mj...      SUCCESS  \n",
       "4  MDY6U3RhdHVzODU4MTI3OjQ5ZDIwMTk3MjNiMDA4OWJkMz...      SUCCESS  "
      ]
     },
     "execution_count": 15,
     "metadata": {},
     "output_type": "execute_result"
    }
   ],
   "source": [
    "commits_df.head()"
   ]
  },
  {
   "cell_type": "code",
   "execution_count": 16,
   "metadata": {
    "scrolled": true
   },
   "outputs": [
    {
     "name": "stderr",
     "output_type": "stream",
     "text": [
      "/home/ec2-user/anaconda3/envs/python3/lib/python3.6/site-packages/pandas/core/arrays/datetimes.py:1172: UserWarning: Converting to PeriodArray/Index representation will drop timezone information.\n",
      "  \"will drop timezone information.\", UserWarning)\n"
     ]
    }
   ],
   "source": [
    "commits_count_month = commits_df['assocPR_closedAt'].groupby(commits_df.assocPR_closedAt.dt.to_period(\"M\")).agg('count')"
   ]
  },
  {
   "cell_type": "code",
   "execution_count": 17,
   "metadata": {
    "scrolled": true
   },
   "outputs": [
    {
     "data": {
      "text/plain": [
       "assocPR_closedAt\n",
       "2011-06      1\n",
       "2011-08      1\n",
       "2011-11      2\n",
       "2012-01     22\n",
       "2012-02     33\n",
       "2012-03      3\n",
       "2012-04     35\n",
       "2012-05      4\n",
       "2012-07     28\n",
       "2012-08      5\n",
       "2012-09     24\n",
       "2012-10     59\n",
       "2012-11     85\n",
       "2012-12     97\n",
       "2013-01     32\n",
       "2013-02     59\n",
       "2013-03    164\n",
       "2013-04    193\n",
       "2013-05    146\n",
       "2013-06    231\n",
       "2013-07    146\n",
       "2013-08    102\n",
       "2013-09    198\n",
       "2013-10    224\n",
       "2013-11     98\n",
       "2013-12     82\n",
       "2014-01    227\n",
       "2014-02    169\n",
       "2014-03     97\n",
       "2014-04    109\n",
       "          ... \n",
       "2017-03    238\n",
       "2017-04    127\n",
       "2017-05    129\n",
       "2017-06     78\n",
       "2017-07    121\n",
       "2017-08    278\n",
       "2017-09    133\n",
       "2017-10    149\n",
       "2017-11    232\n",
       "2017-12    205\n",
       "2018-01    166\n",
       "2018-02    194\n",
       "2018-03    306\n",
       "2018-04     90\n",
       "2018-05    161\n",
       "2018-06    145\n",
       "2018-07    198\n",
       "2018-08    139\n",
       "2018-09    128\n",
       "2018-10    213\n",
       "2018-11    293\n",
       "2018-12    277\n",
       "2019-01    244\n",
       "2019-02    142\n",
       "2019-03    170\n",
       "2019-04    137\n",
       "2019-05    145\n",
       "2019-06    225\n",
       "2019-07    218\n",
       "2019-08    175\n",
       "Freq: M, Name: assocPR_closedAt, Length: 94, dtype: int64"
      ]
     },
     "execution_count": 17,
     "metadata": {},
     "output_type": "execute_result"
    }
   ],
   "source": [
    "commits_count_month"
   ]
  },
  {
   "cell_type": "code",
   "execution_count": 18,
   "metadata": {},
   "outputs": [
    {
     "data": {
      "text/plain": [
       "<matplotlib.axes._subplots.AxesSubplot at 0x7f670946bda0>"
      ]
     },
     "execution_count": 18,
     "metadata": {},
     "output_type": "execute_result"
    }
   ],
   "source": [
    "commits_count_month.plot()"
   ]
  },
  {
   "cell_type": "code",
   "execution_count": 19,
   "metadata": {},
   "outputs": [],
   "source": [
    "df['comits_count/month'] = [commits_count_month]"
   ]
  },
  {
   "cell_type": "markdown",
   "metadata": {},
   "source": [
    "----------\n",
    "# Using group by to get counts of pull requests per month "
   ]
  },
  {
   "cell_type": "code",
   "execution_count": 20,
   "metadata": {},
   "outputs": [],
   "source": [
    "pr_df = pd.read_pickle('pickles/clean_pullRequest_df.pk1')"
   ]
  },
  {
   "cell_type": "code",
   "execution_count": 21,
   "metadata": {},
   "outputs": [
    {
     "data": {
      "text/html": [
       "<div>\n",
       "<style scoped>\n",
       "    .dataframe tbody tr th:only-of-type {\n",
       "        vertical-align: middle;\n",
       "    }\n",
       "\n",
       "    .dataframe tbody tr th {\n",
       "        vertical-align: top;\n",
       "    }\n",
       "\n",
       "    .dataframe thead th {\n",
       "        text-align: right;\n",
       "    }\n",
       "</style>\n",
       "<table border=\"1\" class=\"dataframe\">\n",
       "  <thead>\n",
       "    <tr style=\"text-align: right;\">\n",
       "      <th></th>\n",
       "      <th>author</th>\n",
       "      <th>authorAssociation</th>\n",
       "      <th>bodyText</th>\n",
       "      <th>comments</th>\n",
       "      <th>createdAt</th>\n",
       "      <th>mergedBy</th>\n",
       "      <th>resourcePath</th>\n",
       "      <th>state</th>\n",
       "      <th>title</th>\n",
       "      <th>updatedAt</th>\n",
       "      <th>closedAt</th>\n",
       "      <th>pr_duration</th>\n",
       "      <th>enAuthorASsociation</th>\n",
       "      <th>company</th>\n",
       "      <th>file_count</th>\n",
       "      <th>comment_count</th>\n",
       "    </tr>\n",
       "  </thead>\n",
       "  <tbody>\n",
       "    <tr>\n",
       "      <th>0</th>\n",
       "      <td>None</td>\n",
       "      <td>NONE</td>\n",
       "      <td>I have added hist method to frame.py and serie...</td>\n",
       "      <td>[{'author': {'login': 'wesm', 'company': '@urs...</td>\n",
       "      <td>2011-02-22 08:07:35+00:00</td>\n",
       "      <td>None</td>\n",
       "      <td>/pandas-dev/pandas/pull/35</td>\n",
       "      <td>CLOSED</td>\n",
       "      <td>Added hist method and added auto_x argument to...</td>\n",
       "      <td>2011-02-27T05:17:56Z</td>\n",
       "      <td>2011-02-25 01:41:56+00:00</td>\n",
       "      <td>2 days 17:34:21</td>\n",
       "      <td>1</td>\n",
       "      <td>None</td>\n",
       "      <td>3</td>\n",
       "      <td>2</td>\n",
       "    </tr>\n",
       "    <tr>\n",
       "      <th>1</th>\n",
       "      <td>None</td>\n",
       "      <td>NONE</td>\n",
       "      <td>Added two methods in frame.py: describe, which...</td>\n",
       "      <td>[{'author': {'login': 'wesm', 'company': '@urs...</td>\n",
       "      <td>2011-03-06 01:35:53+00:00</td>\n",
       "      <td>wesm</td>\n",
       "      <td>/pandas-dev/pandas/pull/37</td>\n",
       "      <td>MERGED</td>\n",
       "      <td>added describe and scoreatpercentile in frame.py</td>\n",
       "      <td>2014-07-03T19:26:14Z</td>\n",
       "      <td>2011-03-18 20:00:26+00:00</td>\n",
       "      <td>12 days 18:24:33</td>\n",
       "      <td>1</td>\n",
       "      <td>None</td>\n",
       "      <td>1</td>\n",
       "      <td>4</td>\n",
       "    </tr>\n",
       "    <tr>\n",
       "      <th>2</th>\n",
       "      <td>None</td>\n",
       "      <td>NONE</td>\n",
       "      <td>So the results of DataFrame.toString() without...</td>\n",
       "      <td>[{'author': {'login': 'wesm', 'company': '@urs...</td>\n",
       "      <td>2011-03-22 19:27:42+00:00</td>\n",
       "      <td>wesm</td>\n",
       "      <td>/pandas-dev/pandas/pull/38</td>\n",
       "      <td>MERGED</td>\n",
       "      <td>changed _pfixed in common.py to add a leading ...</td>\n",
       "      <td>2011-03-22T23:47:23Z</td>\n",
       "      <td>2011-03-22 20:01:36+00:00</td>\n",
       "      <td>0 days 00:33:54</td>\n",
       "      <td>1</td>\n",
       "      <td>None</td>\n",
       "      <td>1</td>\n",
       "      <td>2</td>\n",
       "    </tr>\n",
       "    <tr>\n",
       "      <th>3</th>\n",
       "      <td>dieterv77</td>\n",
       "      <td>CONTRIBUTOR</td>\n",
       "      <td>Hi Wes, i've been following your pandas work f...</td>\n",
       "      <td>[{'author': {'login': 'wesm', 'company': '@urs...</td>\n",
       "      <td>2011-06-29 00:59:24+00:00</td>\n",
       "      <td>wesm</td>\n",
       "      <td>/pandas-dev/pandas/pull/55</td>\n",
       "      <td>MERGED</td>\n",
       "      <td>Minor change to CleanCommand so build works wi...</td>\n",
       "      <td>2011-06-29T02:07:07Z</td>\n",
       "      <td>2011-06-29 02:06:48+00:00</td>\n",
       "      <td>0 days 01:07:24</td>\n",
       "      <td>2</td>\n",
       "      <td>None</td>\n",
       "      <td>1</td>\n",
       "      <td>1</td>\n",
       "    </tr>\n",
       "    <tr>\n",
       "      <th>4</th>\n",
       "      <td>jberka</td>\n",
       "      <td>CONTRIBUTOR</td>\n",
       "      <td>Starting small...\\nIt looks like the .h5 files...</td>\n",
       "      <td>[{'author': {'login': 'wesm', 'company': '@urs...</td>\n",
       "      <td>2011-08-06 08:02:19+00:00</td>\n",
       "      <td>wesm</td>\n",
       "      <td>/pandas-dev/pandas/pull/89</td>\n",
       "      <td>MERGED</td>\n",
       "      <td>Fix for issue #80</td>\n",
       "      <td>2014-07-17T17:26:50Z</td>\n",
       "      <td>2011-08-07 16:15:41+00:00</td>\n",
       "      <td>1 days 08:13:22</td>\n",
       "      <td>2</td>\n",
       "      <td>None</td>\n",
       "      <td>1</td>\n",
       "      <td>1</td>\n",
       "    </tr>\n",
       "  </tbody>\n",
       "</table>\n",
       "</div>"
      ],
      "text/plain": [
       "      author authorAssociation  \\\n",
       "0       None              NONE   \n",
       "1       None              NONE   \n",
       "2       None              NONE   \n",
       "3  dieterv77       CONTRIBUTOR   \n",
       "4     jberka       CONTRIBUTOR   \n",
       "\n",
       "                                            bodyText  \\\n",
       "0  I have added hist method to frame.py and serie...   \n",
       "1  Added two methods in frame.py: describe, which...   \n",
       "2  So the results of DataFrame.toString() without...   \n",
       "3  Hi Wes, i've been following your pandas work f...   \n",
       "4  Starting small...\\nIt looks like the .h5 files...   \n",
       "\n",
       "                                            comments  \\\n",
       "0  [{'author': {'login': 'wesm', 'company': '@urs...   \n",
       "1  [{'author': {'login': 'wesm', 'company': '@urs...   \n",
       "2  [{'author': {'login': 'wesm', 'company': '@urs...   \n",
       "3  [{'author': {'login': 'wesm', 'company': '@urs...   \n",
       "4  [{'author': {'login': 'wesm', 'company': '@urs...   \n",
       "\n",
       "                  createdAt mergedBy                resourcePath   state  \\\n",
       "0 2011-02-22 08:07:35+00:00     None  /pandas-dev/pandas/pull/35  CLOSED   \n",
       "1 2011-03-06 01:35:53+00:00     wesm  /pandas-dev/pandas/pull/37  MERGED   \n",
       "2 2011-03-22 19:27:42+00:00     wesm  /pandas-dev/pandas/pull/38  MERGED   \n",
       "3 2011-06-29 00:59:24+00:00     wesm  /pandas-dev/pandas/pull/55  MERGED   \n",
       "4 2011-08-06 08:02:19+00:00     wesm  /pandas-dev/pandas/pull/89  MERGED   \n",
       "\n",
       "                                               title             updatedAt  \\\n",
       "0  Added hist method and added auto_x argument to...  2011-02-27T05:17:56Z   \n",
       "1   added describe and scoreatpercentile in frame.py  2014-07-03T19:26:14Z   \n",
       "2  changed _pfixed in common.py to add a leading ...  2011-03-22T23:47:23Z   \n",
       "3  Minor change to CleanCommand so build works wi...  2011-06-29T02:07:07Z   \n",
       "4                                  Fix for issue #80  2014-07-17T17:26:50Z   \n",
       "\n",
       "                   closedAt      pr_duration  enAuthorASsociation company  \\\n",
       "0 2011-02-25 01:41:56+00:00  2 days 17:34:21                    1    None   \n",
       "1 2011-03-18 20:00:26+00:00 12 days 18:24:33                    1    None   \n",
       "2 2011-03-22 20:01:36+00:00  0 days 00:33:54                    1    None   \n",
       "3 2011-06-29 02:06:48+00:00  0 days 01:07:24                    2    None   \n",
       "4 2011-08-07 16:15:41+00:00  1 days 08:13:22                    2    None   \n",
       "\n",
       "   file_count  comment_count  \n",
       "0           3              2  \n",
       "1           1              4  \n",
       "2           1              2  \n",
       "3           1              1  \n",
       "4           1              1  "
      ]
     },
     "execution_count": 21,
     "metadata": {},
     "output_type": "execute_result"
    }
   ],
   "source": [
    "pr_df.head()"
   ]
  },
  {
   "cell_type": "code",
   "execution_count": 22,
   "metadata": {
    "scrolled": true
   },
   "outputs": [
    {
     "name": "stderr",
     "output_type": "stream",
     "text": [
      "/home/ec2-user/anaconda3/envs/python3/lib/python3.6/site-packages/pandas/core/arrays/datetimes.py:1172: UserWarning: Converting to PeriodArray/Index representation will drop timezone information.\n",
      "  \"will drop timezone information.\", UserWarning)\n"
     ]
    }
   ],
   "source": [
    "pr_count_month = pr_df['createdAt'].groupby(pr_df.createdAt.dt.to_period(\"M\")).agg('count')"
   ]
  },
  {
   "cell_type": "code",
   "execution_count": 23,
   "metadata": {
    "scrolled": true
   },
   "outputs": [
    {
     "data": {
      "text/plain": [
       "[createdAt\n",
       " 2011-02      1\n",
       " 2011-03      2\n",
       " 2011-06      1\n",
       " 2011-08      3\n",
       " 2011-09     10\n",
       " 2011-10     15\n",
       " 2011-11     15\n",
       " 2011-12     21\n",
       " 2012-01     39\n",
       " 2012-02     17\n",
       " 2012-03     21\n",
       " 2012-04     23\n",
       " 2012-05     41\n",
       " 2012-06     41\n",
       " 2012-07     19\n",
       " 2012-08     13\n",
       " 2012-09     41\n",
       " 2012-10     34\n",
       " 2012-11     95\n",
       " 2012-12     64\n",
       " 2013-01     45\n",
       " 2013-02     57\n",
       " 2013-03    131\n",
       " 2013-04     91\n",
       " 2013-05    105\n",
       " 2013-06    159\n",
       " 2013-07    138\n",
       " 2013-08    105\n",
       " 2013-09    180\n",
       " 2013-10    162\n",
       "           ... \n",
       " 2017-03    165\n",
       " 2017-04    182\n",
       " 2017-05    190\n",
       " 2017-06     90\n",
       " 2017-07    147\n",
       " 2017-08    125\n",
       " 2017-09    167\n",
       " 2017-10    181\n",
       " 2017-11    284\n",
       " 2017-12    233\n",
       " 2018-01    218\n",
       " 2018-02    235\n",
       " 2018-03    428\n",
       " 2018-04    129\n",
       " 2018-05    170\n",
       " 2018-06    184\n",
       " 2018-07    241\n",
       " 2018-08    196\n",
       " 2018-09    179\n",
       " 2018-10    305\n",
       " 2018-11    323\n",
       " 2018-12    299\n",
       " 2019-01    324\n",
       " 2019-02    206\n",
       " 2019-03    241\n",
       " 2019-04    157\n",
       " 2019-05    184\n",
       " 2019-06    296\n",
       " 2019-07    280\n",
       " 2019-08    335\n",
       " Freq: M, Name: createdAt, Length: 100, dtype: int64]"
      ]
     },
     "execution_count": 23,
     "metadata": {},
     "output_type": "execute_result"
    }
   ],
   "source": [
    "[pr_count_month]"
   ]
  },
  {
   "cell_type": "code",
   "execution_count": 24,
   "metadata": {},
   "outputs": [
    {
     "data": {
      "text/html": [
       "<div>\n",
       "<style scoped>\n",
       "    .dataframe tbody tr th:only-of-type {\n",
       "        vertical-align: middle;\n",
       "    }\n",
       "\n",
       "    .dataframe tbody tr th {\n",
       "        vertical-align: top;\n",
       "    }\n",
       "\n",
       "    .dataframe thead th {\n",
       "        text-align: right;\n",
       "    }\n",
       "</style>\n",
       "<table border=\"1\" class=\"dataframe\">\n",
       "  <thead>\n",
       "    <tr style=\"text-align: right;\">\n",
       "      <th></th>\n",
       "      <th>createdAt</th>\n",
       "      <th>description</th>\n",
       "      <th>id</th>\n",
       "      <th>licenseInfo</th>\n",
       "      <th>name</th>\n",
       "      <th>primaryLanguage</th>\n",
       "      <th>updatedAt</th>\n",
       "      <th>comits_count/month</th>\n",
       "      <th>pr_count/month</th>\n",
       "    </tr>\n",
       "  </thead>\n",
       "  <tbody>\n",
       "    <tr>\n",
       "      <th>0</th>\n",
       "      <td>2010-08-24T01:37:33Z</td>\n",
       "      <td>Flexible and powerful data analysis / manipula...</td>\n",
       "      <td>MDEwOlJlcG9zaXRvcnk4NTgxMjc=</td>\n",
       "      <td>{'spdxId': 'BSD-3-Clause'}</td>\n",
       "      <td>pandas</td>\n",
       "      <td>{'name': 'Python'}</td>\n",
       "      <td>2019-09-04T16:13:21Z</td>\n",
       "      <td>assocPR_closedAt\n",
       "2011-06      1\n",
       "2011-08      1...</td>\n",
       "      <td>createdAt\n",
       "2011-02      1\n",
       "2011-03      2\n",
       "2011-0...</td>\n",
       "    </tr>\n",
       "  </tbody>\n",
       "</table>\n",
       "</div>"
      ],
      "text/plain": [
       "              createdAt                                        description  \\\n",
       "0  2010-08-24T01:37:33Z  Flexible and powerful data analysis / manipula...   \n",
       "\n",
       "                             id                 licenseInfo    name  \\\n",
       "0  MDEwOlJlcG9zaXRvcnk4NTgxMjc=  {'spdxId': 'BSD-3-Clause'}  pandas   \n",
       "\n",
       "      primaryLanguage             updatedAt  \\\n",
       "0  {'name': 'Python'}  2019-09-04T16:13:21Z   \n",
       "\n",
       "                                  comits_count/month  \\\n",
       "0  assocPR_closedAt\n",
       "2011-06      1\n",
       "2011-08      1...   \n",
       "\n",
       "                                      pr_count/month  \n",
       "0  createdAt\n",
       "2011-02      1\n",
       "2011-03      2\n",
       "2011-0...  "
      ]
     },
     "execution_count": 24,
     "metadata": {},
     "output_type": "execute_result"
    }
   ],
   "source": [
    "df['pr_count/month'] = [pr_count_month]\n",
    "df"
   ]
  },
  {
   "cell_type": "code",
   "execution_count": 25,
   "metadata": {},
   "outputs": [
    {
     "data": {
      "text/plain": [
       "<matplotlib.axes._subplots.AxesSubplot at 0x7f66feff50b8>"
      ]
     },
     "execution_count": 25,
     "metadata": {},
     "output_type": "execute_result"
    },
    {
     "data": {
      "image/png": "[encoded data removed]",
      "text/plain": [
       "<Figure size 432x288 with 1 Axes>"
      ]
     },
     "metadata": {},
     "output_type": "display_data"
    }
   ],
   "source": [
    "df['pr_count/month'][0].plot()"
   ]
  },
  {
   "cell_type": "markdown",
   "metadata": {},
   "source": [
    "--------\n",
    "# Star count per month using groupby"
   ]
  },
  {
   "cell_type": "code",
   "execution_count": 26,
   "metadata": {},
   "outputs": [
    {
     "data": {
      "text/html": [
       "<div>\n",
       "<style scoped>\n",
       "    .dataframe tbody tr th:only-of-type {\n",
       "        vertical-align: middle;\n",
       "    }\n",
       "\n",
       "    .dataframe tbody tr th {\n",
       "        vertical-align: top;\n",
       "    }\n",
       "\n",
       "    .dataframe thead th {\n",
       "        text-align: right;\n",
       "    }\n",
       "</style>\n",
       "<table border=\"1\" class=\"dataframe\">\n",
       "  <thead>\n",
       "    <tr style=\"text-align: right;\">\n",
       "      <th></th>\n",
       "      <th>starredAt</th>\n",
       "    </tr>\n",
       "  </thead>\n",
       "  <tbody>\n",
       "    <tr>\n",
       "      <th>0</th>\n",
       "      <td>2013-02-09 23:12:29+00:00</td>\n",
       "    </tr>\n",
       "    <tr>\n",
       "      <th>1</th>\n",
       "      <td>2013-01-09 20:36:05+00:00</td>\n",
       "    </tr>\n",
       "    <tr>\n",
       "      <th>2</th>\n",
       "      <td>2013-01-25 02:59:12+00:00</td>\n",
       "    </tr>\n",
       "    <tr>\n",
       "      <th>3</th>\n",
       "      <td>2013-02-10 13:03:41+00:00</td>\n",
       "    </tr>\n",
       "    <tr>\n",
       "      <th>4</th>\n",
       "      <td>2013-02-10 19:14:58+00:00</td>\n",
       "    </tr>\n",
       "  </tbody>\n",
       "</table>\n",
       "</div>"
      ],
      "text/plain": [
       "                  starredAt\n",
       "0 2013-02-09 23:12:29+00:00\n",
       "1 2013-01-09 20:36:05+00:00\n",
       "2 2013-01-25 02:59:12+00:00\n",
       "3 2013-02-10 13:03:41+00:00\n",
       "4 2013-02-10 19:14:58+00:00"
      ]
     },
     "execution_count": 26,
     "metadata": {},
     "output_type": "execute_result"
    }
   ],
   "source": [
    "star_df = pd.read_pickle('pickles/clean_star_df.pk1')\n",
    "star_df.head()"
   ]
  },
  {
   "cell_type": "code",
   "execution_count": 27,
   "metadata": {},
   "outputs": [
    {
     "name": "stderr",
     "output_type": "stream",
     "text": [
      "/home/ec2-user/anaconda3/envs/python3/lib/python3.6/site-packages/pandas/core/arrays/datetimes.py:1172: UserWarning: Converting to PeriodArray/Index representation will drop timezone information.\n",
      "  \"will drop timezone information.\", UserWarning)\n"
     ]
    }
   ],
   "source": [
    "star_count_month = star_df['starredAt'].groupby(star_df.starredAt.dt.to_period('M')).agg('count')"
   ]
  },
  {
   "cell_type": "code",
   "execution_count": 28,
   "metadata": {},
   "outputs": [
    {
     "data": {
      "text/plain": [
       "<matplotlib.axes._subplots.AxesSubplot at 0x7f66fefa95c0>"
      ]
     },
     "execution_count": 28,
     "metadata": {},
     "output_type": "execute_result"
    },
    {
     "data": {
      "image/png": "[encoded data removed]",
      "text/plain": [
       "<Figure size 432x288 with 1 Axes>"
      ]
     },
     "metadata": {},
     "output_type": "display_data"
    }
   ],
   "source": [
    "star_count_month.plot()"
   ]
  },
  {
   "cell_type": "code",
   "execution_count": 29,
   "metadata": {},
   "outputs": [],
   "source": [
    "df['star_count/month'] = [star_count_month]"
   ]
  },
  {
   "cell_type": "code",
   "execution_count": 30,
   "metadata": {},
   "outputs": [
    {
     "data": {
      "text/html": [
       "<div>\n",
       "<style scoped>\n",
       "    .dataframe tbody tr th:only-of-type {\n",
       "        vertical-align: middle;\n",
       "    }\n",
       "\n",
       "    .dataframe tbody tr th {\n",
       "        vertical-align: top;\n",
       "    }\n",
       "\n",
       "    .dataframe thead th {\n",
       "        text-align: right;\n",
       "    }\n",
       "</style>\n",
       "<table border=\"1\" class=\"dataframe\">\n",
       "  <thead>\n",
       "    <tr style=\"text-align: right;\">\n",
       "      <th></th>\n",
       "      <th>createdAt</th>\n",
       "      <th>description</th>\n",
       "      <th>id</th>\n",
       "      <th>licenseInfo</th>\n",
       "      <th>name</th>\n",
       "      <th>primaryLanguage</th>\n",
       "      <th>updatedAt</th>\n",
       "      <th>comits_count/month</th>\n",
       "      <th>pr_count/month</th>\n",
       "      <th>star_count/month</th>\n",
       "    </tr>\n",
       "  </thead>\n",
       "  <tbody>\n",
       "    <tr>\n",
       "      <th>0</th>\n",
       "      <td>2010-08-24T01:37:33Z</td>\n",
       "      <td>Flexible and powerful data analysis / manipula...</td>\n",
       "      <td>MDEwOlJlcG9zaXRvcnk4NTgxMjc=</td>\n",
       "      <td>{'spdxId': 'BSD-3-Clause'}</td>\n",
       "      <td>pandas</td>\n",
       "      <td>{'name': 'Python'}</td>\n",
       "      <td>2019-09-04T16:13:21Z</td>\n",
       "      <td>assocPR_closedAt\n",
       "2011-06      1\n",
       "2011-08      1...</td>\n",
       "      <td>createdAt\n",
       "2011-02      1\n",
       "2011-03      2\n",
       "2011-0...</td>\n",
       "      <td>starredAt\n",
       "2013-01      2\n",
       "2013-02     54\n",
       "2013-0...</td>\n",
       "    </tr>\n",
       "  </tbody>\n",
       "</table>\n",
       "</div>"
      ],
      "text/plain": [
       "              createdAt                                        description  \\\n",
       "0  2010-08-24T01:37:33Z  Flexible and powerful data analysis / manipula...   \n",
       "\n",
       "                             id                 licenseInfo    name  \\\n",
       "0  MDEwOlJlcG9zaXRvcnk4NTgxMjc=  {'spdxId': 'BSD-3-Clause'}  pandas   \n",
       "\n",
       "      primaryLanguage             updatedAt  \\\n",
       "0  {'name': 'Python'}  2019-09-04T16:13:21Z   \n",
       "\n",
       "                                  comits_count/month  \\\n",
       "0  assocPR_closedAt\n",
       "2011-06      1\n",
       "2011-08      1...   \n",
       "\n",
       "                                      pr_count/month  \\\n",
       "0  createdAt\n",
       "2011-02      1\n",
       "2011-03      2\n",
       "2011-0...   \n",
       "\n",
       "                                    star_count/month  \n",
       "0  starredAt\n",
       "2013-01      2\n",
       "2013-02     54\n",
       "2013-0...  "
      ]
     },
     "execution_count": 30,
     "metadata": {},
     "output_type": "execute_result"
    }
   ],
   "source": [
    "df"
   ]
  },
  {
   "cell_type": "markdown",
   "metadata": {},
   "source": [
    "--------------\n",
    "# using groupby to get count of issues per month"
   ]
  },
  {
   "cell_type": "code",
   "execution_count": 31,
   "metadata": {},
   "outputs": [],
   "source": [
    "issues_df = pd.read_pickle('pickles/clean_closed_issues_df.pk1')"
   ]
  },
  {
   "cell_type": "code",
   "execution_count": 32,
   "metadata": {},
   "outputs": [
    {
     "data": {
      "text/html": [
       "<div>\n",
       "<style scoped>\n",
       "    .dataframe tbody tr th:only-of-type {\n",
       "        vertical-align: middle;\n",
       "    }\n",
       "\n",
       "    .dataframe tbody tr th {\n",
       "        vertical-align: top;\n",
       "    }\n",
       "\n",
       "    .dataframe thead th {\n",
       "        text-align: right;\n",
       "    }\n",
       "</style>\n",
       "<table border=\"1\" class=\"dataframe\">\n",
       "  <thead>\n",
       "    <tr style=\"text-align: right;\">\n",
       "      <th></th>\n",
       "      <th>author</th>\n",
       "      <th>authorAssociation</th>\n",
       "      <th>bodyText</th>\n",
       "      <th>closedAt</th>\n",
       "      <th>comments</th>\n",
       "      <th>createdAt</th>\n",
       "      <th>number</th>\n",
       "      <th>state</th>\n",
       "      <th>title</th>\n",
       "      <th>updatedAt</th>\n",
       "      <th>comment_count</th>\n",
       "      <th>company</th>\n",
       "      <th>issue_duration</th>\n",
       "      <th>enAuthorAssociation</th>\n",
       "    </tr>\n",
       "  </thead>\n",
       "  <tbody>\n",
       "    <tr>\n",
       "      <th>7</th>\n",
       "      <td>abbazs</td>\n",
       "      <td>NONE</td>\n",
       "      <td>I would like to request a method similar to Gr...</td>\n",
       "      <td>2019-08-25 15:48:21+00:00</td>\n",
       "      <td>[{'author': {'login': 'simonjayhawkins', 'comp...</td>\n",
       "      <td>2019-08-25 13:34:22+00:00</td>\n",
       "      <td>28138</td>\n",
       "      <td>CLOSED</td>\n",
       "      <td>Get nth group of groups</td>\n",
       "      <td>2019-08-25 15:48:21+00:00</td>\n",
       "      <td>2</td>\n",
       "      <td>None</td>\n",
       "      <td>02:13:59</td>\n",
       "      <td>1</td>\n",
       "    </tr>\n",
       "    <tr>\n",
       "      <th>8</th>\n",
       "      <td>bmoscon</td>\n",
       "      <td>CONTRIBUTOR</td>\n",
       "      <td>Problem description\\r\\nThis docstring https://...</td>\n",
       "      <td>2019-08-25 15:56:16+00:00</td>\n",
       "      <td>[]</td>\n",
       "      <td>2019-08-25 13:08:52+00:00</td>\n",
       "      <td>28136</td>\n",
       "      <td>CLOSED</td>\n",
       "      <td>Docstring in pickle_compat.py out of date</td>\n",
       "      <td>2019-08-25 15:56:16+00:00</td>\n",
       "      <td>0</td>\n",
       "      <td>@glg</td>\n",
       "      <td>02:47:24</td>\n",
       "      <td>2</td>\n",
       "    </tr>\n",
       "    <tr>\n",
       "      <th>10</th>\n",
       "      <td>farziengineer</td>\n",
       "      <td>NONE</td>\n",
       "      <td>Hi,\\r\\nWhy is there no support for inplace = T...</td>\n",
       "      <td>2019-08-25 21:41:33+00:00</td>\n",
       "      <td>[{'author': {'login': 'WillAyd', 'company': 'i...</td>\n",
       "      <td>2019-08-25 04:15:12+00:00</td>\n",
       "      <td>28132</td>\n",
       "      <td>CLOSED</td>\n",
       "      <td>Inplace support for add_suffix and add_prefix</td>\n",
       "      <td>2019-08-25 21:41:33+00:00</td>\n",
       "      <td>1</td>\n",
       "      <td>Nissan Digital</td>\n",
       "      <td>17:26:21</td>\n",
       "      <td>1</td>\n",
       "    </tr>\n",
       "    <tr>\n",
       "      <th>12</th>\n",
       "      <td>appleyuchi</td>\n",
       "      <td>NONE</td>\n",
       "      <td>Problem description\\r\\nI want a prrogress bar ...</td>\n",
       "      <td>2019-08-24 09:05:19+00:00</td>\n",
       "      <td>[{'author': {'login': 'jreback', 'company': No...</td>\n",
       "      <td>2019-08-24 08:39:37+00:00</td>\n",
       "      <td>28126</td>\n",
       "      <td>CLOSED</td>\n",
       "      <td>progress bar for read_csv is needed</td>\n",
       "      <td>2019-08-24 09:05:20+00:00</td>\n",
       "      <td>1</td>\n",
       "      <td>Peking Universty</td>\n",
       "      <td>00:25:42</td>\n",
       "      <td>1</td>\n",
       "    </tr>\n",
       "    <tr>\n",
       "      <th>18</th>\n",
       "      <td>TomAugspurger</td>\n",
       "      <td>CONTRIBUTOR</td>\n",
       "      <td>I'm not sure whether supporting this is worth ...</td>\n",
       "      <td>2019-08-23 20:36:56+00:00</td>\n",
       "      <td>[{'author': {'login': 'jbrockmendel', 'company...</td>\n",
       "      <td>2019-08-23 15:14:06+00:00</td>\n",
       "      <td>28116</td>\n",
       "      <td>CLOSED</td>\n",
       "      <td>DataFrame.eval doesn't handle Ellipses</td>\n",
       "      <td>2019-08-23 20:36:56+00:00</td>\n",
       "      <td>2</td>\n",
       "      <td>@ContinuumIO</td>\n",
       "      <td>05:22:50</td>\n",
       "      <td>2</td>\n",
       "    </tr>\n",
       "  </tbody>\n",
       "</table>\n",
       "</div>"
      ],
      "text/plain": [
       "           author authorAssociation  \\\n",
       "7          abbazs              NONE   \n",
       "8         bmoscon       CONTRIBUTOR   \n",
       "10  farziengineer              NONE   \n",
       "12     appleyuchi              NONE   \n",
       "18  TomAugspurger       CONTRIBUTOR   \n",
       "\n",
       "                                             bodyText  \\\n",
       "7   I would like to request a method similar to Gr...   \n",
       "8   Problem description\\r\\nThis docstring https://...   \n",
       "10  Hi,\\r\\nWhy is there no support for inplace = T...   \n",
       "12  Problem description\\r\\nI want a prrogress bar ...   \n",
       "18  I'm not sure whether supporting this is worth ...   \n",
       "\n",
       "                    closedAt  \\\n",
       "7  2019-08-25 15:48:21+00:00   \n",
       "8  2019-08-25 15:56:16+00:00   \n",
       "10 2019-08-25 21:41:33+00:00   \n",
       "12 2019-08-24 09:05:19+00:00   \n",
       "18 2019-08-23 20:36:56+00:00   \n",
       "\n",
       "                                             comments  \\\n",
       "7   [{'author': {'login': 'simonjayhawkins', 'comp...   \n",
       "8                                                  []   \n",
       "10  [{'author': {'login': 'WillAyd', 'company': 'i...   \n",
       "12  [{'author': {'login': 'jreback', 'company': No...   \n",
       "18  [{'author': {'login': 'jbrockmendel', 'company...   \n",
       "\n",
       "                   createdAt  number   state  \\\n",
       "7  2019-08-25 13:34:22+00:00   28138  CLOSED   \n",
       "8  2019-08-25 13:08:52+00:00   28136  CLOSED   \n",
       "10 2019-08-25 04:15:12+00:00   28132  CLOSED   \n",
       "12 2019-08-24 08:39:37+00:00   28126  CLOSED   \n",
       "18 2019-08-23 15:14:06+00:00   28116  CLOSED   \n",
       "\n",
       "                                            title                 updatedAt  \\\n",
       "7                         Get nth group of groups 2019-08-25 15:48:21+00:00   \n",
       "8       Docstring in pickle_compat.py out of date 2019-08-25 15:56:16+00:00   \n",
       "10  Inplace support for add_suffix and add_prefix 2019-08-25 21:41:33+00:00   \n",
       "12            progress bar for read_csv is needed 2019-08-24 09:05:20+00:00   \n",
       "18         DataFrame.eval doesn't handle Ellipses 2019-08-23 20:36:56+00:00   \n",
       "\n",
       "    comment_count           company issue_duration  enAuthorAssociation  \n",
       "7               2              None       02:13:59                    1  \n",
       "8               0             @glg        02:47:24                    2  \n",
       "10              1    Nissan Digital       17:26:21                    1  \n",
       "12              1  Peking Universty       00:25:42                    1  \n",
       "18              2      @ContinuumIO       05:22:50                    2  "
      ]
     },
     "execution_count": 32,
     "metadata": {},
     "output_type": "execute_result"
    }
   ],
   "source": [
    "issues_df.head()"
   ]
  },
  {
   "cell_type": "code",
   "execution_count": 33,
   "metadata": {},
   "outputs": [
    {
     "name": "stderr",
     "output_type": "stream",
     "text": [
      "/home/ec2-user/anaconda3/envs/python3/lib/python3.6/site-packages/pandas/core/arrays/datetimes.py:1172: UserWarning: Converting to PeriodArray/Index representation will drop timezone information.\n",
      "  \"will drop timezone information.\", UserWarning)\n"
     ]
    }
   ],
   "source": [
    "issues_count_month = issues_df['createdAt'].groupby(issues_df.createdAt.dt.to_period('M')).agg('count')"
   ]
  },
  {
   "cell_type": "code",
   "execution_count": 34,
   "metadata": {},
   "outputs": [
    {
     "data": {
      "text/plain": [
       "<matplotlib.axes._subplots.AxesSubplot at 0x7f66f867ff60>"
      ]
     },
     "execution_count": 34,
     "metadata": {},
     "output_type": "execute_result"
    },
    {
     "data": {
      "image/png": "[encoded data removed]",
      "text/plain": [
       "<Figure size 432x288 with 1 Axes>"
      ]
     },
     "metadata": {},
     "output_type": "display_data"
    }
   ],
   "source": [
    "issues_count_month.plot()"
   ]
  },
  {
   "cell_type": "code",
   "execution_count": 35,
   "metadata": {},
   "outputs": [],
   "source": [
    "df['issues_count/month'] = [issues_count_month]"
   ]
  },
  {
   "cell_type": "code",
   "execution_count": 36,
   "metadata": {},
   "outputs": [
    {
     "data": {
      "text/html": [
       "<div>\n",
       "<style scoped>\n",
       "    .dataframe tbody tr th:only-of-type {\n",
       "        vertical-align: middle;\n",
       "    }\n",
       "\n",
       "    .dataframe tbody tr th {\n",
       "        vertical-align: top;\n",
       "    }\n",
       "\n",
       "    .dataframe thead th {\n",
       "        text-align: right;\n",
       "    }\n",
       "</style>\n",
       "<table border=\"1\" class=\"dataframe\">\n",
       "  <thead>\n",
       "    <tr style=\"text-align: right;\">\n",
       "      <th></th>\n",
       "      <th>createdAt</th>\n",
       "      <th>description</th>\n",
       "      <th>id</th>\n",
       "      <th>licenseInfo</th>\n",
       "      <th>name</th>\n",
       "      <th>primaryLanguage</th>\n",
       "      <th>updatedAt</th>\n",
       "      <th>comits_count/month</th>\n",
       "      <th>pr_count/month</th>\n",
       "      <th>star_count/month</th>\n",
       "      <th>issues_count/month</th>\n",
       "    </tr>\n",
       "  </thead>\n",
       "  <tbody>\n",
       "    <tr>\n",
       "      <th>0</th>\n",
       "      <td>2010-08-24T01:37:33Z</td>\n",
       "      <td>Flexible and powerful data analysis / manipula...</td>\n",
       "      <td>MDEwOlJlcG9zaXRvcnk4NTgxMjc=</td>\n",
       "      <td>{'spdxId': 'BSD-3-Clause'}</td>\n",
       "      <td>pandas</td>\n",
       "      <td>{'name': 'Python'}</td>\n",
       "      <td>2019-09-04T16:13:21Z</td>\n",
       "      <td>assocPR_closedAt\n",
       "2011-06      1\n",
       "2011-08      1...</td>\n",
       "      <td>createdAt\n",
       "2011-02      1\n",
       "2011-03      2\n",
       "2011-0...</td>\n",
       "      <td>starredAt\n",
       "2013-01      2\n",
       "2013-02     54\n",
       "2013-0...</td>\n",
       "      <td>createdAt\n",
       "2010-09     11\n",
       "2010-10      8\n",
       "2010-1...</td>\n",
       "    </tr>\n",
       "  </tbody>\n",
       "</table>\n",
       "</div>"
      ],
      "text/plain": [
       "              createdAt                                        description  \\\n",
       "0  2010-08-24T01:37:33Z  Flexible and powerful data analysis / manipula...   \n",
       "\n",
       "                             id                 licenseInfo    name  \\\n",
       "0  MDEwOlJlcG9zaXRvcnk4NTgxMjc=  {'spdxId': 'BSD-3-Clause'}  pandas   \n",
       "\n",
       "      primaryLanguage             updatedAt  \\\n",
       "0  {'name': 'Python'}  2019-09-04T16:13:21Z   \n",
       "\n",
       "                                  comits_count/month  \\\n",
       "0  assocPR_closedAt\n",
       "2011-06      1\n",
       "2011-08      1...   \n",
       "\n",
       "                                      pr_count/month  \\\n",
       "0  createdAt\n",
       "2011-02      1\n",
       "2011-03      2\n",
       "2011-0...   \n",
       "\n",
       "                                    star_count/month  \\\n",
       "0  starredAt\n",
       "2013-01      2\n",
       "2013-02     54\n",
       "2013-0...   \n",
       "\n",
       "                                  issues_count/month  \n",
       "0  createdAt\n",
       "2010-09     11\n",
       "2010-10      8\n",
       "2010-1...  "
      ]
     },
     "execution_count": 36,
     "metadata": {},
     "output_type": "execute_result"
    }
   ],
   "source": [
    "df"
   ]
  },
  {
   "cell_type": "markdown",
   "metadata": {},
   "source": [
    "------------\n",
    "# Using pull requests df to gather number of contributors and memebers for each month"
   ]
  },
  {
   "cell_type": "code",
   "execution_count": 83,
   "metadata": {},
   "outputs": [
    {
     "name": "stderr",
     "output_type": "stream",
     "text": [
      "/home/ec2-user/anaconda3/envs/python3/lib/python3.6/site-packages/pandas/core/arrays/datetimes.py:1172: UserWarning: Converting to PeriodArray/Index representation will drop timezone information.\n",
      "  \"will drop timezone information.\", UserWarning)\n"
     ]
    }
   ],
   "source": [
    "pr_count_month_mem = pr_df[pr_df['authorAssociation']=='MEMBER'].groupby(pr_df.createdAt.dt.to_period(\"M\"))"
   ]
  },
  {
   "cell_type": "code",
   "execution_count": 85,
   "metadata": {},
   "outputs": [
    {
     "data": {
      "text/plain": [
       "createdAt  authorAssociation\n",
       "2011-12    MEMBER                1\n",
       "2012-07    MEMBER                1\n",
       "2012-09    MEMBER                2\n",
       "2012-10    MEMBER                2\n",
       "2013-01    MEMBER                2\n",
       "2013-02    MEMBER                1\n",
       "2013-03    MEMBER                2\n",
       "2013-04    MEMBER                5\n",
       "2013-05    MEMBER               36\n",
       "2013-06    MEMBER               55\n",
       "Name: authorAssociation, dtype: int64"
      ]
     },
     "execution_count": 85,
     "metadata": {},
     "output_type": "execute_result"
    }
   ],
   "source": [
    "pr_count_month_mem.authorAssociation.value_counts()[:10]"
   ]
  },
  {
   "cell_type": "code",
   "execution_count": 86,
   "metadata": {},
   "outputs": [
    {
     "name": "stderr",
     "output_type": "stream",
     "text": [
      "/home/ec2-user/anaconda3/envs/python3/lib/python3.6/site-packages/pandas/core/arrays/datetimes.py:1172: UserWarning: Converting to PeriodArray/Index representation will drop timezone information.\n",
      "  \"will drop timezone information.\", UserWarning)\n"
     ]
    }
   ],
   "source": [
    "pr_count_month_con = pr_df[pr_df['authorAssociation']=='CONTRIBUTOR'].groupby(pr_df.createdAt.dt.to_period(\"M\"))"
   ]
  },
  {
   "cell_type": "code",
   "execution_count": 90,
   "metadata": {},
   "outputs": [
    {
     "data": {
      "text/plain": [
       "createdAt  authorAssociation\n",
       "2011-06    CONTRIBUTOR           1\n",
       "2011-08    CONTRIBUTOR           2\n",
       "2011-09    CONTRIBUTOR           8\n",
       "2011-10    CONTRIBUTOR          14\n",
       "2011-11    CONTRIBUTOR          12\n",
       "2011-12    CONTRIBUTOR          18\n",
       "2012-01    CONTRIBUTOR          36\n",
       "2012-02    CONTRIBUTOR          16\n",
       "2012-03    CONTRIBUTOR          20\n",
       "2012-04    CONTRIBUTOR          22\n",
       "Name: authorAssociation, dtype: int64"
      ]
     },
     "execution_count": 90,
     "metadata": {},
     "output_type": "execute_result"
    }
   ],
   "source": [
    "pr_count_month_con.authorAssociation.value_counts()[:10]"
   ]
  },
  {
   "cell_type": "code",
   "execution_count": 92,
   "metadata": {},
   "outputs": [
    {
     "name": "stderr",
     "output_type": "stream",
     "text": [
      "/home/ec2-user/anaconda3/envs/python3/lib/python3.6/site-packages/pandas/core/arrays/datetimes.py:1172: UserWarning: Converting to PeriodArray/Index representation will drop timezone information.\n",
      "  \"will drop timezone information.\", UserWarning)\n"
     ]
    }
   ],
   "source": [
    "pr_count_month_non = pr_df[pr_df['authorAssociation']=='NONE'].groupby(pr_df.createdAt.dt.to_period(\"M\"))"
   ]
  },
  {
   "cell_type": "code",
   "execution_count": 133,
   "metadata": {},
   "outputs": [
    {
     "data": {
      "text/plain": [
       "0.3333333333333333"
      ]
     },
     "execution_count": 133,
     "metadata": {},
     "output_type": "execute_result"
    }
   ],
   "source": [
    "non = pr_count_month_non.authorAssociation.value_counts()/df['pr_count/month'][0]\n",
    "non[:10]"
   ]
  },
  {
   "cell_type": "code",
   "execution_count": 105,
   "metadata": {
    "scrolled": true
   },
   "outputs": [],
   "source": [
    "mem = pr_count_month_mem.authorAssociation.value_counts()/df['pr_count/month'][0]"
   ]
  },
  {
   "cell_type": "code",
   "execution_count": 106,
   "metadata": {
    "scrolled": true
   },
   "outputs": [],
   "source": [
    "con = pr_count_month_con.authorAssociation.value_counts()/df['pr_count/month'][0]"
   ]
  },
  {
   "cell_type": "code",
   "execution_count": 107,
   "metadata": {},
   "outputs": [
    {
     "name": "stdout",
     "output_type": "stream",
     "text": [
      "None (99,) \n",
      "mem (84,) \n",
      "con (98,)\n"
     ]
    }
   ],
   "source": [
    "print('None',non.shape,'\\nmem', mem.shape,'\\ncon', con.shape)"
   ]
  },
  {
   "cell_type": "code",
   "execution_count": 139,
   "metadata": {},
   "outputs": [
    {
     "data": {
      "text/html": [
       "<div>\n",
       "<style scoped>\n",
       "    .dataframe tbody tr th:only-of-type {\n",
       "        vertical-align: middle;\n",
       "    }\n",
       "\n",
       "    .dataframe tbody tr th {\n",
       "        vertical-align: top;\n",
       "    }\n",
       "\n",
       "    .dataframe thead th {\n",
       "        text-align: right;\n",
       "    }\n",
       "</style>\n",
       "<table border=\"1\" class=\"dataframe\">\n",
       "  <thead>\n",
       "    <tr style=\"text-align: right;\">\n",
       "      <th></th>\n",
       "      <th></th>\n",
       "      <th>0</th>\n",
       "      <th>1</th>\n",
       "      <th>2</th>\n",
       "    </tr>\n",
       "    <tr>\n",
       "      <th>createdAt</th>\n",
       "      <th>authorAssociation</th>\n",
       "      <th></th>\n",
       "      <th></th>\n",
       "      <th></th>\n",
       "    </tr>\n",
       "  </thead>\n",
       "  <tbody>\n",
       "    <tr>\n",
       "      <th>2011-02</th>\n",
       "      <th>NONE</th>\n",
       "      <td>NaN</td>\n",
       "      <td>NaN</td>\n",
       "      <td>1.000000</td>\n",
       "    </tr>\n",
       "    <tr>\n",
       "      <th>2011-03</th>\n",
       "      <th>NONE</th>\n",
       "      <td>NaN</td>\n",
       "      <td>NaN</td>\n",
       "      <td>1.000000</td>\n",
       "    </tr>\n",
       "    <tr>\n",
       "      <th>2011-06</th>\n",
       "      <th>CONTRIBUTOR</th>\n",
       "      <td>NaN</td>\n",
       "      <td>1.000000</td>\n",
       "      <td>NaN</td>\n",
       "    </tr>\n",
       "    <tr>\n",
       "      <th rowspan=\"2\" valign=\"top\">2011-08</th>\n",
       "      <th>CONTRIBUTOR</th>\n",
       "      <td>NaN</td>\n",
       "      <td>0.666667</td>\n",
       "      <td>NaN</td>\n",
       "    </tr>\n",
       "    <tr>\n",
       "      <th>NONE</th>\n",
       "      <td>NaN</td>\n",
       "      <td>NaN</td>\n",
       "      <td>0.333333</td>\n",
       "    </tr>\n",
       "    <tr>\n",
       "      <th rowspan=\"2\" valign=\"top\">2011-09</th>\n",
       "      <th>CONTRIBUTOR</th>\n",
       "      <td>NaN</td>\n",
       "      <td>0.800000</td>\n",
       "      <td>NaN</td>\n",
       "    </tr>\n",
       "    <tr>\n",
       "      <th>NONE</th>\n",
       "      <td>NaN</td>\n",
       "      <td>NaN</td>\n",
       "      <td>0.200000</td>\n",
       "    </tr>\n",
       "    <tr>\n",
       "      <th rowspan=\"2\" valign=\"top\">2011-10</th>\n",
       "      <th>CONTRIBUTOR</th>\n",
       "      <td>NaN</td>\n",
       "      <td>0.933333</td>\n",
       "      <td>NaN</td>\n",
       "    </tr>\n",
       "    <tr>\n",
       "      <th>NONE</th>\n",
       "      <td>NaN</td>\n",
       "      <td>NaN</td>\n",
       "      <td>0.066667</td>\n",
       "    </tr>\n",
       "    <tr>\n",
       "      <th rowspan=\"2\" valign=\"top\">2011-11</th>\n",
       "      <th>CONTRIBUTOR</th>\n",
       "      <td>NaN</td>\n",
       "      <td>0.800000</td>\n",
       "      <td>NaN</td>\n",
       "    </tr>\n",
       "    <tr>\n",
       "      <th>NONE</th>\n",
       "      <td>NaN</td>\n",
       "      <td>NaN</td>\n",
       "      <td>0.200000</td>\n",
       "    </tr>\n",
       "    <tr>\n",
       "      <th rowspan=\"3\" valign=\"top\">2011-12</th>\n",
       "      <th>CONTRIBUTOR</th>\n",
       "      <td>NaN</td>\n",
       "      <td>0.857143</td>\n",
       "      <td>NaN</td>\n",
       "    </tr>\n",
       "    <tr>\n",
       "      <th>MEMBER</th>\n",
       "      <td>0.047619</td>\n",
       "      <td>NaN</td>\n",
       "      <td>NaN</td>\n",
       "    </tr>\n",
       "    <tr>\n",
       "      <th>NONE</th>\n",
       "      <td>NaN</td>\n",
       "      <td>NaN</td>\n",
       "      <td>0.095238</td>\n",
       "    </tr>\n",
       "    <tr>\n",
       "      <th rowspan=\"2\" valign=\"top\">2012-01</th>\n",
       "      <th>CONTRIBUTOR</th>\n",
       "      <td>NaN</td>\n",
       "      <td>0.923077</td>\n",
       "      <td>NaN</td>\n",
       "    </tr>\n",
       "    <tr>\n",
       "      <th>NONE</th>\n",
       "      <td>NaN</td>\n",
       "      <td>NaN</td>\n",
       "      <td>0.076923</td>\n",
       "    </tr>\n",
       "    <tr>\n",
       "      <th rowspan=\"2\" valign=\"top\">2012-02</th>\n",
       "      <th>CONTRIBUTOR</th>\n",
       "      <td>NaN</td>\n",
       "      <td>0.941176</td>\n",
       "      <td>NaN</td>\n",
       "    </tr>\n",
       "    <tr>\n",
       "      <th>NONE</th>\n",
       "      <td>NaN</td>\n",
       "      <td>NaN</td>\n",
       "      <td>0.058824</td>\n",
       "    </tr>\n",
       "    <tr>\n",
       "      <th rowspan=\"2\" valign=\"top\">2012-03</th>\n",
       "      <th>CONTRIBUTOR</th>\n",
       "      <td>NaN</td>\n",
       "      <td>0.952381</td>\n",
       "      <td>NaN</td>\n",
       "    </tr>\n",
       "    <tr>\n",
       "      <th>NONE</th>\n",
       "      <td>NaN</td>\n",
       "      <td>NaN</td>\n",
       "      <td>0.047619</td>\n",
       "    </tr>\n",
       "    <tr>\n",
       "      <th rowspan=\"2\" valign=\"top\">2012-04</th>\n",
       "      <th>CONTRIBUTOR</th>\n",
       "      <td>NaN</td>\n",
       "      <td>0.956522</td>\n",
       "      <td>NaN</td>\n",
       "    </tr>\n",
       "    <tr>\n",
       "      <th>NONE</th>\n",
       "      <td>NaN</td>\n",
       "      <td>NaN</td>\n",
       "      <td>0.043478</td>\n",
       "    </tr>\n",
       "    <tr>\n",
       "      <th rowspan=\"2\" valign=\"top\">2012-05</th>\n",
       "      <th>CONTRIBUTOR</th>\n",
       "      <td>NaN</td>\n",
       "      <td>0.975610</td>\n",
       "      <td>NaN</td>\n",
       "    </tr>\n",
       "    <tr>\n",
       "      <th>NONE</th>\n",
       "      <td>NaN</td>\n",
       "      <td>NaN</td>\n",
       "      <td>0.024390</td>\n",
       "    </tr>\n",
       "    <tr>\n",
       "      <th rowspan=\"2\" valign=\"top\">2012-06</th>\n",
       "      <th>CONTRIBUTOR</th>\n",
       "      <td>NaN</td>\n",
       "      <td>0.975610</td>\n",
       "      <td>NaN</td>\n",
       "    </tr>\n",
       "    <tr>\n",
       "      <th>NONE</th>\n",
       "      <td>NaN</td>\n",
       "      <td>NaN</td>\n",
       "      <td>0.024390</td>\n",
       "    </tr>\n",
       "    <tr>\n",
       "      <th rowspan=\"3\" valign=\"top\">2012-07</th>\n",
       "      <th>CONTRIBUTOR</th>\n",
       "      <td>NaN</td>\n",
       "      <td>0.842105</td>\n",
       "      <td>NaN</td>\n",
       "    </tr>\n",
       "    <tr>\n",
       "      <th>MEMBER</th>\n",
       "      <td>0.052632</td>\n",
       "      <td>NaN</td>\n",
       "      <td>NaN</td>\n",
       "    </tr>\n",
       "    <tr>\n",
       "      <th>NONE</th>\n",
       "      <td>NaN</td>\n",
       "      <td>NaN</td>\n",
       "      <td>0.105263</td>\n",
       "    </tr>\n",
       "    <tr>\n",
       "      <th>2012-08</th>\n",
       "      <th>CONTRIBUTOR</th>\n",
       "      <td>NaN</td>\n",
       "      <td>0.846154</td>\n",
       "      <td>NaN</td>\n",
       "    </tr>\n",
       "    <tr>\n",
       "      <th>...</th>\n",
       "      <th>...</th>\n",
       "      <td>...</td>\n",
       "      <td>...</td>\n",
       "      <td>...</td>\n",
       "    </tr>\n",
       "    <tr>\n",
       "      <th rowspan=\"3\" valign=\"top\">2018-11</th>\n",
       "      <th>CONTRIBUTOR</th>\n",
       "      <td>NaN</td>\n",
       "      <td>0.541796</td>\n",
       "      <td>NaN</td>\n",
       "    </tr>\n",
       "    <tr>\n",
       "      <th>MEMBER</th>\n",
       "      <td>0.414861</td>\n",
       "      <td>NaN</td>\n",
       "      <td>NaN</td>\n",
       "    </tr>\n",
       "    <tr>\n",
       "      <th>NONE</th>\n",
       "      <td>NaN</td>\n",
       "      <td>NaN</td>\n",
       "      <td>0.043344</td>\n",
       "    </tr>\n",
       "    <tr>\n",
       "      <th rowspan=\"3\" valign=\"top\">2018-12</th>\n",
       "      <th>CONTRIBUTOR</th>\n",
       "      <td>NaN</td>\n",
       "      <td>0.478261</td>\n",
       "      <td>NaN</td>\n",
       "    </tr>\n",
       "    <tr>\n",
       "      <th>MEMBER</th>\n",
       "      <td>0.464883</td>\n",
       "      <td>NaN</td>\n",
       "      <td>NaN</td>\n",
       "    </tr>\n",
       "    <tr>\n",
       "      <th>NONE</th>\n",
       "      <td>NaN</td>\n",
       "      <td>NaN</td>\n",
       "      <td>0.056856</td>\n",
       "    </tr>\n",
       "    <tr>\n",
       "      <th rowspan=\"3\" valign=\"top\">2019-01</th>\n",
       "      <th>CONTRIBUTOR</th>\n",
       "      <td>NaN</td>\n",
       "      <td>0.475309</td>\n",
       "      <td>NaN</td>\n",
       "    </tr>\n",
       "    <tr>\n",
       "      <th>MEMBER</th>\n",
       "      <td>0.441358</td>\n",
       "      <td>NaN</td>\n",
       "      <td>NaN</td>\n",
       "    </tr>\n",
       "    <tr>\n",
       "      <th>NONE</th>\n",
       "      <td>NaN</td>\n",
       "      <td>NaN</td>\n",
       "      <td>0.083333</td>\n",
       "    </tr>\n",
       "    <tr>\n",
       "      <th rowspan=\"3\" valign=\"top\">2019-02</th>\n",
       "      <th>CONTRIBUTOR</th>\n",
       "      <td>NaN</td>\n",
       "      <td>0.553398</td>\n",
       "      <td>NaN</td>\n",
       "    </tr>\n",
       "    <tr>\n",
       "      <th>MEMBER</th>\n",
       "      <td>0.257282</td>\n",
       "      <td>NaN</td>\n",
       "      <td>NaN</td>\n",
       "    </tr>\n",
       "    <tr>\n",
       "      <th>NONE</th>\n",
       "      <td>NaN</td>\n",
       "      <td>NaN</td>\n",
       "      <td>0.189320</td>\n",
       "    </tr>\n",
       "    <tr>\n",
       "      <th rowspan=\"3\" valign=\"top\">2019-03</th>\n",
       "      <th>CONTRIBUTOR</th>\n",
       "      <td>NaN</td>\n",
       "      <td>0.551867</td>\n",
       "      <td>NaN</td>\n",
       "    </tr>\n",
       "    <tr>\n",
       "      <th>MEMBER</th>\n",
       "      <td>0.336100</td>\n",
       "      <td>NaN</td>\n",
       "      <td>NaN</td>\n",
       "    </tr>\n",
       "    <tr>\n",
       "      <th>NONE</th>\n",
       "      <td>NaN</td>\n",
       "      <td>NaN</td>\n",
       "      <td>0.112033</td>\n",
       "    </tr>\n",
       "    <tr>\n",
       "      <th rowspan=\"3\" valign=\"top\">2019-04</th>\n",
       "      <th>CONTRIBUTOR</th>\n",
       "      <td>NaN</td>\n",
       "      <td>0.605096</td>\n",
       "      <td>NaN</td>\n",
       "    </tr>\n",
       "    <tr>\n",
       "      <th>MEMBER</th>\n",
       "      <td>0.299363</td>\n",
       "      <td>NaN</td>\n",
       "      <td>NaN</td>\n",
       "    </tr>\n",
       "    <tr>\n",
       "      <th>NONE</th>\n",
       "      <td>NaN</td>\n",
       "      <td>NaN</td>\n",
       "      <td>0.095541</td>\n",
       "    </tr>\n",
       "    <tr>\n",
       "      <th rowspan=\"3\" valign=\"top\">2019-05</th>\n",
       "      <th>CONTRIBUTOR</th>\n",
       "      <td>NaN</td>\n",
       "      <td>0.646739</td>\n",
       "      <td>NaN</td>\n",
       "    </tr>\n",
       "    <tr>\n",
       "      <th>MEMBER</th>\n",
       "      <td>0.309783</td>\n",
       "      <td>NaN</td>\n",
       "      <td>NaN</td>\n",
       "    </tr>\n",
       "    <tr>\n",
       "      <th>NONE</th>\n",
       "      <td>NaN</td>\n",
       "      <td>NaN</td>\n",
       "      <td>0.043478</td>\n",
       "    </tr>\n",
       "    <tr>\n",
       "      <th rowspan=\"3\" valign=\"top\">2019-06</th>\n",
       "      <th>CONTRIBUTOR</th>\n",
       "      <td>NaN</td>\n",
       "      <td>0.459459</td>\n",
       "      <td>NaN</td>\n",
       "    </tr>\n",
       "    <tr>\n",
       "      <th>MEMBER</th>\n",
       "      <td>0.466216</td>\n",
       "      <td>NaN</td>\n",
       "      <td>NaN</td>\n",
       "    </tr>\n",
       "    <tr>\n",
       "      <th>NONE</th>\n",
       "      <td>NaN</td>\n",
       "      <td>NaN</td>\n",
       "      <td>0.074324</td>\n",
       "    </tr>\n",
       "    <tr>\n",
       "      <th rowspan=\"3\" valign=\"top\">2019-07</th>\n",
       "      <th>CONTRIBUTOR</th>\n",
       "      <td>NaN</td>\n",
       "      <td>0.435714</td>\n",
       "      <td>NaN</td>\n",
       "    </tr>\n",
       "    <tr>\n",
       "      <th>MEMBER</th>\n",
       "      <td>0.478571</td>\n",
       "      <td>NaN</td>\n",
       "      <td>NaN</td>\n",
       "    </tr>\n",
       "    <tr>\n",
       "      <th>NONE</th>\n",
       "      <td>NaN</td>\n",
       "      <td>NaN</td>\n",
       "      <td>0.085714</td>\n",
       "    </tr>\n",
       "    <tr>\n",
       "      <th rowspan=\"3\" valign=\"top\">2019-08</th>\n",
       "      <th>CONTRIBUTOR</th>\n",
       "      <td>NaN</td>\n",
       "      <td>0.370149</td>\n",
       "      <td>NaN</td>\n",
       "    </tr>\n",
       "    <tr>\n",
       "      <th>MEMBER</th>\n",
       "      <td>0.325373</td>\n",
       "      <td>NaN</td>\n",
       "      <td>NaN</td>\n",
       "    </tr>\n",
       "    <tr>\n",
       "      <th>NONE</th>\n",
       "      <td>NaN</td>\n",
       "      <td>NaN</td>\n",
       "      <td>0.304478</td>\n",
       "    </tr>\n",
       "  </tbody>\n",
       "</table>\n",
       "<p>281 rows × 3 columns</p>\n",
       "</div>"
      ],
      "text/plain": [
       "                                    0         1         2\n",
       "createdAt authorAssociation                              \n",
       "2011-02   NONE                    NaN       NaN  1.000000\n",
       "2011-03   NONE                    NaN       NaN  1.000000\n",
       "2011-06   CONTRIBUTOR             NaN  1.000000       NaN\n",
       "2011-08   CONTRIBUTOR             NaN  0.666667       NaN\n",
       "          NONE                    NaN       NaN  0.333333\n",
       "2011-09   CONTRIBUTOR             NaN  0.800000       NaN\n",
       "          NONE                    NaN       NaN  0.200000\n",
       "2011-10   CONTRIBUTOR             NaN  0.933333       NaN\n",
       "          NONE                    NaN       NaN  0.066667\n",
       "2011-11   CONTRIBUTOR             NaN  0.800000       NaN\n",
       "          NONE                    NaN       NaN  0.200000\n",
       "2011-12   CONTRIBUTOR             NaN  0.857143       NaN\n",
       "          MEMBER             0.047619       NaN       NaN\n",
       "          NONE                    NaN       NaN  0.095238\n",
       "2012-01   CONTRIBUTOR             NaN  0.923077       NaN\n",
       "          NONE                    NaN       NaN  0.076923\n",
       "2012-02   CONTRIBUTOR             NaN  0.941176       NaN\n",
       "          NONE                    NaN       NaN  0.058824\n",
       "2012-03   CONTRIBUTOR             NaN  0.952381       NaN\n",
       "          NONE                    NaN       NaN  0.047619\n",
       "2012-04   CONTRIBUTOR             NaN  0.956522       NaN\n",
       "          NONE                    NaN       NaN  0.043478\n",
       "2012-05   CONTRIBUTOR             NaN  0.975610       NaN\n",
       "          NONE                    NaN       NaN  0.024390\n",
       "2012-06   CONTRIBUTOR             NaN  0.975610       NaN\n",
       "          NONE                    NaN       NaN  0.024390\n",
       "2012-07   CONTRIBUTOR             NaN  0.842105       NaN\n",
       "          MEMBER             0.052632       NaN       NaN\n",
       "          NONE                    NaN       NaN  0.105263\n",
       "2012-08   CONTRIBUTOR             NaN  0.846154       NaN\n",
       "...                               ...       ...       ...\n",
       "2018-11   CONTRIBUTOR             NaN  0.541796       NaN\n",
       "          MEMBER             0.414861       NaN       NaN\n",
       "          NONE                    NaN       NaN  0.043344\n",
       "2018-12   CONTRIBUTOR             NaN  0.478261       NaN\n",
       "          MEMBER             0.464883       NaN       NaN\n",
       "          NONE                    NaN       NaN  0.056856\n",
       "2019-01   CONTRIBUTOR             NaN  0.475309       NaN\n",
       "          MEMBER             0.441358       NaN       NaN\n",
       "          NONE                    NaN       NaN  0.083333\n",
       "2019-02   CONTRIBUTOR             NaN  0.553398       NaN\n",
       "          MEMBER             0.257282       NaN       NaN\n",
       "          NONE                    NaN       NaN  0.189320\n",
       "2019-03   CONTRIBUTOR             NaN  0.551867       NaN\n",
       "          MEMBER             0.336100       NaN       NaN\n",
       "          NONE                    NaN       NaN  0.112033\n",
       "2019-04   CONTRIBUTOR             NaN  0.605096       NaN\n",
       "          MEMBER             0.299363       NaN       NaN\n",
       "          NONE                    NaN       NaN  0.095541\n",
       "2019-05   CONTRIBUTOR             NaN  0.646739       NaN\n",
       "          MEMBER             0.309783       NaN       NaN\n",
       "          NONE                    NaN       NaN  0.043478\n",
       "2019-06   CONTRIBUTOR             NaN  0.459459       NaN\n",
       "          MEMBER             0.466216       NaN       NaN\n",
       "          NONE                    NaN       NaN  0.074324\n",
       "2019-07   CONTRIBUTOR             NaN  0.435714       NaN\n",
       "          MEMBER             0.478571       NaN       NaN\n",
       "          NONE                    NaN       NaN  0.085714\n",
       "2019-08   CONTRIBUTOR             NaN  0.370149       NaN\n",
       "          MEMBER             0.325373       NaN       NaN\n",
       "          NONE                    NaN       NaN  0.304478\n",
       "\n",
       "[281 rows x 3 columns]"
      ]
     },
     "execution_count": 139,
     "metadata": {},
     "output_type": "execute_result"
    }
   ],
   "source": [
    "pd.DataFrame([mem, con, non]).T"
   ]
  }
 ],
 "metadata": {
  "kernelspec": {
   "display_name": "Python 3",
   "language": "python",
   "name": "python3"
  },
  "language_info": {
   "codemirror_mode": {
    "name": "ipython",
    "version": 3
   },
   "file_extension": ".py",
   "mimetype": "text/x-python",
   "name": "python",
   "nbconvert_exporter": "python",
   "pygments_lexer": "ipython3",
   "version": "3.7.3"
  }
 },
 "nbformat": 4,
 "nbformat_minor": 4
}
