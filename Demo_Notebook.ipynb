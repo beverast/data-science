{
 "cells": [
  {
   "cell_type": "markdown",
   "metadata": {},
   "source": [
    "# __Github Commit Analysis__\n",
    "\n",
    "#### __Contributors__: Dustin Yang, Patrick Wilky, Joseph Wagner, Patrick Steveson\n",
    "-----------------"
   ]
  },
  {
   "cell_type": "markdown",
   "metadata": {},
   "source": [
    "### Part 1: Understanding the Problem"
   ]
  },
  {
   "cell_type": "markdown",
   "metadata": {},
   "source": [
    "#### Mission Statement\n",
    "To analyze open source projects and determine common features that influence the continued growth in contributions and popularity."
   ]
  },
  {
   "cell_type": "markdown",
   "metadata": {},
   "source": [
    "#### Customer Research"
   ]
  },
  {
   "cell_type": "markdown",
   "metadata": {},
   "source": [
    "#### Overview\n",
    "- Extract data from GitHub using GraphQL\n",
    "- Data Cleaning and Feature Engineering\n",
    "- Get Dynamic Time Warping distance matrix for Hierarchical Clustering\n",
    "- Neural Linguistic Programming(NLP) to measure average sentiment of a repo's lifespan"
   ]
  },
  {
   "cell_type": "markdown",
   "metadata": {},
   "source": [
    "-----------\n",
    "### Part 2: Data Scraping & Cleaning"
   ]
  },
  {
   "cell_type": "markdown",
   "metadata": {},
   "source": [
    "#### Kaggle vs BigQuery vs RestAPIs vs GraphQL\n",
    "- Kaggle and Bigquery did not provide the information we saught\n",
    "- RestAPIs: Gave information we did not need. More cleaning afterwards\n",
    "- GraphQL: We define what we want to query. Less cleaning afterwards"
   ]
  },
  {
   "cell_type": "markdown",
   "metadata": {},
   "source": [
    "#### Data Scraping - [GraphQL](https://developer.github.com/v4/explorer/) vs [RestAPI](https://developer.github.com/v3/issues/)\n",
    "\n",
    "GraphQL\n",
    "1. Specify query for each repo of 1000: Issues, Pull Requests, Commits, & Stargazers\n",
    "\n",
    "\n",
    "2. Create functions to query time-series data\n",
    "    - Automate query to handle errors and save it as a dataframe\n",
    "\n",
    "\n",
    "3. Explore repo's data before querying"
   ]
  },
  {
   "cell_type": "code",
   "execution_count": null,
   "metadata": {},
   "outputs": [],
   "source": [
    "# Example: Querying for Stargazers\n",
    "st_query = '''\n",
    "{{\n",
    "  repositoryOwner(login: \"{owner}\") {{\n",
    "    id\n",
    "    login\n",
    "    repository(name: \"{name}\") {{\n",
    "      id\n",
    "      name\n",
    "      createdAt\n",
    "      updatedAt\n",
    "      description\n",
    "      licenseInfo {{\n",
    "        spdxId\n",
    "      }}\n",
    "      stargazers(first:100) {{\n",
    "        totalCount\n",
    "        pageInfo {{\n",
    "          endCursor\n",
    "          hasNextPage\n",
    "        }}\n",
    "        edges {{\n",
    "          starredAt\n",
    "          node {{\n",
    "            createdAt\n",
    "            updatedAt\n",
    "            id\n",
    "            login\n",
    "            company\n",
    "          }}\n",
    "        }}\n",
    "      }}\n",
    "    }}\n",
    "  }}\n",
    "  rateLimit {{\n",
    "    limit\n",
    "    cost\n",
    "    remaining\n",
    "    resetAt\n",
    "  }}\n",
    "}}\n",
    "'''\n",
    "\n",
    "# Automated the query based on end_cursor. If true continue to query if false stop.\n",
    "st_variables = {\n",
    "    \"end_cursor\": \"\",\n",
    "    \"owner\":\"\",\n",
    "    \"name\":\"\"\n",
    "}"
   ]
  },
  {
   "cell_type": "markdown",
   "metadata": {},
   "source": [
    "#### Messy data\n",
    "1. Raw data collected from the query\n",
    "\n",
    "<img src=\"./pics/messy_data.png\">"
   ]
  },
  {
   "cell_type": "markdown",
   "metadata": {},
   "source": [
    "#### Cleaned data\n",
    "1. Create functions to unpack nested dictionaries\n",
    "\n",
    "\n",
    "2. Replace None with NaN.\n",
    "\n",
    "\n",
    "3. Filter out open issues and used closed to later feature engineer duration\n",
    "\n",
    "\n",
    "4. Remove any stargazer's data before 2013 due to it being unreliable(according to GitHub)\n",
    "\n",
    "<img src=\"./pics/clean_data.png\">"
   ]
  },
  {
   "cell_type": "markdown",
   "metadata": {},
   "source": [
    "------------\n",
    "### Part 3: Exploratroy Data Analysis and Feature Engineering"
   ]
  },
  {
   "cell_type": "markdown",
   "metadata": {},
   "source": [
    "#### Exploratory Data Analysis\n",
    "1. Explore time-series data by plotting average issues, pull request, commits, & stars per month\n",
    "    - Initial assumption\n",
    "        - Popular repo: Started off slow and peaked with a steady climb or plateaus.\n",
    "        <img src=\"./pics/popular_repo_plot.png\">\n",
    "    \n",
    "        - Less popular: Shows nothing or volatile plots.\n",
    "        <img src=\"./pics/unpopular_repo_plot.png\">"
   ]
  },
  {
   "cell_type": "markdown",
   "metadata": {},
   "source": [
    "#### Feature Engineering\n",
    "1. Ordinal encode categorical features. For example: javascript = 1, python = 2, C++ = 3 etc...\n",
    "\n",
    "\n",
    "2. For these metrics: Issues, Pull Requests, Commits, & Stargazers\n",
    "    - calculate average per month and convert it to time-series\n",
    "    - Issues and Pull Requests\n",
    "        - Duration from open to closed or merged\n",
    "        - Association(None, Members, Owner, & Contributors)"
   ]
  },
  {
   "cell_type": "markdown",
   "metadata": {},
   "source": [
    "<img src=\"./pics/feat_eng_data.png\">"
   ]
  },
  {
   "cell_type": "markdown",
   "metadata": {},
   "source": [
    "---------------\n",
    "### Part 4: [Dynamic Time Warping(DTW)](https://en.wikipedia.org/wiki/Dynamic_time_warping) & [Unsupervised Clustering Methods](https://en.wikipedia.org/wiki/Cluster_analysis)"
   ]
  },
  {
   "cell_type": "markdown",
   "metadata": {},
   "source": [
    "1. Compare two time-series and get a dtw value\n",
    "    - Iterated 1000 x 1000 times among repo's time-series data\n",
    "    - Lower the DTW value = More similar time-series"
   ]
  },
  {
   "cell_type": "markdown",
   "metadata": {},
   "source": [
    "<img src=\"./pics/eulc_dtw_plot.png\">\n",
    "Image from:\n",
    "\n",
    "Zheng Zhang, Romain Tavenard, Adeline Bailly, Xiaotong Tang, Ping Tang, et al.. Dynamic Time\n",
    "Warping Under Limited Warping Path Length. Information Sciences, Elsevier, 2017, 393, pp.91 - 107.\n",
    "ffhttp://www.sciencedirect.com/science/article/pii/S0020025517304176ff. ff10.1016/j.ins.2017.02.018ff.\n",
    "ffhal-01470554f"
   ]
  },
  {
   "cell_type": "markdown",
   "metadata": {},
   "source": [
    "#### Dynamic Time Warping distance matrix of 1000 x 1000\n",
    "<img src=\"./pics/dtw_data.png\">"
   ]
  },
  {
   "cell_type": "markdown",
   "metadata": {},
   "source": [
    "#### [Hierarchial Clustering Model](https://en.wikipedia.org/wiki/Hierarchical_clustering#/)\n",
    "1. Supervised learning requires labeled data which we do not have\n",
    "\n",
    "\n",
    "2. PCA - Reduce higher dimensional data\n",
    "    - General Rule - 5 times more observation vs the feautres\n",
    "    - Reduce high dimensional data to 4\n",
    "    \n",
    "    \n",
    "3. Used unsupervised learning to cluster data with similar DTW"
   ]
  },
  {
   "cell_type": "markdown",
   "metadata": {},
   "source": [
    "<img src=\"./pics/h_cluster_data.png\">"
   ]
  },
  {
   "cell_type": "markdown",
   "metadata": {},
   "source": [
    "--------------\n",
    "### Part 5: NLP Sentiment Analysis"
   ]
  },
  {
   "cell_type": "markdown",
   "metadata": {},
   "source": [
    "1. Used NLTK library to analyze comments from Issues and Pull Requests\n",
    "\n",
    "\n",
    "2. Initial hypothesis\n",
    "    - Green and Red cluster have different sentiment, one more negative vs the other and vice versa\n",
    "    - Run DTW on average per month from the sentiment results\n",
    "    \n",
    "    \n",
    "3. Results returned from sentiment analysis\n",
    "    - compound, negative, positive and neutral\n",
    "    \n",
    "    \n",
    "4. Join cluster features with sentiment of each repo"
   ]
  },
  {
   "cell_type": "markdown",
   "metadata": {},
   "source": [
    "<img src=\"./pics/r_g_cluster.jpg\">"
   ]
  },
  {
   "cell_type": "markdown",
   "metadata": {},
   "source": [
    "-------------\n",
    "### Part 6: Results and Conclusions"
   ]
  },
  {
   "cell_type": "markdown",
   "metadata": {},
   "source": [
    "1. Hierarchial Cluster: Two main clusters(Green and Red) and manually examined both:\n",
    "    - Green - More active: recent commits, issues, pull requests and Higher contributors than red, >10 and early stages of the repo showed high activity vs the later stages\n",
    "    - Red - Less active than Green, lower contributors/personal project <10, or early stage repo 1-2 years\n",
    "\n",
    "\n",
    "2. NLP Sentiment Analysis time-series data: \n",
    "    - Average sentiment per month of each repo\n",
    "        - Sentiment leaning positive\n",
    "    - Average sentiment per cluster\n",
    "        - Sentiment identical for red and green cluster"
   ]
  },
  {
   "cell_type": "markdown",
   "metadata": {},
   "source": [
    "### Ideas for future development"
   ]
  },
  {
   "cell_type": "markdown",
   "metadata": {},
   "source": [
    "1. Run DTW on issue and pull request association and see if it'll generate different results when clustering\n",
    "2. Run DTW on sentiment to confirm if average sentiment per cluster to check if the results were meaningful\n",
    "3. Run DTW on different time periods and check if better clusters are formed\n",
    "4. Gather more data and run different models(Neural Networks or other unsupervised learning models)\n",
    "5. Investigate sub cluster within each cluster\n",
    "6. Run other NLP methods like: Topic Modeling - Context of the corpus(all comments in issues or pull request)\n",
    "7. Run NLP on tweets or reddit if the repo has one"
   ]
  },
  {
   "cell_type": "code",
   "execution_count": null,
   "metadata": {},
   "outputs": [],
   "source": []
  }
 ],
 "metadata": {
  "kernelspec": {
   "display_name": "Python 3",
   "language": "python",
   "name": "python3"
  },
  "language_info": {
   "codemirror_mode": {
    "name": "ipython",
    "version": 3
   },
   "file_extension": ".py",
   "mimetype": "text/x-python",
   "name": "python",
   "nbconvert_exporter": "python",
   "pygments_lexer": "ipython3",
   "version": "3.7.3"
  }
 },
 "nbformat": 4,
 "nbformat_minor": 4
}
