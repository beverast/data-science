{
 "cells": [
  {
   "cell_type": "code",
   "execution_count": 1,
   "metadata": {},
   "outputs": [],
   "source": [
    "import bs4\n",
    "import pandas as pd\n",
    "import numpy as np\n",
    "import requests as r\n",
    "import re"
   ]
  },
  {
   "cell_type": "code",
   "execution_count": 98,
   "metadata": {},
   "outputs": [],
   "source": [
    "url = 'https://github.com'\n",
    "first_page = '/pandas-dev/pandas/pulls?q=is%3Aopen+is%3Apr'"
   ]
  },
  {
   "cell_type": "code",
   "execution_count": 99,
   "metadata": {},
   "outputs": [],
   "source": [
    "res = r.get(url + first_page)\n",
    "res.raise_for_status()"
   ]
  },
  {
   "cell_type": "code",
   "execution_count": 100,
   "metadata": {},
   "outputs": [],
   "source": [
    "soup = bs4.BeautifulSoup(res.text)"
   ]
  },
  {
   "cell_type": "code",
   "execution_count": 81,
   "metadata": {},
   "outputs": [
    {
     "data": {
      "text/plain": [
       "[<a class=\"link-gray-dark v-align-middle no-underline h4 js-navigation-open\" data-hovercard-type=\"pull_request\" data-hovercard-url=\"/pandas-dev/pandas/pull/28102/hovercard\" href=\"/pandas-dev/pandas/pull/28102\" id=\"issue_28102_link\">DataFrameGroupby.boxplot fails when subplots=False</a>,\n",
       " <a class=\"link-gray-dark v-align-middle no-underline h4 js-navigation-open\" data-hovercard-type=\"pull_request\" data-hovercard-url=\"/pandas-dev/pandas/pull/28101/hovercard\" href=\"/pandas-dev/pandas/pull/28101\" id=\"issue_28101_link\">COMPAT: implement visit_Constant for 3.8 compat</a>,\n",
       " <a class=\"link-gray-dark v-align-middle no-underline h4 js-navigation-open\" data-hovercard-type=\"pull_request\" data-hovercard-url=\"/pandas-dev/pandas/pull/28100/hovercard\" href=\"/pandas-dev/pandas/pull/28100\" id=\"issue_28100_link\">Bug: merge_asof() cannot use datetime.timedelta as tolerance kwarg </a>,\n",
       " <a class=\"link-gray-dark v-align-middle no-underline h4 js-navigation-open\" data-hovercard-type=\"pull_request\" data-hovercard-url=\"/pandas-dev/pandas/pull/28099/hovercard\" href=\"/pandas-dev/pandas/pull/28099\" id=\"issue_28099_link\">PERF: replace with list, closes #28084</a>,\n",
       " <a class=\"link-gray-dark v-align-middle no-underline h4 js-navigation-open\" data-hovercard-type=\"pull_request\" data-hovercard-url=\"/pandas-dev/pandas/pull/28097/hovercard\" href=\"/pandas-dev/pandas/pull/28097\" id=\"issue_28097_link\">EHN: groupby missing data in index</a>,\n",
       " <a class=\"link-gray-dark v-align-middle no-underline h4 js-navigation-open\" data-hovercard-type=\"pull_request\" data-hovercard-url=\"/pandas-dev/pandas/pull/28096/hovercard\" href=\"/pandas-dev/pandas/pull/28096\" id=\"issue_28096_link\">Docstrings</a>,\n",
       " <a class=\"link-gray-dark v-align-middle no-underline h4 js-navigation-open\" data-hovercard-type=\"pull_request\" data-hovercard-url=\"/pandas-dev/pandas/pull/28091/hovercard\" href=\"/pandas-dev/pandas/pull/28091\" id=\"issue_28091_link\">Fixes issue #27563</a>,\n",
       " <a class=\"link-gray-dark v-align-middle no-underline h4 js-navigation-open\" data-hovercard-type=\"pull_request\" data-hovercard-url=\"/pandas-dev/pandas/pull/28089/hovercard\" href=\"/pandas-dev/pandas/pull/28089\" id=\"issue_28089_link\">DOC: Make explicit in pandas IO doc the imports and options</a>,\n",
       " <a class=\"link-gray-dark v-align-middle no-underline h4 js-navigation-open\" data-hovercard-type=\"pull_request\" data-hovercard-url=\"/pandas-dev/pandas/pull/28082/hovercard\" href=\"/pandas-dev/pandas/pull/28082\" id=\"issue_28082_link\">DOC: Remove alias for numpy.random.randn from the docs</a>,\n",
       " <a class=\"link-gray-dark v-align-middle no-underline h4 js-navigation-open\" data-hovercard-type=\"pull_request\" data-hovercard-url=\"/pandas-dev/pandas/pull/28081/hovercard\" href=\"/pandas-dev/pandas/pull/28081\" id=\"issue_28081_link\">REF: separate bloated test</a>,\n",
       " <a class=\"link-gray-dark v-align-middle no-underline h4 js-navigation-open\" data-hovercard-type=\"pull_request\" data-hovercard-url=\"/pandas-dev/pandas/pull/28075/hovercard\" href=\"/pandas-dev/pandas/pull/28075\" id=\"issue_28075_link\">DOC: redirect from_csv search</a>,\n",
       " <a class=\"link-gray-dark v-align-middle no-underline h4 js-navigation-open\" data-hovercard-type=\"pull_request\" data-hovercard-url=\"/pandas-dev/pandas/pull/28066/hovercard\" href=\"/pandas-dev/pandas/pull/28066\" id=\"issue_28066_link\">REF: do extract_array earlier in series arith/comparison ops</a>,\n",
       " <a class=\"link-gray-dark v-align-middle no-underline h4 js-navigation-open\" data-hovercard-type=\"pull_request\" data-hovercard-url=\"/pandas-dev/pandas/pull/28053/hovercard\" href=\"/pandas-dev/pandas/pull/28053\" id=\"issue_28053_link\">DOC:Timestamp timedelta</a>,\n",
       " <a class=\"link-gray-dark v-align-middle no-underline h4 js-navigation-open\" data-hovercard-type=\"pull_request\" data-hovercard-url=\"/pandas-dev/pandas/pull/28052/hovercard\" href=\"/pandas-dev/pandas/pull/28052\" id=\"issue_28052_link\">Make DataFrame.to_string output full content by default</a>,\n",
       " <a class=\"link-gray-dark v-align-middle no-underline h4 js-navigation-open\" data-hovercard-type=\"pull_request\" data-hovercard-url=\"/pandas-dev/pandas/pull/28051/hovercard\" href=\"/pandas-dev/pandas/pull/28051\" id=\"issue_28051_link\">TST: fix compression tests when run without virtualenv/condaenv</a>,\n",
       " <a class=\"link-gray-dark v-align-middle no-underline h4 js-navigation-open\" data-hovercard-type=\"pull_request\" data-hovercard-url=\"/pandas-dev/pandas/pull/28049/hovercard\" href=\"/pandas-dev/pandas/pull/28049\" id=\"issue_28049_link\">BUG: timedelta64(NaT) incorrectly treated as datetime in some dataframe ops</a>,\n",
       " <a class=\"link-gray-dark v-align-middle no-underline h4 js-navigation-open\" data-hovercard-type=\"pull_request\" data-hovercard-url=\"/pandas-dev/pandas/pull/28048/hovercard\" href=\"/pandas-dev/pandas/pull/28048\" id=\"issue_28048_link\">BUG: retain extension dtypes in transpose</a>,\n",
       " <a class=\"link-gray-dark v-align-middle no-underline h4 js-navigation-open\" data-hovercard-type=\"pull_request\" data-hovercard-url=\"/pandas-dev/pandas/pull/28047/hovercard\" href=\"/pandas-dev/pandas/pull/28047\" id=\"issue_28047_link\">Issue 20927 fix resolves read_sas error for dates/datetimes greater than 2262-04-11</a>,\n",
       " <a class=\"link-gray-dark v-align-middle no-underline h4 js-navigation-open\" data-hovercard-type=\"pull_request\" data-hovercard-url=\"/pandas-dev/pandas/pull/28037/hovercard\" href=\"/pandas-dev/pandas/pull/28037\" id=\"issue_28037_link\">REF: boilerplate for ops internal consistency</a>,\n",
       " <a class=\"link-gray-dark v-align-middle no-underline h4 js-navigation-open\" data-hovercard-type=\"pull_request\" data-hovercard-url=\"/pandas-dev/pandas/pull/28036/hovercard\" href=\"/pandas-dev/pandas/pull/28036\" id=\"issue_28036_link\">CLN: small ops optimizations</a>,\n",
       " <a class=\"link-gray-dark v-align-middle no-underline h4 js-navigation-open\" data-hovercard-type=\"pull_request\" data-hovercard-url=\"/pandas-dev/pandas/pull/28032/hovercard\" href=\"/pandas-dev/pandas/pull/28032\" id=\"issue_28032_link\">Add support to names keyword in Index</a>,\n",
       " <a class=\"link-gray-dark v-align-middle no-underline h4 js-navigation-open\" data-hovercard-type=\"pull_request\" data-hovercard-url=\"/pandas-dev/pandas/pull/28031/hovercard\" href=\"/pandas-dev/pandas/pull/28031\" id=\"issue_28031_link\">DOC: Fix docstrings lack of punctuation</a>,\n",
       " <a class=\"link-gray-dark v-align-middle no-underline h4 js-navigation-open\" data-hovercard-type=\"pull_request\" data-hovercard-url=\"/pandas-dev/pandas/pull/28027/hovercard\" href=\"/pandas-dev/pandas/pull/28027\" id=\"issue_28027_link\">REF: standardize usage in DataFrame vs SparseDataFrame ops</a>,\n",
       " <a class=\"link-gray-dark v-align-middle no-underline h4 js-navigation-open\" data-hovercard-type=\"pull_request\" data-hovercard-url=\"/pandas-dev/pandas/pull/28020/hovercard\" href=\"/pandas-dev/pandas/pull/28020\" id=\"issue_28020_link\">CLN: timeseries in plotting clean up</a>,\n",
       " <a class=\"link-gray-dark v-align-middle no-underline h4 js-navigation-open\" data-hovercard-type=\"pull_request\" data-hovercard-url=\"/pandas-dev/pandas/pull/28018/hovercard\" href=\"/pandas-dev/pandas/pull/28018\" id=\"issue_28018_link\">DOC/TST: Update the parquet (pyarrow &gt;= 0.15) docs and tests regarding Categorical support</a>]"
      ]
     },
     "execution_count": 81,
     "metadata": {},
     "output_type": "execute_result"
    }
   ],
   "source": [
    "soup.find_all('a', {'class': 'h4'})"
   ]
  },
  {
   "cell_type": "code",
   "execution_count": 82,
   "metadata": {},
   "outputs": [
    {
     "data": {
      "text/plain": [
       "'DataFrameGroupby.boxplot fails when subplots=False'"
      ]
     },
     "execution_count": 82,
     "metadata": {},
     "output_type": "execute_result"
    }
   ],
   "source": [
    "# To get title\n",
    "soup.find_all('a', {'class': 'h4'})[0].text"
   ]
  },
  {
   "cell_type": "code",
   "execution_count": 83,
   "metadata": {},
   "outputs": [
    {
     "data": {
      "text/plain": [
       "{'id': 'issue_28102_link',\n",
       " 'class': ['link-gray-dark',\n",
       "  'v-align-middle',\n",
       "  'no-underline',\n",
       "  'h4',\n",
       "  'js-navigation-open'],\n",
       " 'data-hovercard-type': 'pull_request',\n",
       " 'data-hovercard-url': '/pandas-dev/pandas/pull/28102/hovercard',\n",
       " 'href': '/pandas-dev/pandas/pull/28102'}"
      ]
     },
     "execution_count": 83,
     "metadata": {},
     "output_type": "execute_result"
    }
   ],
   "source": [
    "soup.find_all('a', {'class': 'h4'})[0].attrs"
   ]
  },
  {
   "cell_type": "code",
   "execution_count": 84,
   "metadata": {},
   "outputs": [
    {
     "data": {
      "text/plain": [
       "'/pandas-dev/pandas/pull/28102'"
      ]
     },
     "execution_count": 84,
     "metadata": {},
     "output_type": "execute_result"
    }
   ],
   "source": [
    "# To get href\n",
    "soup.find_all('a', {'class': 'h4'})[0].get('href')"
   ]
  },
  {
   "cell_type": "code",
   "execution_count": 101,
   "metadata": {},
   "outputs": [
    {
     "data": {
      "text/plain": [
       "False"
      ]
     },
     "execution_count": 101,
     "metadata": {},
     "output_type": "execute_result"
    }
   ],
   "source": [
    "# Get next page\n",
    "next_page = soup.select('a[rel=next]')\n",
    "next_page == []"
   ]
  },
  {
   "cell_type": "code",
   "execution_count": 102,
   "metadata": {},
   "outputs": [
    {
     "data": {
      "text/plain": [
       "'/pandas-dev/pandas/pulls?page=2&q=is%3Aopen+is%3Apr'"
      ]
     },
     "execution_count": 102,
     "metadata": {},
     "output_type": "execute_result"
    }
   ],
   "source": [
    "next_page[0].get('href')"
   ]
  },
  {
   "cell_type": "markdown",
   "metadata": {},
   "source": [
    "# Last Page"
   ]
  },
  {
   "cell_type": "code",
   "execution_count": 88,
   "metadata": {},
   "outputs": [],
   "source": [
    "url = 'https://github.com'\n",
    "last_page = '/pandas-dev/pandas/pulls?page=7&q=is%3Aopen+is%3Apr'"
   ]
  },
  {
   "cell_type": "code",
   "execution_count": 89,
   "metadata": {},
   "outputs": [],
   "source": [
    "res = r.get(url + last_page)\n",
    "res.raise_for_status()"
   ]
  },
  {
   "cell_type": "code",
   "execution_count": 90,
   "metadata": {},
   "outputs": [],
   "source": [
    "soup = bs4.BeautifulSoup(res.text)"
   ]
  },
  {
   "cell_type": "code",
   "execution_count": null,
   "metadata": {},
   "outputs": [],
   "source": []
  },
  {
   "cell_type": "code",
   "execution_count": null,
   "metadata": {},
   "outputs": [],
   "source": []
  },
  {
   "cell_type": "code",
   "execution_count": 7,
   "metadata": {},
   "outputs": [
    {
     "data": {
      "text/plain": [
       "[]"
      ]
     },
     "execution_count": 7,
     "metadata": {},
     "output_type": "execute_result"
    }
   ],
   "source": [
    "# Get next page\n",
    "next_page = soup.select('a[rel=next]')\n",
    "next_page"
   ]
  },
  {
   "cell_type": "code",
   "execution_count": null,
   "metadata": {},
   "outputs": [],
   "source": []
  },
  {
   "cell_type": "markdown",
   "metadata": {},
   "source": [
    "# Put it all together"
   ]
  },
  {
   "cell_type": "code",
   "execution_count": 1,
   "metadata": {},
   "outputs": [],
   "source": [
    "import bs4\n",
    "import pandas as pd\n",
    "import numpy as np\n",
    "import requests as r\n",
    "import re"
   ]
  },
  {
   "cell_type": "code",
   "execution_count": 128,
   "metadata": {},
   "outputs": [],
   "source": [
    "url = 'https://github.com'\n",
    "page = '/pandas-dev/pandas/pulls?q=is%3Aopen+is%3Apr'"
   ]
  },
  {
   "cell_type": "code",
   "execution_count": 122,
   "metadata": {},
   "outputs": [],
   "source": [
    "res = r.get(url + page)\n",
    "res.raise_for_status()"
   ]
  },
  {
   "cell_type": "code",
   "execution_count": 113,
   "metadata": {},
   "outputs": [],
   "source": [
    "soup = bs4.BeautifulSoup(res.text)"
   ]
  },
  {
   "cell_type": "code",
   "execution_count": 7,
   "metadata": {},
   "outputs": [],
   "source": []
  },
  {
   "cell_type": "code",
   "execution_count": 2,
   "metadata": {},
   "outputs": [],
   "source": [
    "def scrape(tag, inline_tag, inline_tag_name):\n",
    "    \n",
    "    # Get title and href\n",
    "    soup_target = soup.find_all(tag, {inline_tag: inline_tag_name})\n",
    "    \n",
    "    # Loop through the length soup_target\n",
    "    for i in range(len(soup_target)):\n",
    "        \n",
    "        title.append(soup_target[i].text)\n",
    "\n",
    "        href.append(soup_target[i].get('href'))"
   ]
  },
  {
   "cell_type": "code",
   "execution_count": 3,
   "metadata": {},
   "outputs": [],
   "source": [
    "def request_soup(url, page):\n",
    "    res = r.get(url + page)\n",
    "    res.raise_for_status()\n",
    "\n",
    "    return bs4.BeautifulSoup(res.text)"
   ]
  },
  {
   "cell_type": "code",
   "execution_count": 9,
   "metadata": {},
   "outputs": [
    {
     "name": "stdout",
     "output_type": "stream",
     "text": [
      "/pandas-dev/pandas/pulls?page=6&q=is%3Aopen+is%3Apr\n",
      "page1\n",
      "/pandas-dev/pandas/pulls?page=6&q=is%3Aopen+is%3Apr\n",
      "/pandas-dev/pandas/pulls?page=6&q=is%3Aopen+is%3Apr\n",
      "page1\n",
      "/pandas-dev/pandas/pulls?page=7&q=is%3Aopen+is%3Apr\n",
      "/pandas-dev/pandas/pulls?page=7&q=is%3Aopen+is%3Apr\n",
      "page1\n"
     ]
    },
    {
     "ename": "IndexError",
     "evalue": "list index out of range",
     "output_type": "error",
     "traceback": [
      "\u001b[1;31m---------------------------------------------------------------------------\u001b[0m",
      "\u001b[1;31mIndexError\u001b[0m                                Traceback (most recent call last)",
      "\u001b[1;32m<ipython-input-9-c7e04919a14f>\u001b[0m in \u001b[0;36m<module>\u001b[1;34m\u001b[0m\n\u001b[0;32m     21\u001b[0m \u001b[1;33m\u001b[0m\u001b[0m\n\u001b[0;32m     22\u001b[0m         \u001b[1;31m# Get next page\u001b[0m\u001b[1;33m\u001b[0m\u001b[1;33m\u001b[0m\u001b[1;33m\u001b[0m\u001b[0m\n\u001b[1;32m---> 23\u001b[1;33m         \u001b[0mpage\u001b[0m \u001b[1;33m=\u001b[0m \u001b[0msoup\u001b[0m\u001b[1;33m.\u001b[0m\u001b[0mselect\u001b[0m\u001b[1;33m(\u001b[0m\u001b[1;34m'a[rel=next]'\u001b[0m\u001b[1;33m)\u001b[0m\u001b[1;33m[\u001b[0m\u001b[1;36m0\u001b[0m\u001b[1;33m]\u001b[0m\u001b[1;33m.\u001b[0m\u001b[0mget\u001b[0m\u001b[1;33m(\u001b[0m\u001b[1;34m'href'\u001b[0m\u001b[1;33m)\u001b[0m\u001b[1;33m\u001b[0m\u001b[1;33m\u001b[0m\u001b[0m\n\u001b[0m\u001b[0;32m     24\u001b[0m \u001b[1;33m\u001b[0m\u001b[0m\n\u001b[0;32m     25\u001b[0m         \u001b[0mnext_page\u001b[0m \u001b[1;33m=\u001b[0m \u001b[0msoup\u001b[0m\u001b[1;33m.\u001b[0m\u001b[0mselect\u001b[0m\u001b[1;33m(\u001b[0m\u001b[1;34m'a[rel=next]'\u001b[0m\u001b[1;33m)\u001b[0m\u001b[1;33m\u001b[0m\u001b[1;33m\u001b[0m\u001b[0m\n",
      "\u001b[1;31mIndexError\u001b[0m: list index out of range"
     ]
    }
   ],
   "source": [
    "title = []\n",
    "href = []\n",
    "\n",
    "url = 'https://github.com'\n",
    "page = '/pandas-dev/pandas/pulls?page=5&q=is%3Aopen+is%3Apr'\n",
    "\n",
    "res = r.get(url + page)\n",
    "res.raise_for_status()\n",
    "soup = bs4.BeautifulSoup(res.text)\n",
    "\n",
    "     \n",
    "while True:\n",
    "    next_page = soup.select('a[rel=next]')\n",
    "    print(next_page[0].get('href'))\n",
    "    if next_page != []:\n",
    "        print('page1')\n",
    "        soup = request_soup(url, page)\n",
    "        \n",
    "        # Scrape title and href\n",
    "        scrape('a', 'class', 'h4')\n",
    "        \n",
    "        # Get next page\n",
    "        page = soup.select('a[rel=next]')[0].get('href')\n",
    "        \n",
    "        next_page = soup.select('a[rel=next]')\n",
    "        print(next_page[0].get('href'))\n",
    "        \n",
    "    else:\n",
    "        print('page2')\n",
    "        soup = request_soup(url, page)\n",
    "        \n",
    "        # Scrape title and href\n",
    "        scrape('a', 'class', 'h4')\n",
    "        \n",
    "        break"
   ]
  },
  {
   "cell_type": "code",
   "execution_count": null,
   "metadata": {},
   "outputs": [],
   "source": []
  },
  {
   "cell_type": "code",
   "execution_count": 6,
   "metadata": {},
   "outputs": [
    {
     "data": {
      "text/plain": [
       "['ENH: Use IntergerArray to avoid forced conversion from integer to float',\n",
       " 'CI: format isort output for detection by azure pipelines',\n",
       " 'BUG: reindex with empty inputs',\n",
       " 'BLD: support 3.8 pre',\n",
       " 'Enhancement include or exclude keys in json normalize',\n",
       " 'BUG: Enable changing dtype of column where column names are not unique',\n",
       " 'Separate MultiIndex names from levels',\n",
       " 'ENH: Added key option to df/series.sort_values(key=...) and df/series.sort_index(key=...) sorting',\n",
       " 'Add Series._repr_html_',\n",
       " 'POC: add closed argument to IndexSlice',\n",
       " 'WIP: Remove conda warning',\n",
       " 'EA: support basic 2D operations',\n",
       " 'Plotting ExtensionArrays',\n",
       " 'Update visualization.rst',\n",
       " '[POC] CLN: use ExtensionBlock for datetime tz data',\n",
       " 'DOC: Exception raised if columns do not match data GH27003',\n",
       " 'CI: Use conda compiler in `environment.yml`',\n",
       " 'Contributing Guide for Type Hints',\n",
       " 'BUG: Fix redundant run of unwinding nested dictionary',\n",
       " 'fixes qcut failing for labels = True',\n",
       " 'BUG-26988 implement replace for categorical blocks',\n",
       " 'add type hint for core/computation/eval',\n",
       " 'REF: remove special-casing for internal EAs from format_array',\n",
       " 'WIP/CI/TST: Clean up of the tests script',\n",
       " 'Calculate normalized freqs in value_counts correctly when bins is not None',\n",
       " 'Add docstring to the insertion method & add empty result note',\n",
       " 'Annotate DataFrame (Part 1)',\n",
       " 'fix a indices bug for categorical-datetime columns',\n",
       " 'BUG:Sanity check on merge parameters for correct exception #26824',\n",
       " 'DEPR: deprecate notebook argument in DataFrame.to_html()',\n",
       " 'DOC: Document existing functionality of pandas.DataFrame.to_sql() #11886',\n",
       " 'BUG: Check for duplicate names columns and index in crosstab',\n",
       " 'Defer Series.str.get_dummies to pandas.get_dummies',\n",
       " 'ENH: Added stride/offset aliases in to_datetime',\n",
       " 'fixes #26622: pd.MultiIndex.isin should fail when input args are too short',\n",
       " 'BUG: assignment to multiple columns when some column do not exist',\n",
       " 'BUG-26214 fix colors parameter in DataFrame.boxplot',\n",
       " '[ENH] Use default EA repr for IntervalArray',\n",
       " 'BUG: Fix #10355, std() groupby calculation',\n",
       " 'ENH: allow saving wide dataframes to hdf with format table',\n",
       " ' ENH: Allow compression in NDFrame.to_csv to be a dict with optional arguments (#26023)',\n",
       " 'DEPR: Deprecate sort=None for union and implement sort=True',\n",
       " 'REF: handling of max_colwidth parameter',\n",
       " 'TST: Fix Validation Script to not error out if ends with Bullet Points',\n",
       " 'ENH: added optional caption and label arguments to DataFrame.to_latex()',\n",
       " 'REF: Fix maybe_promote',\n",
       " 'Series pct_change fill_method behavior',\n",
       " 'ENH: Added maxgap keyword for series.interpolate',\n",
       " 'Fix #25099 set na_rep values before converting to string to prevent data truncation',\n",
       " '[WIP] Excel table output',\n",
       " 'ENH: Implement EA unary ops',\n",
       " 'API: remove ordered requirement in Categorical.searchsorted',\n",
       " ' BUG: allow None as upcasted_na value ']"
      ]
     },
     "execution_count": 6,
     "metadata": {},
     "output_type": "execute_result"
    }
   ],
   "source": [
    "title"
   ]
  },
  {
   "cell_type": "code",
   "execution_count": null,
   "metadata": {},
   "outputs": [],
   "source": []
  }
 ],
 "metadata": {
  "kernelspec": {
   "display_name": "Python 3",
   "language": "python",
   "name": "python3"
  },
  "language_info": {
   "codemirror_mode": {
    "name": "ipython",
    "version": 3
   },
   "file_extension": ".py",
   "mimetype": "text/x-python",
   "name": "python",
   "nbconvert_exporter": "python",
   "pygments_lexer": "ipython3",
   "version": "3.7.1"
  }
 },
 "nbformat": 4,
 "nbformat_minor": 2
}
