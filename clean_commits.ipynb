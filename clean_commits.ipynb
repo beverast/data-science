{
 "cells": [
  {
   "cell_type": "markdown",
   "metadata": {},
   "source": [
    "#### Imports"
   ]
  },
  {
   "cell_type": "code",
   "execution_count": 1,
   "metadata": {},
   "outputs": [],
   "source": [
    "import json\n",
    "\n",
    "import numpy as np\n",
    "import pandas as pd"
   ]
  },
  {
   "cell_type": "markdown",
   "metadata": {},
   "source": [
    "#### Read Data"
   ]
  },
  {
   "cell_type": "code",
   "execution_count": 2,
   "metadata": {},
   "outputs": [
    {
     "data": {
      "text/html": [
       "<div>\n",
       "<style scoped>\n",
       "    .dataframe tbody tr th:only-of-type {\n",
       "        vertical-align: middle;\n",
       "    }\n",
       "\n",
       "    .dataframe tbody tr th {\n",
       "        vertical-align: top;\n",
       "    }\n",
       "\n",
       "    .dataframe thead th {\n",
       "        text-align: right;\n",
       "    }\n",
       "</style>\n",
       "<table border=\"1\" class=\"dataframe\">\n",
       "  <thead>\n",
       "    <tr style=\"text-align: right;\">\n",
       "      <th></th>\n",
       "      <th>associatedPullRequests</th>\n",
       "      <th>committedDate</th>\n",
       "      <th>committer</th>\n",
       "      <th>messageHeadline</th>\n",
       "      <th>oid</th>\n",
       "      <th>status</th>\n",
       "    </tr>\n",
       "  </thead>\n",
       "  <tbody>\n",
       "    <tr>\n",
       "      <th>0</th>\n",
       "      <td>{'nodes': [{'id': 'MDExOlB1bGxSZXF1ZXN0MzExMzY...</td>\n",
       "      <td>2019-08-27T21:50:22Z</td>\n",
       "      <td>{'user': {'login': 'WillAyd', 'company': 'inno...</td>\n",
       "      <td>TYPING: change to FrameOrSeries Alias in panda...</td>\n",
       "      <td>d91ffa6407c1baf6afe7d0a1b9655f44da77ac24</td>\n",
       "      <td>{'id': 'MDY6U3RhdHVzODU4MTI3OmQ5MWZmYTY0MDdjMW...</td>\n",
       "    </tr>\n",
       "    <tr>\n",
       "      <th>1</th>\n",
       "      <td>{'nodes': [{'id': 'MDExOlB1bGxSZXF1ZXN0MzExMTI...</td>\n",
       "      <td>2019-08-27T21:39:03Z</td>\n",
       "      <td>{'user': {'login': 'jbrockmendel', 'company': ...</td>\n",
       "      <td>CLN: Use ABC classes for isinstance checks, re...</td>\n",
       "      <td>080d57ee9fef9275518908cb7665ea062684c29b</td>\n",
       "      <td>{'id': 'MDY6U3RhdHVzODU4MTI3OjA4MGQ1N2VlOWZlZj...</td>\n",
       "    </tr>\n",
       "    <tr>\n",
       "      <th>2</th>\n",
       "      <td>{'nodes': [{'id': 'MDExOlB1bGxSZXF1ZXN0MzEwNjM...</td>\n",
       "      <td>2019-08-27T21:32:40Z</td>\n",
       "      <td>{'user': {'login': 'WillAyd', 'company': 'inno...</td>\n",
       "      <td>TYPING: --check-untyped-defs util._decorators ...</td>\n",
       "      <td>bd8dbf906e4352567094637c9c824c350dae3ad2</td>\n",
       "      <td>{'id': 'MDY6U3RhdHVzODU4MTI3OmJkOGRiZjkwNmU0Mz...</td>\n",
       "    </tr>\n",
       "    <tr>\n",
       "      <th>3</th>\n",
       "      <td>{'nodes': [{'id': 'MDExOlB1bGxSZXF1ZXN0MzAzNDE...</td>\n",
       "      <td>2019-08-27T14:09:41Z</td>\n",
       "      <td>{'user': {'login': 'jschendel', 'company': None}}</td>\n",
       "      <td>Replace with nested dict raises for overlappin...</td>\n",
       "      <td>041b6b180f8175b642977852f01e9211983b46ce</td>\n",
       "      <td>{'id': 'MDY6U3RhdHVzODU4MTI3OjA0MWI2YjE4MGY4MT...</td>\n",
       "    </tr>\n",
       "    <tr>\n",
       "      <th>4</th>\n",
       "      <td>{'nodes': [{'id': 'MDExOlB1bGxSZXF1ZXN0MzA3ODg...</td>\n",
       "      <td>2019-08-26T23:52:44Z</td>\n",
       "      <td>{'user': {'login': 'WillAyd', 'company': 'inno...</td>\n",
       "      <td>CLN: internals.blocks cleanup, typing (#27941)</td>\n",
       "      <td>49d2019723b0089bd357adf6c936c5a82e0cc775</td>\n",
       "      <td>{'id': 'MDY6U3RhdHVzODU4MTI3OjQ5ZDIwMTk3MjNiMD...</td>\n",
       "    </tr>\n",
       "  </tbody>\n",
       "</table>\n",
       "</div>"
      ],
      "text/plain": [
       "                              associatedPullRequests         committedDate  \\\n",
       "0  {'nodes': [{'id': 'MDExOlB1bGxSZXF1ZXN0MzExMzY...  2019-08-27T21:50:22Z   \n",
       "1  {'nodes': [{'id': 'MDExOlB1bGxSZXF1ZXN0MzExMTI...  2019-08-27T21:39:03Z   \n",
       "2  {'nodes': [{'id': 'MDExOlB1bGxSZXF1ZXN0MzEwNjM...  2019-08-27T21:32:40Z   \n",
       "3  {'nodes': [{'id': 'MDExOlB1bGxSZXF1ZXN0MzAzNDE...  2019-08-27T14:09:41Z   \n",
       "4  {'nodes': [{'id': 'MDExOlB1bGxSZXF1ZXN0MzA3ODg...  2019-08-26T23:52:44Z   \n",
       "\n",
       "                                           committer  \\\n",
       "0  {'user': {'login': 'WillAyd', 'company': 'inno...   \n",
       "1  {'user': {'login': 'jbrockmendel', 'company': ...   \n",
       "2  {'user': {'login': 'WillAyd', 'company': 'inno...   \n",
       "3  {'user': {'login': 'jschendel', 'company': None}}   \n",
       "4  {'user': {'login': 'WillAyd', 'company': 'inno...   \n",
       "\n",
       "                                     messageHeadline  \\\n",
       "0  TYPING: change to FrameOrSeries Alias in panda...   \n",
       "1  CLN: Use ABC classes for isinstance checks, re...   \n",
       "2  TYPING: --check-untyped-defs util._decorators ...   \n",
       "3  Replace with nested dict raises for overlappin...   \n",
       "4     CLN: internals.blocks cleanup, typing (#27941)   \n",
       "\n",
       "                                        oid  \\\n",
       "0  d91ffa6407c1baf6afe7d0a1b9655f44da77ac24   \n",
       "1  080d57ee9fef9275518908cb7665ea062684c29b   \n",
       "2  bd8dbf906e4352567094637c9c824c350dae3ad2   \n",
       "3  041b6b180f8175b642977852f01e9211983b46ce   \n",
       "4  49d2019723b0089bd357adf6c936c5a82e0cc775   \n",
       "\n",
       "                                              status  \n",
       "0  {'id': 'MDY6U3RhdHVzODU4MTI3OmQ5MWZmYTY0MDdjMW...  \n",
       "1  {'id': 'MDY6U3RhdHVzODU4MTI3OjA4MGQ1N2VlOWZlZj...  \n",
       "2  {'id': 'MDY6U3RhdHVzODU4MTI3OmJkOGRiZjkwNmU0Mz...  \n",
       "3  {'id': 'MDY6U3RhdHVzODU4MTI3OjA0MWI2YjE4MGY4MT...  \n",
       "4  {'id': 'MDY6U3RhdHVzODU4MTI3OjQ5ZDIwMTk3MjNiMD...  "
      ]
     },
     "execution_count": 2,
     "metadata": {},
     "output_type": "execute_result"
    }
   ],
   "source": [
    "commits = pd.read_csv('df_commits_pandas.csv')\n",
    "commits.head()"
   ]
  },
  {
   "cell_type": "markdown",
   "metadata": {},
   "source": [
    "#### What's Inside the Dicts?"
   ]
  },
  {
   "cell_type": "code",
   "execution_count": 3,
   "metadata": {},
   "outputs": [
    {
     "name": "stdout",
     "output_type": "stream",
     "text": [
      "{'nodes': [{'id': 'MDExOlB1bGxSZXF1ZXN0MzExMzY3OTE4', 'title': 'TYPING: change to FrameOrSeries Alias in pandas._typing', 'author': {'login': 'simonjayhawkins'}, 'authorAssociation': 'MEMBER', 'createdAt': '2019-08-27T12:50:17Z', 'updatedAt': '2019-08-28T11:34:26Z', 'closedAt': '2019-08-27T21:50:23Z', 'number': 28173, 'state': 'MERGED'}]} \n",
      "\n",
      "{'user': {'login': 'WillAyd', 'company': 'innobi'}} \n",
      "\n",
      "TYPING: change to FrameOrSeries Alias in pandas._typing (#28173) \n",
      "\n",
      "{'id': 'MDY6U3RhdHVzODU4MTI3OmQ5MWZmYTY0MDdjMWJhZjZhZmU3ZDBhMWI5NjU1ZjQ0ZGE3N2FjMjQ=', 'state': 'SUCCESS'}\n"
     ]
    }
   ],
   "source": [
    "print(commits.iloc[0]['associatedPullRequests'], '\\n')\n",
    "print(commits.iloc[0]['committer'], '\\n')\n",
    "print(commits.iloc[0]['messageHeadline'], '\\n')\n",
    "print(commits.iloc[0]['status'])"
   ]
  },
  {
   "cell_type": "markdown",
   "metadata": {},
   "source": [
    "#### Convert `str` Representations to `dict`"
   ]
  },
  {
   "cell_type": "code",
   "execution_count": 4,
   "metadata": {},
   "outputs": [],
   "source": [
    "# JSON can't handle single quotes, so convert all dicts to use double quotes\n",
    "# Then convert all str reprs of dicts into actual dict type"
   ]
  },
  {
   "cell_type": "code",
   "execution_count": 5,
   "metadata": {},
   "outputs": [],
   "source": [
    "commits['associatedPullRequests'] = commits['associatedPullRequests'].str.replace(\"'\", \"\\\"\")\n",
    "commits['committer'] = commits['committer'].str.replace(\"'\", \"\\\"\")\n",
    "commits['status'] = commits['status'].str.replace(\"'\", \"\\\"\")"
   ]
  },
  {
   "cell_type": "code",
   "execution_count": 6,
   "metadata": {},
   "outputs": [
    {
     "name": "stdout",
     "output_type": "stream",
     "text": [
      "<class 'pandas.core.frame.DataFrame'>\n",
      "RangeIndex: 20036 entries, 0 to 20035\n",
      "Data columns (total 6 columns):\n",
      "associatedPullRequests    20036 non-null object\n",
      "committedDate             20036 non-null object\n",
      "committer                 20036 non-null object\n",
      "messageHeadline           20036 non-null object\n",
      "oid                       20036 non-null object\n",
      "status                    13672 non-null object\n",
      "dtypes: object(6)\n",
      "memory usage: 939.3+ KB\n"
     ]
    }
   ],
   "source": [
    "commits.info()"
   ]
  },
  {
   "cell_type": "code",
   "execution_count": 7,
   "metadata": {},
   "outputs": [
    {
     "data": {
      "text/plain": [
       "{\"user\": {\"login\": \"jreback\", \"company\": None}}                                                                  8415\n",
       "{\"user\": {\"login\": \"wesm\", \"company\": \"@ursa-labs / @rstudio\"}}                                                  3744\n",
       "{\"user\": None}                                                                                                   2294\n",
       "{\"user\": {\"login\": \"jorisvandenbossche\", \"company\": None}}                                                       1190\n",
       "{\"user\": {\"login\": \"TomAugspurger\", \"company\": \"@ContinuumIO\"}}                                                   659\n",
       "{\"user\": {\"login\": \"cpcloud\", \"company\": \"@twosigma\"}}                                                            596\n",
       "{\"user\": {\"login\": \"adamklein\", \"company\": \"TwoSigma Investments\"}}                                               303\n",
       "{\"user\": {\"login\": \"jtratner\", \"company\": None}}                                                                  248\n",
       "{\"user\": {\"login\": \"sinhrks\", \"company\": None}}                                                                   247\n",
       "{\"user\": {\"login\": \"changhiskhan\", \"company\": \"@Tubitv \"}}                                                        206\n",
       "{\"user\": {\"login\": \"WillAyd\", \"company\": \"innobi\"}}                                                               175\n",
       "{\"user\": {\"login\": \"hayd\", \"company\": None}}                                                                      159\n",
       "{\"user\": {\"login\": \"gfyoung\", \"company\": None}}                                                                   101\n",
       "{\"user\": {\"login\": \"orbitfold\", \"company\": \"Leibniz Rechenzentrum\"}}                                               98\n",
       "{\"user\": {\"login\": \"shoyer\", \"company\": \"@google \"}}                                                               86\n",
       "{\"user\": {\"login\": \"datapythonista\", \"company\": None}}                                                             61\n",
       "{\"user\": {\"login\": \"jseabold\", \"company\": \"Civis Analytics\"}}                                                      53\n",
       "{\"user\": {\"login\": \"lodagro\", \"company\": None}}                                                                    50\n",
       "{\"user\": {\"login\": \"mortada\", \"company\": \"Tesla\"}}                                                                 49\n",
       "{\"user\": {\"login\": \"behzadnouri\", \"company\": None}}                                                                43\n",
       "{\"user\": {\"login\": \"kawochen\", \"company\": None}}                                                                   33\n",
       "{\"user\": {\"login\": \"bwignall\", \"company\": \"Two Sigma Investments\"}}                                                30\n",
       "{\"user\": {\"login\": \"Komnomnomnom\", \"company\": None}}                                                               28\n",
       "{\"user\": {\"login\": \"immerrr\", \"company\": None}}                                                                    28\n",
       "{\"user\": {\"login\": \"chris-b1\", \"company\": None}}                                                                   27\n",
       "{\"user\": {\"login\": \"davidastephens\", \"company\": None}}                                                             26\n",
       "{\"user\": {\"login\": \"jankatins\", \"company\": \"@zenjob\"}}                                                             24\n",
       "{\"user\": {\"login\": \"takluyver\", \"company\": None}}                                                                  21\n",
       "{\"user\": {\"login\": \"lexual\", \"company\": None}}                                                                     19\n",
       "{\"user\": {\"login\": \"rockg\", \"company\": None}}                                                                      19\n",
       "                                                                                                                 ... \n",
       "{\"user\": {\"login\": \"williamhogman\", \"company\": None}}                                                               1\n",
       "{\"user\": {\"login\": \"harshnisar\", \"company\": None}}                                                                  1\n",
       "{\"user\": {\"login\": \"ejnens\", \"company\": None}}                                                                      1\n",
       "{\"user\": {\"login\": \"iled\", \"company\": None}}                                                                        1\n",
       "{\"user\": {\"login\": \"amelio-vazquez-reina\", \"company\": \"SessionM\"}}                                                  1\n",
       "{\"user\": {\"login\": \"rgbkrk\", \"company\": \"@Netflix\"}}                                                                1\n",
       "{\"user\": {\"login\": \"gaulinmp\", \"company\": \"University of Utah\"}}                                                    1\n",
       "{\"user\": {\"login\": \"dashesy\", \"company\": \"Microsoft\"}}                                                              1\n",
       "{\"user\": {\"login\": \"berendt\", \"company\": \"Betacloud Solutions GmbH / B1 Systems GmbH\"}}                             1\n",
       "{\"user\": {\"login\": \"commonlisp\", \"company\": \"Intel\"}}                                                               1\n",
       "{\"user\": {\"login\": \"srib\", \"company\": None}}                                                                        1\n",
       "{\"user\": {\"login\": \"maxchang\", \"company\": None}}                                                                    1\n",
       "{\"user\": {\"login\": \"larsmans\", \"company\": None}}                                                                    1\n",
       "{\"user\": {\"login\": \"craustin\", \"company\": None}}                                                                    1\n",
       "{\"user\": {\"login\": \"wcbeard\", \"company\": None}}                                                                     1\n",
       "{\"user\": {\"login\": \"nburns\", \"company\": \"Notion\"}}                                                                  1\n",
       "{\"user\": {\"login\": \"rinoc\", \"company\": None}}                                                                       1\n",
       "{\"user\": {\"login\": \"gdementen\", \"company\": \"Federal Planning Bureau\"}}                                              1\n",
       "{\"user\": {\"login\": \"arsenovic\", \"company\": None}}                                                                   1\n",
       "{\"user\": {\"login\": \"jberka\", \"company\": None}}                                                                      1\n",
       "{\"user\": {\"login\": \"yelite\", \"company\": None}}                                                                      1\n",
       "{\"user\": {\"login\": \"mcsalgado\", \"company\": None}}                                                                   1\n",
       "{\"user\": {\"login\": \"pratapvardhan\", \"company\": None}}                                                               1\n",
       "{\"user\": {\"login\": \"jdeschenes\", \"company\": None}}                                                                  1\n",
       "{\"user\": {\"login\": \"jameshiebert\", \"company\": \"Pacific Climate Impacts Consortium / University of Victoria\"}}       1\n",
       "{\"user\": {\"login\": \"sxwang\", \"company\": None}}                                                                      1\n",
       "{\"user\": {\"login\": \"dacoex\", \"company\": \"Data & Code Expert Experimenting with Code on Data\"}}                      1\n",
       "{\"user\": {\"login\": \"daydreamt\", \"company\": None}}                                                                   1\n",
       "{\"user\": {\"login\": \"taeold\", \"company\": None}}                                                                      1\n",
       "{\"user\": {\"login\": \"bwillers\", \"company\": None}}                                                                    1\n",
       "Name: committer, Length: 358, dtype: int64"
      ]
     },
     "execution_count": 7,
     "metadata": {},
     "output_type": "execute_result"
    }
   ],
   "source": [
    "commits['committer'].value_counts()"
   ]
  },
  {
   "cell_type": "code",
   "execution_count": 8,
   "metadata": {},
   "outputs": [],
   "source": [
    "def convert_to_dict(series: pd.Series) -> pd.Series:\n",
    "    dicts_array = []\n",
    "    for observation in series:\n",
    "        try:\n",
    "            dicts_array.append(json.loads(observation))\n",
    "        except:\n",
    "            pass\n",
    "\n",
    "    return pd.Series(dicts_array)"
   ]
  },
  {
   "cell_type": "code",
   "execution_count": 9,
   "metadata": {},
   "outputs": [],
   "source": [
    "commits['associatedPullRequests'] = convert_to_dict(commits['associatedPullRequests'])\n",
    "commits['committer'] = convert_to_dict(commits['committer'])\n",
    "commits['status'] = convert_to_dict(commits['status'])"
   ]
  },
  {
   "cell_type": "code",
   "execution_count": 10,
   "metadata": {},
   "outputs": [
    {
     "name": "stdout",
     "output_type": "stream",
     "text": [
      "<class 'pandas.core.frame.DataFrame'>\n",
      "RangeIndex: 20036 entries, 0 to 20035\n",
      "Data columns (total 6 columns):\n",
      "associatedPullRequests    19316 non-null object\n",
      "committedDate             20036 non-null object\n",
      "committer                 6352 non-null object\n",
      "messageHeadline           20036 non-null object\n",
      "oid                       20036 non-null object\n",
      "status                    13672 non-null object\n",
      "dtypes: object(6)\n",
      "memory usage: 939.3+ KB\n"
     ]
    }
   ],
   "source": [
    "commits.info()"
   ]
  },
  {
   "cell_type": "code",
   "execution_count": 11,
   "metadata": {},
   "outputs": [
    {
     "data": {
      "text/plain": [
       "{'user': {'login': 'wesm', 'company': '@ursa-labs / @rstudio'}}                                                                  3744\n",
       "{'user': {'login': 'TomAugspurger', 'company': '@ContinuumIO'}}                                                                   659\n",
       "{'user': {'login': 'cpcloud', 'company': '@twosigma'}}                                                                            596\n",
       "{'user': {'login': 'adamklein', 'company': 'TwoSigma Investments'}}                                                               303\n",
       "{'user': {'login': 'changhiskhan', 'company': '@Tubitv '}}                                                                        206\n",
       "{'user': {'login': 'WillAyd', 'company': 'innobi'}}                                                                               175\n",
       "{'user': {'login': 'orbitfold', 'company': 'Leibniz Rechenzentrum'}}                                                               98\n",
       "{'user': {'login': 'shoyer', 'company': '@google '}}                                                                               86\n",
       "{'user': {'login': 'jseabold', 'company': 'Civis Analytics'}}                                                                      53\n",
       "{'user': {'login': 'mortada', 'company': 'Tesla'}}                                                                                 49\n",
       "{'user': {'login': 'bwignall', 'company': 'Two Sigma Investments'}}                                                                30\n",
       "{'user': {'login': 'jankatins', 'company': '@zenjob'}}                                                                             24\n",
       "{'user': {'login': 'aflaxman', 'company': '@ihmeuw (Institute for Health Metrics and Evaluation, University of Washington)'}}      18\n",
       "{'user': {'login': 'danielballan', 'company': 'Brookhaven National Lab'}}                                                          18\n",
       "{'user': {'login': 'mroeschke', 'company': '@housecanary'}}                                                                        16\n",
       "{'user': {'login': 'invisibleroads', 'company': '@crosscompute '}}                                                                 14\n",
       "{'user': {'login': 'cancan101', 'company': '@Free-Agency'}}                                                                        12\n",
       "{'user': {'login': 'yarikoptic', 'company': 'Dartmouth College, @Debian, @DataLad, @PyMVPA, @fail2ban'}}                           12\n",
       "{'user': {'login': 'sglyon', 'company': 'Valorum Data'}}                                                                           12\n",
       "{'user': {'login': 'guyrt', 'company': 'Microsoft'}}                                                                               11\n",
       "{'user': {'login': 'terrytangyuan', 'company': 'Ant Financial'}}                                                                    9\n",
       "{'user': {'login': 'alefnula', 'company': 'https://atlasml.io'}}                                                                    9\n",
       "{'user': {'login': 'blais', 'company': 'I prefer BitBucket & Mercurial'}}                                                           9\n",
       "{'user': {'login': 'nipunbatra', 'company': 'IIT Gandhinagar'}}                                                                     9\n",
       "{'user': {'login': 'khughitt', 'company': 'National Institutes of Health'}}                                                         8\n",
       "{'user': {'login': 'Winterflower', 'company': 'Elastic'}}                                                                           7\n",
       "{'user': {'login': 'metakermit', 'company': '@punkrockdev '}}                                                                       6\n",
       "{'user': {'login': 'bburan-galenea', 'company': 'Galenea'}}                                                                         5\n",
       "{'user': {'login': 'glyg', 'company': 'Morphogénie Logiciels SAS'}}                                                                 5\n",
       "{'user': {'login': 'stephen-hoover', 'company': '@civisanalytics '}}                                                                5\n",
       "                                                                                                                                 ... \n",
       "{'user': {'login': 'ojh', 'company': 'PeopleDoc, Kabu Creative'}}                                                                   1\n",
       "{'user': {'login': 'drasch', 'company': 'InfiniaML'}}                                                                               1\n",
       "{'user': {'login': 'engstrom', 'company': '@Vacasa '}}                                                                              1\n",
       "{'user': {'login': 'rgbkrk', 'company': '@Netflix'}}                                                                                1\n",
       "{'user': {'login': 'tdsmith', 'company': '@Mozilla'}}                                                                               1\n",
       "{'user': {'login': 'dengemann', 'company': 'INRIA'}}                                                                                1\n",
       "{'user': {'login': 'ilblackdragon', 'company': 'NEAR Protocol'}}                                                                    1\n",
       "{'user': {'login': 'adamobeng', 'company': 'Columbia University, London School of Economics'}}                                      1\n",
       "{'user': {'login': 'bquistorff', 'company': 'Microsoft'}}                                                                           1\n",
       "{'user': {'login': 'helger', 'company': 'Lion Labs'}}                                                                               1\n",
       "{'user': {'login': 'jd', 'company': '@DataDog  / @Mergifyio '}}                                                                     1\n",
       "{'user': {'login': 'jdreaver', 'company': '@freckle'}}                                                                              1\n",
       "{'user': {'login': 'gdementen', 'company': 'Federal Planning Bureau'}}                                                              1\n",
       "{'user': {'login': 'FvD', 'company': '@ixpantia '}}                                                                                 1\n",
       "{'user': {'login': 'nburns', 'company': 'Notion'}}                                                                                  1\n",
       "{'user': {'login': 'jcrist', 'company': 'Anaconda Inc.'}}                                                                           1\n",
       "{'user': {'login': 'ssanderson', 'company': 'Quantopian LLC'}}                                                                      1\n",
       "{'user': {'login': 'jbochi', 'company': 'Google'}}                                                                                  1\n",
       "{'user': {'login': 'dashesy', 'company': 'Microsoft'}}                                                                              1\n",
       "{'user': {'login': 'alanhdu', 'company': '@ctrl-labs '}}                                                                            1\n",
       "{'user': {'login': 'sergiopasra', 'company': 'Universidad Complutense de Madrid'}}                                                  1\n",
       "{'user': {'login': 'alexamici', 'company': '@bopen '}}                                                                              1\n",
       "{'user': {'login': 'ogrisel', 'company': 'Inria'}}                                                                                  1\n",
       "{'user': {'login': 'wholmgren', 'company': 'University of Arizona'}}                                                                1\n",
       "{'user': {'login': 'SylvainCorlay', 'company': 'QuantStack'}}                                                                       1\n",
       "{'user': {'login': 'waveform80', 'company': '@CanonicalLtd '}}                                                                      1\n",
       "{'user': {'login': 'hunterowens', 'company': '@CityOfLosAngeles '}}                                                                 1\n",
       "{'user': {'login': 'lepture', 'company': '@hsiaoming '}}                                                                            1\n",
       "{'user': {'login': 'alorenzo175', 'company': 'Univ. of Arizona'}}                                                                   1\n",
       "{'user': {'login': 'villasv', 'company': '@gupy-io '}}                                                                              1\n",
       "Name: committer, Length: 128, dtype: int64"
      ]
     },
     "execution_count": 11,
     "metadata": {},
     "output_type": "execute_result"
    }
   ],
   "source": [
    "commits['committer'].value_counts()"
   ]
  },
  {
   "cell_type": "code",
   "execution_count": 12,
   "metadata": {},
   "outputs": [
    {
     "data": {
      "text/plain": [
       "True"
      ]
     },
     "execution_count": 12,
     "metadata": {},
     "output_type": "execute_result"
    }
   ],
   "source": [
    "type(commits['associatedPullRequests'][0]) == dict"
   ]
  },
  {
   "cell_type": "markdown",
   "metadata": {},
   "source": [
    "#### Remove all non-Dict (malformed) Entries"
   ]
  },
  {
   "cell_type": "code",
   "execution_count": 13,
   "metadata": {},
   "outputs": [],
   "source": [
    "def remove_non_dicts(series) -> pd.Series:\n",
    "    series_array = series.tolist()\n",
    "    for observation in series_array:\n",
    "        if type(observation) != dict:\n",
    "            series.remove(observation)\n",
    "        "
   ]
  },
  {
   "cell_type": "code",
   "execution_count": 14,
   "metadata": {},
   "outputs": [
    {
     "data": {
      "text/plain": [
       "True"
      ]
     },
     "execution_count": 14,
     "metadata": {},
     "output_type": "execute_result"
    }
   ],
   "source": [
    "(type(commits.associatedPullRequests.values) != dict)"
   ]
  },
  {
   "cell_type": "code",
   "execution_count": 15,
   "metadata": {},
   "outputs": [],
   "source": [
    "# Filter non-dict types out of DF for all dict-type cols\n",
    "pass"
   ]
  },
  {
   "cell_type": "markdown",
   "metadata": {},
   "source": [
    "#### Convert Dict Keys to DataFrame Columns"
   ]
  },
  {
   "cell_type": "code",
   "execution_count": null,
   "metadata": {},
   "outputs": [],
   "source": [
    "commits['assoc_PR_id']\n",
    "commits['assoc_PR_title']\n",
    "commits['assoc_PR_author']\n",
    "commits['assoc_PR_author_association']\n",
    "commits['assoc_PR_createdAt']\n",
    "commits['assoc_PR_updatedAt']\n",
    "commits['assoc_PR_number']\n",
    "commits['assoc_PR_state']"
   ]
  }
 ],
 "metadata": {
  "kernelspec": {
   "display_name": "Python 3",
   "language": "python",
   "name": "python3"
  },
  "language_info": {
   "codemirror_mode": {
    "name": "ipython",
    "version": 3
   },
   "file_extension": ".py",
   "mimetype": "text/x-python",
   "name": "python",
   "nbconvert_exporter": "python",
   "pygments_lexer": "ipython3",
   "version": "3.7.3"
  }
 },
 "nbformat": 4,
 "nbformat_minor": 4
}
