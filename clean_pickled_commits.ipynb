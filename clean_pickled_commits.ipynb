{
 "cells": [
  {
   "cell_type": "markdown",
   "metadata": {},
   "source": [
    "### Import and Inspect"
   ]
  },
  {
   "cell_type": "code",
   "execution_count": 53,
   "metadata": {},
   "outputs": [],
   "source": [
    "from pprint import pprint\n",
    "import pandas as pd\n",
    "import numpy as np"
   ]
  },
  {
   "cell_type": "code",
   "execution_count": 54,
   "metadata": {},
   "outputs": [],
   "source": [
    "commits = pd.read_pickle('df_commits_pandas.pk1')"
   ]
  },
  {
   "cell_type": "code",
   "execution_count": 55,
   "metadata": {},
   "outputs": [
    {
     "data": {
      "text/html": [
       "<div>\n",
       "<style scoped>\n",
       "    .dataframe tbody tr th:only-of-type {\n",
       "        vertical-align: middle;\n",
       "    }\n",
       "\n",
       "    .dataframe tbody tr th {\n",
       "        vertical-align: top;\n",
       "    }\n",
       "\n",
       "    .dataframe thead th {\n",
       "        text-align: right;\n",
       "    }\n",
       "</style>\n",
       "<table border=\"1\" class=\"dataframe\">\n",
       "  <thead>\n",
       "    <tr style=\"text-align: right;\">\n",
       "      <th></th>\n",
       "      <th>associatedPullRequests</th>\n",
       "      <th>committedDate</th>\n",
       "      <th>committer</th>\n",
       "      <th>messageHeadline</th>\n",
       "      <th>oid</th>\n",
       "      <th>status</th>\n",
       "    </tr>\n",
       "  </thead>\n",
       "  <tbody>\n",
       "    <tr>\n",
       "      <th>0</th>\n",
       "      <td>{'nodes': [{'id': 'MDExOlB1bGxSZXF1ZXN0MzExMzY...</td>\n",
       "      <td>2019-08-27T21:50:22Z</td>\n",
       "      <td>{'user': {'login': 'WillAyd', 'company': 'inno...</td>\n",
       "      <td>TYPING: change to FrameOrSeries Alias in panda...</td>\n",
       "      <td>d91ffa6407c1baf6afe7d0a1b9655f44da77ac24</td>\n",
       "      <td>{'id': 'MDY6U3RhdHVzODU4MTI3OmQ5MWZmYTY0MDdjMW...</td>\n",
       "    </tr>\n",
       "    <tr>\n",
       "      <th>1</th>\n",
       "      <td>{'nodes': [{'id': 'MDExOlB1bGxSZXF1ZXN0MzExMTI...</td>\n",
       "      <td>2019-08-27T21:39:03Z</td>\n",
       "      <td>{'user': {'login': 'jbrockmendel', 'company': ...</td>\n",
       "      <td>CLN: Use ABC classes for isinstance checks, re...</td>\n",
       "      <td>080d57ee9fef9275518908cb7665ea062684c29b</td>\n",
       "      <td>{'id': 'MDY6U3RhdHVzODU4MTI3OjA4MGQ1N2VlOWZlZj...</td>\n",
       "    </tr>\n",
       "    <tr>\n",
       "      <th>2</th>\n",
       "      <td>{'nodes': [{'id': 'MDExOlB1bGxSZXF1ZXN0MzEwNjM...</td>\n",
       "      <td>2019-08-27T21:32:40Z</td>\n",
       "      <td>{'user': {'login': 'WillAyd', 'company': 'inno...</td>\n",
       "      <td>TYPING: --check-untyped-defs util._decorators ...</td>\n",
       "      <td>bd8dbf906e4352567094637c9c824c350dae3ad2</td>\n",
       "      <td>{'id': 'MDY6U3RhdHVzODU4MTI3OmJkOGRiZjkwNmU0Mz...</td>\n",
       "    </tr>\n",
       "    <tr>\n",
       "      <th>3</th>\n",
       "      <td>{'nodes': [{'id': 'MDExOlB1bGxSZXF1ZXN0MzAzNDE...</td>\n",
       "      <td>2019-08-27T14:09:41Z</td>\n",
       "      <td>{'user': {'login': 'jschendel', 'company': None}}</td>\n",
       "      <td>Replace with nested dict raises for overlappin...</td>\n",
       "      <td>041b6b180f8175b642977852f01e9211983b46ce</td>\n",
       "      <td>{'id': 'MDY6U3RhdHVzODU4MTI3OjA0MWI2YjE4MGY4MT...</td>\n",
       "    </tr>\n",
       "    <tr>\n",
       "      <th>4</th>\n",
       "      <td>{'nodes': [{'id': 'MDExOlB1bGxSZXF1ZXN0MzA3ODg...</td>\n",
       "      <td>2019-08-26T23:52:44Z</td>\n",
       "      <td>{'user': {'login': 'WillAyd', 'company': 'inno...</td>\n",
       "      <td>CLN: internals.blocks cleanup, typing (#27941)</td>\n",
       "      <td>49d2019723b0089bd357adf6c936c5a82e0cc775</td>\n",
       "      <td>{'id': 'MDY6U3RhdHVzODU4MTI3OjQ5ZDIwMTk3MjNiMD...</td>\n",
       "    </tr>\n",
       "  </tbody>\n",
       "</table>\n",
       "</div>"
      ],
      "text/plain": [
       "                              associatedPullRequests         committedDate  \\\n",
       "0  {'nodes': [{'id': 'MDExOlB1bGxSZXF1ZXN0MzExMzY...  2019-08-27T21:50:22Z   \n",
       "1  {'nodes': [{'id': 'MDExOlB1bGxSZXF1ZXN0MzExMTI...  2019-08-27T21:39:03Z   \n",
       "2  {'nodes': [{'id': 'MDExOlB1bGxSZXF1ZXN0MzEwNjM...  2019-08-27T21:32:40Z   \n",
       "3  {'nodes': [{'id': 'MDExOlB1bGxSZXF1ZXN0MzAzNDE...  2019-08-27T14:09:41Z   \n",
       "4  {'nodes': [{'id': 'MDExOlB1bGxSZXF1ZXN0MzA3ODg...  2019-08-26T23:52:44Z   \n",
       "\n",
       "                                           committer  \\\n",
       "0  {'user': {'login': 'WillAyd', 'company': 'inno...   \n",
       "1  {'user': {'login': 'jbrockmendel', 'company': ...   \n",
       "2  {'user': {'login': 'WillAyd', 'company': 'inno...   \n",
       "3  {'user': {'login': 'jschendel', 'company': None}}   \n",
       "4  {'user': {'login': 'WillAyd', 'company': 'inno...   \n",
       "\n",
       "                                     messageHeadline  \\\n",
       "0  TYPING: change to FrameOrSeries Alias in panda...   \n",
       "1  CLN: Use ABC classes for isinstance checks, re...   \n",
       "2  TYPING: --check-untyped-defs util._decorators ...   \n",
       "3  Replace with nested dict raises for overlappin...   \n",
       "4     CLN: internals.blocks cleanup, typing (#27941)   \n",
       "\n",
       "                                        oid  \\\n",
       "0  d91ffa6407c1baf6afe7d0a1b9655f44da77ac24   \n",
       "1  080d57ee9fef9275518908cb7665ea062684c29b   \n",
       "2  bd8dbf906e4352567094637c9c824c350dae3ad2   \n",
       "3  041b6b180f8175b642977852f01e9211983b46ce   \n",
       "4  49d2019723b0089bd357adf6c936c5a82e0cc775   \n",
       "\n",
       "                                              status  \n",
       "0  {'id': 'MDY6U3RhdHVzODU4MTI3OmQ5MWZmYTY0MDdjMW...  \n",
       "1  {'id': 'MDY6U3RhdHVzODU4MTI3OjA4MGQ1N2VlOWZlZj...  \n",
       "2  {'id': 'MDY6U3RhdHVzODU4MTI3OmJkOGRiZjkwNmU0Mz...  \n",
       "3  {'id': 'MDY6U3RhdHVzODU4MTI3OjA0MWI2YjE4MGY4MT...  \n",
       "4  {'id': 'MDY6U3RhdHVzODU4MTI3OjQ5ZDIwMTk3MjNiMD...  "
      ]
     },
     "execution_count": 55,
     "metadata": {},
     "output_type": "execute_result"
    }
   ],
   "source": [
    "commits.head()"
   ]
  },
  {
   "cell_type": "markdown",
   "metadata": {},
   "source": [
    "--------------\n",
    "### Extract `associatedPullRequests` as Separate DF"
   ]
  },
  {
   "cell_type": "code",
   "execution_count": 56,
   "metadata": {},
   "outputs": [],
   "source": [
    "PR_dict_list = commits['associatedPullRequests'].values.tolist()\n",
    "unpacked_dict_list = []\n",
    "\n",
    "for item in PR_dict_list:\n",
    "    # If `nodes` is empty append dict of NaNs, else append data\n",
    "    if len(item['nodes']) == 0:\n",
    "        unpacked_dict_list.append({'id': np.NaN, 'title': np.NaN, 'author': np.NaN,\\\n",
    "                                   'authorAssociation': np.NaN, 'createdAt': np.NaN,\\\n",
    "                                   'updatedAt': np.NaN, 'closedAt': np.NaN,\\\n",
    "                                   'number': np.NaN, 'state': np.NaN})\n",
    "    else:\n",
    "        unpacked = item['nodes'][0]\n",
    "        unpacked_dict_list.append(unpacked)"
   ]
  },
  {
   "cell_type": "code",
   "execution_count": 57,
   "metadata": {},
   "outputs": [
    {
     "name": "stdout",
     "output_type": "stream",
     "text": [
      "(20036, 9)\n"
     ]
    },
    {
     "data": {
      "text/html": [
       "<div>\n",
       "<style scoped>\n",
       "    .dataframe tbody tr th:only-of-type {\n",
       "        vertical-align: middle;\n",
       "    }\n",
       "\n",
       "    .dataframe tbody tr th {\n",
       "        vertical-align: top;\n",
       "    }\n",
       "\n",
       "    .dataframe thead th {\n",
       "        text-align: right;\n",
       "    }\n",
       "</style>\n",
       "<table border=\"1\" class=\"dataframe\">\n",
       "  <thead>\n",
       "    <tr style=\"text-align: right;\">\n",
       "      <th></th>\n",
       "      <th>author</th>\n",
       "      <th>authorAssociation</th>\n",
       "      <th>closedAt</th>\n",
       "      <th>createdAt</th>\n",
       "      <th>id</th>\n",
       "      <th>number</th>\n",
       "      <th>state</th>\n",
       "      <th>title</th>\n",
       "      <th>updatedAt</th>\n",
       "    </tr>\n",
       "  </thead>\n",
       "  <tbody>\n",
       "    <tr>\n",
       "      <th>0</th>\n",
       "      <td>{'login': 'simonjayhawkins'}</td>\n",
       "      <td>MEMBER</td>\n",
       "      <td>2019-08-27T21:50:23Z</td>\n",
       "      <td>2019-08-27T12:50:17Z</td>\n",
       "      <td>MDExOlB1bGxSZXF1ZXN0MzExMzY3OTE4</td>\n",
       "      <td>28173.0</td>\n",
       "      <td>MERGED</td>\n",
       "      <td>TYPING: change to FrameOrSeries Alias in panda...</td>\n",
       "      <td>2019-08-28T11:34:26Z</td>\n",
       "    </tr>\n",
       "    <tr>\n",
       "      <th>1</th>\n",
       "      <td>{'login': 'addisonlynch'}</td>\n",
       "      <td>CONTRIBUTOR</td>\n",
       "      <td>2019-08-27T21:39:04Z</td>\n",
       "      <td>2019-08-26T22:44:15Z</td>\n",
       "      <td>MDExOlB1bGxSZXF1ZXN0MzExMTI1MDc0</td>\n",
       "      <td>28158.0</td>\n",
       "      <td>MERGED</td>\n",
       "      <td>CLN: Use ABC classes for isinstance checks, re...</td>\n",
       "      <td>2019-08-27T21:39:04Z</td>\n",
       "    </tr>\n",
       "    <tr>\n",
       "      <th>2</th>\n",
       "      <td>{'login': 'simonjayhawkins'}</td>\n",
       "      <td>MEMBER</td>\n",
       "      <td>2019-08-27T21:32:41Z</td>\n",
       "      <td>2019-08-24T19:07:08Z</td>\n",
       "      <td>MDExOlB1bGxSZXF1ZXN0MzEwNjM0NDQ1</td>\n",
       "      <td>28128.0</td>\n",
       "      <td>MERGED</td>\n",
       "      <td>TYPING: check-untyped-defs for util._decorators</td>\n",
       "      <td>2019-08-28T11:35:15Z</td>\n",
       "    </tr>\n",
       "    <tr>\n",
       "      <th>3</th>\n",
       "      <td>{'login': 'charlesdong1991'}</td>\n",
       "      <td>CONTRIBUTOR</td>\n",
       "      <td>2019-08-27T14:09:42Z</td>\n",
       "      <td>2019-08-01T14:26:59Z</td>\n",
       "      <td>MDExOlB1bGxSZXF1ZXN0MzAzNDExNDc4</td>\n",
       "      <td>27696.0</td>\n",
       "      <td>MERGED</td>\n",
       "      <td>Replace with nested dict raises for overlappin...</td>\n",
       "      <td>2019-08-27T14:09:55Z</td>\n",
       "    </tr>\n",
       "    <tr>\n",
       "      <th>4</th>\n",
       "      <td>{'login': 'jbrockmendel'}</td>\n",
       "      <td>MEMBER</td>\n",
       "      <td>2019-08-26T23:52:45Z</td>\n",
       "      <td>2019-08-15T22:55:38Z</td>\n",
       "      <td>MDExOlB1bGxSZXF1ZXN0MzA3ODg1MDE2</td>\n",
       "      <td>27941.0</td>\n",
       "      <td>MERGED</td>\n",
       "      <td>CLN: internals.blocks cleanup, typing</td>\n",
       "      <td>2019-08-27T20:48:21Z</td>\n",
       "    </tr>\n",
       "  </tbody>\n",
       "</table>\n",
       "</div>"
      ],
      "text/plain": [
       "                         author authorAssociation              closedAt  \\\n",
       "0  {'login': 'simonjayhawkins'}            MEMBER  2019-08-27T21:50:23Z   \n",
       "1     {'login': 'addisonlynch'}       CONTRIBUTOR  2019-08-27T21:39:04Z   \n",
       "2  {'login': 'simonjayhawkins'}            MEMBER  2019-08-27T21:32:41Z   \n",
       "3  {'login': 'charlesdong1991'}       CONTRIBUTOR  2019-08-27T14:09:42Z   \n",
       "4     {'login': 'jbrockmendel'}            MEMBER  2019-08-26T23:52:45Z   \n",
       "\n",
       "              createdAt                                id   number   state  \\\n",
       "0  2019-08-27T12:50:17Z  MDExOlB1bGxSZXF1ZXN0MzExMzY3OTE4  28173.0  MERGED   \n",
       "1  2019-08-26T22:44:15Z  MDExOlB1bGxSZXF1ZXN0MzExMTI1MDc0  28158.0  MERGED   \n",
       "2  2019-08-24T19:07:08Z  MDExOlB1bGxSZXF1ZXN0MzEwNjM0NDQ1  28128.0  MERGED   \n",
       "3  2019-08-01T14:26:59Z  MDExOlB1bGxSZXF1ZXN0MzAzNDExNDc4  27696.0  MERGED   \n",
       "4  2019-08-15T22:55:38Z  MDExOlB1bGxSZXF1ZXN0MzA3ODg1MDE2  27941.0  MERGED   \n",
       "\n",
       "                                               title             updatedAt  \n",
       "0  TYPING: change to FrameOrSeries Alias in panda...  2019-08-28T11:34:26Z  \n",
       "1  CLN: Use ABC classes for isinstance checks, re...  2019-08-27T21:39:04Z  \n",
       "2    TYPING: check-untyped-defs for util._decorators  2019-08-28T11:35:15Z  \n",
       "3  Replace with nested dict raises for overlappin...  2019-08-27T14:09:55Z  \n",
       "4              CLN: internals.blocks cleanup, typing  2019-08-27T20:48:21Z  "
      ]
     },
     "execution_count": 57,
     "metadata": {},
     "output_type": "execute_result"
    }
   ],
   "source": [
    "assocPR_df = pd.DataFrame(unpacked_dict_list)\n",
    "print(assocPR_df.shape)\n",
    "assocPR_df.head()"
   ]
  },
  {
   "cell_type": "markdown",
   "metadata": {},
   "source": [
    "----------\n",
    "### Extract `committer` as Separate DF"
   ]
  },
  {
   "cell_type": "code",
   "execution_count": 58,
   "metadata": {
    "scrolled": true
   },
   "outputs": [],
   "source": [
    "committer_dicts = commits['committer'].values.tolist()\n",
    "unpacked_dict_list = []\n",
    "\n",
    "for item in committer_dicts:\n",
    "    # If `user` is empty append dict of NaNs, else append data\n",
    "    if item['user'] == None:\n",
    "        unpacked_dict_list.append({'login': np.NaN, 'company': np.NaN})\n",
    "    else:\n",
    "        unpacked = item['user']\n",
    "        unpacked_dict_list.append(unpacked)"
   ]
  },
  {
   "cell_type": "code",
   "execution_count": 59,
   "metadata": {},
   "outputs": [
    {
     "name": "stdout",
     "output_type": "stream",
     "text": [
      "(20036, 2)\n"
     ]
    },
    {
     "data": {
      "text/html": [
       "<div>\n",
       "<style scoped>\n",
       "    .dataframe tbody tr th:only-of-type {\n",
       "        vertical-align: middle;\n",
       "    }\n",
       "\n",
       "    .dataframe tbody tr th {\n",
       "        vertical-align: top;\n",
       "    }\n",
       "\n",
       "    .dataframe thead th {\n",
       "        text-align: right;\n",
       "    }\n",
       "</style>\n",
       "<table border=\"1\" class=\"dataframe\">\n",
       "  <thead>\n",
       "    <tr style=\"text-align: right;\">\n",
       "      <th></th>\n",
       "      <th>company</th>\n",
       "      <th>login</th>\n",
       "    </tr>\n",
       "  </thead>\n",
       "  <tbody>\n",
       "    <tr>\n",
       "      <th>0</th>\n",
       "      <td>innobi</td>\n",
       "      <td>WillAyd</td>\n",
       "    </tr>\n",
       "    <tr>\n",
       "      <th>1</th>\n",
       "      <td>None</td>\n",
       "      <td>jbrockmendel</td>\n",
       "    </tr>\n",
       "    <tr>\n",
       "      <th>2</th>\n",
       "      <td>innobi</td>\n",
       "      <td>WillAyd</td>\n",
       "    </tr>\n",
       "    <tr>\n",
       "      <th>3</th>\n",
       "      <td>None</td>\n",
       "      <td>jschendel</td>\n",
       "    </tr>\n",
       "    <tr>\n",
       "      <th>4</th>\n",
       "      <td>innobi</td>\n",
       "      <td>WillAyd</td>\n",
       "    </tr>\n",
       "  </tbody>\n",
       "</table>\n",
       "</div>"
      ],
      "text/plain": [
       "  company         login\n",
       "0  innobi       WillAyd\n",
       "1    None  jbrockmendel\n",
       "2  innobi       WillAyd\n",
       "3    None     jschendel\n",
       "4  innobi       WillAyd"
      ]
     },
     "execution_count": 59,
     "metadata": {},
     "output_type": "execute_result"
    }
   ],
   "source": [
    "committer_df = pd.DataFrame(unpacked_dict_list)\n",
    "print(committer_df.shape)\n",
    "committer_df.head()"
   ]
  },
  {
   "cell_type": "markdown",
   "metadata": {},
   "source": [
    "----------\n",
    "### Extract `status` as Separate DF"
   ]
  },
  {
   "cell_type": "code",
   "execution_count": 63,
   "metadata": {
    "scrolled": true
   },
   "outputs": [],
   "source": [
    "status_dicts = commits['status'].values.tolist()\n",
    "unpacked_dict_list = []\n",
    "\n",
    "for item in status_dicts:\n",
    "    # If `item` is empty append dict of NaNs, else append data\n",
    "    if item == None:\n",
    "        unpacked_dict_list.append({'id': np.NaN, 'state': np.NaN})\n",
    "    else:\n",
    "        unpacked = item\n",
    "        unpacked_dict_list.append(unpacked)"
   ]
  },
  {
   "cell_type": "code",
   "execution_count": 64,
   "metadata": {},
   "outputs": [
    {
     "name": "stdout",
     "output_type": "stream",
     "text": [
      "(20036, 2)\n"
     ]
    },
    {
     "data": {
      "text/html": [
       "<div>\n",
       "<style scoped>\n",
       "    .dataframe tbody tr th:only-of-type {\n",
       "        vertical-align: middle;\n",
       "    }\n",
       "\n",
       "    .dataframe tbody tr th {\n",
       "        vertical-align: top;\n",
       "    }\n",
       "\n",
       "    .dataframe thead th {\n",
       "        text-align: right;\n",
       "    }\n",
       "</style>\n",
       "<table border=\"1\" class=\"dataframe\">\n",
       "  <thead>\n",
       "    <tr style=\"text-align: right;\">\n",
       "      <th></th>\n",
       "      <th>id</th>\n",
       "      <th>state</th>\n",
       "    </tr>\n",
       "  </thead>\n",
       "  <tbody>\n",
       "    <tr>\n",
       "      <th>0</th>\n",
       "      <td>MDY6U3RhdHVzODU4MTI3OmQ5MWZmYTY0MDdjMWJhZjZhZm...</td>\n",
       "      <td>SUCCESS</td>\n",
       "    </tr>\n",
       "    <tr>\n",
       "      <th>1</th>\n",
       "      <td>MDY6U3RhdHVzODU4MTI3OjA4MGQ1N2VlOWZlZjkyNzU1MT...</td>\n",
       "      <td>SUCCESS</td>\n",
       "    </tr>\n",
       "    <tr>\n",
       "      <th>2</th>\n",
       "      <td>MDY6U3RhdHVzODU4MTI3OmJkOGRiZjkwNmU0MzUyNTY3MD...</td>\n",
       "      <td>SUCCESS</td>\n",
       "    </tr>\n",
       "    <tr>\n",
       "      <th>3</th>\n",
       "      <td>MDY6U3RhdHVzODU4MTI3OjA0MWI2YjE4MGY4MTc1YjY0Mj...</td>\n",
       "      <td>SUCCESS</td>\n",
       "    </tr>\n",
       "    <tr>\n",
       "      <th>4</th>\n",
       "      <td>MDY6U3RhdHVzODU4MTI3OjQ5ZDIwMTk3MjNiMDA4OWJkMz...</td>\n",
       "      <td>SUCCESS</td>\n",
       "    </tr>\n",
       "  </tbody>\n",
       "</table>\n",
       "</div>"
      ],
      "text/plain": [
       "                                                  id    state\n",
       "0  MDY6U3RhdHVzODU4MTI3OmQ5MWZmYTY0MDdjMWJhZjZhZm...  SUCCESS\n",
       "1  MDY6U3RhdHVzODU4MTI3OjA4MGQ1N2VlOWZlZjkyNzU1MT...  SUCCESS\n",
       "2  MDY6U3RhdHVzODU4MTI3OmJkOGRiZjkwNmU0MzUyNTY3MD...  SUCCESS\n",
       "3  MDY6U3RhdHVzODU4MTI3OjA0MWI2YjE4MGY4MTc1YjY0Mj...  SUCCESS\n",
       "4  MDY6U3RhdHVzODU4MTI3OjQ5ZDIwMTk3MjNiMDA4OWJkMz...  SUCCESS"
      ]
     },
     "execution_count": 64,
     "metadata": {},
     "output_type": "execute_result"
    }
   ],
   "source": [
    "status_df = pd.DataFrame(unpacked_dict_list)\n",
    "print(status_df.shape)\n",
    "status_df.head()"
   ]
  },
  {
   "cell_type": "markdown",
   "metadata": {},
   "source": [
    "---------\n",
    "### Merge `assocPR_df`, `committer_df`, and `status_df`\n",
    "\n",
    "Notes:\n",
    "- ✔ Rename `assocPR_df` columns to clarify it isn't the committer\n",
    "- ✔ Unpack `assocPR_author`, retain `login` value\n",
    "- ✔ Rename `committer_df` columns to clarify\n",
    "- ✔ Rename `status_df` columns to clarify"
   ]
  },
  {
   "cell_type": "code",
   "execution_count": null,
   "metadata": {},
   "outputs": [],
   "source": [
    "renamed_cols = {'author':'assocPR_author',\n",
    "                'authorAssociation':'assocPR_authorAssociation',\n",
    "                'closedAt':'assocPR_closedAt',\n",
    "                'createdAt':'assocPR_createdAt',\n",
    "                'id':'assocPR_id',\n",
    "                'number':'assocPR_number',\n",
    "                'state':'assocPR_state',\n",
    "                'title':'assocPR_title',\n",
    "                'updatedAt':'assocPR_updatedAt'}\n",
    "\n",
    "assocPR_df.rename(columns=renamed_cols, inplace=True)"
   ]
  },
  {
   "cell_type": "code",
   "execution_count": 85,
   "metadata": {},
   "outputs": [
    {
     "data": {
      "text/plain": [
       "20036"
      ]
     },
     "execution_count": 85,
     "metadata": {},
     "output_type": "execute_result"
    }
   ],
   "source": [
    "# Make list of PR author login values\n",
    "author_dicts = assocPR_df['assocPR_author'].values.tolist()\n",
    "unpacked_dict_list = []\n",
    "\n",
    "for item in author_dicts:\n",
    "    # If `item` is empty append NaN, else append data\n",
    "    if item == None or type(item) == float:\n",
    "        unpacked_dict_list.append(np.NaN)\n",
    "    else:\n",
    "        unpacked_dict_list.append(item['login'])\n",
    "\n",
    "len(unpacked_dict_list)"
   ]
  },
  {
   "cell_type": "code",
   "execution_count": 86,
   "metadata": {},
   "outputs": [
    {
     "data": {
      "text/html": [
       "<div>\n",
       "<style scoped>\n",
       "    .dataframe tbody tr th:only-of-type {\n",
       "        vertical-align: middle;\n",
       "    }\n",
       "\n",
       "    .dataframe tbody tr th {\n",
       "        vertical-align: top;\n",
       "    }\n",
       "\n",
       "    .dataframe thead th {\n",
       "        text-align: right;\n",
       "    }\n",
       "</style>\n",
       "<table border=\"1\" class=\"dataframe\">\n",
       "  <thead>\n",
       "    <tr style=\"text-align: right;\">\n",
       "      <th></th>\n",
       "      <th>assocPR_author</th>\n",
       "      <th>assocPR_authorAssociation</th>\n",
       "      <th>assocPR_closedAt</th>\n",
       "      <th>assocPR_createdAt</th>\n",
       "      <th>assocPR_id</th>\n",
       "      <th>assocPR_number</th>\n",
       "      <th>assocPR_state</th>\n",
       "      <th>assocPR_title</th>\n",
       "      <th>assocPR_updatedAt</th>\n",
       "    </tr>\n",
       "  </thead>\n",
       "  <tbody>\n",
       "    <tr>\n",
       "      <th>0</th>\n",
       "      <td>simonjayhawkins</td>\n",
       "      <td>MEMBER</td>\n",
       "      <td>2019-08-27T21:50:23Z</td>\n",
       "      <td>2019-08-27T12:50:17Z</td>\n",
       "      <td>MDExOlB1bGxSZXF1ZXN0MzExMzY3OTE4</td>\n",
       "      <td>28173.0</td>\n",
       "      <td>MERGED</td>\n",
       "      <td>TYPING: change to FrameOrSeries Alias in panda...</td>\n",
       "      <td>2019-08-28T11:34:26Z</td>\n",
       "    </tr>\n",
       "    <tr>\n",
       "      <th>1</th>\n",
       "      <td>addisonlynch</td>\n",
       "      <td>CONTRIBUTOR</td>\n",
       "      <td>2019-08-27T21:39:04Z</td>\n",
       "      <td>2019-08-26T22:44:15Z</td>\n",
       "      <td>MDExOlB1bGxSZXF1ZXN0MzExMTI1MDc0</td>\n",
       "      <td>28158.0</td>\n",
       "      <td>MERGED</td>\n",
       "      <td>CLN: Use ABC classes for isinstance checks, re...</td>\n",
       "      <td>2019-08-27T21:39:04Z</td>\n",
       "    </tr>\n",
       "    <tr>\n",
       "      <th>2</th>\n",
       "      <td>simonjayhawkins</td>\n",
       "      <td>MEMBER</td>\n",
       "      <td>2019-08-27T21:32:41Z</td>\n",
       "      <td>2019-08-24T19:07:08Z</td>\n",
       "      <td>MDExOlB1bGxSZXF1ZXN0MzEwNjM0NDQ1</td>\n",
       "      <td>28128.0</td>\n",
       "      <td>MERGED</td>\n",
       "      <td>TYPING: check-untyped-defs for util._decorators</td>\n",
       "      <td>2019-08-28T11:35:15Z</td>\n",
       "    </tr>\n",
       "    <tr>\n",
       "      <th>3</th>\n",
       "      <td>charlesdong1991</td>\n",
       "      <td>CONTRIBUTOR</td>\n",
       "      <td>2019-08-27T14:09:42Z</td>\n",
       "      <td>2019-08-01T14:26:59Z</td>\n",
       "      <td>MDExOlB1bGxSZXF1ZXN0MzAzNDExNDc4</td>\n",
       "      <td>27696.0</td>\n",
       "      <td>MERGED</td>\n",
       "      <td>Replace with nested dict raises for overlappin...</td>\n",
       "      <td>2019-08-27T14:09:55Z</td>\n",
       "    </tr>\n",
       "    <tr>\n",
       "      <th>4</th>\n",
       "      <td>jbrockmendel</td>\n",
       "      <td>MEMBER</td>\n",
       "      <td>2019-08-26T23:52:45Z</td>\n",
       "      <td>2019-08-15T22:55:38Z</td>\n",
       "      <td>MDExOlB1bGxSZXF1ZXN0MzA3ODg1MDE2</td>\n",
       "      <td>27941.0</td>\n",
       "      <td>MERGED</td>\n",
       "      <td>CLN: internals.blocks cleanup, typing</td>\n",
       "      <td>2019-08-27T20:48:21Z</td>\n",
       "    </tr>\n",
       "  </tbody>\n",
       "</table>\n",
       "</div>"
      ],
      "text/plain": [
       "    assocPR_author assocPR_authorAssociation      assocPR_closedAt  \\\n",
       "0  simonjayhawkins                    MEMBER  2019-08-27T21:50:23Z   \n",
       "1     addisonlynch               CONTRIBUTOR  2019-08-27T21:39:04Z   \n",
       "2  simonjayhawkins                    MEMBER  2019-08-27T21:32:41Z   \n",
       "3  charlesdong1991               CONTRIBUTOR  2019-08-27T14:09:42Z   \n",
       "4     jbrockmendel                    MEMBER  2019-08-26T23:52:45Z   \n",
       "\n",
       "      assocPR_createdAt                        assocPR_id  assocPR_number  \\\n",
       "0  2019-08-27T12:50:17Z  MDExOlB1bGxSZXF1ZXN0MzExMzY3OTE4         28173.0   \n",
       "1  2019-08-26T22:44:15Z  MDExOlB1bGxSZXF1ZXN0MzExMTI1MDc0         28158.0   \n",
       "2  2019-08-24T19:07:08Z  MDExOlB1bGxSZXF1ZXN0MzEwNjM0NDQ1         28128.0   \n",
       "3  2019-08-01T14:26:59Z  MDExOlB1bGxSZXF1ZXN0MzAzNDExNDc4         27696.0   \n",
       "4  2019-08-15T22:55:38Z  MDExOlB1bGxSZXF1ZXN0MzA3ODg1MDE2         27941.0   \n",
       "\n",
       "  assocPR_state                                      assocPR_title  \\\n",
       "0        MERGED  TYPING: change to FrameOrSeries Alias in panda...   \n",
       "1        MERGED  CLN: Use ABC classes for isinstance checks, re...   \n",
       "2        MERGED    TYPING: check-untyped-defs for util._decorators   \n",
       "3        MERGED  Replace with nested dict raises for overlappin...   \n",
       "4        MERGED              CLN: internals.blocks cleanup, typing   \n",
       "\n",
       "      assocPR_updatedAt  \n",
       "0  2019-08-28T11:34:26Z  \n",
       "1  2019-08-27T21:39:04Z  \n",
       "2  2019-08-28T11:35:15Z  \n",
       "3  2019-08-27T14:09:55Z  \n",
       "4  2019-08-27T20:48:21Z  "
      ]
     },
     "execution_count": 86,
     "metadata": {},
     "output_type": "execute_result"
    }
   ],
   "source": [
    "# Update `assocPR_author`\n",
    "assocPR_df['assocPR_author'] = unpacked_dict_list\n",
    "assocPR_df.head()"
   ]
  },
  {
   "cell_type": "markdown",
   "metadata": {},
   "source": [
    "------------"
   ]
  },
  {
   "cell_type": "code",
   "execution_count": 87,
   "metadata": {},
   "outputs": [],
   "source": [
    "renamed_cols = {'company':'committer_company',\n",
    "                'login':'committer_author'}\n",
    "committer_df.rename(columns=renamed_cols, inplace=True)"
   ]
  },
  {
   "cell_type": "code",
   "execution_count": 88,
   "metadata": {},
   "outputs": [
    {
     "data": {
      "text/html": [
       "<div>\n",
       "<style scoped>\n",
       "    .dataframe tbody tr th:only-of-type {\n",
       "        vertical-align: middle;\n",
       "    }\n",
       "\n",
       "    .dataframe tbody tr th {\n",
       "        vertical-align: top;\n",
       "    }\n",
       "\n",
       "    .dataframe thead th {\n",
       "        text-align: right;\n",
       "    }\n",
       "</style>\n",
       "<table border=\"1\" class=\"dataframe\">\n",
       "  <thead>\n",
       "    <tr style=\"text-align: right;\">\n",
       "      <th></th>\n",
       "      <th>committer_company</th>\n",
       "      <th>committer_author</th>\n",
       "    </tr>\n",
       "  </thead>\n",
       "  <tbody>\n",
       "    <tr>\n",
       "      <th>0</th>\n",
       "      <td>innobi</td>\n",
       "      <td>WillAyd</td>\n",
       "    </tr>\n",
       "    <tr>\n",
       "      <th>1</th>\n",
       "      <td>None</td>\n",
       "      <td>jbrockmendel</td>\n",
       "    </tr>\n",
       "    <tr>\n",
       "      <th>2</th>\n",
       "      <td>innobi</td>\n",
       "      <td>WillAyd</td>\n",
       "    </tr>\n",
       "    <tr>\n",
       "      <th>3</th>\n",
       "      <td>None</td>\n",
       "      <td>jschendel</td>\n",
       "    </tr>\n",
       "    <tr>\n",
       "      <th>4</th>\n",
       "      <td>innobi</td>\n",
       "      <td>WillAyd</td>\n",
       "    </tr>\n",
       "  </tbody>\n",
       "</table>\n",
       "</div>"
      ],
      "text/plain": [
       "  committer_company committer_author\n",
       "0            innobi          WillAyd\n",
       "1              None     jbrockmendel\n",
       "2            innobi          WillAyd\n",
       "3              None        jschendel\n",
       "4            innobi          WillAyd"
      ]
     },
     "execution_count": 88,
     "metadata": {},
     "output_type": "execute_result"
    }
   ],
   "source": [
    "committer_df.head()"
   ]
  },
  {
   "cell_type": "markdown",
   "metadata": {},
   "source": [
    "------------"
   ]
  },
  {
   "cell_type": "code",
   "execution_count": 89,
   "metadata": {},
   "outputs": [],
   "source": [
    "renamed_cols = {'id':'status_id',\n",
    "                'state':'status_state'}\n",
    "status_df.rename(columns=renamed_cols, inplace=True)"
   ]
  },
  {
   "cell_type": "code",
   "execution_count": 90,
   "metadata": {},
   "outputs": [
    {
     "data": {
      "text/html": [
       "<div>\n",
       "<style scoped>\n",
       "    .dataframe tbody tr th:only-of-type {\n",
       "        vertical-align: middle;\n",
       "    }\n",
       "\n",
       "    .dataframe tbody tr th {\n",
       "        vertical-align: top;\n",
       "    }\n",
       "\n",
       "    .dataframe thead th {\n",
       "        text-align: right;\n",
       "    }\n",
       "</style>\n",
       "<table border=\"1\" class=\"dataframe\">\n",
       "  <thead>\n",
       "    <tr style=\"text-align: right;\">\n",
       "      <th></th>\n",
       "      <th>status_id</th>\n",
       "      <th>status_state</th>\n",
       "    </tr>\n",
       "  </thead>\n",
       "  <tbody>\n",
       "    <tr>\n",
       "      <th>0</th>\n",
       "      <td>MDY6U3RhdHVzODU4MTI3OmQ5MWZmYTY0MDdjMWJhZjZhZm...</td>\n",
       "      <td>SUCCESS</td>\n",
       "    </tr>\n",
       "    <tr>\n",
       "      <th>1</th>\n",
       "      <td>MDY6U3RhdHVzODU4MTI3OjA4MGQ1N2VlOWZlZjkyNzU1MT...</td>\n",
       "      <td>SUCCESS</td>\n",
       "    </tr>\n",
       "    <tr>\n",
       "      <th>2</th>\n",
       "      <td>MDY6U3RhdHVzODU4MTI3OmJkOGRiZjkwNmU0MzUyNTY3MD...</td>\n",
       "      <td>SUCCESS</td>\n",
       "    </tr>\n",
       "    <tr>\n",
       "      <th>3</th>\n",
       "      <td>MDY6U3RhdHVzODU4MTI3OjA0MWI2YjE4MGY4MTc1YjY0Mj...</td>\n",
       "      <td>SUCCESS</td>\n",
       "    </tr>\n",
       "    <tr>\n",
       "      <th>4</th>\n",
       "      <td>MDY6U3RhdHVzODU4MTI3OjQ5ZDIwMTk3MjNiMDA4OWJkMz...</td>\n",
       "      <td>SUCCESS</td>\n",
       "    </tr>\n",
       "  </tbody>\n",
       "</table>\n",
       "</div>"
      ],
      "text/plain": [
       "                                           status_id status_state\n",
       "0  MDY6U3RhdHVzODU4MTI3OmQ5MWZmYTY0MDdjMWJhZjZhZm...      SUCCESS\n",
       "1  MDY6U3RhdHVzODU4MTI3OjA4MGQ1N2VlOWZlZjkyNzU1MT...      SUCCESS\n",
       "2  MDY6U3RhdHVzODU4MTI3OmJkOGRiZjkwNmU0MzUyNTY3MD...      SUCCESS\n",
       "3  MDY6U3RhdHVzODU4MTI3OjA0MWI2YjE4MGY4MTc1YjY0Mj...      SUCCESS\n",
       "4  MDY6U3RhdHVzODU4MTI3OjQ5ZDIwMTk3MjNiMDA4OWJkMz...      SUCCESS"
      ]
     },
     "execution_count": 90,
     "metadata": {},
     "output_type": "execute_result"
    }
   ],
   "source": [
    "status_df.head()"
   ]
  },
  {
   "cell_type": "markdown",
   "metadata": {},
   "source": [
    "-----------"
   ]
  },
  {
   "cell_type": "code",
   "execution_count": 95,
   "metadata": {},
   "outputs": [],
   "source": [
    "# Merge assocPR_df and committer_df\n",
    "commits_cleaned = pd.concat([assocPR_df, committer_df, status_df], axis='columns')"
   ]
  },
  {
   "cell_type": "code",
   "execution_count": 96,
   "metadata": {},
   "outputs": [
    {
     "name": "stdout",
     "output_type": "stream",
     "text": [
      "<class 'pandas.core.frame.DataFrame'>\n",
      "Int64Index: 20036 entries, 0 to 20035\n",
      "Data columns (total 13 columns):\n",
      "assocPR_author               11572 non-null object\n",
      "assocPR_authorAssociation    11909 non-null object\n",
      "assocPR_closedAt             11909 non-null object\n",
      "assocPR_createdAt            11909 non-null object\n",
      "assocPR_id                   11909 non-null object\n",
      "assocPR_number               11909 non-null float64\n",
      "assocPR_state                11909 non-null object\n",
      "assocPR_title                11909 non-null object\n",
      "assocPR_updatedAt            11909 non-null object\n",
      "committer_company            6352 non-null object\n",
      "committer_author             17742 non-null object\n",
      "status_id                    13672 non-null object\n",
      "status_state                 13672 non-null object\n",
      "dtypes: float64(1), object(12)\n",
      "memory usage: 2.1+ MB\n"
     ]
    }
   ],
   "source": [
    "commits_cleaned.info()"
   ]
  },
  {
   "cell_type": "code",
   "execution_count": 131,
   "metadata": {},
   "outputs": [
    {
     "name": "stdout",
     "output_type": "stream",
     "text": [
      "<class 'pandas.core.frame.DataFrame'>\n",
      "Int64Index: 20036 entries, 0 to 20035\n",
      "Data columns (total 13 columns):\n",
      "assocPR_author               11572 non-null object\n",
      "assocPR_authorAssociation    11909 non-null object\n",
      "assocPR_closedAt             11909 non-null datetime64[ns, UTC]\n",
      "assocPR_createdAt            11909 non-null datetime64[ns, UTC]\n",
      "assocPR_id                   11909 non-null object\n",
      "assocPR_number               11909 non-null float64\n",
      "assocPR_state                11909 non-null object\n",
      "assocPR_title                11909 non-null object\n",
      "assocPR_updatedAt            11909 non-null datetime64[ns, UTC]\n",
      "committer_company            6352 non-null object\n",
      "committer_author             17742 non-null object\n",
      "status_id                    13672 non-null object\n",
      "status_state                 13672 non-null object\n",
      "dtypes: datetime64[ns, UTC](3), float64(1), object(9)\n",
      "memory usage: 2.1+ MB\n"
     ]
    }
   ],
   "source": [
    "# Convert times to pd.Timestamp\n",
    "commits_cleaned['assocPR_createdAt'] = commits_cleaned['assocPR_createdAt'].apply(pd.Timestamp)\n",
    "commits_cleaned['assocPR_updatedAt'] = commits_cleaned['assocPR_updatedAt'].apply(pd.Timestamp)\n",
    "commits_cleaned['assocPR_closedAt'] = commits_cleaned['assocPR_closedAt'].apply(pd.Timestamp)\n",
    "\n",
    "commits_cleaned.info()"
   ]
  },
  {
   "cell_type": "code",
   "execution_count": 133,
   "metadata": {},
   "outputs": [
    {
     "data": {
      "text/plain": [
       "0    0 days 09:00:06\n",
       "1    0 days 22:54:49\n",
       "2    3 days 02:25:33\n",
       "3   25 days 23:42:43\n",
       "4   11 days 00:57:07\n",
       "dtype: timedelta64[ns]"
      ]
     },
     "execution_count": 133,
     "metadata": {},
     "output_type": "execute_result"
    }
   ],
   "source": [
    "# Validate type conversion\n",
    "(commits_cleaned['assocPR_closedAt'] - commits_cleaned['assocPR_createdAt'])[:5]"
   ]
  },
  {
   "cell_type": "code",
   "execution_count": 135,
   "metadata": {},
   "outputs": [],
   "source": [
    "# Pickle (because of pd.Timestamp objs)\n",
    "commits_cleaned.to_pickle('./cleaned_commits.pk1')"
   ]
  }
 ],
 "metadata": {
  "kernelspec": {
   "display_name": "Python 3",
   "language": "python",
   "name": "python3"
  },
  "language_info": {
   "codemirror_mode": {
    "name": "ipython",
    "version": 3
   },
   "file_extension": ".py",
   "mimetype": "text/x-python",
   "name": "python",
   "nbconvert_exporter": "python",
   "pygments_lexer": "ipython3",
   "version": "3.7.3"
  }
 },
 "nbformat": 4,
 "nbformat_minor": 4
}
