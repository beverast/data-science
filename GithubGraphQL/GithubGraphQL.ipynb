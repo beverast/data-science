{
 "cells": [
  {
   "cell_type": "code",
   "execution_count": 2,
   "metadata": {},
   "outputs": [],
   "source": [
    "import requests"
   ]
  },
  {
   "cell_type": "code",
   "execution_count": 3,
   "metadata": {},
   "outputs": [],
   "source": [
    "# Open and read file\n",
    "with open ('../../../Auth_Keys/graphql_api_auth.txt') as file:\n",
    "    token = file.read()"
   ]
  },
  {
   "cell_type": "code",
   "execution_count": 4,
   "metadata": {},
   "outputs": [],
   "source": [
    "# Specify the Authorization code\n",
    "headers = {\"Authorization\": 'Bearer ' + token}"
   ]
  },
  {
   "cell_type": "code",
   "execution_count": 25,
   "metadata": {},
   "outputs": [],
   "source": [
    "def run_query(query): # A simple function to use requests.post to make the API call. Note the json= section.\n",
    "    request = requests.post('https://api.github.com/graphql', json={'query': query}, headers=headers)\n",
    "    if request.status_code == 200:\n",
    "        return request.json()\n",
    "    else:\n",
    "        raise Exception(\"Query failed to run by returning code of {}. {}\".format(request.status_code, query))"
   ]
  },
  {
   "cell_type": "code",
   "execution_count": 5,
   "metadata": {},
   "outputs": [],
   "source": [
    "# https://blog.codeship.com/an-introduction-to-graphql-via-the-github-api/\n",
    "# https://developer.github.com/v4/explorer/ # To enter the graphql exploer"
   ]
  },
  {
   "cell_type": "code",
   "execution_count": 29,
   "metadata": {},
   "outputs": [],
   "source": [
    "# Query all info\n",
    "query = '''\n",
    "{\n",
    "  repositoryOwner(login: \"pandas-dev\") {\n",
    "    id\n",
    "    login\n",
    "    repository(name: \"pandas\") {\n",
    "      id\n",
    "      name\n",
    "      createdAt\n",
    "      updatedAt\n",
    "      description\n",
    "      licenseInfo {\n",
    "        spdxId\n",
    "      }\n",
    "      releases(first:1) {\n",
    "        totalCount\n",
    "        edges {\n",
    "          node {\n",
    "            name\n",
    "            createdAt\n",
    "            publishedAt\n",
    "          }\n",
    "        }\n",
    "      }\n",
    "      forks(first:1) {\n",
    "        totalCount\n",
    "        edges {\n",
    "          node {\n",
    "            createdAt\n",
    "          }\n",
    "        }\n",
    "      }\n",
    "      issues(first:1) {\n",
    "        totalCount\n",
    "      }\n",
    "      pullRequests(first:1) {\n",
    "        totalCount\n",
    "          edges {\n",
    "            node {\n",
    "              createdAt\n",
    "              closedAt\n",
    "          }\n",
    "        }\n",
    "      }\n",
    "      watchers(first:1) {\n",
    "        totalCount\n",
    "        edges {\n",
    "          node {\n",
    "            createdAt\n",
    "          }\n",
    "        }\n",
    "      }\n",
    "      stargazers(first:1) {\n",
    "        totalCount\n",
    "        edges {\n",
    "          node {     \n",
    "            createdAt\n",
    "          }\n",
    "        }\n",
    "      }\n",
    "    }\n",
    "  }\n",
    "}\n",
    "'''"
   ]
  },
  {
   "cell_type": "code",
   "execution_count": 30,
   "metadata": {},
   "outputs": [
    {
     "data": {
      "text/plain": [
       "{'data': {'repositoryOwner': {'id': 'MDEyOk9yZ2FuaXphdGlvbjIxMjA2OTc2',\n",
       "   'login': 'pandas-dev',\n",
       "   'repository': {'id': 'MDEwOlJlcG9zaXRvcnk4NTgxMjc=',\n",
       "    'name': 'pandas',\n",
       "    'createdAt': '2010-08-24T01:37:33Z',\n",
       "    'updatedAt': '2019-08-22T18:07:51Z',\n",
       "    'description': 'Flexible and powerful data analysis / manipulation library for Python, providing labeled data structures similar to R data.frame objects, statistical functions, and much more',\n",
       "    'licenseInfo': {'spdxId': 'BSD-3-Clause'},\n",
       "    'releases': {'totalCount': 51,\n",
       "     'edges': [{'node': {'name': 'Pandas v0.13.0',\n",
       "        'createdAt': '2013-12-30T17:02:51Z',\n",
       "        'publishedAt': '2014-01-16T11:00:01Z'}}]},\n",
       "    'forks': {'totalCount': 8072,\n",
       "     'edges': [{'node': {'createdAt': '2010-10-23T19:02:31Z'}}]},\n",
       "    'issues': {'totalCount': 15742},\n",
       "    'pullRequests': {'totalCount': 12349,\n",
       "     'edges': [{'node': {'createdAt': '2011-02-22T08:07:35Z',\n",
       "        'closedAt': '2011-02-25T01:41:56Z'}}]},\n",
       "    'watchers': {'totalCount': 1023,\n",
       "     'edges': [{'node': {'createdAt': '2008-06-01T13:24:18Z'}}]},\n",
       "    'stargazers': {'totalCount': 20905,\n",
       "     'edges': [{'node': {'createdAt': '2008-02-17T20:44:47Z'}}]}}}}}"
      ]
     },
     "execution_count": 30,
     "metadata": {},
     "output_type": "execute_result"
    }
   ],
   "source": [
    "result = run_query(query)\n",
    "result"
   ]
  },
  {
   "cell_type": "code",
   "execution_count": 17,
   "metadata": {},
   "outputs": [],
   "source": [
    "# Query Pull Requests\n",
    "# Change the number of pull request to retrieve the dates\n",
    "query = '''\n",
    "{\n",
    "  search(first:100, query:\"repo:pandas-dev/pandas created:2010-08-24..2010-08-25 type:pr\", type:ISSUE) {\n",
    "    nodes {\n",
    "      ... on PullRequest {\n",
    "        createdAt\n",
    "        updatedAt\n",
    "        title\n",
    "        mergedBy {\n",
    "          login\n",
    "        }\n",
    "        author {\n",
    "          login\n",
    "          ... on User {\n",
    "            company\n",
    "          }\n",
    "        }\n",
    "        authorAssociation\n",
    "        files {\n",
    "          totalCount\n",
    "        }\n",
    "        state\n",
    "        resourcePath\n",
    "        bodyText\n",
    "        comments(first:100) {\n",
    "          totalCount\n",
    "          edges {\n",
    "            node {\n",
    "              author {\n",
    "                login\n",
    "                ... on User {\n",
    "                  company\n",
    "                }\n",
    "              }\n",
    "              authorAssociation\n",
    "              bodyText\n",
    "              reactions(first:100) {\n",
    "                edges {\n",
    "                  node {\n",
    "                    content\n",
    "                  }\n",
    "                }\n",
    "              }\n",
    "            }\n",
    "          }\n",
    "        }\n",
    "        reviewThreads(first:100) {\n",
    "          edges {\n",
    "            node {\n",
    "              comments(first:100) {\n",
    "                edges {\n",
    "                  node {\n",
    "                    bodyText\n",
    "                  }\n",
    "                }\n",
    "              }\n",
    "            }\n",
    "          }\n",
    "        }\n",
    "      }\n",
    "    }\n",
    "  }\n",
    "}\n",
    "'''"
   ]
  },
  {
   "cell_type": "code",
   "execution_count": 26,
   "metadata": {},
   "outputs": [],
   "source": [
    "# Query Pull Request_2\n",
    "query = '''\n",
    "{\n",
    "  search(first:100, query:\"repo:pandas-dev/pandas created:2010-08-24..2010-08-25 type:pr\", type:ISSUE) {\n",
    "    nodes {\n",
    "      ... on PullRequest {\n",
    "        createdAt\n",
    "        updatedAt\n",
    "        title\n",
    "        mergedBy {\n",
    "          login\n",
    "        }\n",
    "        author {\n",
    "          login\n",
    "          ... on User {\n",
    "            company\n",
    "          }\n",
    "        }\n",
    "        authorAssociation\n",
    "        files {\n",
    "          totalCount\n",
    "        }\n",
    "        state\n",
    "        resourcePath\n",
    "        bodyText\n",
    "        comments(first:20) {\n",
    "          totalCount\n",
    "          edges {\n",
    "            node {\n",
    "              author {\n",
    "                login\n",
    "                ... on User {\n",
    "                  company\n",
    "                }\n",
    "              }\n",
    "              authorAssociation\n",
    "              bodyText\n",
    "            }\n",
    "          }\n",
    "        }\n",
    "      }\n",
    "    }\n",
    "  }\n",
    "}\n",
    "'''"
   ]
  },
  {
   "cell_type": "code",
   "execution_count": 27,
   "metadata": {},
   "outputs": [
    {
     "ename": "Exception",
     "evalue": "Query failed to run by returning code of 502. \n{\n  search(first: 100, query: \"repo:pandas-dev/pandas created:2018-08-24..2018-08-31 type:pr\", type: ISSUE) {\n    nodes {\n      ... on PullRequest {\n        id\n        createdAt\n        updatedAt\n        title\n        mergedBy {\n          login\n        }\n        author {\n          login\n          ... on User {\n            company\n          }\n        }\n        authorAssociation\n        files {\n          totalCount\n        }\n        state\n        resourcePath\n        bodyText\n        comments(first: 20) {\n          totalCount\n          edges {\n            node {\n              id\n              author {\n                login\n                ... on User {\n                  contributionsCollection {\n                    hasAnyContributions\n                  }\n                  company\n                }\n              }\n              authorAssociation\n            }\n          }\n        }\n      }\n    }\n  }\n}\n",
     "output_type": "error",
     "traceback": [
      "\u001b[1;31m---------------------------------------------------------------------------\u001b[0m",
      "\u001b[1;31mException\u001b[0m                                 Traceback (most recent call last)",
      "\u001b[1;32m<ipython-input-27-03a2eb06f96e>\u001b[0m in \u001b[0;36m<module>\u001b[1;34m\u001b[0m\n\u001b[1;32m----> 1\u001b[1;33m \u001b[0mresult\u001b[0m \u001b[1;33m=\u001b[0m \u001b[0mrun_query\u001b[0m\u001b[1;33m(\u001b[0m\u001b[0mquery\u001b[0m\u001b[1;33m)\u001b[0m\u001b[1;33m\u001b[0m\u001b[1;33m\u001b[0m\u001b[0m\n\u001b[0m\u001b[0;32m      2\u001b[0m \u001b[0mresult\u001b[0m\u001b[1;33m\u001b[0m\u001b[1;33m\u001b[0m\u001b[0m\n",
      "\u001b[1;32m<ipython-input-25-f4a47cfa80b5>\u001b[0m in \u001b[0;36mrun_query\u001b[1;34m(query)\u001b[0m\n\u001b[0;32m      4\u001b[0m         \u001b[1;32mreturn\u001b[0m \u001b[0mrequest\u001b[0m\u001b[1;33m.\u001b[0m\u001b[0mjson\u001b[0m\u001b[1;33m(\u001b[0m\u001b[1;33m)\u001b[0m\u001b[1;33m\u001b[0m\u001b[1;33m\u001b[0m\u001b[0m\n\u001b[0;32m      5\u001b[0m     \u001b[1;32melse\u001b[0m\u001b[1;33m:\u001b[0m\u001b[1;33m\u001b[0m\u001b[1;33m\u001b[0m\u001b[0m\n\u001b[1;32m----> 6\u001b[1;33m         \u001b[1;32mraise\u001b[0m \u001b[0mException\u001b[0m\u001b[1;33m(\u001b[0m\u001b[1;34m\"Query failed to run by returning code of {}. {}\"\u001b[0m\u001b[1;33m.\u001b[0m\u001b[0mformat\u001b[0m\u001b[1;33m(\u001b[0m\u001b[0mrequest\u001b[0m\u001b[1;33m.\u001b[0m\u001b[0mstatus_code\u001b[0m\u001b[1;33m,\u001b[0m \u001b[0mquery\u001b[0m\u001b[1;33m)\u001b[0m\u001b[1;33m)\u001b[0m\u001b[1;33m\u001b[0m\u001b[1;33m\u001b[0m\u001b[0m\n\u001b[0m",
      "\u001b[1;31mException\u001b[0m: Query failed to run by returning code of 502. \n{\n  search(first: 100, query: \"repo:pandas-dev/pandas created:2018-08-24..2018-08-31 type:pr\", type: ISSUE) {\n    nodes {\n      ... on PullRequest {\n        id\n        createdAt\n        updatedAt\n        title\n        mergedBy {\n          login\n        }\n        author {\n          login\n          ... on User {\n            company\n          }\n        }\n        authorAssociation\n        files {\n          totalCount\n        }\n        state\n        resourcePath\n        bodyText\n        comments(first: 20) {\n          totalCount\n          edges {\n            node {\n              id\n              author {\n                login\n                ... on User {\n                  contributionsCollection {\n                    hasAnyContributions\n                  }\n                  company\n                }\n              }\n              authorAssociation\n            }\n          }\n        }\n      }\n    }\n  }\n}\n"
     ]
    }
   ],
   "source": [
    "result = run_query(query)\n",
    "result"
   ]
  },
  {
   "cell_type": "code",
   "execution_count": 24,
   "metadata": {},
   "outputs": [],
   "source": [
    "from gql import gql, Client"
   ]
  },
  {
   "cell_type": "code",
   "execution_count": null,
   "metadata": {},
   "outputs": [],
   "source": [
    "client = Client(schema=schema)\n",
    "query = gql('''\n",
    "{\n",
    "  hello\n",
    "}\n",
    "''')\n",
    "\n",
    "client.execute(query)"
   ]
  },
  {
   "cell_type": "code",
   "execution_count": 54,
   "metadata": {},
   "outputs": [],
   "source": [
    "# Query Issues\n",
    "# Change the number of issues to retrieve the dates\n",
    "query = '''\n",
    "{\n",
    "    repositoryOwner(login: \"pandas-dev\") {\n",
    "        repository(name: \"pandas\") {\n",
    "            issues(last:3) {\n",
    "                edges {\n",
    "                    node {\n",
    "                        id\n",
    "                        createdAt\n",
    "                        closedAt\n",
    "                        title\n",
    "                        bodyText\n",
    "                    }\n",
    "                }\n",
    "            } \n",
    "        }\n",
    "    }\n",
    "}\n",
    "'''"
   ]
  },
  {
   "cell_type": "code",
   "execution_count": null,
   "metadata": {},
   "outputs": [],
   "source": [
    "# Query release\n",
    "# Change the number of issues to retrieve the dates"
   ]
  },
  {
   "cell_type": "code",
   "execution_count": 55,
   "metadata": {},
   "outputs": [],
   "source": [
    "result = run_query(query)\n",
    "result"
   ]
  },
  {
   "cell_type": "code",
   "execution_count": null,
   "metadata": {},
   "outputs": [],
   "source": []
  },
  {
   "cell_type": "code",
   "execution_count": 57,
   "metadata": {},
   "outputs": [],
   "source": [
    "query = '''\n",
    "{\n",
    "  organization(login: \"pandas-dev\") {\n",
    "    name\n",
    "    description\n",
    "    url\n",
    "    gist\n",
    "  }\n",
    "}\n",
    "'''"
   ]
  },
  {
   "cell_type": "code",
   "execution_count": 28,
   "metadata": {},
   "outputs": [
    {
     "data": {
      "text/plain": [
       "{'data': {'viewer': {'login': 'dustiny5'},\n",
       "  'rateLimit': {'limit': 5000,\n",
       "   'cost': 1,\n",
       "   'remaining': 4999,\n",
       "   'resetAt': '2019-08-22T22:06:15Z'}}}"
      ]
     },
     "execution_count": 28,
     "metadata": {},
     "output_type": "execute_result"
    }
   ],
   "source": [
    "# Check limit\n",
    "query = '''\n",
    "{\n",
    "  viewer {\n",
    "    login\n",
    "  }\n",
    "  rateLimit {\n",
    "    limit\n",
    "    cost\n",
    "    remaining\n",
    "    resetAt\n",
    "  }\n",
    "}\n",
    "'''\n",
    "result = run_query(query)\n",
    "result"
   ]
  },
  {
   "cell_type": "code",
   "execution_count": null,
   "metadata": {},
   "outputs": [],
   "source": []
  }
 ],
 "metadata": {
  "kernelspec": {
   "display_name": "Python 3",
   "language": "python",
   "name": "python3"
  },
  "language_info": {
   "codemirror_mode": {
    "name": "ipython",
    "version": 3
   },
   "file_extension": ".py",
   "mimetype": "text/x-python",
   "name": "python",
   "nbconvert_exporter": "python",
   "pygments_lexer": "ipython3",
   "version": "3.7.1"
  }
 },
 "nbformat": 4,
 "nbformat_minor": 2
}
