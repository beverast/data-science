{
 "cells": [
  {
   "cell_type": "code",
   "execution_count": 1,
   "metadata": {},
   "outputs": [],
   "source": [
    "import requests"
   ]
  },
  {
   "cell_type": "code",
   "execution_count": 2,
   "metadata": {},
   "outputs": [],
   "source": [
    "# Open and read file\n",
    "with open ('../../../Auth_Keys/graphql_api_auth.txt') as file:\n",
    "    token = file.read()"
   ]
  },
  {
   "cell_type": "code",
   "execution_count": 3,
   "metadata": {},
   "outputs": [],
   "source": [
    "# Specify the Authorization code\n",
    "headers = {\"Authorization\": 'Bearer ' + token}"
   ]
  },
  {
   "cell_type": "code",
   "execution_count": 4,
   "metadata": {},
   "outputs": [],
   "source": [
    "def run_query(query): # A simple function to use requests.post to make the API call. Note the json= section.\n",
    "    request = requests.post('https://api.github.com/graphql', json={'query': query}, headers=headers)\n",
    "    if request.status_code == 200:\n",
    "        return request.json()\n",
    "    else:\n",
    "        raise Exception(\"Query failed to run by returning code of {}. {}\".format(request.status_code, query))"
   ]
  },
  {
   "cell_type": "code",
   "execution_count": 5,
   "metadata": {},
   "outputs": [],
   "source": [
    "# https://blog.codeship.com/an-introduction-to-graphql-via-the-github-api/"
   ]
  },
  {
   "cell_type": "code",
   "execution_count": null,
   "metadata": {},
   "outputs": [],
   "source": [
    "# Query all info\n",
    "query = '''\n",
    "{\n",
    "  repositoryOwner(login: \"pandas-dev\") {\n",
    "    id\n",
    "    login\n",
    "    repository(name: \"pandas\") {\n",
    "      id\n",
    "      name\n",
    "      createdAt\n",
    "      updatedAt\n",
    "      description\n",
    "      licenseInfo {\n",
    "        spdxId\n",
    "      }\n",
    "      releases(first:1) {\n",
    "        totalCount\n",
    "        edges {\n",
    "          node {\n",
    "            name\n",
    "            createdAt\n",
    "            publishedAt\n",
    "          }\n",
    "        }\n",
    "      }\n",
    "      forks(first:1) {\n",
    "        totalCount\n",
    "        edges {\n",
    "          node {\n",
    "            createdAt\n",
    "          }\n",
    "        }\n",
    "      }\n",
    "      issues(first:1) {\n",
    "        totalCount\n",
    "        edges {\n",
    "          node {\n",
    "            createdAt\n",
    "            closedAt\n",
    "          }\n",
    "        }\n",
    "      }\n",
    "      pullRequests(first:1) {\n",
    "        totalCount\n",
    "          edges {\n",
    "            node {\n",
    "              createdAt\n",
    "              closedAt\n",
    "          }\n",
    "        }\n",
    "      }\n",
    "      watchers(first:1) {\n",
    "        totalCount\n",
    "        edges {\n",
    "          node {\n",
    "            createdAt\n",
    "          }\n",
    "        }\n",
    "      }\n",
    "      stargazers(first:1) {\n",
    "        totalCount\n",
    "        edges {\n",
    "          node {     \n",
    "            createdAt\n",
    "          }\n",
    "        }\n",
    "      }\n",
    "    }\n",
    "  }\n",
    "}\n",
    "'''"
   ]
  },
  {
   "cell_type": "code",
   "execution_count": null,
   "metadata": {},
   "outputs": [],
   "source": [
    "# Query Pull Requests\n",
    "# Change the number of pull request to retrieve the dates\n",
    "query = '''\n",
    "{\n",
    "  repositoryOwner(login: \"pandas-dev\") {\n",
    "    repository(name: \"pandas\") {\n",
    "      pullRequests(last:5) {\n",
    "        edges {\n",
    "          node {\n",
    "            title\n",
    "            createdAt\n",
    "            closedAt\n",
    "            bodyText\n",
    "            commits(last:1) {\n",
    "              totalCount\n",
    "            }\n",
    "          }\n",
    "        }\n",
    "      }\n",
    "    }\n",
    "  }\n",
    "}\n",
    "'''"
   ]
  },
  {
   "cell_type": "code",
   "execution_count": 54,
   "metadata": {},
   "outputs": [],
   "source": [
    "# Query Issues\n",
    "# Change the number of issues to retrieve the dates\n",
    "query = '''\n",
    "{\n",
    "    repositoryOwner(login: \"pandas-dev\") {\n",
    "        repository(name: \"pandas\") {\n",
    "            issues(last:3) {\n",
    "                edges {\n",
    "                    node {\n",
    "                        id\n",
    "                        createdAt\n",
    "                        closedAt\n",
    "                        title\n",
    "                        bodyText\n",
    "                    }\n",
    "                }\n",
    "            } \n",
    "        }\n",
    "    }\n",
    "}\n",
    "'''"
   ]
  },
  {
   "cell_type": "code",
   "execution_count": null,
   "metadata": {},
   "outputs": [],
   "source": [
    "# Query release\n",
    "# Change the number of issues to retrieve the dates"
   ]
  },
  {
   "cell_type": "code",
   "execution_count": 55,
   "metadata": {},
   "outputs": [],
   "source": [
    "result = run_query(query)\n",
    "result"
   ]
  },
  {
   "cell_type": "code",
   "execution_count": null,
   "metadata": {},
   "outputs": [],
   "source": []
  },
  {
   "cell_type": "code",
   "execution_count": 57,
   "metadata": {},
   "outputs": [],
   "source": [
    "query = '''\n",
    "{\n",
    "  organization(login: \"pandas-dev\") {\n",
    "    name\n",
    "    description\n",
    "    url\n",
    "    gist\n",
    "  }\n",
    "}\n",
    "'''"
   ]
  },
  {
   "cell_type": "code",
   "execution_count": 58,
   "metadata": {},
   "outputs": [
    {
     "data": {
      "text/plain": [
       "{'errors': [{'path': ['query', 'organization', 'gist'],\n",
       "   'extensions': {'code': 'undefinedField',\n",
       "    'typeName': 'Organization',\n",
       "    'fieldName': 'gist'},\n",
       "   'locations': [{'line': 7, 'column': 5}],\n",
       "   'message': \"Field 'gist' doesn't exist on type 'Organization'\"}]}"
      ]
     },
     "execution_count": 58,
     "metadata": {},
     "output_type": "execute_result"
    }
   ],
   "source": [
    "result = run_query(query)\n",
    "result"
   ]
  },
  {
   "cell_type": "code",
   "execution_count": null,
   "metadata": {},
   "outputs": [],
   "source": []
  }
 ],
 "metadata": {
  "kernelspec": {
   "display_name": "Python 3",
   "language": "python",
   "name": "python3"
  },
  "language_info": {
   "codemirror_mode": {
    "name": "ipython",
    "version": 3
   },
   "file_extension": ".py",
   "mimetype": "text/x-python",
   "name": "python",
   "nbconvert_exporter": "python",
   "pygments_lexer": "ipython3",
   "version": "3.7.1"
  }
 },
 "nbformat": 4,
 "nbformat_minor": 2
}
