{
 "cells": [
  {
   "cell_type": "code",
   "execution_count": 1,
   "metadata": {},
   "outputs": [],
   "source": [
    "import pandas as pd\n",
    "import numpy as np\n",
    "import matplotlib.pyplot as plt\n",
    "import seaborn as sns\n",
    "from tslearn import metrics\n",
    "import os\n",
    "from sklearn.preprocessing import normalize"
   ]
  },
  {
   "cell_type": "markdown",
   "metadata": {},
   "source": [
    "### Save 10 repo_commits to a list"
   ]
  },
  {
   "cell_type": "code",
   "execution_count": 2,
   "metadata": {},
   "outputs": [
    {
     "data": {
      "text/plain": [
       "['adamsmith_commits_cleaned.pk1',\n",
       " 'embulk_commits_cleaned.pk1',\n",
       " 'google_commits_cleaned.pk1',\n",
       " 'guillaume_commits_cleaned.pk1',\n",
       " 'iven_commits_cleaned.pk1',\n",
       " 'microsoft_commits_cleaned.pk1',\n",
       " 'oleiade_commits_cleaned.pk1',\n",
       " 'pandas_commits_cleaned.pk1',\n",
       " 'yang_commits_cleaned.pk1',\n",
       " 'zhn_commits_cleaned.pk1']"
      ]
     },
     "execution_count": 2,
     "metadata": {},
     "output_type": "execute_result"
    }
   ],
   "source": [
    "cm_files = [file for file in os.listdir() if 'cleaned.pk1' in file]\n",
    "cm_files"
   ]
  },
  {
   "cell_type": "code",
   "execution_count": 3,
   "metadata": {},
   "outputs": [
    {
     "name": "stdout",
     "output_type": "stream",
     "text": [
      "adamsmith_commits_cleaned.pk1 (2, 16)\n",
      "embulk_commits_cleaned.pk1 (2646, 16)\n",
      "google_commits_cleaned.pk1 (2635, 16)\n",
      "guillaume_commits_cleaned.pk1 (3, 16)\n",
      "iven_commits_cleaned.pk1 (51, 16)\n",
      "microsoft_commits_cleaned.pk1 (42, 16)\n",
      "oleiade_commits_cleaned.pk1 (547, 16)\n",
      "pandas_commits_cleaned.pk1 (20036, 16)\n",
      "yang_commits_cleaned.pk1 (197, 16)\n",
      "zhn_commits_cleaned.pk1 (37, 16)\n"
     ]
    }
   ],
   "source": [
    "# Check shape\n",
    "for file in cm_files:\n",
    "    print(file, pd.read_pickle(file).shape)"
   ]
  },
  {
   "cell_type": "markdown",
   "metadata": {},
   "source": [
    "### Save to df"
   ]
  },
  {
   "cell_type": "code",
   "execution_count": 4,
   "metadata": {},
   "outputs": [],
   "source": [
    "adamsmith = pd.read_pickle(cm_files[0])\n",
    "embulk = pd.read_pickle(cm_files[1])\n",
    "google = pd.read_pickle(cm_files[2])\n",
    "guillaume = pd.read_pickle(cm_files[3])\n",
    "iven = pd.read_pickle(cm_files[4])\n",
    "microsoft = pd.read_pickle(cm_files[5])\n",
    "oleiade = pd.read_pickle(cm_files[6])\n",
    "pandas = pd.read_pickle(cm_files[7])\n",
    "yang = pd.read_pickle(cm_files[8])\n",
    "zhn = pd.read_pickle(cm_files[9])"
   ]
  },
  {
   "cell_type": "code",
   "execution_count": 5,
   "metadata": {},
   "outputs": [
    {
     "data": {
      "text/html": [
       "<div>\n",
       "<style scoped>\n",
       "    .dataframe tbody tr th:only-of-type {\n",
       "        vertical-align: middle;\n",
       "    }\n",
       "\n",
       "    .dataframe tbody tr th {\n",
       "        vertical-align: top;\n",
       "    }\n",
       "\n",
       "    .dataframe thead th {\n",
       "        text-align: right;\n",
       "    }\n",
       "</style>\n",
       "<table border=\"1\" class=\"dataframe\">\n",
       "  <thead>\n",
       "    <tr style=\"text-align: right;\">\n",
       "      <th></th>\n",
       "      <th>assocPR_author</th>\n",
       "      <th>assocPR_authorAssociation</th>\n",
       "      <th>assocPR_closedAt</th>\n",
       "      <th>assocPR_createdAt</th>\n",
       "      <th>assocPR_id</th>\n",
       "      <th>assocPR_number</th>\n",
       "      <th>assocPR_state</th>\n",
       "      <th>assocPR_title</th>\n",
       "      <th>assocPR_updatedAt</th>\n",
       "      <th>committer_company</th>\n",
       "      <th>committer_author</th>\n",
       "      <th>status_id</th>\n",
       "      <th>status_state</th>\n",
       "      <th>committedDate</th>\n",
       "      <th>messageHeadline</th>\n",
       "      <th>oid</th>\n",
       "    </tr>\n",
       "  </thead>\n",
       "  <tbody>\n",
       "    <tr>\n",
       "      <th>0</th>\n",
       "      <td>NaN</td>\n",
       "      <td>NaN</td>\n",
       "      <td>NaT</td>\n",
       "      <td>NaT</td>\n",
       "      <td>NaN</td>\n",
       "      <td>NaN</td>\n",
       "      <td>NaN</td>\n",
       "      <td>NaN</td>\n",
       "      <td>NaT</td>\n",
       "      <td>@kiteco</td>\n",
       "      <td>adamsmith</td>\n",
       "      <td>NaN</td>\n",
       "      <td>NaN</td>\n",
       "      <td>2013-01-19T02:25:04Z</td>\n",
       "      <td>Initial commit</td>\n",
       "      <td>6fa9d57ffb25b1b3bf9d714d26f0d4691881436b</td>\n",
       "    </tr>\n",
       "    <tr>\n",
       "      <th>1</th>\n",
       "      <td>NaN</td>\n",
       "      <td>NaN</td>\n",
       "      <td>NaT</td>\n",
       "      <td>NaT</td>\n",
       "      <td>NaN</td>\n",
       "      <td>NaN</td>\n",
       "      <td>NaN</td>\n",
       "      <td>NaN</td>\n",
       "      <td>NaT</td>\n",
       "      <td>@kiteco</td>\n",
       "      <td>adamsmith</td>\n",
       "      <td>NaN</td>\n",
       "      <td>NaN</td>\n",
       "      <td>2013-01-19T02:21:47Z</td>\n",
       "      <td>Initial commit</td>\n",
       "      <td>cb10cb8b2c7d194f75930f423714b5054420734f</td>\n",
       "    </tr>\n",
       "  </tbody>\n",
       "</table>\n",
       "</div>"
      ],
      "text/plain": [
       "   assocPR_author  assocPR_authorAssociation assocPR_closedAt  \\\n",
       "0             NaN                        NaN              NaT   \n",
       "1             NaN                        NaN              NaT   \n",
       "\n",
       "  assocPR_createdAt  assocPR_id  assocPR_number  assocPR_state  assocPR_title  \\\n",
       "0               NaT         NaN             NaN            NaN            NaN   \n",
       "1               NaT         NaN             NaN            NaN            NaN   \n",
       "\n",
       "  assocPR_updatedAt committer_company committer_author  status_id  \\\n",
       "0               NaT          @kiteco         adamsmith        NaN   \n",
       "1               NaT          @kiteco         adamsmith        NaN   \n",
       "\n",
       "   status_state         committedDate messageHeadline  \\\n",
       "0           NaN  2013-01-19T02:25:04Z  Initial commit   \n",
       "1           NaN  2013-01-19T02:21:47Z  Initial commit   \n",
       "\n",
       "                                        oid  \n",
       "0  6fa9d57ffb25b1b3bf9d714d26f0d4691881436b  \n",
       "1  cb10cb8b2c7d194f75930f423714b5054420734f  "
      ]
     },
     "execution_count": 5,
     "metadata": {},
     "output_type": "execute_result"
    }
   ],
   "source": [
    "adamsmith"
   ]
  },
  {
   "cell_type": "markdown",
   "metadata": {},
   "source": [
    "### Create Function to get counts per month"
   ]
  },
  {
   "cell_type": "code",
   "execution_count": 6,
   "metadata": {},
   "outputs": [],
   "source": [
    "def monthly_count(df):\n",
    "    \n",
    "    # Change to pandas datetime object\n",
    "    df['committedDate'] =  df['committedDate'].apply(pd.Timestamp)\n",
    "    \n",
    "    # Group by committedDate's month and get the count\n",
    "    df_group = df.groupby(df['committedDate'].dt.to_period('M')) \\\n",
    "                                                 .count()['oid'] \\\n",
    "                                                 .reset_index() \\\n",
    "                                                 .rename(columns={'oid': 'countByMonth'})\n",
    "    \n",
    "    # Normalize count and create a insert back into df_group\n",
    "    df_group['countByMonthNorm'] = normalize([df_group['countByMonth']])[0]\n",
    "    \n",
    "    return df_group"
   ]
  },
  {
   "cell_type": "markdown",
   "metadata": {},
   "source": [
    "### Save to a new df for monthly counts"
   ]
  },
  {
   "cell_type": "code",
   "execution_count": 7,
   "metadata": {
    "scrolled": true
   },
   "outputs": [
    {
     "name": "stderr",
     "output_type": "stream",
     "text": [
      "C:\\Users\\Dustin\\Anaconda3\\lib\\site-packages\\pandas\\core\\arrays\\datetimes.py:1172: UserWarning: Converting to PeriodArray/Index representation will drop timezone information.\n",
      "  \"will drop timezone information.\", UserWarning)\n",
      "C:\\Users\\Dustin\\Anaconda3\\lib\\site-packages\\pandas\\core\\arrays\\datetimes.py:1172: UserWarning: Converting to PeriodArray/Index representation will drop timezone information.\n",
      "  \"will drop timezone information.\", UserWarning)\n",
      "C:\\Users\\Dustin\\Anaconda3\\lib\\site-packages\\pandas\\core\\arrays\\datetimes.py:1172: UserWarning: Converting to PeriodArray/Index representation will drop timezone information.\n",
      "  \"will drop timezone information.\", UserWarning)\n",
      "C:\\Users\\Dustin\\Anaconda3\\lib\\site-packages\\pandas\\core\\arrays\\datetimes.py:1172: UserWarning: Converting to PeriodArray/Index representation will drop timezone information.\n",
      "  \"will drop timezone information.\", UserWarning)\n",
      "C:\\Users\\Dustin\\Anaconda3\\lib\\site-packages\\pandas\\core\\arrays\\datetimes.py:1172: UserWarning: Converting to PeriodArray/Index representation will drop timezone information.\n",
      "  \"will drop timezone information.\", UserWarning)\n",
      "C:\\Users\\Dustin\\Anaconda3\\lib\\site-packages\\pandas\\core\\arrays\\datetimes.py:1172: UserWarning: Converting to PeriodArray/Index representation will drop timezone information.\n",
      "  \"will drop timezone information.\", UserWarning)\n",
      "C:\\Users\\Dustin\\Anaconda3\\lib\\site-packages\\pandas\\core\\arrays\\datetimes.py:1172: UserWarning: Converting to PeriodArray/Index representation will drop timezone information.\n",
      "  \"will drop timezone information.\", UserWarning)\n",
      "C:\\Users\\Dustin\\Anaconda3\\lib\\site-packages\\pandas\\core\\arrays\\datetimes.py:1172: UserWarning: Converting to PeriodArray/Index representation will drop timezone information.\n",
      "  \"will drop timezone information.\", UserWarning)\n",
      "C:\\Users\\Dustin\\Anaconda3\\lib\\site-packages\\pandas\\core\\arrays\\datetimes.py:1172: UserWarning: Converting to PeriodArray/Index representation will drop timezone information.\n",
      "  \"will drop timezone information.\", UserWarning)\n",
      "C:\\Users\\Dustin\\Anaconda3\\lib\\site-packages\\pandas\\core\\arrays\\datetimes.py:1172: UserWarning: Converting to PeriodArray/Index representation will drop timezone information.\n",
      "  \"will drop timezone information.\", UserWarning)\n"
     ]
    }
   ],
   "source": [
    "adamsmith_mth = monthly_count(adamsmith)\n",
    "embulk_mth = monthly_count(embulk)\n",
    "google_mth = monthly_count(google)\n",
    "guillaume_mth = monthly_count(guillaume)\n",
    "iven_mth = monthly_count(iven)\n",
    "microsoft_mth = monthly_count(microsoft)\n",
    "oleiade_mth = monthly_count(oleiade)\n",
    "pandas_mth = monthly_count(pandas)\n",
    "yang_mth = monthly_count(yang)\n",
    "zhn_mth = monthly_count(zhn)"
   ]
  },
  {
   "cell_type": "markdown",
   "metadata": {},
   "source": [
    "### Save monthly counts and strings to a seperate list"
   ]
  },
  {
   "cell_type": "code",
   "execution_count": 8,
   "metadata": {},
   "outputs": [],
   "source": [
    "monthly_count_list = [adamsmith_mth, embulk_mth, google_mth, guillaume_mth, iven_mth, \n",
    "microsoft_mth, oleiade_mth, pandas_mth, yang_mth, zhn_mth]\n",
    "\n",
    "monthly_count_list_str = ['adamsmith_mth', 'embulk_mth', 'google_mth', 'guillaume_mth', 'iven_mth', \n",
    "'microsoft_mth', 'oleiade_mth', 'pandas_mth', 'yang_mth', 'zhn_mth']"
   ]
  },
  {
   "cell_type": "markdown",
   "metadata": {},
   "source": [
    "# Dyanmic Time Warping"
   ]
  },
  {
   "cell_type": "code",
   "execution_count": 9,
   "metadata": {},
   "outputs": [],
   "source": [
    "from tslearn.metrics import dtw_path"
   ]
  },
  {
   "cell_type": "markdown",
   "metadata": {},
   "source": [
    "### Loop over the monthly count list and to calculate dtw"
   ]
  },
  {
   "cell_type": "code",
   "execution_count": 10,
   "metadata": {},
   "outputs": [],
   "source": [
    "def calc_dtw(commit_num):\n",
    "    dtw = []\n",
    "    path = []\n",
    "    for el in range(len(monthly_count_list)):\n",
    "        dtw_pathing = dtw_path(monthly_count_list[commit_num].iloc[:,-1].tolist(), monthly_count_list[el].iloc[:,-1].tolist())\n",
    "        dtw.append((monthly_count_list_str[commit_num], monthly_count_list_str[el], dtw_pathing[1]))\n",
    "        path.append((monthly_count_list_str[commit_num], monthly_count_list_str[el], dtw_pathing[0]))\n",
    "        \n",
    "    return dtw, path"
   ]
  },
  {
   "cell_type": "code",
   "execution_count": 11,
   "metadata": {},
   "outputs": [],
   "source": [
    "dtw_1, path_1 = calc_dtw(1)"
   ]
  },
  {
   "cell_type": "markdown",
   "metadata": {},
   "source": [
    "### Plot Graph"
   ]
  },
  {
   "cell_type": "code",
   "execution_count": 12,
   "metadata": {},
   "outputs": [],
   "source": [
    "def plot_graph(dtw, start_dtw, compare_dtw):\n",
    "    print(dtw[compare_dtw])\n",
    "    monthly_count_list[start_dtw].plot(x='committedDate', y='countByMonthNorm')\n",
    "    monthly_count_list[compare_dtw].plot(x='committedDate', y='countByMonthNorm')"
   ]
  },
  {
   "cell_type": "code",
   "execution_count": 13,
   "metadata": {},
   "outputs": [
    {
     "name": "stdout",
     "output_type": "stream",
     "text": [
      "('embulk_mth', 'iven_mth', 0.4943276355243283)\n"
     ]
    },
    {
     "data": {
      "image/png": "[encoded data removed]",
      "text/plain": [
       "<Figure size 432x288 with 1 Axes>"
      ]
     },
     "metadata": {
      "needs_background": "light"
     },
     "output_type": "display_data"
    },
    {
     "data": {
      "image/png": "[encoded data removed]",
      "text/plain": [
       "<Figure size 432x288 with 1 Axes>"
      ]
     },
     "metadata": {
      "needs_background": "light"
     },
     "output_type": "display_data"
    }
   ],
   "source": [
    "plot_graph(dtw_1, 2, 4)"
   ]
  },
  {
   "cell_type": "markdown",
   "metadata": {},
   "source": [
    "### Make Dictionary"
   ]
  },
  {
   "cell_type": "code",
   "execution_count": 14,
   "metadata": {},
   "outputs": [],
   "source": [
    "def make_dict(num):\n",
    "    \n",
    "    dtw_1, path_1 = calc_dtw(num)\n",
    "    my_dict = {dtw_1[i][1]:dtw_1[i][2] for i in range(len(dtw_1))}\n",
    "    \n",
    "    return my_dict"
   ]
  },
  {
   "cell_type": "code",
   "execution_count": 15,
   "metadata": {},
   "outputs": [],
   "source": [
    "adamsmith_dict = make_dict(0)\n",
    "embulk_dict = make_dict(1)\n",
    "google_dict = make_dict(2)\n",
    "guillaume_dict = make_dict(3)\n",
    "iven_dict = make_dict(4)\n",
    "microsoft_dict = make_dict(5)\n",
    "oleiade_dict = make_dict(6)\n",
    "pandas_dict = make_dict(7)\n",
    "yang_dict = make_dict(8)\n",
    "zhn_dict = make_dict(9)\n",
    "\n",
    "dict_list = [adamsmith_dict, embulk_dict, google_dict, guillaume_dict, iven_dict, \n",
    "             microsoft_dict, oleiade_dict, pandas_dict, yang_dict, zhn_dict]"
   ]
  },
  {
   "cell_type": "markdown",
   "metadata": {},
   "source": [
    "### Make DF"
   ]
  },
  {
   "cell_type": "code",
   "execution_count": 16,
   "metadata": {},
   "outputs": [
    {
     "name": "stderr",
     "output_type": "stream",
     "text": [
      "C:\\Users\\Dustin\\Anaconda3\\lib\\site-packages\\ipykernel_launcher.py:3: FutureWarning: Sorting because non-concatenation axis is not aligned. A future version\n",
      "of pandas will change to not sort by default.\n",
      "\n",
      "To accept the future behavior, pass 'sort=False'.\n",
      "\n",
      "To retain the current behavior and silence the warning, pass 'sort=True'.\n",
      "\n",
      "  This is separate from the ipykernel package so we can avoid doing imports until\n"
     ]
    }
   ],
   "source": [
    "df = pd.Series()\n",
    "for el in range(len(dict_list)):\n",
    "    df = pd.concat([df, pd.Series(dict_list[el], name=monthly_count_list_str[el])], axis=1)\n",
    "df = df.drop(columns=0)"
   ]
  },
  {
   "cell_type": "code",
   "execution_count": 17,
   "metadata": {},
   "outputs": [
    {
     "data": {
      "text/html": [
       "<div>\n",
       "<style scoped>\n",
       "    .dataframe tbody tr th:only-of-type {\n",
       "        vertical-align: middle;\n",
       "    }\n",
       "\n",
       "    .dataframe tbody tr th {\n",
       "        vertical-align: top;\n",
       "    }\n",
       "\n",
       "    .dataframe thead th {\n",
       "        text-align: right;\n",
       "    }\n",
       "</style>\n",
       "<table border=\"1\" class=\"dataframe\">\n",
       "  <thead>\n",
       "    <tr style=\"text-align: right;\">\n",
       "      <th></th>\n",
       "      <th>adamsmith_mth</th>\n",
       "      <th>embulk_mth</th>\n",
       "      <th>google_mth</th>\n",
       "      <th>guillaume_mth</th>\n",
       "      <th>iven_mth</th>\n",
       "      <th>microsoft_mth</th>\n",
       "      <th>oleiade_mth</th>\n",
       "      <th>pandas_mth</th>\n",
       "      <th>yang_mth</th>\n",
       "      <th>zhn_mth</th>\n",
       "    </tr>\n",
       "  </thead>\n",
       "  <tbody>\n",
       "    <tr>\n",
       "      <th>adamsmith_mth</th>\n",
       "      <td>0.000000</td>\n",
       "      <td>6.896988</td>\n",
       "      <td>6.361666</td>\n",
       "      <td>0.000000</td>\n",
       "      <td>2.503970</td>\n",
       "      <td>2.209631</td>\n",
       "      <td>3.658880</td>\n",
       "      <td>10.222556</td>\n",
       "      <td>3.797498</td>\n",
       "      <td>1.885109</td>\n",
       "    </tr>\n",
       "    <tr>\n",
       "      <th>embulk_mth</th>\n",
       "      <td>6.896988</td>\n",
       "      <td>0.000000</td>\n",
       "      <td>0.668144</td>\n",
       "      <td>6.896988</td>\n",
       "      <td>0.494328</td>\n",
       "      <td>0.700625</td>\n",
       "      <td>0.495343</td>\n",
       "      <td>0.546690</td>\n",
       "      <td>1.033986</td>\n",
       "      <td>1.185475</td>\n",
       "    </tr>\n",
       "    <tr>\n",
       "      <th>google_mth</th>\n",
       "      <td>6.361666</td>\n",
       "      <td>0.668144</td>\n",
       "      <td>0.000000</td>\n",
       "      <td>6.361666</td>\n",
       "      <td>0.655334</td>\n",
       "      <td>0.973834</td>\n",
       "      <td>0.550339</td>\n",
       "      <td>0.740744</td>\n",
       "      <td>1.286794</td>\n",
       "      <td>1.280312</td>\n",
       "    </tr>\n",
       "    <tr>\n",
       "      <th>guillaume_mth</th>\n",
       "      <td>0.000000</td>\n",
       "      <td>6.896988</td>\n",
       "      <td>6.361666</td>\n",
       "      <td>0.000000</td>\n",
       "      <td>2.503970</td>\n",
       "      <td>2.209631</td>\n",
       "      <td>3.658880</td>\n",
       "      <td>10.222556</td>\n",
       "      <td>3.797498</td>\n",
       "      <td>1.885109</td>\n",
       "    </tr>\n",
       "    <tr>\n",
       "      <th>iven_mth</th>\n",
       "      <td>2.503970</td>\n",
       "      <td>0.494328</td>\n",
       "      <td>0.655334</td>\n",
       "      <td>2.503970</td>\n",
       "      <td>0.000000</td>\n",
       "      <td>0.602422</td>\n",
       "      <td>0.379931</td>\n",
       "      <td>0.787129</td>\n",
       "      <td>1.026719</td>\n",
       "      <td>1.172385</td>\n",
       "    </tr>\n",
       "    <tr>\n",
       "      <th>microsoft_mth</th>\n",
       "      <td>2.209631</td>\n",
       "      <td>0.700625</td>\n",
       "      <td>0.973834</td>\n",
       "      <td>2.209631</td>\n",
       "      <td>0.602422</td>\n",
       "      <td>0.000000</td>\n",
       "      <td>0.578733</td>\n",
       "      <td>0.954588</td>\n",
       "      <td>0.884513</td>\n",
       "      <td>0.885385</td>\n",
       "    </tr>\n",
       "    <tr>\n",
       "      <th>oleiade_mth</th>\n",
       "      <td>3.658880</td>\n",
       "      <td>0.495343</td>\n",
       "      <td>0.550339</td>\n",
       "      <td>3.658880</td>\n",
       "      <td>0.379931</td>\n",
       "      <td>0.578733</td>\n",
       "      <td>0.000000</td>\n",
       "      <td>0.623247</td>\n",
       "      <td>1.089423</td>\n",
       "      <td>1.159664</td>\n",
       "    </tr>\n",
       "    <tr>\n",
       "      <th>pandas_mth</th>\n",
       "      <td>10.222556</td>\n",
       "      <td>0.546690</td>\n",
       "      <td>0.740744</td>\n",
       "      <td>10.222556</td>\n",
       "      <td>0.787129</td>\n",
       "      <td>0.954588</td>\n",
       "      <td>0.623247</td>\n",
       "      <td>0.000000</td>\n",
       "      <td>1.070044</td>\n",
       "      <td>1.079823</td>\n",
       "    </tr>\n",
       "    <tr>\n",
       "      <th>yang_mth</th>\n",
       "      <td>3.797498</td>\n",
       "      <td>1.033986</td>\n",
       "      <td>1.286794</td>\n",
       "      <td>3.797498</td>\n",
       "      <td>1.026719</td>\n",
       "      <td>0.884513</td>\n",
       "      <td>1.089423</td>\n",
       "      <td>1.070044</td>\n",
       "      <td>0.000000</td>\n",
       "      <td>0.293465</td>\n",
       "    </tr>\n",
       "    <tr>\n",
       "      <th>zhn_mth</th>\n",
       "      <td>1.885109</td>\n",
       "      <td>1.185475</td>\n",
       "      <td>1.280312</td>\n",
       "      <td>1.885109</td>\n",
       "      <td>1.172385</td>\n",
       "      <td>0.885385</td>\n",
       "      <td>1.159664</td>\n",
       "      <td>1.079823</td>\n",
       "      <td>0.293465</td>\n",
       "      <td>0.000000</td>\n",
       "    </tr>\n",
       "  </tbody>\n",
       "</table>\n",
       "</div>"
      ],
      "text/plain": [
       "               adamsmith_mth  embulk_mth  google_mth  guillaume_mth  iven_mth  \\\n",
       "adamsmith_mth       0.000000    6.896988    6.361666       0.000000  2.503970   \n",
       "embulk_mth          6.896988    0.000000    0.668144       6.896988  0.494328   \n",
       "google_mth          6.361666    0.668144    0.000000       6.361666  0.655334   \n",
       "guillaume_mth       0.000000    6.896988    6.361666       0.000000  2.503970   \n",
       "iven_mth            2.503970    0.494328    0.655334       2.503970  0.000000   \n",
       "microsoft_mth       2.209631    0.700625    0.973834       2.209631  0.602422   \n",
       "oleiade_mth         3.658880    0.495343    0.550339       3.658880  0.379931   \n",
       "pandas_mth         10.222556    0.546690    0.740744      10.222556  0.787129   \n",
       "yang_mth            3.797498    1.033986    1.286794       3.797498  1.026719   \n",
       "zhn_mth             1.885109    1.185475    1.280312       1.885109  1.172385   \n",
       "\n",
       "               microsoft_mth  oleiade_mth  pandas_mth  yang_mth   zhn_mth  \n",
       "adamsmith_mth       2.209631     3.658880   10.222556  3.797498  1.885109  \n",
       "embulk_mth          0.700625     0.495343    0.546690  1.033986  1.185475  \n",
       "google_mth          0.973834     0.550339    0.740744  1.286794  1.280312  \n",
       "guillaume_mth       2.209631     3.658880   10.222556  3.797498  1.885109  \n",
       "iven_mth            0.602422     0.379931    0.787129  1.026719  1.172385  \n",
       "microsoft_mth       0.000000     0.578733    0.954588  0.884513  0.885385  \n",
       "oleiade_mth         0.578733     0.000000    0.623247  1.089423  1.159664  \n",
       "pandas_mth          0.954588     0.623247    0.000000  1.070044  1.079823  \n",
       "yang_mth            0.884513     1.089423    1.070044  0.000000  0.293465  \n",
       "zhn_mth             0.885385     1.159664    1.079823  0.293465  0.000000  "
      ]
     },
     "execution_count": 17,
     "metadata": {},
     "output_type": "execute_result"
    }
   ],
   "source": [
    "df"
   ]
  },
  {
   "cell_type": "code",
   "execution_count": 18,
   "metadata": {},
   "outputs": [],
   "source": [
    "df.to_csv('commits_dtw.csv', index=False)"
   ]
  },
  {
   "cell_type": "markdown",
   "metadata": {},
   "source": [
    "# [Hiearchical Clustering](https://stackabuse.com/hierarchical-clustering-with-python-and-scikit-learn/)"
   ]
  },
  {
   "cell_type": "code",
   "execution_count": 113,
   "metadata": {},
   "outputs": [
    {
     "name": "stderr",
     "output_type": "stream",
     "text": [
      "C:\\Users\\Dustin\\Anaconda3\\lib\\site-packages\\ipykernel_launcher.py:3: FutureWarning: Method .as_matrix will be removed in a future version. Use .values instead.\n",
      "  This is separate from the ipykernel package so we can avoid doing imports until\n",
      "C:\\Users\\Dustin\\Anaconda3\\lib\\site-packages\\ipykernel_launcher.py:3: ClusterWarning: scipy.cluster: The symmetric non-negative hollow observation matrix looks suspiciously like an uncondensed distance matrix\n",
      "  This is separate from the ipykernel package so we can avoid doing imports until\n"
     ]
    },
    {
     "data": {
      "text/plain": [
       "{'icoord': [[5.0, 5.0, 15.0, 15.0],\n",
       "  [25.0, 25.0, 35.0, 35.0],\n",
       "  [55.0, 55.0, 65.0, 65.0],\n",
       "  [45.0, 45.0, 60.0, 60.0],\n",
       "  [30.0, 30.0, 52.5, 52.5],\n",
       "  [85.0, 85.0, 95.0, 95.0],\n",
       "  [75.0, 75.0, 90.0, 90.0],\n",
       "  [41.25, 41.25, 82.5, 82.5],\n",
       "  [10.0, 10.0, 61.875, 61.875]],\n",
       " 'dcoord': [[0.0, 0.0, 0.0, 0.0],\n",
       "  [0.0, 2.1694202565162843, 2.1694202565162843, 0.0],\n",
       "  [0.0, 1.1014777464405774, 1.1014777464405774, 0.0],\n",
       "  [0.0, 2.3413380833327033, 2.3413380833327033, 1.1014777464405774],\n",
       "  [2.1694202565162843, 3.40030321507333, 3.40030321507333, 2.3413380833327033],\n",
       "  [0.0, 1.2961958406104068, 1.2961958406104068, 0.0],\n",
       "  [0.0, 5.949573844976945, 5.949573844976945, 1.2961958406104068],\n",
       "  [3.40030321507333,\n",
       "   13.891531883236134,\n",
       "   13.891531883236134,\n",
       "   5.949573844976945],\n",
       "  [0.0, 27.098816886534898, 27.098816886534898, 13.891531883236134]],\n",
       " 'ivl': ['adamsmith_mth',\n",
       "  'guillaume_mth',\n",
       "  'oleiade_mth',\n",
       "  'yang_mth',\n",
       "  'zhn_mth',\n",
       "  'iven_mth',\n",
       "  'microsoft_mth',\n",
       "  'pandas_mth',\n",
       "  'embulk_mth',\n",
       "  'google_mth'],\n",
       " 'leaves': [0, 3, 6, 8, 9, 4, 5, 7, 1, 2],\n",
       " 'color_list': ['g', 'r', 'c', 'c', 'b', 'm', 'b', 'b', 'b']}"
      ]
     },
     "execution_count": 113,
     "metadata": {},
     "output_type": "execute_result"
    },
    {
     "data": {
      "image/png": "[encoded data removed]",
      "text/plain": [
       "<Figure size 1440x720 with 1 Axes>"
      ]
     },
     "metadata": {
      "needs_background": "light"
     },
     "output_type": "display_data"
    }
   ],
   "source": [
    "from scipy.cluster.hierarchy import dendrogram, linkage\n",
    "\n",
    "linked = linkage(df.as_matrix(), 'ward')\n",
    "labelList = df.index\n",
    "\n",
    "plt.figure(figsize=(20, 10))\n",
    "plt.title('Hiearchical Clustering for Commits')\n",
    "dendrogram(linked,\n",
    "            orientation='top',\n",
    "            labels=labelList,\n",
    "            distance_sort='descending',\n",
    "            show_leaf_counts=True,\n",
    "            color_threshold=3)\n",
    "# plt.show()"
   ]
  },
  {
   "cell_type": "code",
   "execution_count": 114,
   "metadata": {},
   "outputs": [
    {
     "name": "stderr",
     "output_type": "stream",
     "text": [
      "C:\\Users\\Dustin\\Anaconda3\\lib\\site-packages\\ipykernel_launcher.py:4: FutureWarning: Method .as_matrix will be removed in a future version. Use .values instead.\n",
      "  after removing the cwd from sys.path.\n",
      "C:\\Users\\Dustin\\Anaconda3\\lib\\site-packages\\scipy\\cluster\\hierarchy.py:878: ClusterWarning: scipy.cluster: The symmetric non-negative hollow observation matrix looks suspiciously like an uncondensed distance matrix\n",
      "  return linkage(y, method='ward', metric='euclidean')\n"
     ]
    },
    {
     "data": {
      "text/plain": [
       "<matplotlib.collections.PathCollection at 0x2095e673ac8>"
      ]
     },
     "execution_count": 114,
     "metadata": {},
     "output_type": "execute_result"
    },
    {
     "data": {
      "image/png": "[encoded data removed]",
      "text/plain": [
       "<Figure size 432x288 with 1 Axes>"
      ]
     },
     "metadata": {
      "needs_background": "light"
     },
     "output_type": "display_data"
    }
   ],
   "source": [
    "from sklearn.cluster import AgglomerativeClustering \n",
    "hc = AgglomerativeClustering(n_clusters = 3, affinity = 'euclidean', linkage ='ward')\n",
    "\n",
    "X = df.as_matrix()\n",
    "\n",
    "y = hc.fit_predict(X)\n",
    "\n",
    "plt.scatter(X[y==0, 0], X[y==0, 1], s=100, c='red', label ='Cluster 1')\n",
    "plt.scatter(X[y==1, 0], X[y==1, 1], s=100, c='blue', label ='Cluster 2')\n",
    "plt.scatter(X[y==2, 0], X[y==2, 1], s=100, c='green', label ='Cluster 2')"
   ]
  },
  {
   "cell_type": "code",
   "execution_count": null,
   "metadata": {},
   "outputs": [],
   "source": []
  }
 ],
 "metadata": {
  "kernelspec": {
   "display_name": "Python 3",
   "language": "python",
   "name": "python3"
  },
  "language_info": {
   "codemirror_mode": {
    "name": "ipython",
    "version": 3
   },
   "file_extension": ".py",
   "mimetype": "text/x-python",
   "name": "python",
   "nbconvert_exporter": "python",
   "pygments_lexer": "ipython3",
   "version": "3.7.3"
  }
 },
 "nbformat": 4,
 "nbformat_minor": 4
}
