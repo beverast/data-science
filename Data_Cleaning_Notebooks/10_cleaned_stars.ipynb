{
 "cells": [
  {
   "cell_type": "code",
   "execution_count": 16,
   "metadata": {},
   "outputs": [],
   "source": [
    "import numpy as np\n",
    "import pandas as pd"
   ]
  },
  {
   "cell_type": "code",
   "execution_count": 17,
   "metadata": {},
   "outputs": [],
   "source": [
    "adamsmith_df = pd.read_pickle('repos/adamsmith/adamsmith_game-theory-poker_st.pk1')\n",
    "embulk_df = pd.read_pickle('repos/embulk/embulk_embulk_st.pk1')\n",
    "google_df = pd.read_pickle('repos/google/google_iosched_st.pk1')\n",
    "guillaume_df = pd.read_pickle('repos/guillaumebort/guillaumebort_play20-spring-demo_st.pk1')\n",
    "iven_df = pd.read_pickle('repos/iven-he/iven-he_webspider_st.pk1')\n",
    "microsoft_df = pd.read_pickle('repos/microsoft/microsoft_Mesh-processing-library_st.pk1')\n",
    "oleiade_df = pd.read_pickle('repos/oleiade/oleiade_trousseau_st.pk1')\n",
    "pandas_df = pd.read_pickle('repos/pandas-dev/df_star_pandas.pk1')\n",
    "yang_df = pd.read_pickle('repos/yangyangwithgnu/yangyangwithgnu_hardseed_st.pk1')\n",
    "zhn_df = pd.read_pickle('repos/zhnnnnn/zhnnnnn_ZHNCosmos_st.pk1')\n",
    "\n",
    "df_list = [adamsmith_df, embulk_df, google_df,\n",
    "           guillaume_df, iven_df, microsoft_df,\n",
    "           oleiade_df, pandas_df, yang_df, zhn_df]"
   ]
  },
  {
   "cell_type": "code",
   "execution_count": 18,
   "metadata": {},
   "outputs": [
    {
     "name": "stdout",
     "output_type": "stream",
     "text": [
      "(167, 2)\n",
      "(1324, 2)\n",
      "(18988, 2)\n",
      "(88, 2)\n",
      "(260, 2)\n",
      "(399, 2)\n",
      "(881, 2)\n",
      "(21031, 2)\n",
      "(9102, 2)\n",
      "(451, 2)\n"
     ]
    }
   ],
   "source": [
    "for df in df_list:\n",
    "    print(df.shape)"
   ]
  },
  {
   "cell_type": "code",
   "execution_count": 19,
   "metadata": {},
   "outputs": [
    {
     "data": {
      "text/html": [
       "<div>\n",
       "<style scoped>\n",
       "    .dataframe tbody tr th:only-of-type {\n",
       "        vertical-align: middle;\n",
       "    }\n",
       "\n",
       "    .dataframe tbody tr th {\n",
       "        vertical-align: top;\n",
       "    }\n",
       "\n",
       "    .dataframe thead th {\n",
       "        text-align: right;\n",
       "    }\n",
       "</style>\n",
       "<table border=\"1\" class=\"dataframe\">\n",
       "  <thead>\n",
       "    <tr style=\"text-align: right;\">\n",
       "      <th></th>\n",
       "      <th>node</th>\n",
       "      <th>starredAt</th>\n",
       "    </tr>\n",
       "  </thead>\n",
       "  <tbody>\n",
       "    <tr>\n",
       "      <th>0</th>\n",
       "      <td>{'createdAt': '2009-01-15T10:06:23Z', 'updated...</td>\n",
       "      <td>2015-01-27T05:34:29Z</td>\n",
       "    </tr>\n",
       "    <tr>\n",
       "      <th>1</th>\n",
       "      <td>{'createdAt': '2009-02-13T13:17:16Z', 'updated...</td>\n",
       "      <td>2015-01-27T05:36:35Z</td>\n",
       "    </tr>\n",
       "    <tr>\n",
       "      <th>2</th>\n",
       "      <td>{'createdAt': '2013-04-12T11:43:42Z', 'updated...</td>\n",
       "      <td>2015-01-27T05:36:43Z</td>\n",
       "    </tr>\n",
       "    <tr>\n",
       "      <th>3</th>\n",
       "      <td>{'createdAt': '2009-03-23T14:57:23Z', 'updated...</td>\n",
       "      <td>2015-01-27T05:41:14Z</td>\n",
       "    </tr>\n",
       "    <tr>\n",
       "      <th>4</th>\n",
       "      <td>{'createdAt': '2010-11-22T07:04:30Z', 'updated...</td>\n",
       "      <td>2015-01-27T05:41:42Z</td>\n",
       "    </tr>\n",
       "  </tbody>\n",
       "</table>\n",
       "</div>"
      ],
      "text/plain": [
       "                                                node             starredAt\n",
       "0  {'createdAt': '2009-01-15T10:06:23Z', 'updated...  2015-01-27T05:34:29Z\n",
       "1  {'createdAt': '2009-02-13T13:17:16Z', 'updated...  2015-01-27T05:36:35Z\n",
       "2  {'createdAt': '2013-04-12T11:43:42Z', 'updated...  2015-01-27T05:36:43Z\n",
       "3  {'createdAt': '2009-03-23T14:57:23Z', 'updated...  2015-01-27T05:41:14Z\n",
       "4  {'createdAt': '2010-11-22T07:04:30Z', 'updated...  2015-01-27T05:41:42Z"
      ]
     },
     "execution_count": 19,
     "metadata": {},
     "output_type": "execute_result"
    }
   ],
   "source": [
    "embulk_df.head()"
   ]
  },
  {
   "cell_type": "code",
   "execution_count": 20,
   "metadata": {},
   "outputs": [
    {
     "data": {
      "text/plain": [
       "{'createdAt': '2009-01-15T10:06:23Z',\n",
       " 'updatedAt': '2019-07-14T21:55:39Z',\n",
       " 'id': 'MDQ6VXNlcjQ2NzY0',\n",
       " 'login': 'kazeburo',\n",
       " 'company': 'Mercari, Inc.'}"
      ]
     },
     "execution_count": 20,
     "metadata": {},
     "output_type": "execute_result"
    }
   ],
   "source": [
    "embulk_df.iloc[0]['node']"
   ]
  },
  {
   "cell_type": "code",
   "execution_count": 24,
   "metadata": {},
   "outputs": [],
   "source": [
    "def clean_stars_df(star_df: pd.DataFrame) -> pd.DataFrame:\n",
    "    \"\"\"Takes a DataFrame of issue data and returns a cleaned DataFrame.\"\"\"\n",
    "\n",
    "    node_dict_list = star_df['node'].values.tolist()\n",
    "    unpacked_dict_list = []\n",
    "\n",
    "    for item in node_dict_list:\n",
    "        # If `item` is empty append dict of NaNs, else append data\n",
    "        if item == None:\n",
    "            unpacked_dict_list.append({'createdAt': np.NaN, 'updatedAt': np.NaN, 'id': np.NaN, 'login': np.NaN, 'company': np.NaN})\n",
    "        else:\n",
    "            unpacked_dict_list.append(item)\n",
    "    \n",
    "    # Recombine issue_df and unpacked dicts\n",
    "    node_star_df = pd.DataFrame(unpacked_dict_list)\n",
    "    clean_star_df = star_df.drop(labels=['node'], axis='columns')\n",
    "    clean_star_df['createdAt'] = node_star_df['createdAt']\n",
    "    clean_star_df['updatedAt'] = node_star_df['updatedAt']\n",
    "    clean_star_df['id'] = node_star_df['id']\n",
    "    clean_star_df['login'] = node_star_df['login']\n",
    "    clean_star_df['company'] = node_star_df['company']\n",
    "\n",
    "    \n",
    "    # Type conversion\n",
    "    try:\n",
    "        clean_star_df['createdAt'] = clean_star_df['createdAt'].apply(pd.Timestamp)\n",
    "        clean_star_df['updatedAt'] = clean_star_df['updatedAt'].apply(pd.Timestamp)\n",
    "    except:\n",
    "        pass\n",
    "    \n",
    "    return clean_star_df"
   ]
  },
  {
   "cell_type": "code",
   "execution_count": 25,
   "metadata": {},
   "outputs": [],
   "source": [
    "adamsmith_df = clean_stars_df(adamsmith_df)\n",
    "embulk_df = clean_stars_df(embulk_df)\n",
    "google_df = clean_stars_df(google_df)\n",
    "guillaume_df = clean_stars_df(guillaume_df)\n",
    "iven_df = clean_stars_df(iven_df)\n",
    "microsoft_df = clean_stars_df(microsoft_df)\n",
    "oleiade_df = clean_stars_df(oleiade_df)\n",
    "pandas_df = clean_stars_df(pandas_df)\n",
    "yang_df = clean_stars_df(yang_df)\n",
    "zhn_df = clean_stars_df(zhn_df)\n",
    "\n",
    "\n",
    "adamsmith_df.to_pickle('./repos/adamsmith_stars_cleaned.pk1')\n",
    "embulk_df.to_pickle('./repos/embulk_stars_cleaned.pk1')\n",
    "google_df.to_pickle('./repos/google_stars_cleaned.pk1')\n",
    "guillaume_df.to_pickle('./repos/guillaume_stars_cleaned.pk1')\n",
    "iven_df.to_pickle('./repos/iven_stars_cleaned.pk1')\n",
    "microsoft_df.to_pickle('./repos/microsoft_stars_cleaned.pk1')\n",
    "oleiade_df.to_pickle('./repos/oleiade_stars_cleaned.pk1')\n",
    "pandas_df.to_pickle('./repos/pandas_stars_cleaned.pk1')\n",
    "yang_df.to_pickle('./repos/yang_stars_cleaned.pk1')\n",
    "zhn_df.to_pickle('./repos/zhn_stars_cleaned.pk1')"
   ]
  }
 ],
 "metadata": {
  "kernelspec": {
   "display_name": "Python 3",
   "language": "python",
   "name": "python3"
  },
  "language_info": {
   "codemirror_mode": {
    "name": "ipython",
    "version": 3
   },
   "file_extension": ".py",
   "mimetype": "text/x-python",
   "name": "python",
   "nbconvert_exporter": "python",
   "pygments_lexer": "ipython3",
   "version": "3.7.3"
  }
 },
 "nbformat": 4,
 "nbformat_minor": 4
}
