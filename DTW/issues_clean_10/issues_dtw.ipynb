{
 "cells": [
  {
   "cell_type": "markdown",
   "metadata": {},
   "source": [
    "# Issues DTW"
   ]
  },
  {
   "cell_type": "code",
   "execution_count": 5,
   "metadata": {},
   "outputs": [],
   "source": [
    "import pandas as pd\n",
    "import numpy as np\n",
    "import matplotlib.pyplot as plt\n",
    "import seaborn as sns\n",
    "from tslearn import metrics\n",
    "import os\n",
    "from sklearn.preprocessing import normalize"
   ]
  },
  {
   "cell_type": "code",
   "execution_count": 6,
   "metadata": {},
   "outputs": [
    {
     "data": {
      "text/plain": [
       "['embulk_issues_cleaned.pk1',\n",
       " 'google_issues_cleaned.pk1',\n",
       " 'iven_issues_cleaned.pk1',\n",
       " 'microsoft_issues_cleaned.pk1',\n",
       " 'oleiade_issues_cleaned.pk1',\n",
       " 'pandas_issues_cleaned.pk1',\n",
       " 'yang_issues_cleaned.pk1',\n",
       " 'zhn_issues_cleaned.pk1']"
      ]
     },
     "execution_count": 6,
     "metadata": {},
     "output_type": "execute_result"
    }
   ],
   "source": [
    "is_files = [file for file in os.listdir() if 'cleaned.pk1' in file]\n",
    "is_files"
   ]
  },
  {
   "cell_type": "code",
   "execution_count": 7,
   "metadata": {},
   "outputs": [
    {
     "name": "stdout",
     "output_type": "stream",
     "text": [
      "embulk_issues_cleaned.pk1 (391, 11)\n",
      "google_issues_cleaned.pk1 (192, 11)\n",
      "iven_issues_cleaned.pk1 (8, 11)\n",
      "microsoft_issues_cleaned.pk1 (2, 11)\n",
      "oleiade_issues_cleaned.pk1 (151, 11)\n",
      "pandas_issues_cleaned.pk1 (15572, 11)\n",
      "yang_issues_cleaned.pk1 (76, 11)\n",
      "zhn_issues_cleaned.pk1 (10, 11)\n"
     ]
    }
   ],
   "source": [
    "# Check shape\n",
    "for file in is_files:\n",
    "    print(file, pd.read_pickle(file).shape)"
   ]
  },
  {
   "cell_type": "code",
   "execution_count": 8,
   "metadata": {},
   "outputs": [],
   "source": [
    "embulk = pd.read_pickle(is_files[0])\n",
    "google = pd.read_pickle(is_files[1])\n",
    "iven = pd.read_pickle(is_files[2])\n",
    "microsoft = pd.read_pickle(is_files[3])\n",
    "oleiade = pd.read_pickle(is_files[4])\n",
    "pandas = pd.read_pickle(is_files[5])\n",
    "yang = pd.read_pickle(is_files[6])\n",
    "zhn = pd.read_pickle(is_files[7])"
   ]
  },
  {
   "cell_type": "markdown",
   "metadata": {},
   "source": [
    "# Monthly Count"
   ]
  },
  {
   "cell_type": "code",
   "execution_count": 9,
   "metadata": {},
   "outputs": [],
   "source": [
    "def monthly_count(df):\n",
    "    \n",
    "    # Change to pandas datetime object\n",
    "    df['createdAt'] =  df['createdAt'].apply(pd.Timestamp)\n",
    "    df['closedAt'] =  df['closedAt'].apply(pd.Timestamp)\n",
    "    \n",
    "    # Group by committedDate's month and get the count\n",
    "    df_group = df.groupby(df['createdAt'].dt.to_period('M')) \\\n",
    "                                                 .count()['number'] \\\n",
    "                                                 .reset_index() \\\n",
    "                                                 .rename(columns={'number': 'countByMonth'})\n",
    "    \n",
    "    # Normalize count and create a insert back into df_group\n",
    "    df_group['countByMonthNorm'] = normalize([df_group['countByMonth']])[0]\n",
    "    \n",
    "    return df_group"
   ]
  },
  {
   "cell_type": "code",
   "execution_count": 10,
   "metadata": {
    "scrolled": true
   },
   "outputs": [
    {
     "name": "stderr",
     "output_type": "stream",
     "text": [
      "C:\\Users\\Dustin\\Anaconda3\\lib\\site-packages\\pandas\\core\\arrays\\datetimes.py:1172: UserWarning: Converting to PeriodArray/Index representation will drop timezone information.\n",
      "  \"will drop timezone information.\", UserWarning)\n",
      "C:\\Users\\Dustin\\Anaconda3\\lib\\site-packages\\pandas\\core\\arrays\\datetimes.py:1172: UserWarning: Converting to PeriodArray/Index representation will drop timezone information.\n",
      "  \"will drop timezone information.\", UserWarning)\n",
      "C:\\Users\\Dustin\\Anaconda3\\lib\\site-packages\\pandas\\core\\arrays\\datetimes.py:1172: UserWarning: Converting to PeriodArray/Index representation will drop timezone information.\n",
      "  \"will drop timezone information.\", UserWarning)\n",
      "C:\\Users\\Dustin\\Anaconda3\\lib\\site-packages\\pandas\\core\\arrays\\datetimes.py:1172: UserWarning: Converting to PeriodArray/Index representation will drop timezone information.\n",
      "  \"will drop timezone information.\", UserWarning)\n",
      "C:\\Users\\Dustin\\Anaconda3\\lib\\site-packages\\pandas\\core\\arrays\\datetimes.py:1172: UserWarning: Converting to PeriodArray/Index representation will drop timezone information.\n",
      "  \"will drop timezone information.\", UserWarning)\n",
      "C:\\Users\\Dustin\\Anaconda3\\lib\\site-packages\\pandas\\core\\arrays\\datetimes.py:1172: UserWarning: Converting to PeriodArray/Index representation will drop timezone information.\n",
      "  \"will drop timezone information.\", UserWarning)\n",
      "C:\\Users\\Dustin\\Anaconda3\\lib\\site-packages\\pandas\\core\\arrays\\datetimes.py:1172: UserWarning: Converting to PeriodArray/Index representation will drop timezone information.\n",
      "  \"will drop timezone information.\", UserWarning)\n",
      "C:\\Users\\Dustin\\Anaconda3\\lib\\site-packages\\pandas\\core\\arrays\\datetimes.py:1172: UserWarning: Converting to PeriodArray/Index representation will drop timezone information.\n",
      "  \"will drop timezone information.\", UserWarning)\n"
     ]
    }
   ],
   "source": [
    "embulk_is = monthly_count(embulk)\n",
    "google_is = monthly_count(google)\n",
    "iven_is = monthly_count(iven)\n",
    "microsoft_is = monthly_count(microsoft)\n",
    "oleiade_is = monthly_count(oleiade)\n",
    "pandas_is = monthly_count(pandas)\n",
    "yang_is = monthly_count(yang)\n",
    "zhn_is = monthly_count(zhn)"
   ]
  },
  {
   "cell_type": "code",
   "execution_count": 11,
   "metadata": {},
   "outputs": [
    {
     "data": {
      "text/html": [
       "<div>\n",
       "<style scoped>\n",
       "    .dataframe tbody tr th:only-of-type {\n",
       "        vertical-align: middle;\n",
       "    }\n",
       "\n",
       "    .dataframe tbody tr th {\n",
       "        vertical-align: top;\n",
       "    }\n",
       "\n",
       "    .dataframe thead th {\n",
       "        text-align: right;\n",
       "    }\n",
       "</style>\n",
       "<table border=\"1\" class=\"dataframe\">\n",
       "  <thead>\n",
       "    <tr style=\"text-align: right;\">\n",
       "      <th></th>\n",
       "      <th>createdAt</th>\n",
       "      <th>countByMonth</th>\n",
       "      <th>countByMonthNorm</th>\n",
       "    </tr>\n",
       "  </thead>\n",
       "  <tbody>\n",
       "    <tr>\n",
       "      <th>0</th>\n",
       "      <td>2015-01</td>\n",
       "      <td>33</td>\n",
       "      <td>0.471573</td>\n",
       "    </tr>\n",
       "    <tr>\n",
       "      <th>1</th>\n",
       "      <td>2015-02</td>\n",
       "      <td>14</td>\n",
       "      <td>0.200061</td>\n",
       "    </tr>\n",
       "    <tr>\n",
       "      <th>2</th>\n",
       "      <td>2015-03</td>\n",
       "      <td>17</td>\n",
       "      <td>0.242932</td>\n",
       "    </tr>\n",
       "    <tr>\n",
       "      <th>3</th>\n",
       "      <td>2015-04</td>\n",
       "      <td>7</td>\n",
       "      <td>0.100031</td>\n",
       "    </tr>\n",
       "    <tr>\n",
       "      <th>4</th>\n",
       "      <td>2015-05</td>\n",
       "      <td>4</td>\n",
       "      <td>0.057160</td>\n",
       "    </tr>\n",
       "  </tbody>\n",
       "</table>\n",
       "</div>"
      ],
      "text/plain": [
       "  createdAt  countByMonth  countByMonthNorm\n",
       "0   2015-01            33          0.471573\n",
       "1   2015-02            14          0.200061\n",
       "2   2015-03            17          0.242932\n",
       "3   2015-04             7          0.100031\n",
       "4   2015-05             4          0.057160"
      ]
     },
     "execution_count": 11,
     "metadata": {},
     "output_type": "execute_result"
    }
   ],
   "source": [
    "embulk_is.head()"
   ]
  },
  {
   "cell_type": "markdown",
   "metadata": {},
   "source": [
    "# Dynamic Time Warping"
   ]
  },
  {
   "cell_type": "code",
   "execution_count": 12,
   "metadata": {},
   "outputs": [],
   "source": [
    "from tslearn.metrics import dtw_path"
   ]
  },
  {
   "cell_type": "code",
   "execution_count": 13,
   "metadata": {},
   "outputs": [],
   "source": [
    "monthly_issues_list = [embulk_is, google_is, iven_is, microsoft_is, oleiade_is, pandas_is, yang_is, zhn_is]\n",
    "monthly_issues_list_str = ['embulk_is', 'google_is', 'iven_is', 'microsoft_is', 'oleiade_is', 'pandas_is', 'yang_is', 'zhn_is']"
   ]
  },
  {
   "cell_type": "markdown",
   "metadata": {},
   "source": [
    "### Calculate DTW"
   ]
  },
  {
   "cell_type": "code",
   "execution_count": 14,
   "metadata": {},
   "outputs": [],
   "source": [
    "def calc_dtw(issue_num):\n",
    "    dtw = []\n",
    "    path = []\n",
    "\n",
    "    for el in range(len(monthly_issues_list)):\n",
    "        dtw_pathing = dtw_path(monthly_issues_list[issue_num].iloc[:,-1].tolist(), monthly_issues_list[el].iloc[:,-1].tolist())\n",
    "        dtw.append((monthly_issues_list_str[issue_num], monthly_issues_list_str[el], dtw_pathing[1]))\n",
    "        path.append((monthly_issues_list_str[issue_num], monthly_issues_list_str[el], dtw_pathing[0]))\n",
    "        \n",
    "    return dtw, path"
   ]
  },
  {
   "cell_type": "code",
   "execution_count": 15,
   "metadata": {},
   "outputs": [],
   "source": [
    "dtw_1, path_1 = calc_dtw(0)"
   ]
  },
  {
   "cell_type": "code",
   "execution_count": 16,
   "metadata": {},
   "outputs": [
    {
     "data": {
      "text/plain": [
       "[('embulk_is', 'embulk_is', 0.0),\n",
       " ('embulk_is', 'google_is', 0.5661471849615578),\n",
       " ('embulk_is', 'iven_is', 1.6385979833584619),\n",
       " ('embulk_is', 'microsoft_is', 4.593276369776361),\n",
       " ('embulk_is', 'oleiade_is', 0.6483355485097747),\n",
       " ('embulk_is', 'pandas_is', 0.7380414234435854),\n",
       " ('embulk_is', 'yang_is', 0.5519480528454341),\n",
       " ('embulk_is', 'zhn_is', 1.0505855953935168)]"
      ]
     },
     "execution_count": 16,
     "metadata": {},
     "output_type": "execute_result"
    }
   ],
   "source": [
    "dtw_1"
   ]
  },
  {
   "cell_type": "markdown",
   "metadata": {},
   "source": [
    "### Plot DTW"
   ]
  },
  {
   "cell_type": "code",
   "execution_count": 17,
   "metadata": {},
   "outputs": [],
   "source": [
    "def plot_graph(dtw, num_dtw, issue_num):\n",
    "    print(dtw[issue_num])\n",
    "    monthly_issues_list[num_dtw].plot(x='createdAt', y='countByMonthNorm')\n",
    "    monthly_issues_list[issue_num].plot(x='createdAt', y='countByMonthNorm')"
   ]
  },
  {
   "cell_type": "code",
   "execution_count": 18,
   "metadata": {
    "scrolled": true
   },
   "outputs": [
    {
     "name": "stdout",
     "output_type": "stream",
     "text": [
      "('embulk_is', 'oleiade_is', 0.6483355485097747)\n"
     ]
    },
    {
     "data": {
      "image/png": "[encoded data removed]",
      "text/plain": [
       "<Figure size 432x288 with 1 Axes>"
      ]
     },
     "metadata": {
      "needs_background": "light"
     },
     "output_type": "display_data"
    },
    {
     "data": {
      "image/png": "[encoded data removed]",
      "text/plain": [
       "<Figure size 432x288 with 1 Axes>"
      ]
     },
     "metadata": {
      "needs_background": "light"
     },
     "output_type": "display_data"
    }
   ],
   "source": [
    "plot_graph(dtw_1, 0, 4)"
   ]
  },
  {
   "cell_type": "markdown",
   "metadata": {},
   "source": [
    "### Make Dictionary"
   ]
  },
  {
   "cell_type": "code",
   "execution_count": 19,
   "metadata": {},
   "outputs": [],
   "source": [
    "def make_dict(num):\n",
    "    \n",
    "    dtw_1, path_1 = calc_dtw(num)\n",
    "    my_dict = {dtw_1[i][1]:dtw_1[i][2] for i in range(len(dtw_1))}\n",
    "    \n",
    "    return my_dict"
   ]
  },
  {
   "cell_type": "code",
   "execution_count": 20,
   "metadata": {},
   "outputs": [],
   "source": [
    "embulk_dict = make_dict(0)\n",
    "google_dict = make_dict(1)\n",
    "iven_dict = make_dict(2)\n",
    "microsoft_dict = make_dict(3)\n",
    "oleiade_dict = make_dict(4)\n",
    "pandas_dict = make_dict(5)\n",
    "yang_dict = make_dict(6)\n",
    "zhn_dict = make_dict(7)\n",
    "\n",
    "dict_list = [embulk_dict, google_dict, iven_dict, microsoft_dict, oleiade_dict, \n",
    "             pandas_dict, yang_dict, zhn_dict]"
   ]
  },
  {
   "cell_type": "markdown",
   "metadata": {},
   "source": [
    "### Make DF"
   ]
  },
  {
   "cell_type": "code",
   "execution_count": 22,
   "metadata": {},
   "outputs": [
    {
     "name": "stderr",
     "output_type": "stream",
     "text": [
      "C:\\Users\\Dustin\\Anaconda3\\lib\\site-packages\\ipykernel_launcher.py:3: FutureWarning: Sorting because non-concatenation axis is not aligned. A future version\n",
      "of pandas will change to not sort by default.\n",
      "\n",
      "To accept the future behavior, pass 'sort=False'.\n",
      "\n",
      "To retain the current behavior and silence the warning, pass 'sort=True'.\n",
      "\n",
      "  This is separate from the ipykernel package so we can avoid doing imports until\n"
     ]
    }
   ],
   "source": [
    "df = pd.Series()\n",
    "for el in range(len(dict_list)):\n",
    "    df = pd.concat([df, pd.Series(dict_list[el], name=monthly_issues_list_str[el])], axis=1)\n",
    "df = df.drop(columns=0)"
   ]
  },
  {
   "cell_type": "code",
   "execution_count": 23,
   "metadata": {},
   "outputs": [
    {
     "data": {
      "text/html": [
       "<div>\n",
       "<style scoped>\n",
       "    .dataframe tbody tr th:only-of-type {\n",
       "        vertical-align: middle;\n",
       "    }\n",
       "\n",
       "    .dataframe tbody tr th {\n",
       "        vertical-align: top;\n",
       "    }\n",
       "\n",
       "    .dataframe thead th {\n",
       "        text-align: right;\n",
       "    }\n",
       "</style>\n",
       "<table border=\"1\" class=\"dataframe\">\n",
       "  <thead>\n",
       "    <tr style=\"text-align: right;\">\n",
       "      <th></th>\n",
       "      <th>embulk_is</th>\n",
       "      <th>google_is</th>\n",
       "      <th>iven_is</th>\n",
       "      <th>microsoft_is</th>\n",
       "      <th>oleiade_is</th>\n",
       "      <th>pandas_is</th>\n",
       "      <th>yang_is</th>\n",
       "      <th>zhn_is</th>\n",
       "    </tr>\n",
       "  </thead>\n",
       "  <tbody>\n",
       "    <tr>\n",
       "      <th>embulk_is</th>\n",
       "      <td>0.000000</td>\n",
       "      <td>0.566147</td>\n",
       "      <td>1.638598</td>\n",
       "      <td>4.593276</td>\n",
       "      <td>0.648336</td>\n",
       "      <td>0.738041</td>\n",
       "      <td>0.551948</td>\n",
       "      <td>1.050586</td>\n",
       "    </tr>\n",
       "    <tr>\n",
       "      <th>google_is</th>\n",
       "      <td>0.566147</td>\n",
       "      <td>0.000000</td>\n",
       "      <td>1.630804</td>\n",
       "      <td>4.564237</td>\n",
       "      <td>0.428634</td>\n",
       "      <td>0.619523</td>\n",
       "      <td>0.449573</td>\n",
       "      <td>1.304364</td>\n",
       "    </tr>\n",
       "    <tr>\n",
       "      <th>iven_is</th>\n",
       "      <td>1.638598</td>\n",
       "      <td>1.630804</td>\n",
       "      <td>0.000000</td>\n",
       "      <td>0.856746</td>\n",
       "      <td>1.185973</td>\n",
       "      <td>2.157744</td>\n",
       "      <td>1.233914</td>\n",
       "      <td>0.694430</td>\n",
       "    </tr>\n",
       "    <tr>\n",
       "      <th>microsoft_is</th>\n",
       "      <td>4.593276</td>\n",
       "      <td>4.564237</td>\n",
       "      <td>0.856746</td>\n",
       "      <td>0.000000</td>\n",
       "      <td>3.027845</td>\n",
       "      <td>6.365521</td>\n",
       "      <td>3.457908</td>\n",
       "      <td>1.055106</td>\n",
       "    </tr>\n",
       "    <tr>\n",
       "      <th>oleiade_is</th>\n",
       "      <td>0.648336</td>\n",
       "      <td>0.428634</td>\n",
       "      <td>1.185973</td>\n",
       "      <td>3.027845</td>\n",
       "      <td>0.000000</td>\n",
       "      <td>0.703669</td>\n",
       "      <td>0.518565</td>\n",
       "      <td>1.134140</td>\n",
       "    </tr>\n",
       "    <tr>\n",
       "      <th>pandas_is</th>\n",
       "      <td>0.738041</td>\n",
       "      <td>0.619523</td>\n",
       "      <td>2.157744</td>\n",
       "      <td>6.365521</td>\n",
       "      <td>0.703669</td>\n",
       "      <td>0.000000</td>\n",
       "      <td>0.696306</td>\n",
       "      <td>1.505004</td>\n",
       "    </tr>\n",
       "    <tr>\n",
       "      <th>yang_is</th>\n",
       "      <td>0.551948</td>\n",
       "      <td>0.449573</td>\n",
       "      <td>1.233914</td>\n",
       "      <td>3.457908</td>\n",
       "      <td>0.518565</td>\n",
       "      <td>0.696306</td>\n",
       "      <td>0.000000</td>\n",
       "      <td>1.155607</td>\n",
       "    </tr>\n",
       "    <tr>\n",
       "      <th>zhn_is</th>\n",
       "      <td>1.050586</td>\n",
       "      <td>1.304364</td>\n",
       "      <td>0.694430</td>\n",
       "      <td>1.055106</td>\n",
       "      <td>1.134140</td>\n",
       "      <td>1.505004</td>\n",
       "      <td>1.155607</td>\n",
       "      <td>0.000000</td>\n",
       "    </tr>\n",
       "  </tbody>\n",
       "</table>\n",
       "</div>"
      ],
      "text/plain": [
       "              embulk_is  google_is   iven_is  microsoft_is  oleiade_is  \\\n",
       "embulk_is      0.000000   0.566147  1.638598      4.593276    0.648336   \n",
       "google_is      0.566147   0.000000  1.630804      4.564237    0.428634   \n",
       "iven_is        1.638598   1.630804  0.000000      0.856746    1.185973   \n",
       "microsoft_is   4.593276   4.564237  0.856746      0.000000    3.027845   \n",
       "oleiade_is     0.648336   0.428634  1.185973      3.027845    0.000000   \n",
       "pandas_is      0.738041   0.619523  2.157744      6.365521    0.703669   \n",
       "yang_is        0.551948   0.449573  1.233914      3.457908    0.518565   \n",
       "zhn_is         1.050586   1.304364  0.694430      1.055106    1.134140   \n",
       "\n",
       "              pandas_is   yang_is    zhn_is  \n",
       "embulk_is      0.738041  0.551948  1.050586  \n",
       "google_is      0.619523  0.449573  1.304364  \n",
       "iven_is        2.157744  1.233914  0.694430  \n",
       "microsoft_is   6.365521  3.457908  1.055106  \n",
       "oleiade_is     0.703669  0.518565  1.134140  \n",
       "pandas_is      0.000000  0.696306  1.505004  \n",
       "yang_is        0.696306  0.000000  1.155607  \n",
       "zhn_is         1.505004  1.155607  0.000000  "
      ]
     },
     "execution_count": 23,
     "metadata": {},
     "output_type": "execute_result"
    }
   ],
   "source": [
    "df"
   ]
  },
  {
   "cell_type": "code",
   "execution_count": 24,
   "metadata": {},
   "outputs": [],
   "source": [
    "df.to_csv('issues_dtw.csv', index=False)"
   ]
  },
  {
   "cell_type": "markdown",
   "metadata": {},
   "source": [
    "# [Hiearchical Clustering](https://stackabuse.com/hierarchical-clustering-with-python-and-scikit-learn/)"
   ]
  },
  {
   "cell_type": "code",
   "execution_count": 30,
   "metadata": {},
   "outputs": [
    {
     "name": "stderr",
     "output_type": "stream",
     "text": [
      "C:\\Users\\Dustin\\Anaconda3\\lib\\site-packages\\ipykernel_launcher.py:3: FutureWarning: Method .as_matrix will be removed in a future version. Use .values instead.\n",
      "  This is separate from the ipykernel package so we can avoid doing imports until\n",
      "C:\\Users\\Dustin\\Anaconda3\\lib\\site-packages\\ipykernel_launcher.py:3: ClusterWarning: scipy.cluster: The symmetric non-negative hollow observation matrix looks suspiciously like an uncondensed distance matrix\n",
      "  This is separate from the ipykernel package so we can avoid doing imports until\n"
     ]
    },
    {
     "data": {
      "image/png": "[encoded data removed]",
      "text/plain": [
       "<Figure size 1440x720 with 1 Axes>"
      ]
     },
     "metadata": {
      "needs_background": "light"
     },
     "output_type": "display_data"
    }
   ],
   "source": [
    "from scipy.cluster.hierarchy import dendrogram, linkage\n",
    "\n",
    "linked = linkage(df.as_matrix(), 'ward')\n",
    "labelList = df.index\n",
    "\n",
    "plt.figure(figsize=(20, 10))\n",
    "plt.title('Hiearchical Clustering for Issues')\n",
    "dendrogram(linked,\n",
    "            orientation='top',\n",
    "            labels=labelList,\n",
    "            distance_sort='descending',\n",
    "            show_leaf_counts=True,\n",
    "            color_threshold=1.5)\n",
    "plt.show()"
   ]
  },
  {
   "cell_type": "markdown",
   "metadata": {},
   "source": [
    "# [Agglomerative Clustering](https://medium.com/@sametgirgin/hierarchical-clustering-model-in-5-steps-with-python-6c45087d4318)"
   ]
  },
  {
   "cell_type": "code",
   "execution_count": 36,
   "metadata": {},
   "outputs": [
    {
     "name": "stderr",
     "output_type": "stream",
     "text": [
      "C:\\Users\\Dustin\\Anaconda3\\lib\\site-packages\\ipykernel_launcher.py:4: FutureWarning: Method .as_matrix will be removed in a future version. Use .values instead.\n",
      "  after removing the cwd from sys.path.\n",
      "C:\\Users\\Dustin\\Anaconda3\\lib\\site-packages\\scipy\\cluster\\hierarchy.py:878: ClusterWarning: scipy.cluster: The symmetric non-negative hollow observation matrix looks suspiciously like an uncondensed distance matrix\n",
      "  return linkage(y, method='ward', metric='euclidean')\n"
     ]
    },
    {
     "data": {
      "text/plain": [
       "<matplotlib.collections.PathCollection at 0x2d4b1d0f828>"
      ]
     },
     "execution_count": 36,
     "metadata": {},
     "output_type": "execute_result"
    },
    {
     "data": {
      "image/png": "[encoded data removed]",
      "text/plain": [
       "<Figure size 432x288 with 1 Axes>"
      ]
     },
     "metadata": {
      "needs_background": "light"
     },
     "output_type": "display_data"
    }
   ],
   "source": [
    "from sklearn.cluster import AgglomerativeClustering \n",
    "hc = AgglomerativeClustering(n_clusters = 3, affinity = 'euclidean', linkage ='ward')\n",
    "\n",
    "X = df.as_matrix()\n",
    "\n",
    "y = hc.fit_predict(X)\n",
    "\n",
    "plt.scatter(X[y==0, 0], X[y==0, 1], s=100, c='red', label ='Cluster 1')\n",
    "plt.scatter(X[y==1, 0], X[y==1, 1], s=100, c='blue', label ='Cluster 2')\n",
    "plt.scatter(X[y==2, 0], X[y==2, 1], s=100, c='green', label ='Cluster 3')"
   ]
  },
  {
   "cell_type": "code",
   "execution_count": 35,
   "metadata": {},
   "outputs": [
    {
     "data": {
      "text/plain": [
       "array([0, 0, 2, 3, 0, 1, 0, 2], dtype=int64)"
      ]
     },
     "execution_count": 35,
     "metadata": {},
     "output_type": "execute_result"
    }
   ],
   "source": [
    "y"
   ]
  },
  {
   "cell_type": "code",
   "execution_count": 33,
   "metadata": {},
   "outputs": [
    {
     "data": {
      "text/plain": [
       "Index(['embulk_is', 'google_is', 'iven_is', 'microsoft_is', 'oleiade_is',\n",
       "       'pandas_is', 'yang_is', 'zhn_is'],\n",
       "      dtype='object')"
      ]
     },
     "execution_count": 33,
     "metadata": {},
     "output_type": "execute_result"
    }
   ],
   "source": [
    "df.columns"
   ]
  },
  {
   "cell_type": "code",
   "execution_count": null,
   "metadata": {},
   "outputs": [],
   "source": []
  }
 ],
 "metadata": {
  "kernelspec": {
   "display_name": "Python 3",
   "language": "python",
   "name": "python3"
  },
  "language_info": {
   "codemirror_mode": {
    "name": "ipython",
    "version": 3
   },
   "file_extension": ".py",
   "mimetype": "text/x-python",
   "name": "python",
   "nbconvert_exporter": "python",
   "pygments_lexer": "ipython3",
   "version": "3.7.3"
  }
 },
 "nbformat": 4,
 "nbformat_minor": 4
}
