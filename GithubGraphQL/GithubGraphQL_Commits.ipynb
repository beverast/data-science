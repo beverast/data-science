{
 "cells": [
  {
   "cell_type": "code",
   "execution_count": 1,
   "metadata": {},
   "outputs": [],
   "source": [
    "import requests\n",
    "import pandas as pd"
   ]
  },
  {
   "cell_type": "code",
   "execution_count": 2,
   "metadata": {},
   "outputs": [],
   "source": [
    "# Open and read file\n",
    "with open ('../../../Auth_Keys/graphql_api_auth.txt') as file:\n",
    "    token = file.read()\n",
    "    \n",
    "# Specify the Authorization code\n",
    "headers = {\"Authorization\": 'Bearer ' + token}"
   ]
  },
  {
   "cell_type": "code",
   "execution_count": 3,
   "metadata": {},
   "outputs": [],
   "source": [
    "# Function to use requests.post to make an API call\n",
    "def run_query(query): \n",
    "    request = requests.post('https://api.github.com/graphql', json={'query': query}, headers=headers)\n",
    "    if request.status_code == 200:\n",
    "        return request.json()\n",
    "    else:\n",
    "        raise Exception(\"Query failed to run by returning code of {}. {}\".format(request.status_code, query))"
   ]
  },
  {
   "cell_type": "code",
   "execution_count": 4,
   "metadata": {},
   "outputs": [],
   "source": [
    "query = '''\n",
    "{\n",
    "  repository(owner: \"pandas-dev\", name: \"pandas\") {\n",
    "    ref(qualifiedName: \"master\") {\n",
    "      target {\n",
    "        ... on Commit {\n",
    "          history(first: 100) {\n",
    "            pageInfo {\n",
    "              hasNextPage\n",
    "              endCursor\n",
    "            }\n",
    "            nodes {\n",
    "              oid\n",
    "              messageHeadline\n",
    "              committedDate\n",
    "              committer {\n",
    "                user {\n",
    "                  login\n",
    "                  company\n",
    "                }\n",
    "              }\n",
    "              status {\n",
    "                id\n",
    "                state\n",
    "              }\n",
    "              associatedPullRequests(first: 3) {\n",
    "                nodes {\n",
    "                  id\n",
    "                  title\n",
    "                  author {\n",
    "                    login\n",
    "                  }\n",
    "                  authorAssociation\n",
    "                  createdAt\n",
    "                  updatedAt\n",
    "                  closedAt\n",
    "                  number\n",
    "                  state\n",
    "                }\n",
    "              }\n",
    "            }\n",
    "          }\n",
    "        }\n",
    "      }\n",
    "    }\n",
    "  }\n",
    "  rateLimit {\n",
    "    limit\n",
    "    cost\n",
    "    remaining\n",
    "    resetAt\n",
    "  }\n",
    "}\n",
    "'''"
   ]
  },
  {
   "cell_type": "code",
   "execution_count": 5,
   "metadata": {},
   "outputs": [],
   "source": [
    "query_2 = '''\n",
    "{{\n",
    "  repository(owner: \"pandas-dev\", name: \"pandas\") {{\n",
    "    ref(qualifiedName: \"master\") {{\n",
    "      target {{\n",
    "        ... on Commit {{\n",
    "          history(first: 100, after:\"{end_cursor}\") {{\n",
    "            pageInfo {{\n",
    "              hasNextPage\n",
    "              endCursor\n",
    "            }}\n",
    "            nodes {{\n",
    "              oid\n",
    "              messageHeadline\n",
    "              committedDate\n",
    "              committer {{\n",
    "                user {{\n",
    "                  login\n",
    "                  company\n",
    "                }}\n",
    "              }}\n",
    "              status {{\n",
    "                id\n",
    "                state\n",
    "              }}\n",
    "              associatedPullRequests(first: 3) {{\n",
    "                nodes {{\n",
    "                  id\n",
    "                  title\n",
    "                  author {{\n",
    "                    login\n",
    "                  }}\n",
    "                  authorAssociation\n",
    "                  createdAt\n",
    "                  updatedAt\n",
    "                  closedAt\n",
    "                  number\n",
    "                  state\n",
    "                }}\n",
    "              }}\n",
    "            }}\n",
    "          }}\n",
    "        }}\n",
    "      }}\n",
    "    }}\n",
    "  }}\n",
    "  rateLimit {{\n",
    "    limit\n",
    "    cost\n",
    "    remaining\n",
    "    resetAt\n",
    "  }}\n",
    "}}\n",
    "'''\n",
    "\n",
    "variables = {\n",
    "    \"end_cursor\": \"\"\n",
    "}"
   ]
  },
  {
   "cell_type": "code",
   "execution_count": 6,
   "metadata": {},
   "outputs": [],
   "source": [
    "def to_df(result):\n",
    "    \n",
    "    # Get the keys of nodes.\n",
    "    data = result['data']['repository']['ref']['target']['history']['nodes']\n",
    "    \n",
    "    # Put the data into a dataframe\n",
    "    df_commits = pd.DataFrame(data)\n",
    "    \n",
    "    return df_commits"
   ]
  },
  {
   "cell_type": "code",
   "execution_count": 7,
   "metadata": {},
   "outputs": [],
   "source": [
    "def get_page_info(result):\n",
    "    cur = result['data']['repository']['ref']['target']['history']['pageInfo']['endCursor']\n",
    "    has_cur = result['data']['repository']['ref']['target']['history']['pageInfo']['hasNextPage']\n",
    "    return cur, has_cur"
   ]
  },
  {
   "cell_type": "code",
   "execution_count": 8,
   "metadata": {},
   "outputs": [],
   "source": [
    "def result_query(query):\n",
    "    # Run first query\n",
    "    result = run_query(query)\n",
    "\n",
    "    # Save to DF\n",
    "    df_commits = to_df(result)\n",
    "\n",
    "    # Get end cursor and has cursor\n",
    "    variables['end_cursor'], has_cursor = get_page_info(result)\n",
    "\n",
    "    # Limit\n",
    "    limit = result['data']['rateLimit']['remaining']\n",
    "    \n",
    "    return df_commits, has_cursor, limit"
   ]
  },
  {
   "cell_type": "code",
   "execution_count": 27,
   "metadata": {},
   "outputs": [
    {
     "name": "stdout",
     "output_type": "stream",
     "text": [
      "Next limit is:  4788\n",
      "Next cursor:  True \n",
      "\n",
      "Next limit is:  4787\n",
      "Next cursor:  True \n",
      "\n",
      "Next limit is:  4786\n",
      "Next cursor:  True \n",
      "\n",
      "Next limit is:  4785\n",
      "Next cursor:  True \n",
      "\n",
      "Next limit is:  4784\n",
      "Next cursor:  True \n",
      "\n",
      "Next limit is:  4783\n",
      "Next cursor:  True \n",
      "\n",
      "Next limit is:  4782\n",
      "Next cursor:  True \n",
      "\n",
      "Next limit is:  4781\n",
      "Next cursor:  True \n",
      "\n",
      "Next limit is:  4780\n",
      "Next cursor:  True \n",
      "\n",
      "Next limit is:  4779\n",
      "Next cursor:  True \n",
      "\n",
      "Next limit is:  4778\n",
      "Next cursor:  False \n",
      "\n",
      "Wall time: 1min 31s\n"
     ]
    }
   ],
   "source": [
    "%%time\n",
    "##### Comment Out this section if there's a 403 error #####\n",
    "\n",
    "# Run first query\n",
    "# df_commits, has_cursor, limit = result_query(query)\n",
    "\n",
    "# print('Starting limit is: ', limit)\n",
    "# print('Start cursor: ', has_cursor, '\\n')\n",
    "\n",
    "##### Comment Out this section if there's a 403 error #####\n",
    "\n",
    "# Run While Loop below\n",
    "while has_cursor and (limit >= 0):\n",
    "    \n",
    "    # Run next queries\n",
    "    df_commits_2, has_cursor, limit = result_query(query_2.format(**variables))\n",
    "\n",
    "    # Concat to existing df_star\n",
    "    df_commits = pd.concat([df_commits, df_commits_2])\n",
    "    \n",
    "    # Print limit and cursor\n",
    "    print('Next limit is: ', limit)\n",
    "    print('Next cursor: ', has_cursor, '\\n')"
   ]
  },
  {
   "cell_type": "code",
   "execution_count": 30,
   "metadata": {},
   "outputs": [
    {
     "data": {
      "text/plain": [
       "(20036, 6)"
      ]
     },
     "execution_count": 30,
     "metadata": {},
     "output_type": "execute_result"
    }
   ],
   "source": [
    "df_commits.shape"
   ]
  },
  {
   "cell_type": "code",
   "execution_count": 29,
   "metadata": {},
   "outputs": [],
   "source": [
    "df_commits.to_csv('df_commits_pandas.csv', index=False)"
   ]
  },
  {
   "cell_type": "code",
   "execution_count": 32,
   "metadata": {},
   "outputs": [],
   "source": [
    "df_commits.to_pickle('../../../Files/df_commits_pandas.pk1')"
   ]
  },
  {
   "cell_type": "code",
   "execution_count": null,
   "metadata": {},
   "outputs": [],
   "source": []
  }
 ],
 "metadata": {
  "kernelspec": {
   "display_name": "Python 3",
   "language": "python",
   "name": "python3"
  },
  "language_info": {
   "codemirror_mode": {
    "name": "ipython",
    "version": 3
   },
   "file_extension": ".py",
   "mimetype": "text/x-python",
   "name": "python",
   "nbconvert_exporter": "python",
   "pygments_lexer": "ipython3",
   "version": "3.7.3"
  }
 },
 "nbformat": 4,
 "nbformat_minor": 4
}
